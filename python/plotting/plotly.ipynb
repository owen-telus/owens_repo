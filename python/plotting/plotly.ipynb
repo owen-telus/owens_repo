{
 "cells": [
  {
   "cell_type": "code",
   "execution_count": null,
   "id": "5b3aeb27",
   "metadata": {},
   "outputs": [],
   "source": [
    "import pandas as pd\n",
    "import numpy as np\n",
    "import plotly.express as px"
   ]
  },
  {
   "cell_type": "code",
   "execution_count": null,
   "id": "29cc98d4",
   "metadata": {},
   "outputs": [],
   "source": [
    "df = pd.read_csv('C:/Users/t965963/Downloads/roaming_app_usage_trend (1).csv')"
   ]
  },
  {
   "cell_type": "code",
   "execution_count": null,
   "id": "1dab9307",
   "metadata": {},
   "outputs": [],
   "source": [
    "df.head().columns"
   ]
  },
  {
   "cell_type": "code",
   "execution_count": null,
   "id": "bf514592",
   "metadata": {},
   "outputs": [],
   "source": [
    "for col in ['usage_volume_MB_travel_lodging', 'usage_volume_MB_travel_flights', 'usage_volume_MB_travel_airport']:\n",
    "    fig = px.line(df, x=\"ts_index\", y=col, color='labels')\n",
    "    fig.show()"
   ]
  },
  {
   "cell_type": "code",
   "execution_count": null,
   "id": "cc83b158",
   "metadata": {},
   "outputs": [],
   "source": []
  }
 ],
 "metadata": {
  "kernelspec": {
   "display_name": "Python 3 (ipykernel)",
   "language": "python",
   "name": "python3"
  },
  "language_info": {
   "codemirror_mode": {
    "name": "ipython",
    "version": 3
   },
   "file_extension": ".py",
   "mimetype": "text/x-python",
   "name": "python",
   "nbconvert_exporter": "python",
   "pygments_lexer": "ipython3",
   "version": "3.7.11"
  }
 },
 "nbformat": 4,
 "nbformat_minor": 5
}
