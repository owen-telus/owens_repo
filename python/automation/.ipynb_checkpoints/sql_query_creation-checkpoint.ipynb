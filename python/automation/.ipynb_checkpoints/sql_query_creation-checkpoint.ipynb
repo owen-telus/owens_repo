{
 "cells": [
  {
   "cell_type": "markdown",
   "id": "075047b5",
   "metadata": {},
   "source": [
    "# Using Python to automate repetitive SQL commands"
   ]
  },
  {
   "cell_type": "markdown",
   "id": "bb4b825f",
   "metadata": {},
   "source": [
    "## pre_trip_model queries"
   ]
  },
  {
   "cell_type": "code",
   "execution_count": null,
   "id": "28a26334",
   "metadata": {},
   "outputs": [],
   "source": [
    "cols = ['bap_bus_bacct_num', 'subscriber_num', 'imsi_id', 'trip_first_date',\n",
    "       'dt', 'ts_index', 'usage_volume_MB_news_finance',\n",
    "       'usage_volume_MB_news_generic', 'usage_volume_MB_news_weather',\n",
    "       'usage_volume_MB_news_politics', 'usage_volume_MB_travel_trips',\n",
    "       'usage_volume_MB_travel_travel', 'usage_volume_MB_travel_airport',\n",
    "       'usage_volume_MB_travel_flights', 'usage_volume_MB_travel_lodging',\n",
    "       'usage_volume_MB_travel_smartcar', 'usage_volume_MB_travel_navigation',\n",
    "       'usage_volume_MB_travel_ridehailing',\n",
    "       'usage_volume_MB_travel_fleetmanagement',\n",
    "       'usage_volume_MB_shopping_food', 'usage_volume_MB_shopping_fashion',\n",
    "       'usage_volume_MB_shopping_miscellaneous',\n",
    "       'usage_volume_MB_smarthome_security',\n",
    "       'usage_volume_MB_smarthome_automation',\n",
    "       'usage_volume_MB_communication_calling',\n",
    "       'usage_volume_MB_communication_talking',\n",
    "       'usage_volume_MB_communication_messaging',\n",
    "       'usage_volume_MB_communication_socialmedia',\n",
    "       'usage_volume_MB_communication_miscellaneous', 'click_count',\n",
    "       'chatbot_cnt']"
   ]
  },
  {
   "cell_type": "code",
   "execution_count": null,
   "id": "72cfb859",
   "metadata": {},
   "outputs": [],
   "source": [
    "for col in cols[6:]:\n",
    "    print('IFNULL({col}, 0),'.format(col=col))"
   ]
  },
  {
   "cell_type": "code",
   "execution_count": null,
   "id": "4cdc6cc1",
   "metadata": {},
   "outputs": [],
   "source": [
    "for col in cols[6:]:\n",
    "    print('ARRAY_AGG(IFNULL({col}, 0) ORDER BY ts_index ASC) AS {col},'.format(col=col))"
   ]
  },
  {
   "cell_type": "markdown",
   "id": "2f359ad3",
   "metadata": {},
   "source": [
    "## imsi_app_usage_trends_weekly_ts "
   ]
  },
  {
   "cell_type": "code",
   "execution_count": null,
   "id": "be715cd9",
   "metadata": {},
   "outputs": [],
   "source": [
    "app_cols = ['usage_volume_MB_entertainment_sports',\n",
    "'usage_volume_MB_realestate_landlord',\n",
    "'usage_volume_MB_agriculture_farmmanagement',\n",
    "'usage_volume_MB_productivity_education',\n",
    "'usage_volume_MB_telecom_telus',\n",
    "'usage_volume_MB_realestate_buysellrent',\n",
    "'usage_volume_MB_travel_trips',\n",
    "'usage_volume_MB_finance_banking',\n",
    "'usage_volume_MB_pets_dogs',\n",
    "'usage_volume_MB_lifestyle_mentalhealth',\n",
    "'usage_volume_MB_os_appstore',\n",
    "'usage_volume_MB_news_generic',\n",
    "'usage_volume_MB_entertainment_music',\n",
    "'usage_volume_MB_communication_miscellaneous',\n",
    "'usage_volume_MB_gaming_moderate',\n",
    "'usage_volume_MB_utility_security',\n",
    "'usage_volume_MB_communication_socialmedia',\n",
    "'usage_volume_MB_productivity_other',\n",
    "'usage_volume_MB_shopping_fashion',\n",
    "'usage_volume_MB_productivity_webbrowser',\n",
    "'usage_volume_MB_finance_utilities',\n",
    "'usage_volume_MB_travel_travel',\n",
    "'usage_volume_MB_lifestyle_fitness',\n",
    "'usage_volume_MB_finance_business',\n",
    "'usage_volume_MB_lifestyle_relationships',\n",
    "'usage_volume_MB_telecom_wireline',\n",
    "'usage_volume_MB_travel_lodging',\n",
    "'usage_volume_MB_productivity_editingsoftware',\n",
    "'usage_volume_MB_pets_petssupplies',\n",
    "'usage_volume_MB_travel_ridehailing',\n",
    "'usage_volume_MB_agriculture_farmassociations',\n",
    "'usage_volume_MB_productivity_professional',\n",
    "'usage_volume_MB_smarthome_automation',\n",
    "'usage_volume_MB_lifestyle_healthcare',\n",
    "'usage_volume_MB_entertainment_tvandmovies',\n",
    "'usage_volume_MB_travel_flights',\n",
    "'usage_volume_MB_gaming_casual',\n",
    "'usage_volume_MB_finance_paymentapps',\n",
    "'usage_volume_MB_gaming_kids',\n",
    "'usage_volume_MB_travel_navigation',\n",
    "'usage_volume_MB_utility_devicecare',\n",
    "'usage_volume_MB_telecom_wirelesswireline',\n",
    "'usage_volume_MB_entertainment_news',\n",
    "'usage_volume_MB_telecom_others',\n",
    "'usage_volume_MB_news_weather',\n",
    "'usage_volume_MB_entertainment_radio',\n",
    "'usage_volume_MB_travel_airport',\n",
    "'usage_volume_MB_entertainment_live',\n",
    "'usage_volume_MB_telecom_pricecomparison',\n",
    "'usage_volume_MB_pets_other',\n",
    "'usage_volume_MB_lifestyle_identification',\n",
    "'usage_volume_MB_realestate_projectmanagement',\n",
    "'usage_volume_MB_communication_talking',\n",
    "'usage_volume_MB_network_security',\n",
    "'usage_volume_MB_realestate_moving',\n",
    "'usage_volume_MB_productivity_email',\n",
    "'usage_volume_MB_telecom_wireless',\n",
    "'usage_volume_MB_travel_fleetmanagement',\n",
    "'usage_volume_MB_communication_messaging',\n",
    "'usage_volume_MB_gaming_cloud',\n",
    "'usage_volume_MB_os_other',\n",
    "'usage_volume_MB_entertainment_reading',\n",
    "'usage_volume_MB_finance_moneytransfer',\n",
    "'usage_volume_MB_telecom_wirelesswirelinesmarthome',\n",
    "'usage_volume_MB_news_politics',\n",
    "'usage_volume_MB_telecom_smarthome',\n",
    "'usage_volume_MB_productivity_softwaredevelopment',\n",
    "'usage_volume_MB_lifestyle_kids',\n",
    "'usage_volume_MB_telecom_benchmark',\n",
    "'usage_volume_MB_os_update',\n",
    "'usage_volume_MB_communication_calling',\n",
    "'usage_volume_MB_entertainment_miscellaneous',\n",
    "'usage_volume_MB_network_protocol',\n",
    "'usage_volume_MB_smarthome_security',\n",
    "'usage_volume_MB_pets_cats',\n",
    "'usage_volume_MB_news_finance',\n",
    "'usage_volume_MB_productivity_filetransfer',\n",
    "'usage_volume_MB_entertainment_kids',\n",
    "'usage_volume_MB_finance_investing',\n",
    "'usage_volume_MB_shopping_food',\n",
    "'usage_volume_MB_shopping_miscellaneous',\n",
    "'usage_volume_MB_network_other',\n",
    "'usage_volume_MB_productivity_storage',\n",
    "'usage_volume_MB_travel_smartcar']"
   ]
  },
  {
   "cell_type": "code",
   "execution_count": null,
   "id": "1368de38",
   "metadata": {},
   "outputs": [],
   "source": [
    "for col in app_cols:\n",
    "    print('PERCENTILE_CONT(CASE WHEN {col} <> 0 THEN {col} ELSE NULL END, 0.5) OVER(PARTITION BY ts_index, BRAND_TXT) AS {col}_median,'.format(col=col))"
   ]
  },
  {
   "cell_type": "code",
   "execution_count": null,
   "id": "56cb23c7",
   "metadata": {},
   "outputs": [],
   "source": [
    "for col in app_cols:\n",
    "    print('COUNTIF({col} > {col}_median) AS {col}_users,'.format(col=col))\n",
    "    print('SUM({col}/1000000.0) AS total_{col2}_usage_TB,'.format(col=col,\n",
    "                                                                 col2=col.split('MB_')[1]))"
   ]
  },
  {
   "cell_type": "code",
   "execution_count": null,
   "id": "56339971",
   "metadata": {},
   "outputs": [],
   "source": [
    "app_cols[0].split('MB_')[1]"
   ]
  },
  {
   "cell_type": "code",
   "execution_count": null,
   "id": "b09052c2",
   "metadata": {},
   "outputs": [],
   "source": [
    "for col in app_cols:\n",
    "    print('COUNT(DISTINCT IF({col} > 0, imsi_num, NULL)) AS num_{col2}_users,'.format(col=col,\n",
    "                                                                                      col2=col.split('MB_')[1]))"
   ]
  },
  {
   "cell_type": "code",
   "execution_count": null,
   "id": "c5a37636",
   "metadata": {},
   "outputs": [],
   "source": []
  }
 ],
 "metadata": {
  "kernelspec": {
   "display_name": "Python 3 (ipykernel)",
   "language": "python",
   "name": "python3"
  },
  "language_info": {
   "codemirror_mode": {
    "name": "ipython",
    "version": 3
   },
   "file_extension": ".py",
   "mimetype": "text/x-python",
   "name": "python",
   "nbconvert_exporter": "python",
   "pygments_lexer": "ipython3",
   "version": "3.7.11"
  }
 },
 "nbformat": 4,
 "nbformat_minor": 5
}
