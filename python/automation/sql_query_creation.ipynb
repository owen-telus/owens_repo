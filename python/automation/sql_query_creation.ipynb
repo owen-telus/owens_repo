{
 "cells": [
  {
   "cell_type": "markdown",
   "id": "075047b5",
   "metadata": {},
   "source": [
    "# Using Python to automate repetitive SQL commands"
   ]
  },
  {
   "cell_type": "markdown",
   "id": "bb4b825f",
   "metadata": {},
   "source": [
    "## pre_trip_model queries"
   ]
  },
  {
   "cell_type": "code",
   "execution_count": 1,
   "id": "28a26334",
   "metadata": {},
   "outputs": [],
   "source": [
    "cols = ['bap_bus_bacct_num', 'subscriber_num', 'imsi_id', 'trip_first_date',\n",
    "       'dt', 'ts_index', 'usage_volume_MB_news_finance',\n",
    "       'usage_volume_MB_news_generic', 'usage_volume_MB_news_weather',\n",
    "       'usage_volume_MB_news_politics', 'usage_volume_MB_travel_trips',\n",
    "       'usage_volume_MB_travel_travel', 'usage_volume_MB_travel_airport',\n",
    "       'usage_volume_MB_travel_flights', 'usage_volume_MB_travel_lodging',\n",
    "       'usage_volume_MB_travel_smartcar', 'usage_volume_MB_travel_navigation',\n",
    "       'usage_volume_MB_travel_ridehailing',\n",
    "       'usage_volume_MB_travel_fleetmanagement',\n",
    "       'usage_volume_MB_shopping_food', 'usage_volume_MB_shopping_fashion',\n",
    "       'usage_volume_MB_shopping_miscellaneous',\n",
    "       'usage_volume_MB_smarthome_security',\n",
    "       'usage_volume_MB_smarthome_automation',\n",
    "       'usage_volume_MB_communication_calling',\n",
    "       'usage_volume_MB_communication_talking',\n",
    "       'usage_volume_MB_communication_messaging',\n",
    "       'usage_volume_MB_communication_socialmedia',\n",
    "       'usage_volume_MB_communication_miscellaneous', 'click_count',\n",
    "       'chatbot_cnt']"
   ]
  },
  {
   "cell_type": "code",
   "execution_count": 12,
   "id": "72cfb859",
   "metadata": {},
   "outputs": [
    {
     "name": "stdout",
     "output_type": "stream",
     "text": [
      "IFNULL(usage_volume_MB_news_finance, 0),\n",
      "IFNULL(usage_volume_MB_news_generic, 0),\n",
      "IFNULL(usage_volume_MB_news_weather, 0),\n",
      "IFNULL(usage_volume_MB_news_politics, 0),\n",
      "IFNULL(usage_volume_MB_travel_trips, 0),\n",
      "IFNULL(usage_volume_MB_travel_travel, 0),\n",
      "IFNULL(usage_volume_MB_travel_airport, 0),\n",
      "IFNULL(usage_volume_MB_travel_flights, 0),\n",
      "IFNULL(usage_volume_MB_travel_lodging, 0),\n",
      "IFNULL(usage_volume_MB_travel_smartcar, 0),\n",
      "IFNULL(usage_volume_MB_travel_navigation, 0),\n",
      "IFNULL(usage_volume_MB_travel_ridehailing, 0),\n",
      "IFNULL(usage_volume_MB_travel_fleetmanagement, 0),\n",
      "IFNULL(usage_volume_MB_shopping_food, 0),\n",
      "IFNULL(usage_volume_MB_shopping_fashion, 0),\n",
      "IFNULL(usage_volume_MB_shopping_miscellaneous, 0),\n",
      "IFNULL(usage_volume_MB_smarthome_security, 0),\n",
      "IFNULL(usage_volume_MB_smarthome_automation, 0),\n",
      "IFNULL(usage_volume_MB_communication_calling, 0),\n",
      "IFNULL(usage_volume_MB_communication_talking, 0),\n",
      "IFNULL(usage_volume_MB_communication_messaging, 0),\n",
      "IFNULL(usage_volume_MB_communication_socialmedia, 0),\n",
      "IFNULL(usage_volume_MB_communication_miscellaneous, 0),\n",
      "IFNULL(click_count, 0),\n",
      "IFNULL(chatbot_cnt, 0),\n"
     ]
    }
   ],
   "source": [
    "for col in cols[6:]:\n",
    "    print('IFNULL({col}, 0),'.format(col=col))"
   ]
  },
  {
   "cell_type": "code",
   "execution_count": 9,
   "id": "4cdc6cc1",
   "metadata": {
    "scrolled": true
   },
   "outputs": [
    {
     "name": "stdout",
     "output_type": "stream",
     "text": [
      "ARRAY_AGG(IFNULL(usage_volume_MB_news_finance, 0) ORDER BY ts_index ASC) AS usage_volume_MB_news_finance,\n",
      "ARRAY_AGG(IFNULL(usage_volume_MB_news_generic, 0) ORDER BY ts_index ASC) AS usage_volume_MB_news_generic,\n",
      "ARRAY_AGG(IFNULL(usage_volume_MB_news_weather, 0) ORDER BY ts_index ASC) AS usage_volume_MB_news_weather,\n",
      "ARRAY_AGG(IFNULL(usage_volume_MB_news_politics, 0) ORDER BY ts_index ASC) AS usage_volume_MB_news_politics,\n",
      "ARRAY_AGG(IFNULL(usage_volume_MB_travel_trips, 0) ORDER BY ts_index ASC) AS usage_volume_MB_travel_trips,\n",
      "ARRAY_AGG(IFNULL(usage_volume_MB_travel_travel, 0) ORDER BY ts_index ASC) AS usage_volume_MB_travel_travel,\n",
      "ARRAY_AGG(IFNULL(usage_volume_MB_travel_airport, 0) ORDER BY ts_index ASC) AS usage_volume_MB_travel_airport,\n",
      "ARRAY_AGG(IFNULL(usage_volume_MB_travel_flights, 0) ORDER BY ts_index ASC) AS usage_volume_MB_travel_flights,\n",
      "ARRAY_AGG(IFNULL(usage_volume_MB_travel_lodging, 0) ORDER BY ts_index ASC) AS usage_volume_MB_travel_lodging,\n",
      "ARRAY_AGG(IFNULL(usage_volume_MB_travel_smartcar, 0) ORDER BY ts_index ASC) AS usage_volume_MB_travel_smartcar,\n",
      "ARRAY_AGG(IFNULL(usage_volume_MB_travel_navigation, 0) ORDER BY ts_index ASC) AS usage_volume_MB_travel_navigation,\n",
      "ARRAY_AGG(IFNULL(usage_volume_MB_travel_ridehailing, 0) ORDER BY ts_index ASC) AS usage_volume_MB_travel_ridehailing,\n",
      "ARRAY_AGG(IFNULL(usage_volume_MB_travel_fleetmanagement, 0) ORDER BY ts_index ASC) AS usage_volume_MB_travel_fleetmanagement,\n",
      "ARRAY_AGG(IFNULL(usage_volume_MB_shopping_food, 0) ORDER BY ts_index ASC) AS usage_volume_MB_shopping_food,\n",
      "ARRAY_AGG(IFNULL(usage_volume_MB_shopping_fashion, 0) ORDER BY ts_index ASC) AS usage_volume_MB_shopping_fashion,\n",
      "ARRAY_AGG(IFNULL(usage_volume_MB_shopping_miscellaneous, 0) ORDER BY ts_index ASC) AS usage_volume_MB_shopping_miscellaneous,\n",
      "ARRAY_AGG(IFNULL(usage_volume_MB_smarthome_security, 0) ORDER BY ts_index ASC) AS usage_volume_MB_smarthome_security,\n",
      "ARRAY_AGG(IFNULL(usage_volume_MB_smarthome_automation, 0) ORDER BY ts_index ASC) AS usage_volume_MB_smarthome_automation,\n",
      "ARRAY_AGG(IFNULL(usage_volume_MB_communication_calling, 0) ORDER BY ts_index ASC) AS usage_volume_MB_communication_calling,\n",
      "ARRAY_AGG(IFNULL(usage_volume_MB_communication_talking, 0) ORDER BY ts_index ASC) AS usage_volume_MB_communication_talking,\n",
      "ARRAY_AGG(IFNULL(usage_volume_MB_communication_messaging, 0) ORDER BY ts_index ASC) AS usage_volume_MB_communication_messaging,\n",
      "ARRAY_AGG(IFNULL(usage_volume_MB_communication_socialmedia, 0) ORDER BY ts_index ASC) AS usage_volume_MB_communication_socialmedia,\n",
      "ARRAY_AGG(IFNULL(usage_volume_MB_communication_miscellaneous, 0) ORDER BY ts_index ASC) AS usage_volume_MB_communication_miscellaneous,\n",
      "ARRAY_AGG(IFNULL(click_count, 0) ORDER BY ts_index ASC) AS click_count,\n",
      "ARRAY_AGG(IFNULL(chatbot_cnt, 0) ORDER BY ts_index ASC) AS chatbot_cnt,\n"
     ]
    }
   ],
   "source": [
    "for col in cols[6:]:\n",
    "    print('ARRAY_AGG(IFNULL({col}, 0) ORDER BY ts_index ASC) AS {col},'.format(col=col))"
   ]
  },
  {
   "cell_type": "code",
   "execution_count": null,
   "id": "48461f31",
   "metadata": {},
   "outputs": [],
   "source": []
  }
 ],
 "metadata": {
  "kernelspec": {
   "display_name": "Python 3 (ipykernel)",
   "language": "python",
   "name": "python3"
  },
  "language_info": {
   "codemirror_mode": {
    "name": "ipython",
    "version": 3
   },
   "file_extension": ".py",
   "mimetype": "text/x-python",
   "name": "python",
   "nbconvert_exporter": "python",
   "pygments_lexer": "ipython3",
   "version": "3.7.11"
  }
 },
 "nbformat": 4,
 "nbformat_minor": 5
}
