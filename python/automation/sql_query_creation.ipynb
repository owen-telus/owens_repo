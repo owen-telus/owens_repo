{
 "cells": [
  {
   "cell_type": "markdown",
   "id": "075047b5",
   "metadata": {},
   "source": [
    "# Using Python to automate repetitive SQL commands"
   ]
  },
  {
   "cell_type": "markdown",
   "id": "bb4b825f",
   "metadata": {},
   "source": [
    "## pre_trip_model queries"
   ]
  },
  {
   "cell_type": "code",
   "execution_count": 1,
   "id": "28a26334",
   "metadata": {},
   "outputs": [],
   "source": [
    "cols = ['bap_bus_bacct_num', 'subscriber_num', 'imsi_id', 'trip_first_date',\n",
    "       'dt', 'ts_index', 'usage_volume_MB_news_finance',\n",
    "       'usage_volume_MB_news_generic', 'usage_volume_MB_news_weather',\n",
    "       'usage_volume_MB_news_politics', 'usage_volume_MB_travel_trips',\n",
    "       'usage_volume_MB_travel_travel', 'usage_volume_MB_travel_airport',\n",
    "       'usage_volume_MB_travel_flights', 'usage_volume_MB_travel_lodging',\n",
    "       'usage_volume_MB_travel_smartcar', 'usage_volume_MB_travel_navigation',\n",
    "       'usage_volume_MB_travel_ridehailing',\n",
    "       'usage_volume_MB_travel_fleetmanagement',\n",
    "       'usage_volume_MB_shopping_food', 'usage_volume_MB_shopping_fashion',\n",
    "       'usage_volume_MB_shopping_miscellaneous',\n",
    "       'usage_volume_MB_smarthome_security',\n",
    "       'usage_volume_MB_smarthome_automation',\n",
    "       'usage_volume_MB_communication_calling',\n",
    "       'usage_volume_MB_communication_talking',\n",
    "       'usage_volume_MB_communication_messaging',\n",
    "       'usage_volume_MB_communication_socialmedia',\n",
    "       'usage_volume_MB_communication_miscellaneous', 'click_count',\n",
    "       'chatbot_cnt']"
   ]
  },
  {
   "cell_type": "code",
   "execution_count": 2,
   "id": "72cfb859",
   "metadata": {
    "scrolled": false
   },
   "outputs": [
    {
     "name": "stdout",
     "output_type": "stream",
     "text": [
      "IFNULL(usage_volume_MB_news_finance, 0),\n",
      "IFNULL(usage_volume_MB_news_generic, 0),\n",
      "IFNULL(usage_volume_MB_news_weather, 0),\n",
      "IFNULL(usage_volume_MB_news_politics, 0),\n",
      "IFNULL(usage_volume_MB_travel_trips, 0),\n",
      "IFNULL(usage_volume_MB_travel_travel, 0),\n",
      "IFNULL(usage_volume_MB_travel_airport, 0),\n",
      "IFNULL(usage_volume_MB_travel_flights, 0),\n",
      "IFNULL(usage_volume_MB_travel_lodging, 0),\n",
      "IFNULL(usage_volume_MB_travel_smartcar, 0),\n",
      "IFNULL(usage_volume_MB_travel_navigation, 0),\n",
      "IFNULL(usage_volume_MB_travel_ridehailing, 0),\n",
      "IFNULL(usage_volume_MB_travel_fleetmanagement, 0),\n",
      "IFNULL(usage_volume_MB_shopping_food, 0),\n",
      "IFNULL(usage_volume_MB_shopping_fashion, 0),\n",
      "IFNULL(usage_volume_MB_shopping_miscellaneous, 0),\n",
      "IFNULL(usage_volume_MB_smarthome_security, 0),\n",
      "IFNULL(usage_volume_MB_smarthome_automation, 0),\n",
      "IFNULL(usage_volume_MB_communication_calling, 0),\n",
      "IFNULL(usage_volume_MB_communication_talking, 0),\n",
      "IFNULL(usage_volume_MB_communication_messaging, 0),\n",
      "IFNULL(usage_volume_MB_communication_socialmedia, 0),\n",
      "IFNULL(usage_volume_MB_communication_miscellaneous, 0),\n",
      "IFNULL(click_count, 0),\n",
      "IFNULL(chatbot_cnt, 0),\n"
     ]
    }
   ],
   "source": [
    "for col in cols[6:]:\n",
    "    print('IFNULL({col}, 0),'.format(col=col))"
   ]
  },
  {
   "cell_type": "code",
   "execution_count": 9,
   "id": "4cdc6cc1",
   "metadata": {
    "scrolled": true
   },
   "outputs": [
    {
     "name": "stdout",
     "output_type": "stream",
     "text": [
      "ARRAY_AGG(IFNULL(usage_volume_MB_news_finance, 0) ORDER BY ts_index ASC) AS usage_volume_MB_news_finance,\n",
      "ARRAY_AGG(IFNULL(usage_volume_MB_news_generic, 0) ORDER BY ts_index ASC) AS usage_volume_MB_news_generic,\n",
      "ARRAY_AGG(IFNULL(usage_volume_MB_news_weather, 0) ORDER BY ts_index ASC) AS usage_volume_MB_news_weather,\n",
      "ARRAY_AGG(IFNULL(usage_volume_MB_news_politics, 0) ORDER BY ts_index ASC) AS usage_volume_MB_news_politics,\n",
      "ARRAY_AGG(IFNULL(usage_volume_MB_travel_trips, 0) ORDER BY ts_index ASC) AS usage_volume_MB_travel_trips,\n",
      "ARRAY_AGG(IFNULL(usage_volume_MB_travel_travel, 0) ORDER BY ts_index ASC) AS usage_volume_MB_travel_travel,\n",
      "ARRAY_AGG(IFNULL(usage_volume_MB_travel_airport, 0) ORDER BY ts_index ASC) AS usage_volume_MB_travel_airport,\n",
      "ARRAY_AGG(IFNULL(usage_volume_MB_travel_flights, 0) ORDER BY ts_index ASC) AS usage_volume_MB_travel_flights,\n",
      "ARRAY_AGG(IFNULL(usage_volume_MB_travel_lodging, 0) ORDER BY ts_index ASC) AS usage_volume_MB_travel_lodging,\n",
      "ARRAY_AGG(IFNULL(usage_volume_MB_travel_smartcar, 0) ORDER BY ts_index ASC) AS usage_volume_MB_travel_smartcar,\n",
      "ARRAY_AGG(IFNULL(usage_volume_MB_travel_navigation, 0) ORDER BY ts_index ASC) AS usage_volume_MB_travel_navigation,\n",
      "ARRAY_AGG(IFNULL(usage_volume_MB_travel_ridehailing, 0) ORDER BY ts_index ASC) AS usage_volume_MB_travel_ridehailing,\n",
      "ARRAY_AGG(IFNULL(usage_volume_MB_travel_fleetmanagement, 0) ORDER BY ts_index ASC) AS usage_volume_MB_travel_fleetmanagement,\n",
      "ARRAY_AGG(IFNULL(usage_volume_MB_shopping_food, 0) ORDER BY ts_index ASC) AS usage_volume_MB_shopping_food,\n",
      "ARRAY_AGG(IFNULL(usage_volume_MB_shopping_fashion, 0) ORDER BY ts_index ASC) AS usage_volume_MB_shopping_fashion,\n",
      "ARRAY_AGG(IFNULL(usage_volume_MB_shopping_miscellaneous, 0) ORDER BY ts_index ASC) AS usage_volume_MB_shopping_miscellaneous,\n",
      "ARRAY_AGG(IFNULL(usage_volume_MB_smarthome_security, 0) ORDER BY ts_index ASC) AS usage_volume_MB_smarthome_security,\n",
      "ARRAY_AGG(IFNULL(usage_volume_MB_smarthome_automation, 0) ORDER BY ts_index ASC) AS usage_volume_MB_smarthome_automation,\n",
      "ARRAY_AGG(IFNULL(usage_volume_MB_communication_calling, 0) ORDER BY ts_index ASC) AS usage_volume_MB_communication_calling,\n",
      "ARRAY_AGG(IFNULL(usage_volume_MB_communication_talking, 0) ORDER BY ts_index ASC) AS usage_volume_MB_communication_talking,\n",
      "ARRAY_AGG(IFNULL(usage_volume_MB_communication_messaging, 0) ORDER BY ts_index ASC) AS usage_volume_MB_communication_messaging,\n",
      "ARRAY_AGG(IFNULL(usage_volume_MB_communication_socialmedia, 0) ORDER BY ts_index ASC) AS usage_volume_MB_communication_socialmedia,\n",
      "ARRAY_AGG(IFNULL(usage_volume_MB_communication_miscellaneous, 0) ORDER BY ts_index ASC) AS usage_volume_MB_communication_miscellaneous,\n",
      "ARRAY_AGG(IFNULL(click_count, 0) ORDER BY ts_index ASC) AS click_count,\n",
      "ARRAY_AGG(IFNULL(chatbot_cnt, 0) ORDER BY ts_index ASC) AS chatbot_cnt,\n"
     ]
    }
   ],
   "source": [
    "for col in cols[6:]:\n",
    "    print('ARRAY_AGG(IFNULL({col}, 0) ORDER BY ts_index ASC) AS {col},'.format(col=col))"
   ]
  },
  {
   "cell_type": "markdown",
   "id": "2f359ad3",
   "metadata": {},
   "source": [
    "## imsi_app_usage_trends_weekly_ts "
   ]
  },
  {
   "cell_type": "code",
   "execution_count": 3,
   "id": "be715cd9",
   "metadata": {},
   "outputs": [],
   "source": [
    "app_cols = ['usage_volume_MB_entertainment_sports',\n",
    "'usage_volume_MB_realestate_landlord',\n",
    "'usage_volume_MB_agriculture_farmmanagement',\n",
    "'usage_volume_MB_productivity_education',\n",
    "'usage_volume_MB_telecom_telus',\n",
    "'usage_volume_MB_realestate_buysellrent',\n",
    "'usage_volume_MB_travel_trips',\n",
    "'usage_volume_MB_finance_banking',\n",
    "'usage_volume_MB_pets_dogs',\n",
    "'usage_volume_MB_lifestyle_mentalhealth',\n",
    "'usage_volume_MB_os_appstore',\n",
    "'usage_volume_MB_news_generic',\n",
    "'usage_volume_MB_entertainment_music',\n",
    "'usage_volume_MB_communication_miscellaneous',\n",
    "'usage_volume_MB_gaming_moderate',\n",
    "'usage_volume_MB_utility_security',\n",
    "'usage_volume_MB_communication_socialmedia',\n",
    "'usage_volume_MB_productivity_other',\n",
    "'usage_volume_MB_shopping_fashion',\n",
    "'usage_volume_MB_productivity_webbrowser',\n",
    "'usage_volume_MB_finance_utilities',\n",
    "'usage_volume_MB_travel_travel',\n",
    "'usage_volume_MB_lifestyle_fitness',\n",
    "'usage_volume_MB_finance_business',\n",
    "'usage_volume_MB_lifestyle_relationships',\n",
    "'usage_volume_MB_telecom_wireline',\n",
    "'usage_volume_MB_travel_lodging',\n",
    "'usage_volume_MB_productivity_editingsoftware',\n",
    "'usage_volume_MB_pets_petssupplies',\n",
    "'usage_volume_MB_travel_ridehailing',\n",
    "'usage_volume_MB_agriculture_farmassociations',\n",
    "'usage_volume_MB_productivity_professional',\n",
    "'usage_volume_MB_smarthome_automation',\n",
    "'usage_volume_MB_lifestyle_healthcare',\n",
    "'usage_volume_MB_entertainment_tvandmovies',\n",
    "'usage_volume_MB_travel_flights',\n",
    "'usage_volume_MB_gaming_casual',\n",
    "'usage_volume_MB_finance_paymentapps',\n",
    "'usage_volume_MB_gaming_kids',\n",
    "'usage_volume_MB_travel_navigation',\n",
    "'usage_volume_MB_utility_devicecare',\n",
    "'usage_volume_MB_telecom_wirelesswireline',\n",
    "'usage_volume_MB_entertainment_news',\n",
    "'usage_volume_MB_telecom_others',\n",
    "'usage_volume_MB_news_weather',\n",
    "'usage_volume_MB_entertainment_radio',\n",
    "'usage_volume_MB_travel_airport',\n",
    "'usage_volume_MB_entertainment_live',\n",
    "'usage_volume_MB_telecom_pricecomparison',\n",
    "'usage_volume_MB_pets_other',\n",
    "'usage_volume_MB_lifestyle_identification',\n",
    "'usage_volume_MB_realestate_projectmanagement',\n",
    "'usage_volume_MB_communication_talking',\n",
    "'usage_volume_MB_network_security',\n",
    "'usage_volume_MB_realestate_moving',\n",
    "'usage_volume_MB_productivity_email',\n",
    "'usage_volume_MB_telecom_wireless',\n",
    "'usage_volume_MB_travel_fleetmanagement',\n",
    "'usage_volume_MB_communication_messaging',\n",
    "'usage_volume_MB_gaming_cloud',\n",
    "'usage_volume_MB_os_other',\n",
    "'usage_volume_MB_entertainment_reading',\n",
    "'usage_volume_MB_finance_moneytransfer',\n",
    "'usage_volume_MB_telecom_wirelesswirelinesmarthome',\n",
    "'usage_volume_MB_news_politics',\n",
    "'usage_volume_MB_telecom_smarthome',\n",
    "'usage_volume_MB_productivity_softwaredevelopment',\n",
    "'usage_volume_MB_lifestyle_kids',\n",
    "'usage_volume_MB_telecom_benchmark',\n",
    "'usage_volume_MB_os_update',\n",
    "'usage_volume_MB_communication_calling',\n",
    "'usage_volume_MB_entertainment_miscellaneous',\n",
    "'usage_volume_MB_network_protocol',\n",
    "'usage_volume_MB_smarthome_security',\n",
    "'usage_volume_MB_pets_cats',\n",
    "'usage_volume_MB_news_finance',\n",
    "'usage_volume_MB_productivity_filetransfer',\n",
    "'usage_volume_MB_entertainment_kids',\n",
    "'usage_volume_MB_finance_investing',\n",
    "'usage_volume_MB_shopping_food',\n",
    "'usage_volume_MB_shopping_miscellaneous',\n",
    "'usage_volume_MB_network_other',\n",
    "'usage_volume_MB_productivity_storage',\n",
    "'usage_volume_MB_travel_smartcar']"
   ]
  },
  {
   "cell_type": "code",
   "execution_count": 6,
   "id": "56339971",
   "metadata": {},
   "outputs": [
    {
     "data": {
      "text/plain": [
       "'entertainment_sports'"
      ]
     },
     "execution_count": 6,
     "metadata": {},
     "output_type": "execute_result"
    }
   ],
   "source": [
    "app_cols[0].split('MB_')[1]"
   ]
  },
  {
   "cell_type": "code",
   "execution_count": 7,
   "id": "b09052c2",
   "metadata": {},
   "outputs": [
    {
     "name": "stdout",
     "output_type": "stream",
     "text": [
      "COUNT(DISTINCT IF(usage_volume_MB_entertainment_sports > 0, imsi_num, NULL)) AS num_entertainment_sports_users,\n",
      "COUNT(DISTINCT IF(usage_volume_MB_realestate_landlord > 0, imsi_num, NULL)) AS num_realestate_landlord_users,\n",
      "COUNT(DISTINCT IF(usage_volume_MB_agriculture_farmmanagement > 0, imsi_num, NULL)) AS num_agriculture_farmmanagement_users,\n",
      "COUNT(DISTINCT IF(usage_volume_MB_productivity_education > 0, imsi_num, NULL)) AS num_productivity_education_users,\n",
      "COUNT(DISTINCT IF(usage_volume_MB_telecom_telus > 0, imsi_num, NULL)) AS num_telecom_telus_users,\n",
      "COUNT(DISTINCT IF(usage_volume_MB_realestate_buysellrent > 0, imsi_num, NULL)) AS num_realestate_buysellrent_users,\n",
      "COUNT(DISTINCT IF(usage_volume_MB_travel_trips > 0, imsi_num, NULL)) AS num_travel_trips_users,\n",
      "COUNT(DISTINCT IF(usage_volume_MB_finance_banking > 0, imsi_num, NULL)) AS num_finance_banking_users,\n",
      "COUNT(DISTINCT IF(usage_volume_MB_pets_dogs > 0, imsi_num, NULL)) AS num_pets_dogs_users,\n",
      "COUNT(DISTINCT IF(usage_volume_MB_lifestyle_mentalhealth > 0, imsi_num, NULL)) AS num_lifestyle_mentalhealth_users,\n",
      "COUNT(DISTINCT IF(usage_volume_MB_os_appstore > 0, imsi_num, NULL)) AS num_os_appstore_users,\n",
      "COUNT(DISTINCT IF(usage_volume_MB_news_generic > 0, imsi_num, NULL)) AS num_news_generic_users,\n",
      "COUNT(DISTINCT IF(usage_volume_MB_entertainment_music > 0, imsi_num, NULL)) AS num_entertainment_music_users,\n",
      "COUNT(DISTINCT IF(usage_volume_MB_communication_miscellaneous > 0, imsi_num, NULL)) AS num_communication_miscellaneous_users,\n",
      "COUNT(DISTINCT IF(usage_volume_MB_gaming_moderate > 0, imsi_num, NULL)) AS num_gaming_moderate_users,\n",
      "COUNT(DISTINCT IF(usage_volume_MB_utility_security > 0, imsi_num, NULL)) AS num_utility_security_users,\n",
      "COUNT(DISTINCT IF(usage_volume_MB_communication_socialmedia > 0, imsi_num, NULL)) AS num_communication_socialmedia_users,\n",
      "COUNT(DISTINCT IF(usage_volume_MB_productivity_other > 0, imsi_num, NULL)) AS num_productivity_other_users,\n",
      "COUNT(DISTINCT IF(usage_volume_MB_shopping_fashion > 0, imsi_num, NULL)) AS num_shopping_fashion_users,\n",
      "COUNT(DISTINCT IF(usage_volume_MB_productivity_webbrowser > 0, imsi_num, NULL)) AS num_productivity_webbrowser_users,\n",
      "COUNT(DISTINCT IF(usage_volume_MB_finance_utilities > 0, imsi_num, NULL)) AS num_finance_utilities_users,\n",
      "COUNT(DISTINCT IF(usage_volume_MB_travel_travel > 0, imsi_num, NULL)) AS num_travel_travel_users,\n",
      "COUNT(DISTINCT IF(usage_volume_MB_lifestyle_fitness > 0, imsi_num, NULL)) AS num_lifestyle_fitness_users,\n",
      "COUNT(DISTINCT IF(usage_volume_MB_finance_business > 0, imsi_num, NULL)) AS num_finance_business_users,\n",
      "COUNT(DISTINCT IF(usage_volume_MB_lifestyle_relationships > 0, imsi_num, NULL)) AS num_lifestyle_relationships_users,\n",
      "COUNT(DISTINCT IF(usage_volume_MB_telecom_wireline > 0, imsi_num, NULL)) AS num_telecom_wireline_users,\n",
      "COUNT(DISTINCT IF(usage_volume_MB_travel_lodging > 0, imsi_num, NULL)) AS num_travel_lodging_users,\n",
      "COUNT(DISTINCT IF(usage_volume_MB_productivity_editingsoftware > 0, imsi_num, NULL)) AS num_productivity_editingsoftware_users,\n",
      "COUNT(DISTINCT IF(usage_volume_MB_pets_petssupplies > 0, imsi_num, NULL)) AS num_pets_petssupplies_users,\n",
      "COUNT(DISTINCT IF(usage_volume_MB_travel_ridehailing > 0, imsi_num, NULL)) AS num_travel_ridehailing_users,\n",
      "COUNT(DISTINCT IF(usage_volume_MB_agriculture_farmassociations > 0, imsi_num, NULL)) AS num_agriculture_farmassociations_users,\n",
      "COUNT(DISTINCT IF(usage_volume_MB_productivity_professional > 0, imsi_num, NULL)) AS num_productivity_professional_users,\n",
      "COUNT(DISTINCT IF(usage_volume_MB_smarthome_automation > 0, imsi_num, NULL)) AS num_smarthome_automation_users,\n",
      "COUNT(DISTINCT IF(usage_volume_MB_lifestyle_healthcare > 0, imsi_num, NULL)) AS num_lifestyle_healthcare_users,\n",
      "COUNT(DISTINCT IF(usage_volume_MB_entertainment_tvandmovies > 0, imsi_num, NULL)) AS num_entertainment_tvandmovies_users,\n",
      "COUNT(DISTINCT IF(usage_volume_MB_travel_flights > 0, imsi_num, NULL)) AS num_travel_flights_users,\n",
      "COUNT(DISTINCT IF(usage_volume_MB_gaming_casual > 0, imsi_num, NULL)) AS num_gaming_casual_users,\n",
      "COUNT(DISTINCT IF(usage_volume_MB_finance_paymentapps > 0, imsi_num, NULL)) AS num_finance_paymentapps_users,\n",
      "COUNT(DISTINCT IF(usage_volume_MB_gaming_kids > 0, imsi_num, NULL)) AS num_gaming_kids_users,\n",
      "COUNT(DISTINCT IF(usage_volume_MB_travel_navigation > 0, imsi_num, NULL)) AS num_travel_navigation_users,\n",
      "COUNT(DISTINCT IF(usage_volume_MB_utility_devicecare > 0, imsi_num, NULL)) AS num_utility_devicecare_users,\n",
      "COUNT(DISTINCT IF(usage_volume_MB_telecom_wirelesswireline > 0, imsi_num, NULL)) AS num_telecom_wirelesswireline_users,\n",
      "COUNT(DISTINCT IF(usage_volume_MB_entertainment_news > 0, imsi_num, NULL)) AS num_entertainment_news_users,\n",
      "COUNT(DISTINCT IF(usage_volume_MB_telecom_others > 0, imsi_num, NULL)) AS num_telecom_others_users,\n",
      "COUNT(DISTINCT IF(usage_volume_MB_news_weather > 0, imsi_num, NULL)) AS num_news_weather_users,\n",
      "COUNT(DISTINCT IF(usage_volume_MB_entertainment_radio > 0, imsi_num, NULL)) AS num_entertainment_radio_users,\n",
      "COUNT(DISTINCT IF(usage_volume_MB_travel_airport > 0, imsi_num, NULL)) AS num_travel_airport_users,\n",
      "COUNT(DISTINCT IF(usage_volume_MB_entertainment_live > 0, imsi_num, NULL)) AS num_entertainment_live_users,\n",
      "COUNT(DISTINCT IF(usage_volume_MB_telecom_pricecomparison > 0, imsi_num, NULL)) AS num_telecom_pricecomparison_users,\n",
      "COUNT(DISTINCT IF(usage_volume_MB_pets_other > 0, imsi_num, NULL)) AS num_pets_other_users,\n",
      "COUNT(DISTINCT IF(usage_volume_MB_lifestyle_identification > 0, imsi_num, NULL)) AS num_lifestyle_identification_users,\n",
      "COUNT(DISTINCT IF(usage_volume_MB_realestate_projectmanagement > 0, imsi_num, NULL)) AS num_realestate_projectmanagement_users,\n",
      "COUNT(DISTINCT IF(usage_volume_MB_communication_talking > 0, imsi_num, NULL)) AS num_communication_talking_users,\n",
      "COUNT(DISTINCT IF(usage_volume_MB_network_security > 0, imsi_num, NULL)) AS num_network_security_users,\n",
      "COUNT(DISTINCT IF(usage_volume_MB_realestate_moving > 0, imsi_num, NULL)) AS num_realestate_moving_users,\n",
      "COUNT(DISTINCT IF(usage_volume_MB_productivity_email > 0, imsi_num, NULL)) AS num_productivity_email_users,\n",
      "COUNT(DISTINCT IF(usage_volume_MB_telecom_wireless > 0, imsi_num, NULL)) AS num_telecom_wireless_users,\n",
      "COUNT(DISTINCT IF(usage_volume_MB_travel_fleetmanagement > 0, imsi_num, NULL)) AS num_travel_fleetmanagement_users,\n",
      "COUNT(DISTINCT IF(usage_volume_MB_communication_messaging > 0, imsi_num, NULL)) AS num_communication_messaging_users,\n",
      "COUNT(DISTINCT IF(usage_volume_MB_gaming_cloud > 0, imsi_num, NULL)) AS num_gaming_cloud_users,\n",
      "COUNT(DISTINCT IF(usage_volume_MB_os_other > 0, imsi_num, NULL)) AS num_os_other_users,\n",
      "COUNT(DISTINCT IF(usage_volume_MB_entertainment_reading > 0, imsi_num, NULL)) AS num_entertainment_reading_users,\n",
      "COUNT(DISTINCT IF(usage_volume_MB_finance_moneytransfer > 0, imsi_num, NULL)) AS num_finance_moneytransfer_users,\n",
      "COUNT(DISTINCT IF(usage_volume_MB_telecom_wirelesswirelinesmarthome > 0, imsi_num, NULL)) AS num_telecom_wirelesswirelinesmarthome_users,\n",
      "COUNT(DISTINCT IF(usage_volume_MB_news_politics > 0, imsi_num, NULL)) AS num_news_politics_users,\n",
      "COUNT(DISTINCT IF(usage_volume_MB_telecom_smarthome > 0, imsi_num, NULL)) AS num_telecom_smarthome_users,\n",
      "COUNT(DISTINCT IF(usage_volume_MB_productivity_softwaredevelopment > 0, imsi_num, NULL)) AS num_productivity_softwaredevelopment_users,\n",
      "COUNT(DISTINCT IF(usage_volume_MB_lifestyle_kids > 0, imsi_num, NULL)) AS num_lifestyle_kids_users,\n",
      "COUNT(DISTINCT IF(usage_volume_MB_telecom_benchmark > 0, imsi_num, NULL)) AS num_telecom_benchmark_users,\n",
      "COUNT(DISTINCT IF(usage_volume_MB_os_update > 0, imsi_num, NULL)) AS num_os_update_users,\n",
      "COUNT(DISTINCT IF(usage_volume_MB_communication_calling > 0, imsi_num, NULL)) AS num_communication_calling_users,\n",
      "COUNT(DISTINCT IF(usage_volume_MB_entertainment_miscellaneous > 0, imsi_num, NULL)) AS num_entertainment_miscellaneous_users,\n",
      "COUNT(DISTINCT IF(usage_volume_MB_network_protocol > 0, imsi_num, NULL)) AS num_network_protocol_users,\n",
      "COUNT(DISTINCT IF(usage_volume_MB_smarthome_security > 0, imsi_num, NULL)) AS num_smarthome_security_users,\n",
      "COUNT(DISTINCT IF(usage_volume_MB_pets_cats > 0, imsi_num, NULL)) AS num_pets_cats_users,\n",
      "COUNT(DISTINCT IF(usage_volume_MB_news_finance > 0, imsi_num, NULL)) AS num_news_finance_users,\n",
      "COUNT(DISTINCT IF(usage_volume_MB_productivity_filetransfer > 0, imsi_num, NULL)) AS num_productivity_filetransfer_users,\n",
      "COUNT(DISTINCT IF(usage_volume_MB_entertainment_kids > 0, imsi_num, NULL)) AS num_entertainment_kids_users,\n",
      "COUNT(DISTINCT IF(usage_volume_MB_finance_investing > 0, imsi_num, NULL)) AS num_finance_investing_users,\n",
      "COUNT(DISTINCT IF(usage_volume_MB_shopping_food > 0, imsi_num, NULL)) AS num_shopping_food_users,\n",
      "COUNT(DISTINCT IF(usage_volume_MB_shopping_miscellaneous > 0, imsi_num, NULL)) AS num_shopping_miscellaneous_users,\n",
      "COUNT(DISTINCT IF(usage_volume_MB_network_other > 0, imsi_num, NULL)) AS num_network_other_users,\n",
      "COUNT(DISTINCT IF(usage_volume_MB_productivity_storage > 0, imsi_num, NULL)) AS num_productivity_storage_users,\n",
      "COUNT(DISTINCT IF(usage_volume_MB_travel_smartcar > 0, imsi_num, NULL)) AS num_travel_smartcar_users,\n"
     ]
    }
   ],
   "source": [
    "for col in app_cols:\n",
    "    print('COUNT(DISTINCT IF({col} > 0, imsi_num, NULL)) AS num_{col2}_users,'.format(col=col,\n",
    "                                                                                      col2=col.split('MB_')[1]))"
   ]
  },
  {
   "cell_type": "code",
   "execution_count": null,
   "id": "c5a37636",
   "metadata": {},
   "outputs": [],
   "source": []
  }
 ],
 "metadata": {
  "kernelspec": {
   "display_name": "Python 3 (ipykernel)",
   "language": "python",
   "name": "python3"
  },
  "language_info": {
   "codemirror_mode": {
    "name": "ipython",
    "version": 3
   },
   "file_extension": ".py",
   "mimetype": "text/x-python",
   "name": "python",
   "nbconvert_exporter": "python",
   "pygments_lexer": "ipython3",
   "version": "3.7.11"
  }
 },
 "nbformat": 4,
 "nbformat_minor": 5
}
