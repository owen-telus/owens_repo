{
 "cells": [
  {
   "cell_type": "markdown",
   "id": "075047b5",
   "metadata": {},
   "source": [
    "# Using Python to automate repetitive SQL commands"
   ]
  },
  {
   "cell_type": "markdown",
   "id": "bb4b825f",
   "metadata": {},
   "source": [
    "## pre_trip_model queries"
   ]
  },
  {
   "cell_type": "code",
   "execution_count": null,
   "id": "28a26334",
   "metadata": {},
   "outputs": [],
   "source": [
    "cols = ['bap_bus_bacct_num', 'subscriber_num', 'imsi_id', 'trip_first_date',\n",
    "       'dt', 'ts_index', 'usage_volume_MB_news_finance',\n",
    "       'usage_volume_MB_news_generic', 'usage_volume_MB_news_weather',\n",
    "       'usage_volume_MB_news_politics', 'usage_volume_MB_travel_trips',\n",
    "       'usage_volume_MB_travel_travel', 'usage_volume_MB_travel_airport',\n",
    "       'usage_volume_MB_travel_flights', 'usage_volume_MB_travel_lodging',\n",
    "       'usage_volume_MB_travel_smartcar', 'usage_volume_MB_travel_navigation',\n",
    "       'usage_volume_MB_travel_ridehailing',\n",
    "       'usage_volume_MB_travel_fleetmanagement',\n",
    "       'usage_volume_MB_shopping_food', 'usage_volume_MB_shopping_fashion',\n",
    "       'usage_volume_MB_shopping_miscellaneous',\n",
    "       'usage_volume_MB_smarthome_security',\n",
    "       'usage_volume_MB_smarthome_automation',\n",
    "       'usage_volume_MB_communication_calling',\n",
    "       'usage_volume_MB_communication_talking',\n",
    "       'usage_volume_MB_communication_messaging',\n",
    "       'usage_volume_MB_communication_socialmedia',\n",
    "       'usage_volume_MB_communication_miscellaneous', 'click_count',\n",
    "       'chatbot_cnt']"
   ]
  },
  {
   "cell_type": "code",
   "execution_count": null,
   "id": "72cfb859",
   "metadata": {},
   "outputs": [],
   "source": [
    "for col in cols[6:]:\n",
    "    print('IFNULL({col}, 0),'.format(col=col))"
   ]
  },
  {
   "cell_type": "code",
   "execution_count": null,
   "id": "4cdc6cc1",
   "metadata": {},
   "outputs": [],
   "source": [
    "for col in cols[6:]:\n",
    "    print('ARRAY_AGG(IFNULL({col}, 0) ORDER BY ts_index ASC) AS {col},'.format(col=col))"
   ]
  },
  {
   "cell_type": "markdown",
   "id": "2f359ad3",
   "metadata": {},
   "source": [
    "## imsi_app_usage_trends_weekly_ts "
   ]
  },
  {
   "cell_type": "code",
   "execution_count": null,
   "id": "be715cd9",
   "metadata": {},
   "outputs": [],
   "source": [
    "app_cols = ['usage_volume_MB_entertainment_sports',\n",
    "'usage_volume_MB_realestate_landlord',\n",
    "'usage_volume_MB_agriculture_farmmanagement',\n",
    "'usage_volume_MB_productivity_education',\n",
    "'usage_volume_MB_telecom_telus',\n",
    "'usage_volume_MB_realestate_buysellrent',\n",
    "'usage_volume_MB_travel_trips',\n",
    "'usage_volume_MB_finance_banking',\n",
    "'usage_volume_MB_pets_dogs',\n",
    "'usage_volume_MB_lifestyle_mentalhealth',\n",
    "'usage_volume_MB_os_appstore',\n",
    "'usage_volume_MB_news_generic',\n",
    "'usage_volume_MB_entertainment_music',\n",
    "'usage_volume_MB_communication_miscellaneous',\n",
    "'usage_volume_MB_gaming_moderate',\n",
    "'usage_volume_MB_utility_security',\n",
    "'usage_volume_MB_communication_socialmedia',\n",
    "'usage_volume_MB_productivity_other',\n",
    "'usage_volume_MB_shopping_fashion',\n",
    "'usage_volume_MB_productivity_webbrowser',\n",
    "'usage_volume_MB_finance_utilities',\n",
    "'usage_volume_MB_travel_travel',\n",
    "'usage_volume_MB_lifestyle_fitness',\n",
    "'usage_volume_MB_finance_business',\n",
    "'usage_volume_MB_lifestyle_relationships',\n",
    "'usage_volume_MB_telecom_wireline',\n",
    "'usage_volume_MB_travel_lodging',\n",
    "'usage_volume_MB_productivity_editingsoftware',\n",
    "'usage_volume_MB_pets_petssupplies',\n",
    "'usage_volume_MB_travel_ridehailing',\n",
    "'usage_volume_MB_agriculture_farmassociations',\n",
    "'usage_volume_MB_productivity_professional',\n",
    "'usage_volume_MB_smarthome_automation',\n",
    "'usage_volume_MB_lifestyle_healthcare',\n",
    "'usage_volume_MB_entertainment_tvandmovies',\n",
    "'usage_volume_MB_travel_flights',\n",
    "'usage_volume_MB_gaming_casual',\n",
    "'usage_volume_MB_finance_paymentapps',\n",
    "'usage_volume_MB_gaming_kids',\n",
    "'usage_volume_MB_travel_navigation',\n",
    "'usage_volume_MB_utility_devicecare',\n",
    "'usage_volume_MB_telecom_wirelesswireline',\n",
    "'usage_volume_MB_entertainment_news',\n",
    "'usage_volume_MB_telecom_others',\n",
    "'usage_volume_MB_news_weather',\n",
    "'usage_volume_MB_entertainment_radio',\n",
    "'usage_volume_MB_travel_airport',\n",
    "'usage_volume_MB_entertainment_live',\n",
    "'usage_volume_MB_telecom_pricecomparison',\n",
    "'usage_volume_MB_pets_other',\n",
    "'usage_volume_MB_lifestyle_identification',\n",
    "'usage_volume_MB_realestate_projectmanagement',\n",
    "'usage_volume_MB_communication_talking',\n",
    "'usage_volume_MB_network_security',\n",
    "'usage_volume_MB_realestate_moving',\n",
    "'usage_volume_MB_productivity_email',\n",
    "'usage_volume_MB_telecom_wireless',\n",
    "'usage_volume_MB_travel_fleetmanagement',\n",
    "'usage_volume_MB_communication_messaging',\n",
    "'usage_volume_MB_gaming_cloud',\n",
    "'usage_volume_MB_os_other',\n",
    "'usage_volume_MB_entertainment_reading',\n",
    "'usage_volume_MB_finance_moneytransfer',\n",
    "'usage_volume_MB_telecom_wirelesswirelinesmarthome',\n",
    "'usage_volume_MB_news_politics',\n",
    "'usage_volume_MB_telecom_smarthome',\n",
    "'usage_volume_MB_productivity_softwaredevelopment',\n",
    "'usage_volume_MB_lifestyle_kids',\n",
    "'usage_volume_MB_telecom_benchmark',\n",
    "'usage_volume_MB_os_update',\n",
    "'usage_volume_MB_communication_calling',\n",
    "'usage_volume_MB_entertainment_miscellaneous',\n",
    "'usage_volume_MB_network_protocol',\n",
    "'usage_volume_MB_smarthome_security',\n",
    "'usage_volume_MB_pets_cats',\n",
    "'usage_volume_MB_news_finance',\n",
    "'usage_volume_MB_productivity_filetransfer',\n",
    "'usage_volume_MB_entertainment_kids',\n",
    "'usage_volume_MB_finance_investing',\n",
    "'usage_volume_MB_shopping_food',\n",
    "'usage_volume_MB_shopping_miscellaneous',\n",
    "'usage_volume_MB_network_other',\n",
    "'usage_volume_MB_productivity_storage',\n",
    "'usage_volume_MB_travel_smartcar']"
   ]
  },
  {
   "cell_type": "code",
   "execution_count": null,
   "id": "5c85ee78",
   "metadata": {},
   "outputs": [],
   "source": [
    "len(app_cols)"
   ]
  },
  {
   "cell_type": "code",
   "execution_count": null,
   "id": "a40237ae",
   "metadata": {},
   "outputs": [],
   "source": [
    "for col in app_cols:\n",
    "    print('PERCENTILE_CONT(CASE WHEN {col} <> 0 THEN {col} ELSE NULL END, 0.5) AS {col}_median,'.format(col=col))"
   ]
  },
  {
   "cell_type": "code",
   "execution_count": null,
   "id": "1368de38",
   "metadata": {},
   "outputs": [],
   "source": [
    "for col in app_cols:\n",
    "    print('PERCENTILE_CONT(CASE WHEN {col} <> 0 THEN {col} ELSE NULL END, 0.5) OVER(PARTITION BY ts_index, BRAND_TXT) AS {col}_median,'.format(col=col))"
   ]
  },
  {
   "cell_type": "code",
   "execution_count": null,
   "id": "56cb23c7",
   "metadata": {},
   "outputs": [],
   "source": [
    "for col in app_cols:\n",
    "    print('COUNTIF({col} > {col}_median) AS {col}_users,'.format(col=col))\n",
    "    print('SUM({col}/1000000.0) AS total_{col2}_usage_TB,'.format(col=col,\n",
    "                                                                 col2=col.split('MB_')[1]))"
   ]
  },
  {
   "cell_type": "code",
   "execution_count": null,
   "id": "56339971",
   "metadata": {},
   "outputs": [],
   "source": [
    "app_cols[0].split('MB_')[1]"
   ]
  },
  {
   "cell_type": "code",
   "execution_count": null,
   "id": "b09052c2",
   "metadata": {},
   "outputs": [],
   "source": [
    "for col in app_cols:\n",
    "    print('COUNT(DISTINCT IF({col} > 0, imsi_num, NULL)) AS num_{col2}_users,'.format(col=col,\n",
    "                                                                                      col2=col.split('MB_')[1]))"
   ]
  },
  {
   "cell_type": "code",
   "execution_count": null,
   "id": "c5a37636",
   "metadata": {},
   "outputs": [],
   "source": [
    "y = [\"communication_socialmedia_Other\", \"communication_miscellaneous_Other\", \"travel_ridehailing_Public Mobile\", \"entertainment_radio_TELUS\", \"lifestyle_relationships_TELUS\", \"os_appstore_TELUS\", \"telecom_others_TELUS\", \"travel_ridehailing_TELUS\", \"gaming_casual_Other\", \"lifestyle_kids_Other\", \"pets_cats_Other\", \"realestate_buysellrent_Other\", \"entertainment_tvandmovies_PC mobile\", \"lifestyle_relationships_PC mobile\", \"gaming_kids_KOODO\", \"travel_ridehailing_KOODO\", \"entertainment_miscellaneous_Public Mobile\", \"entertainment_live_Public Mobile\", \"network_protocol_Public Mobile\", \"os_update_Public Mobile\", \"communication_socialmedia_TELUS\", \"finance_business_TELUS\", \"lifestyle_identification_Other\", \"news_politics_Other\", \"shopping_food_Other\", \"telecom_benchmark_Other\", \"news_generic_PC mobile\", \"entertainment_music_KOODO\", \"network_other_KOODO\", \"telecom_others_KOODO\", \"network_protocol_Other\", \"communication_talking_KOODO\", \"agriculture_farmmanagement_Public Mobile\", \"entertainment_reading_Public Mobile\", \"communication_calling_Other\", \"entertainment_reading_Other\", \"lifestyle_healthcare_TELUS\", \"realestate_projectmanagement_TELUS\", \"travel_lodging_TELUS\", \"travel_travel_TELUS\", \"finance_business_Other\", \"os_other_Other\", \"pets_cats_PC mobile\", \"telecom_benchmark_KOODO\", \"finance_investing_TELUS\", \"pets_cats_TELUS\", \"productivity_webbrowser_TELUS\", \"travel_navigation_TELUS\", \"productivity_softwaredevelopment_Other\", \"entertainment_sports_KOODO\", \"travel_fleetmanagement_KOODO\", \"travel_smartcar_KOODO\", \"agriculture_farmassociations_Public Mobile\", \"news_finance_Public Mobile\", \"shopping_food_Public Mobile\", \"telecom_pricecomparison_Public Mobile\", \"utility_devicecare_Public Mobile\", \"communication_calling_TELUS\", \"finance_banking_TELUS\", \"entertainment_music_Other\", \"lifestyle_mentalhealth_Other\", \"telecom_smarthome_Other\", \"entertainment_live_KOODO\", \"communication_talking_Public Mobile\", \"shopping_fashion_Public Mobile\", \"entertainment_live_TELUS\", \"gaming_moderate_TELUS\", \"productivity_softwaredevelopment_TELUS\", \"finance_investing_Other\", \"agriculture_farmmanagement_KOODO\", \"entertainment_tvandmovies_KOODO\", \"lifestyle_mentalhealth_KOODO\", \"network_security_KOODO\", \"news_generic_KOODO\", \"finance_moneytransfer_Public Mobile\", \"telecom_others_Public Mobile\", \"finance_utilities_TELUS\", \"travel_flights_TELUS\", \"realestate_landlord_Other\", \"telecom_wireline_Other\", \"finance_banking_PC mobile\", \"travel_lodging_PC mobile\", \"finance_paymentapps_KOODO\", \"telecom_wireline_KOODO\", \"travel_navigation_KOODO\", \"entertainment_miscellaneous_Other\", \"productivity_softwaredevelopment_KOODO\", \"productivity_editingsoftware_TELUS\", \"telecom_wirelesswirelinesmarthome_TELUS\", \"productivity_email_Other\", \"travel_flights_Other\", \"productivity_professional_PC mobile\", \"shopping_miscellaneous_PC mobile\", \"pets_petssupplies_KOODO\", \"shopping_food_KOODO\", \"utility_devicecare_TELUS\", \"entertainment_kids_Other\", \"gaming_moderate_Other\", \"pets_dogs_KOODO\", \"travel_fleetmanagement_Public Mobile\", \"productivity_filetransfer_TELUS\", \"communication_messaging_PC mobile\", \"entertainment_kids_PC mobile\", \"productivity_email_PC mobile\", \"entertainment_tvandmovies_TELUS\", \"lifestyle_kids_TELUS\", \"news_finance_TELUS\", \"gaming_kids_Other\", \"network_other_Other\", \"utility_security_PC mobile\", \"entertainment_reading_KOODO\", \"productivity_editingsoftware_Public Mobile\", \"gaming_kids_TELUS\", \"lifestyle_mentalhealth_TELUS\", \"news_weather_Other\", \"shopping_fashion_Other\", \"communication_miscellaneous_PC mobile\", \"entertainment_sports_PC mobile\", \"travel_ridehailing_PC mobile\", \"agriculture_farmmanagement_TELUS\", \"os_appstore_Other\", \"travel_fleetmanagement_Other\", \"travel_ridehailing_Other\", \"finance_paymentapps_PC mobile\", \"communication_calling_KOODO\", \"lifestyle_fitness_KOODO\", \"realestate_moving_Public Mobile\", \"travel_navigation_Other\", \"productivity_education_PC mobile\", \"productivity_softwaredevelopment_PC mobile\", \"entertainment_kids_KOODO\", \"finance_investing_KOODO\", \"finance_moneytransfer_KOODO\", \"gaming_cloud_KOODO\", \"network_protocol_KOODO\", \"travel_trips_KOODO\", \"travel_lodging_KOODO\", \"finance_banking_Public Mobile\", \"news_politics_Public Mobile\", \"productivity_storage_Public Mobile\", \"entertainment_miscellaneous_TELUS\", \"communication_calling_PC mobile\", \"gaming_casual_PC mobile\", \"news_politics_PC mobile\", \"telecom_wireless_Public Mobile\", \"os_other_TELUS\", \"productivity_education_TELUS\", \"smarthome_automation_TELUS\", \"travel_smartcar_Other\", \"productivity_webbrowser_PC mobile\", \"finance_banking_KOODO\", \"gaming_casual_KOODO\", \"entertainment_news_Public Mobile\", \"lifestyle_healthcare_Public Mobile\", \"productivity_other_Public Mobile\", \"telecom_wirelesswirelinesmarthome_Public Mobile\", \"travel_airport_Public Mobile\", \"communication_messaging_TELUS\", \"news_generic_TELUS\", \"finance_utilities_Other\", \"productivity_professional_Other\", \"travel_lodging_Other\", \"news_weather_KOODO\", \"finance_investing_Public Mobile\", \"telecom_telus_Public Mobile\", \"telecom_wirelesswireline_Public Mobile\", \"entertainment_kids_TELUS\", \"telecom_wireless_TELUS\", \"travel_airport_TELUS\", \"pets_cats_Public Mobile\", \"realestate_moving_TELUS\", \"travel_smartcar_TELUS\", \"agriculture_farmassociations_Other\", \"os_update_Other\", \"productivity_webbrowser_Other\", \"telecom_wireless_PC mobile\", \"lifestyle_identification_KOODO\", \"lifestyle_kids_Public Mobile\", \"productivity_filetransfer_Public Mobile\", \"productivity_editingsoftware_Other\", \"realestate_projectmanagement_Other\", \"pets_dogs_PC mobile\", \"telecom_telus_PC mobile\", \"utility_security_Public Mobile\", \"agriculture_farmmanagement_Other\", \"finance_paymentapps_Other\", \"pets_other_Other\", \"productivity_storage_Other\", \"telecom_telus_Other\", \"lifestyle_relationships_KOODO\", \"gaming_cloud_Public Mobile\", \"pets_other_Public Mobile\", \"travel_trips_Public Mobile\", \"productivity_other_TELUS\", \"telecom_others_Other\", \"entertainment_music_PC mobile\", \"realestate_buysellrent_PC mobile\", \"telecom_wireline_PC mobile\", \"entertainment_radio_Public Mobile\", \"productivity_other_Other\", \"news_finance_KOODO\", \"travel_flights_KOODO\", \"communication_messaging_Public Mobile\", \"news_politics_KOODO\", \"productivity_professional_KOODO\", \"productivity_other_KOODO\", \"shopping_fashion_KOODO\", \"communication_miscellaneous_Public Mobile\", \"lifestyle_fitness_Public Mobile\", \"realestate_buysellrent_Public Mobile\", \"productivity_email_TELUS\", \"telecom_pricecomparison_Other\", \"telecom_wirelesswireline_Other\", \"travel_smartcar_PC mobile\", \"entertainment_news_KOODO\", \"pets_other_KOODO\", \"productivity_webbrowser_KOODO\", \"utility_devicecare_KOODO\", \"entertainment_tvandmovies_Public Mobile\", \"productivity_education_Public Mobile\", \"productivity_webbrowser_Public Mobile\", \"gaming_casual_TELUS\", \"lifestyle_identification_TELUS\", \"telecom_wirelesswireline_TELUS\", \"lifestyle_healthcare_Other\", \"news_weather_PC mobile\", \"smarthome_automation_PC mobile\", \"utility_devicecare_PC mobile\", \"entertainment_miscellaneous_KOODO\", \"shopping_miscellaneous_KOODO\", \"communication_socialmedia_Public Mobile\", \"productivity_professional_Public Mobile\", \"productivity_professional_TELUS\", \"entertainment_radio_Other\", \"gaming_cloud_Other\", \"productivity_filetransfer_Other\", \"smarthome_automation_Other\", \"travel_trips_Other\", \"os_other_PC mobile\", \"os_appstore_PC mobile\", \"finance_business_KOODO\", \"telecom_pricecomparison_KOODO\", \"agriculture_farmassociations_TELUS\", \"news_finance_Other\", \"entertainment_miscellaneous_PC mobile\", \"pets_other_PC mobile\", \"gaming_kids_Public Mobile\", \"entertainment_music_TELUS\", \"telecom_telus_TELUS\", \"travel_trips_TELUS\", \"agriculture_farmassociations_KOODO\", \"telecom_wireless_KOODO\", \"communication_calling_Public Mobile\", \"entertainment_kids_Public Mobile\", \"shopping_miscellaneous_Public Mobile\", \"communication_talking_TELUS\", \"realestate_buysellrent_TELUS\", \"lifestyle_fitness_Other\", \"pets_dogs_Other\", \"travel_travel_Other\", \"finance_investing_PC mobile\", \"lifestyle_kids_PC mobile\", \"os_update_KOODO\", \"network_security_Public Mobile\", \"productivity_email_Public Mobile\", \"gaming_cloud_TELUS\", \"shopping_fashion_TELUS\", \"entertainment_news_PC mobile\", \"productivity_softwaredevelopment_Public Mobile\", \"smarthome_automation_Public Mobile\", \"travel_navigation_Public Mobile\", \"entertainment_sports_TELUS\", \"communication_talking_Other\", \"entertainment_tvandmovies_Other\", \"news_generic_Other\", \"entertainment_music_Public Mobile\", \"lifestyle_identification_Public Mobile\", \"entertainment_sports_Other\", \"finance_banking_Other\", \"os_update_PC mobile\", \"telecom_smarthome_KOODO\", \"finance_utilities_Public Mobile\", \"travel_travel_Public Mobile\", \"utility_security_Other\", \"productivity_filetransfer_PC mobile\", \"telecom_benchmark_PC mobile\", \"pets_cats_KOODO\", \"pets_petssupplies_Public Mobile\", \"travel_flights_Public Mobile\", \"finance_moneytransfer_TELUS\", \"realestate_landlord_TELUS\", \"travel_fleetmanagement_TELUS\", \"pets_petssupplies_Other\", \"travel_airport_Other\", \"utility_devicecare_Other\", \"network_other_PC mobile\", \"productivity_storage_PC mobile\", \"productivity_filetransfer_KOODO\", \"productivity_editingsoftware_KOODO\", \"travel_airport_KOODO\", \"finance_business_Public Mobile\", \"lifestyle_mentalhealth_Public Mobile\", \"finance_paymentapps_TELUS\", \"news_politics_TELUS\", \"smarthome_security_TELUS\", \"telecom_benchmark_TELUS\", \"entertainment_live_Other\", \"telecom_wirelesswirelinesmarthome_PC mobile\", \"smarthome_security_KOODO\", \"gaming_moderate_Public Mobile\", \"network_other_Public Mobile\", \"telecom_benchmark_Public Mobile\", \"travel_lodging_Public Mobile\", \"shopping_miscellaneous_Other\", \"communication_miscellaneous_KOODO\", \"realestate_landlord_KOODO\", \"gaming_casual_Public Mobile\", \"lifestyle_relationships_Public Mobile\", \"smarthome_security_Public Mobile\", \"network_protocol_TELUS\", \"os_update_TELUS\", \"gaming_moderate_KOODO\", \"telecom_wirelesswirelinesmarthome_KOODO\", \"finance_paymentapps_Public Mobile\", \"telecom_wirelesswirelinesmarthome_Other\", \"entertainment_reading_PC mobile\", \"network_security_PC mobile\", \"smarthome_security_PC mobile\", \"os_appstore_KOODO\", \"telecom_wirelesswireline_KOODO\", \"travel_travel_KOODO\", \"os_other_Public Mobile\", \"lifestyle_fitness_TELUS\", \"productivity_storage_TELUS\", \"telecom_wireline_TELUS\", \"telecom_pricecomparison_TELUS\", \"entertainment_news_Other\", \"network_security_Other\", \"pets_petssupplies_TELUS\", \"pets_dogs_TELUS\", \"realestate_moving_Other\", \"finance_business_PC mobile\", \"telecom_wirelesswireline_PC mobile\", \"lifestyle_healthcare_KOODO\", \"productivity_education_KOODO\", \"realestate_moving_KOODO\", \"telecom_telus_KOODO\", \"os_appstore_Public Mobile\", \"telecom_smarthome_TELUS\", \"utility_security_TELUS\", \"communication_messaging_Other\", \"lifestyle_relationships_Other\", \"productivity_education_Other\", \"lifestyle_fitness_PC mobile\", \"os_other_KOODO\", \"productivity_email_KOODO\", \"productivity_storage_KOODO\", \"utility_security_KOODO\", \"network_other_TELUS\", \"shopping_miscellaneous_TELUS\", \"shopping_food_TELUS\", \"finance_moneytransfer_Other\", \"smarthome_security_Other\", \"pets_petssupplies_PC mobile\", \"communication_messaging_KOODO\", \"news_generic_Public Mobile\", \"pets_dogs_Public Mobile\", \"telecom_smarthome_Public Mobile\", \"travel_smartcar_Public Mobile\", \"entertainment_reading_TELUS\", \"news_weather_TELUS\", \"pets_other_TELUS\", \"productivity_editingsoftware_PC mobile\", \"travel_navigation_PC mobile\", \"realestate_landlord_Public Mobile\", \"communication_miscellaneous_TELUS\", \"telecom_wireless_Other\", \"communication_socialmedia_PC mobile\", \"network_protocol_PC mobile\", \"communication_socialmedia_KOODO\", \"smarthome_automation_KOODO\", \"telecom_wireline_Public Mobile\", \"entertainment_news_TELUS\", \"entertainment_radio_PC mobile\", \"gaming_kids_PC mobile\", \"shopping_food_PC mobile\", \"travel_trips_PC mobile\", \"entertainment_radio_KOODO\", \"lifestyle_kids_KOODO\", \"realestate_buysellrent_KOODO\", \"entertainment_sports_Public Mobile\", \"news_weather_Public Mobile\", \"network_security_TELUS\", \"finance_utilities_KOODO\", \"shopping_fashion_PC mobile\", \"telecom_smarthome_PC mobile\", \"gaming_moderate_PC mobile\", \"realestate_projectmanagement_KOODO\", \"travel_flights_PC mobile\", \"gaming_cloud_PC mobile\", \"telecom_wirelinesmarthome_Public Mobile\", \"telecom_wirelinesmarthome_PC mobile\", \"agriculture_farmmanagement_PC mobile\", \"telecom_others_PC mobile\", \"finance_utilities_PC mobile\", \"realestate_landlord_PC mobile\", \"agriculture_farmassociations_PC mobile\", \"travel_fleetmanagement_PC mobile\", \"telecom_wirelinesmarthome_Other\", \"telecom_wirelinesmarthome_KOODO\", \"communication_talking_PC mobile\", \"lifestyle_identification_PC mobile\", \"realestate_projectmanagement_Public Mobile\", \"realestate_projectmanagement_PC mobile\", \"telecom_wirelinesmarthome_TELUS\", \"realestate_moving_PC mobile\", \"telecom_pricecomparison_PC mobile\", \"news_finance_PC mobile\", \"lifestyle_healthcare_PC mobile\", \"productivity_other_PC mobile\", \"finance_moneytransfer_PC mobile\", \"entertainment_live_PC mobile\", \"lifestyle_mentalhealth_PC mobile\", \"travel_airport_PC mobile\", \"travel_travel_PC mobile\"]"
   ]
  },
  {
   "cell_type": "code",
   "execution_count": null,
   "id": "00730aea",
   "metadata": {},
   "outputs": [],
   "source": [
    "len(y)"
   ]
  },
  {
   "cell_type": "code",
   "execution_count": null,
   "id": "c045a0c7",
   "metadata": {},
   "outputs": [],
   "source": [
    "425 / 85"
   ]
  },
  {
   "cell_type": "code",
   "execution_count": null,
   "id": "b2e7a1a0",
   "metadata": {},
   "outputs": [],
   "source": []
  }
 ],
 "metadata": {
  "kernelspec": {
   "display_name": "Python 3 (ipykernel)",
   "language": "python",
   "name": "python3"
  },
  "language_info": {
   "codemirror_mode": {
    "name": "ipython",
    "version": 3
   },
   "file_extension": ".py",
   "mimetype": "text/x-python",
   "name": "python",
   "nbconvert_exporter": "python",
   "pygments_lexer": "ipython3",
   "version": "3.7.11"
  }
 },
 "nbformat": 4,
 "nbformat_minor": 5
}
