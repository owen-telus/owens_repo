{
 "cells": [
  {
   "cell_type": "code",
   "execution_count": null,
   "id": "78c0654a-261b-4746-a585-634b20ce56ce",
   "metadata": {},
   "outputs": [],
   "source": [
    "import pandas as pd\n",
    "import numpy as np\n",
    "\n",
    "pd.options.display.max_columns = 100\n",
    "import plotly.express as px\n"
   ]
  },
  {
   "cell_type": "markdown",
   "id": "f70f586e-1ec3-46c1-956d-d5035067f0c7",
   "metadata": {},
   "source": [
    "# Find impact of an unsub. Portfolios include: aax, dup, firefly, roaming, renewal"
   ]
  },
  {
   "cell_type": "code",
   "execution_count": null,
   "id": "7b0dc05b-0bc7-4946-b816-39437720a3bb",
   "metadata": {},
   "outputs": [],
   "source": [
    "%%bigquery post_unsub_price_plan_change_df\n",
    "\n",
    "\n",
    "\n",
    "WITH unsubscribe_msisdn_date AS (\n",
    "SELECT  \n",
    "  BAN,\n",
    "  MSISDN,\n",
    "  MAX(dt) AS unsub_date\n",
    "FROM `wb-ai-accelerator-1-pr-71edf3.mobility_cust_journey.post_mob_cust_price_plan_change_marketing_event_ts` \n",
    "WHERE UNSUBSCRIBE = 1\n",
    "GROUP BY BAN, MSISDN\n",
    ")\n",
    "\n",
    "SELECT \n",
    "  A.*  \n",
    "FROM `wb-ai-accelerator-1-pr-71edf3.mobility_cust_journey.post_mob_cust_price_plan_change_marketing_event_ts` A \n",
    "INNER JOIN unsubscribe_msisdn_date B \n",
    "ON A.BAN = B.BAN AND A.MSISDN = B.MSISDN \n",
    "WHERE \n",
    "  A.dt >= B.unsub_date\n",
    "  AND A.marketing_event = 0 -- natural price plan changes only \n",
    "  AND A.pp_recur_chrg_amt != 0 -- I believe when pp_recur_chrg_amt becomes 0, it basically means they stopped their plan\n",
    "ORDER BY BAN, MSISDN, dt \n"
   ]
  },
  {
   "cell_type": "markdown",
   "id": "16b6492b-0c6d-4f4f-bd0b-c7be2d77c59a",
   "metadata": {},
   "source": [
    "Following data is interpreted as. For all customers that have unsubscribed from a marketing campaign, this is the average of all price plan changes that occured after their unsub in 2022. This can be thought of as organic changes"
   ]
  },
  {
   "cell_type": "code",
   "execution_count": null,
   "id": "3a39704b-2694-4eef-980c-b1f4c9b6c563",
   "metadata": {},
   "outputs": [],
   "source": [
    "post_unsub_price_plan_change_df.change_in_pp_recur_chrg_amt.describe()"
   ]
  },
  {
   "cell_type": "markdown",
   "id": "130361a4-63cc-4d38-b8d6-c3f94ed2983f",
   "metadata": {},
   "source": [
    "Find change in price plan amount after they have converted. Note because I am doing a group by, it will not consider instances where customers convert multiple times but rather only the most recent conversion"
   ]
  },
  {
   "cell_type": "code",
   "execution_count": null,
   "id": "53fc5e0c-4a5c-4c2d-b9f2-57d0d5e6c1cd",
   "metadata": {},
   "outputs": [],
   "source": [
    "%%bigquery post_convert_price_plan_change_df\n",
    "\n",
    "WITH unsubscribe_msisdn AS (\n",
    "SELECT  \n",
    "  distinct MSISDN as unsub_msisdn,\n",
    "FROM `wb-ai-accelerator-1-pr-71edf3.mobility_cust_journey.post_mob_cust_price_plan_change_marketing_event_ts` \n",
    "WHERE UNSUBSCRIBE = 1\n",
    "\n",
    "),\n",
    "\n",
    "customers_with_conversion AS (\n",
    "  SELECT \n",
    "    BAN,\n",
    "    MSISDN,\n",
    "    MAX(dt) AS convert_date\n",
    "  FROM `wb-ai-accelerator-1-pr-71edf3.mobility_cust_journey.post_mob_cust_price_plan_change_marketing_event_ts` \n",
    "  WHERE CONVERSION = 1 AND MSISDN NOT IN (SELECT unsub_msisdn FROM unsubscribe_msisdn)\n",
    "  GROUP BY BAN, MSISDN\n",
    ")\n",
    "\n",
    "SELECT\n",
    "  A.*\n",
    "FROM `wb-ai-accelerator-1-pr-71edf3.mobility_cust_journey.post_mob_cust_price_plan_change_dup_event_ts` A \n",
    "INNER JOIN customers_with_conversion B\n",
    "ON A.BAN = B.BAN AND A.MSISDN = B.MSISDN\n",
    "WHERE\n",
    "  A.dt >= B.convert_date AND \n",
    "  A.marketing_event = 0 \n",
    "  AND A.pp_recur_chrg_amt != 0 "
   ]
  },
  {
   "cell_type": "code",
   "execution_count": null,
   "id": "b876cb48-415a-4f0c-9dae-d1ddeca301b5",
   "metadata": {},
   "outputs": [],
   "source": [
    "post_convert_price_plan_change_df.change_in_pp_recur_chrg_amt.describe()"
   ]
  },
  {
   "cell_type": "markdown",
   "id": "1642e3dd-8461-4172-bda1-3e2c4bb54dab",
   "metadata": {},
   "source": [
    "Below number is subtracting the mean of the post conversion change in price plan price with post unsub change in price plan. Can we say each unsub costs TELUS 1.45 * 24  =  $34.8 per customer. <br>\n",
    "\n",
    "For each campaign, we could then perform the calculation on number of unsubs saved of target over control "
   ]
  },
  {
   "cell_type": "code",
   "execution_count": null,
   "id": "2099e84a-1a69-433c-902f-39d3097943cd",
   "metadata": {},
   "outputs": [],
   "source": [
    "post_convert_price_plan_change_df.change_in_pp_recur_chrg_amt.mean() - post_unsub_price_plan_change_df.change_in_pp_recur_chrg_amt.mean()"
   ]
  },
  {
   "cell_type": "code",
   "execution_count": null,
   "id": "e179bdfa-87e3-4950-a93a-6d8ec209d08f",
   "metadata": {},
   "outputs": [],
   "source": [
    "1.45 * 24"
   ]
  },
  {
   "cell_type": "markdown",
   "id": "bb00f007-e9d7-41e9-96cc-d5eb1844b3a6",
   "metadata": {},
   "source": [
    "This value can be used as a starting guide when we begin to optimize for record allocation. Ie. If a campaign has record allocation for 200k customers but our model only identifies 100k as high propensity, we save 100k. Knowing this portfolios past campaign's performance, we have a historical unsub rate to work with. Using the value calculated above, by not targeting 100k customers, we prevent 100k customers * campaign historical unsub rate customers from unsubscribing, which costs TELUS $34.8 over 24 months per customer"
   ]
  },
  {
   "cell_type": "code",
   "execution_count": null,
   "id": "e9408077-5b33-4f86-81eb-8f732e3e9403",
   "metadata": {},
   "outputs": [],
   "source": [
    "100000 * 0.01 * 34.8"
   ]
  },
  {
   "cell_type": "markdown",
   "id": "9c5ea9a8-829d-4495-bf02-38eb94ea29c6",
   "metadata": {},
   "source": [
    "Depending on the record allocation and number of saves, we should be able to generate 5 figure savings per campaign based on this proposed method"
   ]
  },
  {
   "cell_type": "markdown",
   "id": "7180c544-7b37-4ae2-8aa9-15e18fd0a1c1",
   "metadata": {},
   "source": [
    "# Count of Change in Price plan by Month"
   ]
  },
  {
   "cell_type": "code",
   "execution_count": null,
   "id": "d84ff61a-183c-415b-ac56-2ae15b1be261",
   "metadata": {},
   "outputs": [],
   "source": [
    "%%bigquery price_plan_change_by_month_cnt\n",
    "\n",
    "SELECT \n",
    "  EXTRACT(MONTH FROM dt) as month_,\n",
    "  ROUND(change_in_pp_recur_chrg_amt/5)*5 as change_in_pp_recur_chrg_amt,\n",
    "  count(*) AS count_\n",
    "FROM  `wb-ai-accelerator-1-pr-71edf3.mobility_cust_journey.post_mob_cust_price_plan_change_marketing_event_ts`\n",
    "WHERE marketing_event = 0\n",
    "AND ROUND(change_in_pp_recur_chrg_amt/5)*5 != 0\n",
    "GROUP BY 1,2\n",
    "ORDER BY 1 ASC "
   ]
  },
  {
   "cell_type": "code",
   "execution_count": null,
   "id": "f6917731-b391-48f8-b6a4-30a13792421f",
   "metadata": {},
   "outputs": [],
   "source": [
    "price_plan_change_by_month_cnt.change_in_pp_recur_chrg_amt.nunique()"
   ]
  },
  {
   "cell_type": "code",
   "execution_count": null,
   "id": "0ba2d453-541e-4011-9503-592084686b05",
   "metadata": {},
   "outputs": [],
   "source": [
    "price_plan_change_by_month_cnt"
   ]
  },
  {
   "cell_type": "code",
   "execution_count": null,
   "id": "22bc84ae-b8bd-477b-8655-fa0263aa8541",
   "metadata": {},
   "outputs": [],
   "source": [
    "fig = px.line(price_plan_change_by_month_cnt.loc[(price_plan_change_by_month_cnt.change_in_pp_recur_chrg_amt > 0) & \n",
    "                                                 (price_plan_change_by_month_cnt.month_ > 1)],\n",
    "              x='month_', y='count_', color='change_in_pp_recur_chrg_amt')\n",
    "fig.show()            "
   ]
  },
  {
   "cell_type": "code",
   "execution_count": null,
   "id": "a46eb01d-8bcd-4385-a13b-a2f49217d332",
   "metadata": {},
   "outputs": [],
   "source": [
    "fig = px.line(price_plan_change_by_month_cnt.loc[(price_plan_change_by_month_cnt.change_in_pp_recur_chrg_amt < 0) & \n",
    "                                                 (price_plan_change_by_month_cnt.month_ > 1)],\n",
    "              x='month_', y='count_', color='change_in_pp_recur_chrg_amt')\n",
    "fig.show()            "
   ]
  },
  {
   "cell_type": "code",
   "execution_count": null,
   "id": "818284ce-616c-43c1-a004-ebc22dc030e6",
   "metadata": {},
   "outputs": [],
   "source": [
    "%%bigquery price_plan_change_cnt\n",
    "\n",
    "SELECT \n",
    "  change_in_pp_recur_chrg_amt,\n",
    "  count(*) AS count_\n",
    "FROM  `wb-ai-accelerator-1-pr-71edf3.mobility_cust_journey.post_mob_cust_price_plan_change_marketing_event_ts`\n",
    "WHERE marketing_event = 0 AND change_in_pp_recur_chrg_amt != 0\n",
    "GROUP BY 1\n",
    "ORDER BY 1 ASC "
   ]
  },
  {
   "cell_type": "code",
   "execution_count": null,
   "id": "fdbb1aa1-7bd9-40df-94a0-5e4282ee97cb",
   "metadata": {},
   "outputs": [],
   "source": [
    "\n",
    "fig = px.line(price_plan_change_cnt,\n",
    "              x='change_in_pp_recur_chrg_amt', y='count_')\n",
    "fig.show()            "
   ]
  },
  {
   "cell_type": "code",
   "execution_count": null,
   "id": "c8e16cff-a196-4223-99ac-790f39b94995",
   "metadata": {},
   "outputs": [],
   "source": []
  }
 ],
 "metadata": {
  "kernelspec": {
   "display_name": "Python 3 (ipykernel)",
   "language": "python",
   "name": "python3"
  },
  "language_info": {
   "codemirror_mode": {
    "name": "ipython",
    "version": 3
   },
   "file_extension": ".py",
   "mimetype": "text/x-python",
   "name": "python",
   "nbconvert_exporter": "python",
   "pygments_lexer": "ipython3",
   "version": "3.7.12"
  }
 },
 "nbformat": 4,
 "nbformat_minor": 5
}
