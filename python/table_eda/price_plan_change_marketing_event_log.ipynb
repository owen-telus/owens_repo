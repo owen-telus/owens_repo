{
 "cells": [
  {
   "cell_type": "code",
   "execution_count": null,
   "id": "91ea4567-d6fe-41e6-a6a1-0367bbf6269c",
   "metadata": {},
   "outputs": [],
   "source": [
    "import pandas as pd\n",
    "import numpy as np\n",
    "import plotly.express as px"
   ]
  },
  {
   "cell_type": "code",
   "execution_count": null,
   "id": "1b31804e-f588-4100-b37c-ec831a204d45",
   "metadata": {},
   "outputs": [],
   "source": [
    "%%bigquery dup_event_log_df\n",
    "\n",
    "WITH mob_cust_price_plan_change_ts AS (\n",
    "  SELECT\n",
    "    prod_instnc_ts AS dt,\n",
    "    BAN,\n",
    "    MSISDN,\n",
    "    pp_bus_pp_catlg_itm_cd,\n",
    "    pp_catlg_itm_nm,\n",
    "    pp_recur_chrg_amt,\n",
    "    change_in_pp_recur_chrg_amt,\n",
    "    0 AS marketing_event,\n",
    "    '' AS portfolio,\n",
    "    0 AS CAMPAIGN_NUMBER,\n",
    "    '' AS CONTROL_GROUP,\n",
    "    0 AS DELIVERED,\n",
    "    0 AS OPENED,\n",
    "    0 AS CLICKTHROUGH,\n",
    "    0 AS UNSUBSCRIBE, \n",
    "    0 AS SMS_OPT_OUT,\n",
    "    0 AS CONVERSION,\n",
    "    TIMESTAMP(prod_instnc_ts) AS CONVERSION_DT\n",
    "\n",
    "  FROM `wb-ai-accelerator-1-pr-71edf3.mobility_cust_journey.mob_cust_price_plan_change_ts`\n",
    "),\n",
    "\n",
    "marketing_measurements AS(\n",
    "  SELECT \n",
    "    CAMPAIGN_IN_HOME_DATE AS dt,\n",
    "    BAN, \n",
    "    CAST(SUBSCRIBER_NO  AS STRING) AS MSISDN,\n",
    "    '' AS pp_bus_pp_catlg_itm_cd,\n",
    "    '' AS pp_catlg_itm_nm,\n",
    "    0 AS pp_recur_chrg_amt,\n",
    "    0 AS change_in_pp_recur_chrg_amt,\n",
    "    1 AS marketing_event,\n",
    "    'DUP' AS portfolio,\n",
    "    CAMPAIGN_NUMBER,\n",
    "    CONTROL_GROUP,\n",
    "    DELIVERED,\n",
    "    OPENED,\n",
    "    CLICKTHROUGH,\n",
    "    UNSUBSCRIBE,\n",
    "    SMS_OPT_OUT,\n",
    "    CONVERSION,\n",
    "    CONVERSION_DT\n",
    "  FROM `wb-ai-accelerator-1-pr-71edf3.measurements_data.epdmadm_dup_multi_new_ref`    \n",
    ")\n",
    "\n",
    "SELECT \n",
    "  * \n",
    "FROM mob_cust_price_plan_change_ts \n",
    "WHERE MSISDN != '0'\n",
    "UNION ALL \n",
    "SELECT \n",
    "  * \n",
    "FROM marketing_measurements"
   ]
  },
  {
   "cell_type": "markdown",
   "id": "6ec2b06b-03bf-478c-8989-683a0568bd4b",
   "metadata": {},
   "source": [
    "Data is from 2022 to present"
   ]
  },
  {
   "cell_type": "markdown",
   "id": "2d809e90-4a7f-4d6a-b05d-5ee1cb388fce",
   "metadata": {},
   "source": [
    "To avoid pennies, we will round change_in_pp_Recur_chrg_amt to nearest dollar"
   ]
  },
  {
   "cell_type": "code",
   "execution_count": null,
   "id": "1eff01a3-b3d0-4476-ae4e-3842a4007a0a",
   "metadata": {},
   "outputs": [],
   "source": [
    "dup_event_log_df.change_in_pp_recur_chrg_amt=np.round(dup_event_log_df.change_in_pp_recur_chrg_amt, decimals=0)"
   ]
  },
  {
   "cell_type": "code",
   "execution_count": null,
   "id": "35824d44-05bd-40ec-a35a-564359816efc",
   "metadata": {},
   "outputs": [],
   "source": [
    "dup_event_log_df.head()"
   ]
  },
  {
   "cell_type": "markdown",
   "id": "d16ec1c5-0c9c-4436-bda7-846b08015522",
   "metadata": {},
   "source": [
    "Get number of changes "
   ]
  },
  {
   "cell_type": "code",
   "execution_count": null,
   "id": "96e28f75-cc98-4266-8b1d-9ad96429848b",
   "metadata": {},
   "outputs": [],
   "source": [
    "dup_event_log_df.loc[dup_event_log_df.marketing_event == 0].MSISDN.nunique()"
   ]
  },
  {
   "cell_type": "code",
   "execution_count": null,
   "id": "62cae2c0-2dce-4975-aefa-85559c89276c",
   "metadata": {},
   "outputs": [],
   "source": [
    "num_changes_by_msisdn = dup_event_log_df.loc[dup_event_log_df.marketing_event == 0].MSISDN.value_counts()"
   ]
  },
  {
   "cell_type": "code",
   "execution_count": null,
   "id": "9d7c61b0-b93d-4a8e-b4e5-008638be4038",
   "metadata": {},
   "outputs": [],
   "source": [
    "num_changes_by_msisdn = pd.DataFrame(num_changes_by_msisdn).reset_index().rename(columns={'MSISDN' : 'count_price_plan_changes', 'index' : 'MSISDN'})"
   ]
  },
  {
   "cell_type": "code",
   "execution_count": null,
   "id": "7e7d4879-78f6-4d8e-b3ca-3c3925d3c84e",
   "metadata": {},
   "outputs": [],
   "source": [
    "num_changes_by_msisdn"
   ]
  },
  {
   "cell_type": "code",
   "execution_count": null,
   "id": "5159586e-a1cf-4957-a3e6-6dabad2ab089",
   "metadata": {},
   "outputs": [],
   "source": [
    "num_changes_by_msisdn.loc[num_changes_by_msisdn.count_price_plan_changes==1].shape"
   ]
  },
  {
   "cell_type": "markdown",
   "id": "8925b9b0-eff6-436c-b27e-c294a0988ee2",
   "metadata": {},
   "source": [
    "Number of changes including original price. So subtracting 1, amongst the people that did change there price plan, they changed on average 1.4 times"
   ]
  },
  {
   "cell_type": "code",
   "execution_count": null,
   "id": "6b3d7b95-41c2-4328-aa4d-0af1bff2cfc9",
   "metadata": {},
   "outputs": [],
   "source": [
    "num_changes_by_msisdn.loc[num_changes_by_msisdn.count_price_plan_changes!=1].describe()"
   ]
  },
  {
   "cell_type": "markdown",
   "id": "1d2c7234-35a9-4d43-a557-4e4f2ecbdd8e",
   "metadata": {},
   "source": [
    "Amongst the people that changed their price plan. Lets see the delta"
   ]
  },
  {
   "cell_type": "code",
   "execution_count": null,
   "id": "030d8c76-8806-4c78-a345-47d7dc841240",
   "metadata": {},
   "outputs": [],
   "source": [
    "price_plan_change_delta = dup_event_log_df.loc[(dup_event_log_df.marketing_event == 0) & \n",
    "                                               (dup_event_log_df.MSISDN.isin(num_changes_by_msisdn.loc[num_changes_by_msisdn.count_price_plan_changes!=1].MSISDN)) &\n",
    "                                               (dup_event_log_df.change_in_pp_recur_chrg_amt!=0)].change_in_pp_recur_chrg_amt.value_counts()"
   ]
  },
  {
   "cell_type": "code",
   "execution_count": null,
   "id": "2efc5bde-c199-499f-922c-35e00007cde8",
   "metadata": {},
   "outputs": [],
   "source": [
    "price_plan_change_delta = pd.DataFrame(price_plan_change_delta).reset_index().rename(columns={'index' : 'change_in_pp_recur_chrg_amt', 'change_in_pp_recur_chrg_amt' : 'count'})\n"
   ]
  },
  {
   "cell_type": "code",
   "execution_count": null,
   "id": "b95dd465-3fa0-4915-a335-bd5970effa67",
   "metadata": {},
   "outputs": [],
   "source": [
    "price_plan_change_delta.sort_values(by='change_in_pp_recur_chrg_amt', ascending=True)"
   ]
  },
  {
   "cell_type": "code",
   "execution_count": null,
   "id": "f57852bd-f1bc-4d40-83df-4de871fb90d3",
   "metadata": {},
   "outputs": [],
   "source": [
    "price_plan_change_delta.sort_values(by='count', ascending=False)"
   ]
  },
  {
   "cell_type": "markdown",
   "id": "00505657-31bc-4936-ade3-5c2077150109",
   "metadata": {},
   "source": [
    "Plotting the count vs change in pp recur chrg amt"
   ]
  },
  {
   "cell_type": "code",
   "execution_count": null,
   "id": "a6f9a20d-c316-49fe-9848-3ead0e87c800",
   "metadata": {},
   "outputs": [],
   "source": [
    "fig = px.line(price_plan_change_delta.sort_values(by='change_in_pp_recur_chrg_amt', ascending=True), x='change_in_pp_recur_chrg_amt', y='count')\n",
    "fig.show()            "
   ]
  },
  {
   "cell_type": "code",
   "execution_count": null,
   "id": "16094501-4aab-4559-a8f4-0af4a70dd13e",
   "metadata": {},
   "outputs": [],
   "source": [
    "dup_event_log_df.loc[dup_event_log_df.MSISDN.isin(dup_event_log_df.loc[(dup_event_log_df.change_in_pp_recur_chrg_amt <= -50) & (dup_event_log_df.pp_recur_chrg_amt!=0)].MSISDN.unique())].sort_values(by=['BAN', 'dt'])"
   ]
  },
  {
   "cell_type": "code",
   "execution_count": null,
   "id": "522fca83-bb31-4d09-bce1-5008a361cc50",
   "metadata": {},
   "outputs": [],
   "source": [
    "dup_event_log_df.loc[dup_event_log_df.MSISDN=='6139144658'].sort_values(by='dt', ascending=True)"
   ]
  },
  {
   "cell_type": "code",
   "execution_count": null,
   "id": "697b70a9-39b5-403b-8bea-97f3a6dd6f7a",
   "metadata": {},
   "outputs": [],
   "source": [
    "dup_event_log_df.loc[dup_event_log_df.MSISDN=='4032820108'].sort_values(by='dt', ascending=True)"
   ]
  },
  {
   "cell_type": "code",
   "execution_count": null,
   "id": "59dc3d53-7e63-47a9-9e8e-0112e26f9b40",
   "metadata": {},
   "outputs": [],
   "source": [
    "dup_event_log_df.loc[(dup_event_log_df.change_in_pp_recur_chrg_amt <= -50) & (dup_event_log_df.pp_recur_chrg_amt!=0)]"
   ]
  },
  {
   "cell_type": "markdown",
   "id": "5f9d296c-444c-486d-b5df-a5e1f7dda502",
   "metadata": {},
   "source": [
    "## Marketing Impact"
   ]
  },
  {
   "cell_type": "code",
   "execution_count": null,
   "id": "86f1a45b-fad9-4bcd-8d86-8304cc5057b3",
   "metadata": {},
   "outputs": [],
   "source": [
    "dup_event_log_df.loc[(dup_event_log_df.marketing_event==1) & (dup_event_log_df.CONVERSION==1)]"
   ]
  },
  {
   "cell_type": "code",
   "execution_count": null,
   "id": "98aaacd3-9c2a-493f-b8bd-93718ca97950",
   "metadata": {},
   "outputs": [],
   "source": [
    "dup_event_log_df.loc[dup_event_log_df.MSISDN=='4038192963'].sort_values(by='dt', ascending=True)"
   ]
  },
  {
   "cell_type": "code",
   "execution_count": null,
   "id": "94b4cd64-c6c7-4ee5-8e65-6ee6bd27750c",
   "metadata": {},
   "outputs": [],
   "source": [
    "dup_event_log_df.loc[(dup_event_log_df.marketing_event==1) & (dup_event_log_df.UNSUBSCRIBE==1)]"
   ]
  },
  {
   "cell_type": "code",
   "execution_count": null,
   "id": "26729f4b-3c61-4ec3-8868-8e1cd9114aab",
   "metadata": {},
   "outputs": [],
   "source": [
    "dup_event_log_df.loc[dup_event_log_df.MSISDN=='4182913503'].sort_values(by='dt', ascending=True)"
   ]
  },
  {
   "cell_type": "code",
   "execution_count": null,
   "id": "d61825b4-d24d-45c9-a908-4da9b35de1d2",
   "metadata": {},
   "outputs": [],
   "source": [
    "%%bigquery unsub_dup_df\n",
    "\n",
    "\n",
    "WITH unsubscribe_msisdn_date AS (\n",
    "SELECT  \n",
    "  BAN,\n",
    "  MSISDN,\n",
    "  MAX(dt) AS unsub_date\n",
    "FROM `wb-ai-accelerator-1-pr-71edf3.mobility_cust_journey.post_mob_cust_price_plan_change_dup_event_ts` \n",
    "WHERE UNSUBSCRIBE = 1\n",
    "GROUP BY BAN, MSISDN\n",
    ")\n",
    "\n",
    "SELECT \n",
    "  A.*  \n",
    "FROM `wb-ai-accelerator-1-pr-71edf3.mobility_cust_journey.post_mob_cust_price_plan_change_dup_event_ts` A \n",
    "INNER JOIN unsubscribe_msisdn_date B \n",
    "ON A.BAN = B.BAN AND A.MSISDN = B.MSISDN \n",
    "WHERE \n",
    "  A.dt >= B.unsub_date\n",
    "  AND A.marketing_event = 0 -- natural price plan changes only \n",
    "  AND A.pp_recur_chrg_amt != 0 -- I believe when pp_recur_chrg_amt becomes 0, it basically means they stopped their plan\n",
    "ORDER BY BAN, MSISDN, dt \n"
   ]
  },
  {
   "cell_type": "code",
   "execution_count": null,
   "id": "e6667227-4b8a-4f3d-9b6c-e0f572172921",
   "metadata": {},
   "outputs": [],
   "source": [
    "unsub_dup_df.change_in_pp_recur_chrg_amt.describe()"
   ]
  },
  {
   "cell_type": "code",
   "execution_count": null,
   "id": "9c0f4c46-f70d-49d1-a3ab-c65b95c1f1ab",
   "metadata": {},
   "outputs": [],
   "source": [
    "%%bigquery converted_dup_df\n",
    "\n",
    "WITH unsubscribe_msisdn AS (\n",
    "SELECT  \n",
    "  distinct MSISDN as unsub_msisdn,\n",
    "FROM `wb-ai-accelerator-1-pr-71edf3.mobility_cust_journey.mob_cust_price_plan_change_dup_event_ts` \n",
    "WHERE UNSUBSCRIBE = 1\n",
    "\n",
    "),\n",
    "\n",
    "customers_with_conversion AS (\n",
    "  SELECT \n",
    "    distinct MSISDN as converted_msisdn\n",
    "  FROM `wb-ai-accelerator-1-pr-71edf3.mobility_cust_journey.mob_cust_price_plan_change_dup_event_ts` \n",
    "  WHERE CONVERSION = 1 AND MSISDN NOT IN (SELECT unsub_msisdn FROM unsubscribe_msisdn)\n",
    "\n",
    ")\n",
    "\n",
    "SELECT\n",
    "  A.*\n",
    "FROM `wb-ai-accelerator-1-pr-71edf3.mobility_cust_journey.mob_cust_price_plan_change_dup_event_ts` A \n",
    "WHERE\n",
    "  A.marketing_event = 0 \n",
    "  AND A.pp_recur_chrg_amt != 0 \n",
    "  AND A.MSISDN IN (SELECT converted_msisdn FROM customers_with_conversion)"
   ]
  },
  {
   "cell_type": "code",
   "execution_count": null,
   "id": "c98c332e-e371-4fc1-92be-46feb49bfec2",
   "metadata": {},
   "outputs": [],
   "source": [
    "converted_dup_df.change_in_pp_recur_chrg_amt.describe()"
   ]
  },
  {
   "cell_type": "code",
   "execution_count": null,
   "id": "961d7300-0f9b-478c-ba07-52fb5c95e122",
   "metadata": {},
   "outputs": [],
   "source": [
    "%%bigquery converted_dup_df_2\n",
    "\n",
    "WITH unsubscribe_msisdn AS (\n",
    "SELECT  \n",
    "  distinct MSISDN as unsub_msisdn,\n",
    "FROM `wb-ai-accelerator-1-pr-71edf3.mobility_cust_journey.post_mob_cust_price_plan_change_dup_event_ts` \n",
    "WHERE UNSUBSCRIBE = 1\n",
    "\n",
    "),\n",
    "\n",
    "customers_with_conversion AS (\n",
    "  SELECT \n",
    "    BAN,\n",
    "    MSISDN,\n",
    "    MAX(dt) AS convert_date\n",
    "  FROM `wb-ai-accelerator-1-pr-71edf3.mobility_cust_journey.post_mob_cust_price_plan_change_dup_event_ts` \n",
    "  WHERE CONVERSION = 1 AND MSISDN NOT IN (SELECT unsub_msisdn FROM unsubscribe_msisdn)\n",
    "  GROUP BY BAN, MSISDN\n",
    ")\n",
    "\n",
    "SELECT\n",
    "  A.*\n",
    "FROM `wb-ai-accelerator-1-pr-71edf3.mobility_cust_journey.post_mob_cust_price_plan_change_dup_event_ts` A \n",
    "INNER JOIN customers_with_conversion B\n",
    "ON A.BAN = B.BAN AND A.MSISDN = B.MSISDN\n",
    "WHERE\n",
    "  A.dt >= B.convert_date AND \n",
    "  A.marketing_event = 0 \n",
    "  AND A.pp_recur_chrg_amt != 0 \n",
    "  \n",
    "  "
   ]
  },
  {
   "cell_type": "code",
   "execution_count": null,
   "id": "fdbb85f8-2f9c-4e89-a7f8-47aa20667e91",
   "metadata": {},
   "outputs": [],
   "source": [
    "converted_dup_df_2.change_in_pp_recur_chrg_amt.describe()"
   ]
  },
  {
   "cell_type": "code",
   "execution_count": null,
   "id": "b46575cc-7c28-4094-9837-94ee1384d278",
   "metadata": {},
   "outputs": [],
   "source": []
  }
 ],
 "metadata": {
  "kernelspec": {
   "display_name": "Python 3 (ipykernel)",
   "language": "python",
   "name": "python3"
  },
  "language_info": {
   "codemirror_mode": {
    "name": "ipython",
    "version": 3
   },
   "file_extension": ".py",
   "mimetype": "text/x-python",
   "name": "python",
   "nbconvert_exporter": "python",
   "pygments_lexer": "ipython3",
   "version": "3.7.12"
  }
 },
 "nbformat": 4,
 "nbformat_minor": 5
}
