{
 "cells": [
  {
   "cell_type": "code",
   "execution_count": null,
   "id": "b8b931ab-c062-474a-b381-d6b18d5d2910",
   "metadata": {},
   "outputs": [],
   "source": [
    "import pandas as pd\n",
    "import numpy as np\n",
    "\n",
    "pd.options.display.max_columns = 100"
   ]
  },
  {
   "cell_type": "code",
   "execution_count": null,
   "id": "3cf0b89d-feb9-4c05-a36b-61c6414eeb0d",
   "metadata": {},
   "outputs": [],
   "source": [
    "%%bigquery df\n",
    "\n",
    "SELECT \n",
    "  A.*\n",
    "FROM `cio-datahub-enterprise-pr-183a.ent_cust_intractn.bq_prospect_journey_events` A \n",
    "INNER JOIN `wb-ai-accelerator-1-pr-71edf3.measurements_data.epdmadm_dup_multi_new_ref`  B  \n",
    "ON A.bus_bacct_num = B.BAN \n",
    "WHERE \n",
    "  A.event_ts > '2022-12-01'\n",
    "  AND B.CAMPAIGN_IN_HOME_DATE > '2022-12-01'\n",
    "  --AND B.CONVERSION=1 AND B.OPENED=1\n",
    "  ORDER BY bus_bacct_num, event_ts ASC "
   ]
  },
  {
   "cell_type": "code",
   "execution_count": null,
   "id": "2338daa0-623c-4c91-a5b2-052dcd531ca9",
   "metadata": {},
   "outputs": [],
   "source": [
    "%%bigquery dup_df \n",
    "\n",
    "SELECT * FROM `wb-ai-accelerator-1-pr-71edf3.measurements_data.epdmadm_dup_multi_new_ref` \n",
    "WHERE CONVERSION=1 AND OPENED=1 AND CAMPAIGN_IN_HOME_DATE > '2022-12-01'\n",
    "--ORDER BY CAMPAIGN_IN_HOME_DATE D"
   ]
  },
  {
   "cell_type": "code",
   "execution_count": null,
   "id": "4b77245d-0988-434b-9eb3-31d9f83a882d",
   "metadata": {},
   "outputs": [],
   "source": [
    "%%bigquery df2\n",
    "\n",
    "\n",
    "SELECT \n",
    "  A.*\n",
    "FROM `cio-datahub-enterprise-pr-183a.ent_cust_intractn.bq_cust_journey_chnl_event` A \n",
    "INNER JOIN `wb-ai-accelerator-1-pr-71edf3.measurements_data.epdmadm_dup_multi_new_ref`  B  \n",
    "ON A.bus_bacct_num = B.BAN \n",
    "WHERE \n",
    "  A.intractn_event_ts > '2022-12-01'\n",
    "  AND B.CAMPAIGN_IN_HOME_DATE > '2022-12-01'\n",
    "  --AND B.CONVERSION=1 AND B.OPENED=1\n",
    "  ORDER BY bus_bacct_num, intractn_event_ts ASC \n"
   ]
  },
  {
   "cell_type": "code",
   "execution_count": null,
   "id": "5e41119f-7bb5-41b5-9077-5c93522957d0",
   "metadata": {},
   "outputs": [],
   "source": [
    "df2.intractn_event_nm.unique()"
   ]
  },
  {
   "cell_type": "code",
   "execution_count": null,
   "id": "33369aa7-e2f2-4990-922f-b53c7be25d60",
   "metadata": {},
   "outputs": [],
   "source": [
    "df2.groupby(['intractn_event_category_nm'])[['bus_bacct_num']].count()"
   ]
  },
  {
   "cell_type": "code",
   "execution_count": null,
   "id": "8f314259-e43b-4188-9f15-07ae85db793d",
   "metadata": {},
   "outputs": [],
   "source": [
    "df.groupby(['intractn_event_catgy_nm', 'intractn_event_nm'])[['bus_bacct_num']].count()"
   ]
  },
  {
   "cell_type": "code",
   "execution_count": null,
   "id": "adcdadf2-e565-4467-a21c-3f303e12ac27",
   "metadata": {},
   "outputs": [],
   "source": [
    "dup_df.BAN.nunique()"
   ]
  },
  {
   "cell_type": "code",
   "execution_count": null,
   "id": "a448ad86-4093-4bc0-b85b-378d86278b3a",
   "metadata": {},
   "outputs": [],
   "source": [
    "df.bus_bacct_num.nunique()"
   ]
  },
  {
   "cell_type": "code",
   "execution_count": null,
   "id": "3aea6d0c-17dd-420a-ab53-8caec10c0cf4",
   "metadata": {},
   "outputs": [],
   "source": [
    "df.dtypes"
   ]
  },
  {
   "cell_type": "code",
   "execution_count": null,
   "id": "9b73555b-1ae6-42be-bcea-a6de86db6fc0",
   "metadata": {},
   "outputs": [],
   "source": [
    "dup_df.MEDIA_TYPE.value_counts()"
   ]
  },
  {
   "cell_type": "code",
   "execution_count": null,
   "id": "29d7ccb3-69b7-4c01-81f1-8372df22fe8c",
   "metadata": {},
   "outputs": [],
   "source": [
    "df.loc[df.intractn_event_nm=='converted'].bus_bacct_num.value_counts()"
   ]
  },
  {
   "cell_type": "code",
   "execution_count": null,
   "id": "01240779-5dcc-4fb6-b3ae-8a249eaca1c5",
   "metadata": {},
   "outputs": [],
   "source": [
    "df.loc[df.bus_bacct_num.isin(df.loc[df.intractn_event_nm=='converted'].bus_bacct_num.unique())].groupby(['intractn_event_catgy_nm', 'intractn_event_nm'])[['bus_bacct_num']].count()"
   ]
  },
  {
   "cell_type": "code",
   "execution_count": null,
   "id": "43bfb337-4e17-4b58-a513-50287184e5a2",
   "metadata": {},
   "outputs": [],
   "source": [
    "df.loc[df.intractn_event_nm=='converted'].bus_bacct_num.nunique()"
   ]
  },
  {
   "cell_type": "code",
   "execution_count": null,
   "id": "bd3f1788-e236-4b81-b1f7-fd3f8b04534d",
   "metadata": {},
   "outputs": [],
   "source": [
    "df.loc[(df.bus_bacct_num.isin(df.loc[df.intractn_event_nm=='converted'].bus_bacct_num.unique())) & (df.intractn_event_catgy_nm=='email campaign')].sort_values(by=['bus_bacct_num', 'event_ts'])"
   ]
  },
  {
   "cell_type": "code",
   "execution_count": null,
   "id": "418bb052-c66f-4472-b988-66d7ba094024",
   "metadata": {},
   "outputs": [],
   "source": [
    "df.loc[df.bus_bacct_num==40286357.000000000].sort_values(by='event_ts')"
   ]
  },
  {
   "cell_type": "code",
   "execution_count": null,
   "id": "f7c61995-8500-4cb0-9cdf-aba405e25761",
   "metadata": {},
   "outputs": [],
   "source": []
  }
 ],
 "metadata": {
  "kernelspec": {
   "display_name": "Python 3 (ipykernel)",
   "language": "python",
   "name": "python3"
  },
  "language_info": {
   "codemirror_mode": {
    "name": "ipython",
    "version": 3
   },
   "file_extension": ".py",
   "mimetype": "text/x-python",
   "name": "python",
   "nbconvert_exporter": "python",
   "pygments_lexer": "ipython3",
   "version": "3.7.12"
  }
 },
 "nbformat": 4,
 "nbformat_minor": 5
}
