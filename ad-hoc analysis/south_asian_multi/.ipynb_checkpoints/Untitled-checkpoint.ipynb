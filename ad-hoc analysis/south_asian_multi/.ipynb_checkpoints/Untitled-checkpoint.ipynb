{
 "cells": [
  {
   "cell_type": "code",
   "execution_count": null,
   "id": "c2debfdc-1234-43af-a1e3-4d3217660e02",
   "metadata": {},
   "outputs": [],
   "source": [
    "import pandas as pd \n",
    "import numpy as np\n",
    "pd.options.display.max_columns = None\n",
    "pd.options.display.max_rows = None"
   ]
  },
  {
   "cell_type": "code",
   "execution_count": null,
   "id": "2cf0ffa4-5d35-4745-a155-45d238d4cde1",
   "metadata": {},
   "outputs": [],
   "source": [
    "df=pd.read_csv('south_asian_2022.csv')"
   ]
  },
  {
   "cell_type": "code",
   "execution_count": null,
   "id": "001d9da4-9b1a-4fbf-ad72-4b2164553b90",
   "metadata": {},
   "outputs": [],
   "source": [
    "df"
   ]
  },
  {
   "cell_type": "code",
   "execution_count": null,
   "id": "a6621e5b-9105-44a5-aa79-6bdbec3e3020",
   "metadata": {},
   "outputs": [],
   "source": [
    "%%bigquery names_df\n",
    "\n",
    "SELECT\n",
    "BILLING_ACCOUNT_NUMBER,\n",
    "PROD_INSTNC_RESRC_STR AS msisdn,\n",
    "CUST_FIRST_NM,\n",
    "CUST_LAST_NM,\n",
    "CUST_FULL_NM\n",
    "FROM `cto-wln-sa-data-pr-bb5283.ref_table.bq_hpbi_product_instance_profl`"
   ]
  },
  {
   "cell_type": "code",
   "execution_count": null,
   "id": "9bb72975-0314-480e-ba67-48521e55658b",
   "metadata": {},
   "outputs": [],
   "source": [
    "df.msisdn = df.msisdn.astype(str)"
   ]
  },
  {
   "cell_type": "code",
   "execution_count": null,
   "id": "2c3f81c2-84cf-4492-98ae-7ae23f4b0685",
   "metadata": {},
   "outputs": [],
   "source": [
    "merged_df = pd.merge(df, names_df, how='left', on=['BILLING_ACCOUNT_NUMBER', 'msisdn'])"
   ]
  },
  {
   "cell_type": "code",
   "execution_count": null,
   "id": "3c078cfd-6ba3-486f-9dff-7c5ba42d8788",
   "metadata": {},
   "outputs": [],
   "source": [
    "merged_df.to_csv('south_asian_2022_.csv', index=False)"
   ]
  },
  {
   "cell_type": "code",
   "execution_count": null,
   "id": "b4ed342e-d079-4292-80f0-708cfa0ca09f",
   "metadata": {},
   "outputs": [],
   "source": [
    "merged_df=pd.read_csv('south_asian_2022_.csv')"
   ]
  },
  {
   "cell_type": "code",
   "execution_count": null,
   "id": "3f789e9c-4977-41bc-9589-0a56da27e871",
   "metadata": {},
   "outputs": [],
   "source": [
    "merged_df.to_csv('test.csv')"
   ]
  },
  {
   "cell_type": "code",
   "execution_count": null,
   "id": "b671c7c8-a558-4176-a808-9844b169d5b6",
   "metadata": {},
   "outputs": [],
   "source": [
    "list(merged_df.loc[merged_df.List_type=='AI_ONLY'].CUST_LAST_NM.unique())"
   ]
  },
  {
   "cell_type": "code",
   "execution_count": null,
   "id": "dbd18aa9-69a1-432a-bc6f-1cbb00e390f1",
   "metadata": {},
   "outputs": [],
   "source": []
  }
 ],
 "metadata": {
  "kernelspec": {
   "display_name": "Python 3 (ipykernel)",
   "language": "python",
   "name": "python3"
  },
  "language_info": {
   "codemirror_mode": {
    "name": "ipython",
    "version": 3
   },
   "file_extension": ".py",
   "mimetype": "text/x-python",
   "name": "python",
   "nbconvert_exporter": "python",
   "pygments_lexer": "ipython3",
   "version": "3.7.12"
  }
 },
 "nbformat": 4,
 "nbformat_minor": 5
}
