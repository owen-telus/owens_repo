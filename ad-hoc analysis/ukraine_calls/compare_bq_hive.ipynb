{
 "cells": [
  {
   "cell_type": "code",
   "execution_count": null,
   "id": "fe50ee95-6b64-48a4-b535-2ec317cf3459",
   "metadata": {},
   "outputs": [],
   "source": [
    "import pandas as pd\n",
    "from datetime import datetime\n",
    "pd.options.display.max_columns = 100"
   ]
  },
  {
   "cell_type": "code",
   "execution_count": null,
   "id": "2d444ea7-ade2-4e1d-8db1-b1df80810da3",
   "metadata": {},
   "outputs": [],
   "source": [
    "%%bigquery bq_df\n",
    "SELECT\n",
    "  chnl_szr_dt AS CALL_DATE,\n",
    "  ban AS BAN,\n",
    "  subscr_num AS SUBSCRIBER_NUM,\n",
    "  call_to_tn_txt AS CALL_TO_TN,\n",
    "  call_to_city_desc_str AS CALL_TO_CITY,\n",
    "FROM `cio-datahub-enterprise-pr-183a.ent_usage_rated.bq_wls_ptpd_unbilld_dly_call_usg_evnt_dtl` \n",
    "WHERE chnl_szr_dt >= '2022-06-28'\n",
    "AND (\n",
    "       UPPER(call_to_city_desc_str) LIKE 'UKRAINE%'\n",
    "    OR UPPER(call_to_city_desc_str) LIKE 'BELARUS%'\n",
    "    OR UPPER(call_to_city_desc_str) LIKE 'HUNGARY%'\n",
    "    OR UPPER(call_to_city_desc_str) LIKE 'MOLDOVA%'\n",
    "    OR UPPER(call_to_city_desc_str) LIKE 'POLAND%'\n",
    "    OR UPPER(call_to_city_desc_str) LIKE 'ROMANIA%'\n",
    "    OR UPPER(call_to_city_desc_str) LIKE 'SLOVAK%'\n",
    "    OR UPPER(call_to_city_desc_str) LIKE 'RUSSIA%'\n",
    ")\n",
    "ORDER BY chnl_szr_dt"
   ]
  },
  {
   "cell_type": "code",
   "execution_count": null,
   "id": "94024a73-eb62-49b2-9926-5d906cb16e33",
   "metadata": {},
   "outputs": [],
   "source": [
    "hive_df = pd.read_csv('data/july_25_2022_wireless_calls.csv')"
   ]
  },
  {
   "cell_type": "code",
   "execution_count": null,
   "id": "12b5d5f8-e946-4489-9ead-c5ebfb5018ec",
   "metadata": {},
   "outputs": [],
   "source": [
    "print(hive_df.call_date.min(), hive_df.call_date.max())"
   ]
  },
  {
   "cell_type": "code",
   "execution_count": null,
   "id": "98c62623-5d8d-4a47-8369-7a3e9f855fce",
   "metadata": {},
   "outputs": [],
   "source": [
    "print(bq_df.CALL_DATE.min(), bq_df.CALL_DATE.max())"
   ]
  },
  {
   "cell_type": "code",
   "execution_count": null,
   "id": "5df8b1ca-c764-4c55-b2e5-9b0550a3a20b",
   "metadata": {},
   "outputs": [],
   "source": [
    "bq_df['date']=bq_df.CALL_DATE.apply(lambda x: x.date())\n",
    "hive_df['date']=hive_df.call_date.apply(lambda x: x.split(' ')[0])"
   ]
  },
  {
   "cell_type": "code",
   "execution_count": null,
   "id": "87889253-1a86-4d0d-8991-92e7d4abadcb",
   "metadata": {},
   "outputs": [],
   "source": [
    "hive_df.groupby('date').count()[['ban']].transpose()"
   ]
  },
  {
   "cell_type": "code",
   "execution_count": null,
   "id": "8ea0ddb8-39fb-4d57-9bfe-a03fbd768847",
   "metadata": {},
   "outputs": [],
   "source": [
    "bq_df.groupby('date').count()[['BAN']].transpose()"
   ]
  },
  {
   "cell_type": "code",
   "execution_count": null,
   "id": "b2ea4f9c-9d31-4833-8a46-6aa811420ce2",
   "metadata": {},
   "outputs": [],
   "source": [
    "%%bigquery wireless_df_new\n",
    "SELECT\n",
    "  chnl_szr_dt AS CALL_DATE,\n",
    "  ban AS BAN,\n",
    "  subscr_num AS SUBSCRIBER_NUM,\n",
    "  call_to_tn_txt AS CALL_TO_TN,\n",
    "  call_to_city_desc_str AS CALL_TO_CITY,\n",
    "FROM `cio-datahub-enterprise-pr-183a.ent_usage_rated.bq_wls_ptpd_unbilld_dly_call_usg_evnt_dtl` \n",
    "WHERE chnl_szr_dt >= '2022-01-28'\n",
    "AND (\n",
    "       UPPER(call_to_city_desc_str) LIKE 'UKRAINE%'\n",
    "    OR UPPER(call_to_city_desc_str) LIKE 'BELARUS%'\n",
    "    OR UPPER(call_to_city_desc_str) LIKE 'HUNGARY%'\n",
    "    OR UPPER(call_to_city_desc_str) LIKE 'MOLDOVA%'\n",
    "    OR UPPER(call_to_city_desc_str) LIKE 'POLAND%'\n",
    "    OR UPPER(call_to_city_desc_str) LIKE 'ROMANIA%'\n",
    "    OR UPPER(call_to_city_desc_str) LIKE 'SLOVAK%'\n",
    "    OR UPPER(call_to_city_desc_str) LIKE 'RUSSIA%'\n",
    ")\n",
    "ORDER BY chnl_szr_dt"
   ]
  },
  {
   "cell_type": "code",
   "execution_count": null,
   "id": "325ff5d2-f1ac-49ae-bf25-71d0119ea28b",
   "metadata": {},
   "outputs": [],
   "source": [
    "wireless_df_new"
   ]
  },
  {
   "cell_type": "code",
   "execution_count": null,
   "id": "734b9e3b-78c9-4302-8e49-bba1f26df005",
   "metadata": {},
   "outputs": [],
   "source": [
    "wireless_df_new=wireless_df_new.drop_duplicates(subset=['SUBSCRIBER_NUM', 'CALL_DATE']).reset_index(drop=True)"
   ]
  },
  {
   "cell_type": "code",
   "execution_count": null,
   "id": "67c91d1f-0f2c-4a16-bc4c-97f68bd12728",
   "metadata": {},
   "outputs": [],
   "source": [
    "wireless_df_new.shape"
   ]
  },
  {
   "cell_type": "code",
   "execution_count": null,
   "id": "1818f203-512e-4416-abec-311796cf8cdf",
   "metadata": {},
   "outputs": [],
   "source": [
    "wireless_df_new['CALL_DATE']=wireless_df_new.CALL_DATE.apply(lambda x: x.date())\n",
    "wireless_df_new['CALL_DATE']=pd.to_datetime(wireless_df_new['CALL_DATE'])"
   ]
  },
  {
   "cell_type": "code",
   "execution_count": null,
   "id": "88c1e6ec-ad0b-45b8-a1b2-fee436bc8481",
   "metadata": {},
   "outputs": [],
   "source": [
    "wireless_df=wireless_df_new.copy()\n",
    "wireless_df['call_to_city_list'] = wireless_df.CALL_TO_CITY.str.split(' ')\n",
    "# wireless_df['call_date']=wireless_df['call_date'].apply(lambda x: str(x).split(' ')[0])\n",
    "# wireless_df['call_date']=pd.to_datetime(wireless_df['call_date'])\n",
    "wireless_df_2=wireless_df.explode('call_to_city_list')\n",
    "countries_list = ['UKRAINE', 'BELARUS', 'HUNGARY', 'MOLDOVA', 'POLAND', 'ROMANIA', 'SLOVAKIA', 'RUSSIA']\n",
    "wireless_df_3=wireless_df_2[wireless_df_2.call_to_city_list.isin(countries_list)].reset_index(drop=True)"
   ]
  },
  {
   "cell_type": "code",
   "execution_count": null,
   "id": "4de5b688-b6a5-43a8-bcf9-c47e4639c6d4",
   "metadata": {},
   "outputs": [],
   "source": [
    "wireless_df_3"
   ]
  },
  {
   "cell_type": "code",
   "execution_count": null,
   "id": "10cc9aa4-df8a-4e3d-8a28-9da2b251e258",
   "metadata": {},
   "outputs": [],
   "source": [
    "wireless_df_3.loc[(wireless_df_3.CALL_DATE>'2022-07-01') & (wireless_df_3.CALL_TO_CITY=='UKRAINE')].SUBSCRIBER_NUM.nunique()"
   ]
  },
  {
   "cell_type": "code",
   "execution_count": null,
   "id": "2c014ed7-8609-41c1-b205-26e2c214ae67",
   "metadata": {},
   "outputs": [],
   "source": []
  }
 ],
 "metadata": {
  "kernelspec": {
   "display_name": "Python 3 (ipykernel)",
   "language": "python",
   "name": "python3"
  },
  "language_info": {
   "codemirror_mode": {
    "name": "ipython",
    "version": 3
   },
   "file_extension": ".py",
   "mimetype": "text/x-python",
   "name": "python",
   "nbconvert_exporter": "python",
   "pygments_lexer": "ipython3",
   "version": "3.7.12"
  }
 },
 "nbformat": 4,
 "nbformat_minor": 5
}
