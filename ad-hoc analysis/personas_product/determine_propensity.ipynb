{
 "cells": [
  {
   "cell_type": "code",
   "execution_count": null,
   "id": "4d87f919-66b0-491f-8561-910abb846863",
   "metadata": {},
   "outputs": [],
   "source": [
    "import pandas as pd\n",
    "import numpy as np\n",
    "import plotly \n",
    "import seaborn as sns"
   ]
  },
  {
   "cell_type": "markdown",
   "id": "110c0d47-cdcb-4d6b-abe6-e8c6f55ac449",
   "metadata": {},
   "source": [
    "## EDA on app usage weekly agg on IMSI Level"
   ]
  },
  {
   "cell_type": "code",
   "execution_count": null,
   "id": "bc9ff1a9-3048-49f6-a58d-ac48c6f8b8a0",
   "metadata": {},
   "outputs": [],
   "source": [
    "%%bigquery weekly_usage_df\n",
    "\n",
    "SELECT * FROM `cto-wln-sa-data-pr-bb5283.customer_personas_features.imsi_app_usage_trends_weekly_ts`"
   ]
  },
  {
   "cell_type": "code",
   "execution_count": null,
   "id": "c15ac028-6380-4939-8d1c-cbbd21df5b0c",
   "metadata": {},
   "outputs": [],
   "source": [
    "weekly_usage_df"
   ]
  },
  {
   "cell_type": "code",
   "execution_count": null,
   "id": "29e2c0af-7c5b-440f-9bf9-fe2fc39e49aa",
   "metadata": {},
   "outputs": [],
   "source": [
    "%%bigquery usage_summary_df\n",
    "\n",
    "SELECT * FROM `cto-wln-sa-data-pr-bb5283.customer_personas_features.imsi_app_usage_trends_agg_ts`"
   ]
  },
  {
   "cell_type": "code",
   "execution_count": null,
   "id": "e9c8348b-2e93-47a5-9d21-01d98d89f2e4",
   "metadata": {},
   "outputs": [],
   "source": []
  }
 ],
 "metadata": {
  "kernelspec": {
   "display_name": "Python 3 (ipykernel)",
   "language": "python",
   "name": "python3"
  },
  "language_info": {
   "codemirror_mode": {
    "name": "ipython",
    "version": 3
   },
   "file_extension": ".py",
   "mimetype": "text/x-python",
   "name": "python",
   "nbconvert_exporter": "python",
   "pygments_lexer": "ipython3",
   "version": "3.7.12"
  }
 },
 "nbformat": 4,
 "nbformat_minor": 5
}
