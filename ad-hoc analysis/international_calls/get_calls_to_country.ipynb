{
 "cells": [
  {
   "cell_type": "code",
   "execution_count": null,
   "id": "25b570ee-36b2-4390-8691-3a82ae6f9c4a",
   "metadata": {},
   "outputs": [],
   "source": [
    "import pandas as pd\n",
    "import numpy as np\n",
    "\n",
    "from datetime import datetime, timedelta\n",
    "from datetime import date\n",
    "\n",
    "import seaborn as sns \n",
    "import matplotlib.pyplot as plt\n",
    "import matplotlib\n",
    "import sys\n",
    "sys.path.append('/home/jupyter/aaaie-customer-personas/src')\n",
    "\n",
    "from customer_personas.bq_utils import export_dataframe_to_bq, upload_data_to_gcs\n",
    "matplotlib.rcParams['figure.figsize'] = (22, 8)"
   ]
  },
  {
   "cell_type": "markdown",
   "id": "6c003516-386f-41cd-84bf-589578c9bcfc",
   "metadata": {},
   "source": [
    "## Get WLN Calls to Country\n",
    "Pakistan"
   ]
  },
  {
   "cell_type": "code",
   "execution_count": null,
   "id": "d274da7d-1802-4b6b-baec-d6ccf3f0b943",
   "metadata": {},
   "outputs": [],
   "source": [
    "%%bigquery wln_calls_to_country_df\n",
    "\n",
    "SELECT\n",
    "    wln_vc_usg_dtl_dt,\n",
    "    cust_id,\n",
    "    billg_acct_id,\n",
    "    billg_srvc_tel_num,\n",
    "    orig_srvc_tel_num,\n",
    "    orig_place_nm,\n",
    "    orig_cntry_nm,\n",
    "    term_cntry_nm,\n",
    "    event_durtn_sec_qty\n",
    "FROM `cio-datahub-enterprise-pr-183a.ent_usage_rated.bq_wln_voice_usg_dtl` \n",
    "WHERE DATE(wln_vc_usg_dtl_dt) > DATE_SUB(CURRENT_DATE(), INTERVAL 3 MONTH)\n",
    "AND UPPER(term_cntry_nm) = 'PAKISTAN' \n",
    "    "
   ]
  },
  {
   "cell_type": "code",
   "execution_count": null,
   "id": "66b20b41-dc1c-4f96-93e2-05e0f56386c9",
   "metadata": {},
   "outputs": [],
   "source": [
    "wln_calls_to_country_df.head()"
   ]
  },
  {
   "cell_type": "code",
   "execution_count": null,
   "id": "6a068849-77fa-4247-b856-e892c28a4e0b",
   "metadata": {},
   "outputs": [],
   "source": [
    "wln_calls_to_country_df.to_csv('pakistan_wln_calls.csv', index=False)"
   ]
  },
  {
   "cell_type": "code",
   "execution_count": null,
   "id": "00a5e415-b28b-46bc-af27-ccee872f9fd3",
   "metadata": {},
   "outputs": [],
   "source": [
    "bi_project_id =  'cto-wln-sa-data-pr-bb5283'\n",
    "bi_bkt_name = 'temp_workspace'\n",
    "upload_data_to_gcs(\n",
    "                    project_id=bi_project_id, \n",
    "                    bucket_name=bi_bkt_name, \n",
    "                    gcs_path='pakistan_wln_calls.csv', \n",
    "                    local_path='pakistan_wln_calls.csv')"
   ]
  },
  {
   "cell_type": "markdown",
   "id": "7d5a05ae-48e2-40ef-817b-c17435326645",
   "metadata": {
    "tags": []
   },
   "source": [
    "### Plot Number of Calls over Time"
   ]
  },
  {
   "cell_type": "code",
   "execution_count": null,
   "id": "1d286e96-73fb-446c-8077-84a73f5bced9",
   "metadata": {},
   "outputs": [],
   "source": [
    "wln_calls_to_country_by_day_df = wln_calls_to_country_df.groupby('wln_vc_usg_dtl_dt')[['cust_id']].count().reset_index().rename(columns={'cust_id' : 'calls', 'wln_vc_usg_dtl_dt' : 'date'})\n",
    "                                                                                                        "
   ]
  },
  {
   "cell_type": "code",
   "execution_count": null,
   "id": "00ad2e6b-4872-46e7-971d-2dd8fd4bced9",
   "metadata": {},
   "outputs": [],
   "source": [
    "wln_calls_to_country_df['month']=wln_calls_to_country_df['wln_vc_usg_dtl_dt'].dt.to_period('M')"
   ]
  },
  {
   "cell_type": "markdown",
   "id": "9b4787b6-fd3c-466d-ae05-978007d35667",
   "metadata": {},
   "source": [
    "Wireline Number of Unique Customers calling to Pakistan"
   ]
  },
  {
   "cell_type": "code",
   "execution_count": null,
   "id": "0118caeb-8de7-4e2c-a317-877087e8baad",
   "metadata": {},
   "outputs": [],
   "source": [
    "wln_calls_to_country_df.groupby('month')[['cust_id']].nunique().reset_index().rename(columns={'cust_id' : 'wln_customers'})"
   ]
  },
  {
   "cell_type": "markdown",
   "id": "d60678ba-8b74-4ccf-b142-8bc9246113a2",
   "metadata": {},
   "source": [
    "Wireline Number of Calls to Pakistan"
   ]
  },
  {
   "cell_type": "code",
   "execution_count": null,
   "id": "d5ebc2d2-b8b6-4d4b-a24e-b1703eb146c5",
   "metadata": {},
   "outputs": [],
   "source": [
    "wln_calls_to_country_df.groupby('month')[['cust_id']].count().reset_index().rename(columns={'cust_id' : 'wln_calls'})"
   ]
  },
  {
   "cell_type": "code",
   "execution_count": null,
   "id": "a6bf59b0-f130-4775-bc23-a60f76d39c1d",
   "metadata": {},
   "outputs": [],
   "source": [
    "str(wln_calls_to_country_by_day_df.iloc[0, 0]).split(' ')[0]"
   ]
  },
  {
   "cell_type": "code",
   "execution_count": null,
   "id": "6ccbac91-565c-47a9-8ddb-b585a10f3199",
   "metadata": {},
   "outputs": [],
   "source": [
    "str(wln_calls_to_country_by_day_df.iloc[-2, 0]).split(' ')[0]"
   ]
  },
  {
   "cell_type": "code",
   "execution_count": null,
   "id": "4b52b6ee-597c-4827-83a5-bcb8f6e1fd38",
   "metadata": {},
   "outputs": [],
   "source": [
    "plt.clf()\n",
    "plt.subplot(1,2,1)\n",
    "sns.lineplot(data=wln_calls_to_country_by_day_df.iloc[:-1, :], x='date', y='calls')\n",
    "plt.ylabel('Number of Calls')\n",
    "plt.xlabel('Date')\n",
    "plt.xticks(rotation = 45)\n",
    "plt.title('Total Number of Wireline calls to Pakistan From {date_1} to {date_2}'.format(date_1 =str(wln_calls_to_country_by_day_df.iloc[0, 0]).split(' ')[0], date_2=str(wln_calls_to_country_by_day_df.iloc[-2, 0]).split(' ')[0]))"
   ]
  },
  {
   "cell_type": "markdown",
   "id": "d326db1f-3c3b-4d15-9713-57c1c71d2265",
   "metadata": {},
   "source": [
    "## Get Unbilled WLS Calls to Country\n",
    "Pakistan"
   ]
  },
  {
   "cell_type": "code",
   "execution_count": null,
   "id": "5fb4d1e0-1237-4c42-9ff7-6e3c530dd44d",
   "metadata": {},
   "outputs": [],
   "source": [
    "%%bigquery wls_calls_to_country_df\n",
    "\n",
    "SELECT\n",
    "    chnl_szr_ts AS date,\n",
    "    ban,\n",
    "    subscr_num,\n",
    "    call_to_city_desc,\n",
    "    airtime_dur_sec,\n",
    "    hm_pmn_id,\n",
    "    srvc_pmn_id,\n",
    "    \n",
    "FROM `cio-datahub-enterprise-pr-183a.ent_usage_rated.bq_wls_ptpd_unbilld_dly_call_usg_evnt_dtl`\n",
    "WHERE DATE(chnl_szr_ts) >  DATE_SUB(CURRENT_DATE(), INTERVAL 3 MONTH)\n",
    "AND UPPER(call_to_city_desc) LIKE \"%PAKISTAN%\"\n"
   ]
  },
  {
   "cell_type": "code",
   "execution_count": null,
   "id": "acc2e7a6-c449-4cba-8e44-9e7107ce8fa9",
   "metadata": {},
   "outputs": [],
   "source": [
    "wls_calls_to_country_df.hm_pmn_id.unique()"
   ]
  },
  {
   "cell_type": "code",
   "execution_count": null,
   "id": "1aaa9d0f-c0c0-4f8a-86c9-07b3fe952180",
   "metadata": {},
   "outputs": [],
   "source": [
    "wls_calls_to_country_df.srvc_pmn_id.unique()"
   ]
  },
  {
   "cell_type": "code",
   "execution_count": null,
   "id": "5dafbd6b-b845-48f0-80c8-2edb116f4156",
   "metadata": {},
   "outputs": [],
   "source": [
    "wls_calls_to_country_df.head()"
   ]
  },
  {
   "cell_type": "code",
   "execution_count": null,
   "id": "c5417d99-7754-44f0-8f65-9517f31d8665",
   "metadata": {},
   "outputs": [],
   "source": [
    "wls_calls_to_country_df.to_csv('pakistan_wls_calls.csv', index=False)"
   ]
  },
  {
   "cell_type": "code",
   "execution_count": null,
   "id": "1b3e7e93-c8ca-4103-8a35-1a4ed387efcb",
   "metadata": {},
   "outputs": [],
   "source": [
    "bi_project_id =  'cto-wln-sa-data-pr-bb5283'\n",
    "bi_bkt_name = 'temp_workspace'\n",
    "upload_data_to_gcs(\n",
    "                    project_id=bi_project_id, \n",
    "                    bucket_name=bi_bkt_name, \n",
    "                    gcs_path='pakistan_wls_calls.csv', \n",
    "                    local_path='pakistan_wls_calls.csv')"
   ]
  },
  {
   "cell_type": "code",
   "execution_count": null,
   "id": "16e14c5a-d20d-4a9e-90af-e66d60e6a316",
   "metadata": {},
   "outputs": [],
   "source": [
    "wls_calls_to_country_df.head()"
   ]
  },
  {
   "cell_type": "code",
   "execution_count": null,
   "id": "a72ab6ab-8cf4-4a61-bad7-eb8a57cfeee6",
   "metadata": {},
   "outputs": [],
   "source": [
    "wls_calls_to_country_df['month']=wls_calls_to_country_df['date'].dt.to_period('M')"
   ]
  },
  {
   "cell_type": "code",
   "execution_count": null,
   "id": "1d89cdc6-af6d-43f3-9dba-04f9f6fe8cc3",
   "metadata": {},
   "outputs": [],
   "source": [
    "wls_calls_to_country_df.groupby('month')[['subscr_num']].nunique().reset_index().rename(columns={'subscr_num' : 'wls_customers'})"
   ]
  },
  {
   "cell_type": "code",
   "execution_count": null,
   "id": "a409f852-42d1-4f5f-8b89-60c9255329bb",
   "metadata": {},
   "outputs": [],
   "source": [
    "wls_calls_to_country_df.groupby('month')[['subscr_num']].count().reset_index().rename(columns={'subscr_num' : 'wls_calls'})"
   ]
  },
  {
   "cell_type": "code",
   "execution_count": null,
   "id": "6201eb31-ac54-4129-b3e3-311d4f1707e0",
   "metadata": {},
   "outputs": [],
   "source": [
    "wls_calls_to_country_df['call_date'] =wls_calls_to_country_df['date'].apply(lambda x : x.date())"
   ]
  },
  {
   "cell_type": "code",
   "execution_count": null,
   "id": "a455061d-6b26-4a2d-8979-ea5cb69a9831",
   "metadata": {},
   "outputs": [],
   "source": [
    "wls_calls_to_country_by_day_df = wls_calls_to_country_df.groupby('call_date')[['subscr_num']].count().reset_index().rename(columns={'subscr_num' : 'calls', 'call_date' : 'date'})\n",
    "                                                                                                        "
   ]
  },
  {
   "cell_type": "code",
   "execution_count": null,
   "id": "38b3f626-f81e-4400-af66-9c495f19197c",
   "metadata": {},
   "outputs": [],
   "source": [
    "wls_calls_to_country_by_day_df"
   ]
  },
  {
   "cell_type": "code",
   "execution_count": null,
   "id": "6f77c1b6-8a69-40a7-8177-4d934f10cd1a",
   "metadata": {},
   "outputs": [],
   "source": [
    "plt.clf()\n",
    "plt.subplot(1,2,1)\n",
    "sns.lineplot(data=wls_calls_to_country_by_day_df.iloc[:-1, :], x='date', y='calls')\n",
    "plt.ylabel('Number of Calls')\n",
    "plt.xlabel('Date')\n",
    "plt.xticks(rotation = 45)\n",
    "plt.title('Total Number of Wireless calls to Pakistan From {date_1} to {date_2}'.format(date_1 =str(wls_calls_to_country_by_day_df.iloc[0, 0]).split(' ')[0], date_2=str(wls_calls_to_country_by_day_df.iloc[-2, 0]).split(' ')[0]))"
   ]
  },
  {
   "cell_type": "markdown",
   "id": "14e5c6e6-7b55-4344-a5c3-d75020b92347",
   "metadata": {},
   "source": [
    "## Customers currently roaming and in Pakistan"
   ]
  },
  {
   "cell_type": "code",
   "execution_count": null,
   "id": "43ee0973-16a9-4320-97c6-2dde24bdcff5",
   "metadata": {},
   "outputs": [],
   "source": [
    "%%bigquery roamers_df\n",
    "\n",
    "with sms_df as \n",
    " (\n",
    "     SELECT \n",
    "      usg_subscr_ph_num as usage_subscriber_phone_num,\n",
    "      CURRENT_DATE(),\n",
    "      date(sms_data_dtl_start_ts) as usage_date,\n",
    "      'sms' AS usage_type,\n",
    "      itu_mbl_cntry_cd,\n",
    "      count(billg_acct_num) as total_counts,\n",
    "      sum(actl_units_qty) as usage_qty\n",
    "\n",
    " FROM\n",
    "   `cio-datahub-enterprise-pr-183a.ent_usage_rated.bq_wls_sms_data_dtl` A\n",
    "\n",
    " WHERE\n",
    "     DATE(sms_data_dtl_start_ts) > date_sub(CURRENT_DATE(),INTERVAL 90 DAY) \n",
    "     and itu_mbl_cntry_cd = '410' -- Country Code for Pakistan 410\n",
    "  group by 1,2,3,4,5\n",
    "\n",
    "   )\n",
    ", intrnet_usage as \n",
    "(\n",
    "  SELECT \n",
    "    \n",
    "    usg_subscr_ph_num as usage_subscriber_phone_num,\n",
    "    CURRENT_DATE(),\n",
    "    date(inet_data_dtl_start_ts) as usage_date,\n",
    "    'data' AS usage_type,\n",
    "    itu_mbl_cntry_cd,\n",
    "    count(billg_acct_num) as total_counts,\n",
    "    -- IF (itu_mbl_cntry_cd = '302', False, True) as roaming_usage_flag,\n",
    "    sum(actl_units_qty) as usage_qty\n",
    "\n",
    "\n",
    " FROM\n",
    "    `cio-datahub-enterprise-pr-183a.ent_usage_rated.bq_wls_inet_srvc_prov_data_dtl` A\n",
    "WHERE\n",
    "   (DATE(A.inet_data_dtl_start_ts) > date_sub(CURRENT_DATE(),INTERVAL 90 DAY))\n",
    "   and A.itu_mbl_cntry_cd = '410'\n",
    "  \n",
    "  group by 1,2,3,4,5\n",
    "  -- having actl_units_qty > 0\n",
    "  order by 1,2,3,4\n",
    " \n",
    "  \n",
    "),\n",
    "voice_df as  (\n",
    "    SELECT \n",
    "      \n",
    "      subscr_num as usage_subscriber_phone_num,\n",
    "      CURRENT_DATE(),\n",
    "      date(chnl_szr_ts) as usage_date,\n",
    "      'voice' AS usage_type,\n",
    "      srvc_pmn_id,\n",
    "      count(*) as total_counts,\n",
    "      count(*) as usage_qty\n",
    "    FROM\n",
    "      `cio-datahub-enterprise-pr-183a.ent_usage_rated.bq_wls_ptpd_billd_dly_call_usg_evnt_dtl` A\n",
    "\n",
    "    WHERE\n",
    "    \n",
    "        DATE(chnl_szr_ts) > date_sub(CURRENT_DATE(),INTERVAL 90 DAY) \n",
    "        and srvc_pmn_id like '%PAK%'\n",
    "        \n",
    "      group by 1,2,3,4,5\n",
    "      \n",
    ")\n",
    "\n",
    ", combined_df as \n",
    " (\n",
    "\n",
    "  select * from sms_df\n",
    "  union distinct\n",
    "  select * from intrnet_usage\n",
    "  Union distinct\n",
    "  Select * from voice_df\n",
    ")\n",
    "    \n",
    "SELECT * FROM combined_df    "
   ]
  },
  {
   "cell_type": "code",
   "execution_count": null,
   "id": "7fdbeb18-ec4a-4965-88be-1474dc3d0950",
   "metadata": {},
   "outputs": [],
   "source": [
    "roamers_df.usage_subscriber_phone_num.nunique()"
   ]
  },
  {
   "cell_type": "code",
   "execution_count": null,
   "id": "516accaf-5845-422e-8a5b-316e6391310d",
   "metadata": {},
   "outputs": [],
   "source": [
    "roamers_df['month'] = pd.to_datetime(roamers_df['usage_date']).dt.to_period('M')"
   ]
  },
  {
   "cell_type": "code",
   "execution_count": null,
   "id": "c0f85ef2-313e-403b-89ac-2bfe2323ba69",
   "metadata": {},
   "outputs": [],
   "source": [
    "roamers_df.groupby('month')[['usage_subscriber_phone_num']].nunique()"
   ]
  },
  {
   "cell_type": "code",
   "execution_count": null,
   "id": "3f21c8c8-9f37-4bd8-9e05-bda08902be5c",
   "metadata": {},
   "outputs": [],
   "source": []
  }
 ],
 "metadata": {
  "kernelspec": {
   "display_name": "Python 3 (ipykernel)",
   "language": "python",
   "name": "python3"
  },
  "language_info": {
   "codemirror_mode": {
    "name": "ipython",
    "version": 3
   },
   "file_extension": ".py",
   "mimetype": "text/x-python",
   "name": "python",
   "nbconvert_exporter": "python",
   "pygments_lexer": "ipython3",
   "version": "3.7.12"
  }
 },
 "nbformat": 4,
 "nbformat_minor": 5
}
