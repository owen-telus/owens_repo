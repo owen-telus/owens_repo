{
 "cells": [
  {
   "cell_type": "code",
   "execution_count": null,
   "id": "25b570ee-36b2-4390-8691-3a82ae6f9c4a",
   "metadata": {},
   "outputs": [],
   "source": [
    "import pandas as pd\n",
    "import numpy as np\n",
    "\n",
    "from datetime import datetime, timedelta\n",
    "from datetime import date\n",
    "\n",
    "import seaborn as sns \n",
    "import matplotlib.pyplot as plt\n",
    "import matplotlib\n",
    "\n",
    "matplotlib.rcParams['figure.figsize'] = (22, 8)"
   ]
  },
  {
   "cell_type": "markdown",
   "id": "6c003516-386f-41cd-84bf-589578c9bcfc",
   "metadata": {},
   "source": [
    "## Get WLN Calls to Country\n",
    "Pakistan"
   ]
  },
  {
   "cell_type": "code",
   "execution_count": null,
   "id": "d274da7d-1802-4b6b-baec-d6ccf3f0b943",
   "metadata": {},
   "outputs": [],
   "source": [
    "%%bigquery wln_calls_to_country_df\n",
    "\n",
    "SELECT\n",
    "    wln_vc_usg_dtl_dt,\n",
    "    cust_id,\n",
    "    billg_acct_id,\n",
    "    billg_srvc_tel_num,\n",
    "    orig_srvc_tel_num,\n",
    "    orig_place_nm,\n",
    "    orig_cntry_nm,\n",
    "    term_cntry_nm,\n",
    "    event_durtn_sec_qty\n",
    "FROM `cio-datahub-enterprise-pr-183a.ent_usage_rated.bq_wln_voice_usg_dtl` \n",
    "WHERE DATE(wln_vc_usg_dtl_dt) > \"2022-06-02\"\n",
    "AND UPPER(term_cntry_nm) = 'PAKISTAN'\n",
    "    "
   ]
  },
  {
   "cell_type": "code",
   "execution_count": null,
   "id": "66b20b41-dc1c-4f96-93e2-05e0f56386c9",
   "metadata": {},
   "outputs": [],
   "source": [
    "wln_calls_to_country_df"
   ]
  },
  {
   "cell_type": "code",
   "execution_count": null,
   "id": "6a068849-77fa-4247-b856-e892c28a4e0b",
   "metadata": {},
   "outputs": [],
   "source": []
  }
 ],
 "metadata": {
  "kernelspec": {
   "display_name": "Python 3 (ipykernel)",
   "language": "python",
   "name": "python3"
  },
  "language_info": {
   "codemirror_mode": {
    "name": "ipython",
    "version": 3
   },
   "file_extension": ".py",
   "mimetype": "text/x-python",
   "name": "python",
   "nbconvert_exporter": "python",
   "pygments_lexer": "ipython3",
   "version": "3.7.12"
  }
 },
 "nbformat": 4,
 "nbformat_minor": 5
}
