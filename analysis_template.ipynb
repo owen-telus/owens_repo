{
 "cells": [
  {
   "cell_type": "code",
   "execution_count": null,
   "id": "6bb951b9-8356-447b-9a25-b30db84e2120",
   "metadata": {},
   "outputs": [],
   "source": [
    "import pandas as pd\n",
    "import numpy as np\n",
    "from datetime import datetime\n",
    "pd.options.display.max_columns = 100\n",
    "from google.cloud import bigquery\n",
    "from datetime import datetime\n",
    "from datetime import date, timedelta\n",
    "import sys\n",
    "sys.path.append('/home/jupyter/aaaie-customer-personas/src')\n",
    "\n",
    "from customer_personas.bq_utils import export_dataframe_to_bq, upload_data_to_gcs\n",
    "from customer_personas.plotters import plot_model_coefficients, plot_distributions\n",
    "from customer_personas.bq_utils import download_data, upload_data\n",
    "\n",
    "from customer_personas.propensity import return_propensity_score_gowers_distance\n",
    "from customer_personas.bq_utils import export_dataframe_to_bq, upload_data_to_gcs\n",
    "from sklearn import preprocessing\n",
    "\n",
    "from customer_personas.bq_utils import download_data, upload_data\n",
    "\n",
    "import joblib\n",
    "\n",
    "import matplotlib.pyplot as plt\n",
    "import seaborn as sns\n",
    "\n",
    "from pycaret.classification import * \n",
    "import math"
   ]
  },
  {
   "cell_type": "code",
   "execution_count": null,
   "id": "d13264db-9b95-44c8-8642-a5784190b694",
   "metadata": {},
   "outputs": [],
   "source": [
    "wln_project_id =  'cto-wln-sa-data-pr-bb5283'\n"
   ]
  },
  {
   "cell_type": "code",
   "execution_count": null,
   "id": "70a0e404-b7d6-47b9-9fc2-f288c889feba",
   "metadata": {},
   "outputs": [],
   "source": []
  }
 ],
 "metadata": {
  "kernelspec": {
   "display_name": "Python 3 (ipykernel)",
   "language": "python",
   "name": "python3"
  },
  "language_info": {
   "codemirror_mode": {
    "name": "ipython",
    "version": 3
   },
   "file_extension": ".py",
   "mimetype": "text/x-python",
   "name": "python",
   "nbconvert_exporter": "python",
   "pygments_lexer": "ipython3",
   "version": "3.7.12"
  }
 },
 "nbformat": 4,
 "nbformat_minor": 5
}
