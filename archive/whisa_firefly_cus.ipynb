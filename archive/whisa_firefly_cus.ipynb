{
 "cells": [
  {
   "cell_type": "code",
   "execution_count": null,
   "id": "197d2c49-3506-46f6-a1a8-0073293eff0a",
   "metadata": {},
   "outputs": [],
   "source": [
    "import pandas as pd\n",
    "import numpy as np"
   ]
  },
  {
   "cell_type": "markdown",
   "id": "3950f312-9ac7-4b9d-88d1-5bb738838384",
   "metadata": {
    "tags": []
   },
   "source": [
    "### Get TAC of smartphone devices"
   ]
  },
  {
   "cell_type": "code",
   "execution_count": null,
   "id": "756dd793-2966-423a-ac0c-d22704840fd0",
   "metadata": {},
   "outputs": [],
   "source": [
    "%%bigquery device_df\n",
    "SELECT \n",
    "    A.tac_id,\n",
    "    A.type_txt Dvc_Name,\n",
    "    A.proj_id,\n",
    "    A.proj_char_id,\n",
    "    A.techno_txt,\n",
    "    A.market_typ,\n",
    "    A.feature_txt,\n",
    "    A.years_since_launch, \n",
    "    A.ta_dt, \n",
    "    A.platform_txt,\n",
    "    A.gsm_gprs_edge_bands_supported_txt,\n",
    "    A.umts_bands_supported_txt,\n",
    "    A.dual_carr_bands_supported_txt, \n",
    "    A.lte_bands_supported_txt, \n",
    "    A.volte_dvc_ind,\n",
    "    A.volte_ind,\n",
    "    A.dvc_typ\n",
    "\n",
    "FROM  \n",
    "    `cto-wln-sa-data-pr-bb5283.ref_table.bq_exttable_hive_tac_device_type` A"
   ]
  },
  {
   "cell_type": "code",
   "execution_count": null,
   "id": "cb96a9a6-9f5c-434f-98de-982826e90cb5",
   "metadata": {},
   "outputs": [],
   "source": [
    "device_df.head(1)"
   ]
  },
  {
   "cell_type": "code",
   "execution_count": null,
   "id": "16bf2579-b1fb-4884-942e-47d1a870fe0a",
   "metadata": {},
   "outputs": [],
   "source": [
    "device_df.dvc_typ.value_counts(dropna=False)"
   ]
  },
  {
   "cell_type": "code",
   "execution_count": null,
   "id": "b1ab7eed-e720-4792-a38d-a82ef7482bef",
   "metadata": {},
   "outputs": [],
   "source": [
    "dvc = device_df.copy()\n",
    "dvc = dvc.sort_values(by=['tac_id','proj_char_id']).drop_duplicates('tac_id',keep='last') "
   ]
  },
  {
   "cell_type": "code",
   "execution_count": null,
   "id": "3ab3e84c-4f26-47e6-861d-f44d11379500",
   "metadata": {},
   "outputs": [],
   "source": [
    "dvc['VoLTE_Capable'] = 'Non-VoLTE'\n",
    "dvc.loc[(dvc['market_typ'] == 'Grey Market') & \n",
    "        (dvc['techno_txt'].str.contains(\"VOLTE: Supported\",case=False)),'VoLTE_Capable'] = 'VoLTE' # Grey Market\n",
    "dvc.loc[dvc['volte_ind'] == 'Supported','VoLTE_Capable'] = 'VoLTE' # TELUS\n",
    "dvc.loc[dvc['volte_ind'] == 'Supported in Future MR','VoLTE_Capable'] = 'Non-VoLTE For TELUS' # TELUS\n",
    "dvc[dvc['VoLTE_Capable'] == 'VoLTE'].tac_id.nunique()"
   ]
  },
  {
   "cell_type": "code",
   "execution_count": null,
   "id": "91df8652-9d77-4dd6-9946-cd35e80bae48",
   "metadata": {},
   "outputs": [],
   "source": [
    "dvc.volte_ind.value_counts(dropna=False)"
   ]
  },
  {
   "cell_type": "code",
   "execution_count": null,
   "id": "6e462eea-7b05-4e2a-b7f5-a62281be6371",
   "metadata": {},
   "outputs": [],
   "source": [
    "dvc.VoLTE_Capable.value_counts(dropna=False)"
   ]
  },
  {
   "cell_type": "code",
   "execution_count": null,
   "id": "5c9fd82e-df0d-4ac1-9dfe-198e2629cfcb",
   "metadata": {},
   "outputs": [],
   "source": [
    "ids = dvc[\"tac_id\"]\n",
    "dvc[ids.isin(ids[ids.duplicated()])].sort_values(\"tac_id\")"
   ]
  },
  {
   "cell_type": "code",
   "execution_count": null,
   "id": "be3ff0ec-4a3d-46f4-a761-564e37c35904",
   "metadata": {},
   "outputs": [],
   "source": [
    "dvc['Device_TypeG']= dvc['techno_txt'].str.split('\\+\\+\\+').str[0]\n",
    "dvc['Device_Type']= dvc['dvc_typ'].where(dvc['market_typ'] != 'Grey Market', dvc['Device_TypeG'])\n",
    "\n",
    "# Smarthub TACs\n",
    "## more than this ... but aren't using smarthubs for now\n",
    "# contact Shahzeb if needed for TACs\n",
    "tac_s=['86605301','86633903','86242503','86432902','86459603','99000896','86886302']\n",
    "# Create Device_Group\n",
    "dvc_grp= {      \n",
    "'Handset' : 'Smartphone',\n",
    "'Portable(include PDA)' : 'Connected Devices',\n",
    "'Modem'\t : 'Dongle',\n",
    "'Module' : \t'Dongle',\n",
    "'Tablet' : \t'Connected Devices',\n",
    "'Connected Computer' : 'Connected Devices',\n",
    "'Smartphone' : 'Smartphone',\n",
    "'Notebook' : 'Connected Devices',\n",
    "'SmartHub' : 'Smarthub',\n",
    "'Smarthub' : 'Smarthub',\n",
    "'Specialty' : 'Dongle',\n",
    "'Handheld' : 'Connected Devices',\n",
    "'WLAN Router' : 'Connected Devices',\n",
    "'Dongle' : 'Dongle',\n",
    "'Smartwatch' : 'Connected Devices',\n",
    "'WHP' : 'Connected Devices',\n",
    "'IoT Device' : 'Connected Devices - IoT',\n",
    "'Mobile PhoneFeature phone' : 'Smartphone',\n",
    "'Vehicle' : 'Connected Devices - Vehicle'\n",
    "}\n",
    "dvc['Device_Type'] = np.where(dvc.tac_id.isin(tac_s), 'Smarthub', dvc.Device_Type )\n",
    "dvc['Device_Group'] = dvc['Device_Type'].map(dvc_grp) "
   ]
  },
  {
   "cell_type": "code",
   "execution_count": null,
   "id": "a282c7cf-63a8-4bab-b241-c2f832ca622f",
   "metadata": {},
   "outputs": [],
   "source": [
    "dvc['Device_Group'].value_counts(dropna=False)"
   ]
  },
  {
   "cell_type": "code",
   "execution_count": null,
   "id": "039a4782-c45d-42f7-8a8f-27f426581930",
   "metadata": {},
   "outputs": [],
   "source": [
    "smartphone_tac_ids = dvc.loc[dvc.Device_Group=='Smartphone'][['tac_id']].reset_index(drop=True)"
   ]
  },
  {
   "cell_type": "code",
   "execution_count": null,
   "id": "2ea06c71-7836-465c-a111-a8c3b32ee1e3",
   "metadata": {},
   "outputs": [],
   "source": [
    "dvc.loc[dvc.Device_Group=='Smartphone']"
   ]
  },
  {
   "cell_type": "markdown",
   "id": "437e3b55-cc88-4c80-9644-f029be9e384d",
   "metadata": {},
   "source": [
    "### Get usage data for whsia customers"
   ]
  },
  {
   "cell_type": "code",
   "execution_count": null,
   "id": "da4a2980-e9c9-4614-a180-727b326456fe",
   "metadata": {},
   "outputs": [],
   "source": [
    "%%bigquery df\n",
    "\n",
    "-- Get streaming app usage for whsia customers\n",
    "-- Avg usage for past 3 months\n",
    "\n",
    "WITH whsia_usage AS (\n",
    "  SELECT \n",
    "    imsi_num,\n",
    "    event_dt,\n",
    "    EXTRACT(MONTH FROM event_dt) as MONTH,\n",
    "    EXTRACT(YEAR FROM event_dt) as YEAR,\n",
    "    dl_volume_qty/1000000.0 as dl_mb,\n",
    "    ul_volume_qty/1000000.0 as ul_mb,\n",
    "  FROM `cio-datahub-enterprise-pr-183a.ent_usage_unrated_ott.bq_ott_app_event`\n",
    "  WHERE \n",
    "    -- SOC Codes of WHSIA customers\n",
    "    imsi_num IN (SELECT CAST(IMSI as STRING) as IMSI \n",
    "                FROM `cto-wln-sa-data-pr-bb5283.ref_table.bq_hpbi_product_instance_wls` \n",
    "                WHERE PRIM_PRICE_PLAN_CD IN (SELECT whsia_soc FROM `cto-wln-sa-data-pr-bb5283.ref_table.bq_whsia_soc_codes`)\n",
    "              )\n",
    "    AND\n",
    "    app_nm in ('apple adaptive http video', 'discovery','netflix video', 'amazon video', 'disney plus', 'crave' ,'paramount'  )\n",
    "    \n",
    "), \n",
    "\n",
    "-- Total Monthly usage by imsi\n",
    "total_monthly_usage AS (\n",
    "  SELECT\n",
    "    imsi_num,\n",
    "    YEAR,\n",
    "    MONTH,\n",
    "    ROUND(SUM(dl_mb)) AS total_dl_mb_monthly,\n",
    "    ROUND(SUM(ul_mb)) AS total_ul_mb_monthly\n",
    "  FROM\n",
    "    whsia_usage\n",
    "  GROUP BY \n",
    "    imsi_num, YEAR, MONTH\n",
    "\n",
    ")\n",
    "\n",
    "-- Average Monthly Usage\n",
    "SELECT \n",
    "  imsi_num,\n",
    "  AVG(total_dl_mb_monthly) as avg_monthly_dl_mb,\n",
    "  AVG(total_ul_mb_monthly) as avg_monthly_ul_mb\n",
    "FROM total_monthly_usage\n",
    "GROUP BY imsi_num"
   ]
  },
  {
   "cell_type": "code",
   "execution_count": null,
   "id": "4035a6f3-96fd-4303-a5e0-fb69e5583631",
   "metadata": {},
   "outputs": [],
   "source": [
    "df.shape"
   ]
  },
  {
   "cell_type": "code",
   "execution_count": null,
   "id": "853cb511-faa6-471d-b8f1-715bea146f99",
   "metadata": {},
   "outputs": [],
   "source": [
    "%%bigquery whsia_total_usage_df\n",
    "\n",
    "-- Get total app data usage for whsia customers\n",
    "-- Avg usage for past 3 months\n",
    "\n",
    "WITH whsia_usage AS (\n",
    "  SELECT \n",
    "    imsi_num,\n",
    "    event_dt,\n",
    "    EXTRACT(MONTH FROM event_dt) as MONTH,\n",
    "    EXTRACT(YEAR FROM event_dt) as YEAR,\n",
    "    dl_volume_qty/1000000.0 as dl_mb,\n",
    "    ul_volume_qty/1000000.0 as ul_mb,\n",
    "  FROM `cio-datahub-enterprise-pr-183a.ent_usage_unrated_ott.bq_ott_app_event`\n",
    "  WHERE \n",
    "    -- SOC Codes of WHSIA customers\n",
    "    imsi_num IN (SELECT CAST(IMSI as STRING) as IMSI \n",
    "                FROM `cto-wln-sa-data-pr-bb5283.ref_table.bq_hpbi_product_instance_wls` \n",
    "                WHERE PRIM_PRICE_PLAN_CD IN (SELECT whsia_soc FROM `cto-wln-sa-data-pr-bb5283.ref_table.bq_whsia_soc_codes`)\n",
    "              )\n",
    "\n",
    "    \n",
    "), \n",
    "\n",
    "-- Total Monthly usage by imsi\n",
    "total_monthly_usage AS (\n",
    "  SELECT\n",
    "    imsi_num,\n",
    "    YEAR,\n",
    "    MONTH,\n",
    "    ROUND(SUM(dl_mb)) AS total_dl_mb_monthly,\n",
    "    ROUND(SUM(ul_mb)) AS total_ul_mb_monthly\n",
    "  FROM\n",
    "    whsia_usage\n",
    "  GROUP BY \n",
    "    imsi_num, YEAR, MONTH\n",
    "\n",
    ")\n",
    "\n",
    "-- Average Monthly Usage\n",
    "SELECT \n",
    "  imsi_num,\n",
    "  AVG(total_dl_mb_monthly) as avg_monthly_dl_mb,\n",
    "  AVG(total_ul_mb_monthly) as avg_monthly_ul_mb\n",
    "FROM total_monthly_usage\n",
    "GROUP BY imsi_num"
   ]
  },
  {
   "cell_type": "markdown",
   "id": "099e5ab0-188f-4471-a903-417cc935a3a8",
   "metadata": {},
   "source": [
    "### whsia customers"
   ]
  },
  {
   "cell_type": "code",
   "execution_count": null,
   "id": "94feba2b-b2c1-4823-b3c5-d835ddd54733",
   "metadata": {},
   "outputs": [],
   "source": [
    "%%bigquery whsia_cust_df\n",
    "-- WHSIA Customers\n",
    "WITH WHSIA_BAN AS (\n",
    "\n",
    "SELECT BILLING_ACCOUNT_NUMBER\n",
    "FROM `cto-wln-sa-data-pr-bb5283.ref_table.bq_hpbi_product_instance_wls` \n",
    "WHERE PRIM_PRICE_PLAN_CD IN (SELECT whsia_soc FROM `cto-wln-sa-data-pr-bb5283.ref_table.bq_whsia_soc_codes`) \n",
    "\n",
    ")\n",
    "\n",
    "SELECT \n",
    "  A.BILLING_ACCOUNT_NUMBER,\n",
    "  A.MSISDN,\n",
    "  CAST(A.IMSI AS STRING) AS IMSI,\n",
    "  A.PRIM_PRICE_PLAN_TXT,\n",
    "  A.DEVICE_PROD_EQUIP_TXT,\n",
    "  CAST(A.TAC_ID AS STRING) AS TAC_ID\n",
    "FROM `cto-wln-sa-data-pr-bb5283.ref_table.bq_hpbi_product_instance_wls` A \n",
    "INNER JOIN WHSIA_BAN B \n",
    "ON A.BILLING_ACCOUNT_NUMBER = B.BILLING_ACCOUNT_NUMBER \n",
    "ORDER BY A.BILLING_ACCOUNT_NUMBER"
   ]
  },
  {
   "cell_type": "code",
   "execution_count": null,
   "id": "ce41a872-6f87-42a7-84fe-6c69923f719d",
   "metadata": {},
   "outputs": [],
   "source": [
    "whsia_cust_df.BILLING_ACCOUNT_NUMBER.nunique()"
   ]
  },
  {
   "cell_type": "code",
   "execution_count": null,
   "id": "866de028-31b5-4619-a666-2706dffce148",
   "metadata": {},
   "outputs": [],
   "source": [
    "whsia_cust_df.loc[whsia_cust_df.BILLING_ACCOUNT_NUMBER==218]"
   ]
  },
  {
   "cell_type": "code",
   "execution_count": null,
   "id": "b7c740b9-93f9-49bd-b3b2-03c7ff49596d",
   "metadata": {},
   "outputs": [],
   "source": [
    "whsia_cust_df['has_telus_cell_phone_plan']=0"
   ]
  },
  {
   "cell_type": "code",
   "execution_count": null,
   "id": "810de718-0d24-457a-8ca6-218b54d481ae",
   "metadata": {},
   "outputs": [],
   "source": [
    "whsia_cust_df.loc[whsia_cust_df.TAC_ID.isin(smartphone_tac_ids.tac_id), 'has_telus_cell_phone_plan'] = 1"
   ]
  },
  {
   "cell_type": "code",
   "execution_count": null,
   "id": "5e680585-aa02-42d3-ae27-2b3138e1b0d7",
   "metadata": {},
   "outputs": [],
   "source": [
    "cust_with_phone_plan = whsia_cust_df.groupby(['BILLING_ACCOUNT_NUMBER']).sum().reset_index()[['BILLING_ACCOUNT_NUMBER', 'has_telus_cell_phone_plan']]"
   ]
  },
  {
   "cell_type": "markdown",
   "id": "fb95800c-7530-405b-b0d6-7010ce5f1b01",
   "metadata": {},
   "source": [
    "Customers with phone plan with Telus"
   ]
  },
  {
   "cell_type": "code",
   "execution_count": null,
   "id": "0b00e366-7173-4acd-bb7c-830d208925ee",
   "metadata": {},
   "outputs": [],
   "source": [
    "whsia_ban_with_cell_plan = cust_with_phone_plan.loc[cust_with_phone_plan.has_telus_cell_phone_plan!=0].reset_index(drop=True)\n",
    "whsia_ban_with_cell_plan['has_telus_cell_phone_plan'] = 1"
   ]
  },
  {
   "cell_type": "code",
   "execution_count": null,
   "id": "ba4eccdf-36f6-466b-a3c2-70e3b77c6ba2",
   "metadata": {},
   "outputs": [],
   "source": [
    "whsia_ban_with_cell_plan"
   ]
  },
  {
   "cell_type": "code",
   "execution_count": null,
   "id": "65dd7d10-39e5-4f41-b09b-87a89984f3b4",
   "metadata": {},
   "outputs": [],
   "source": [
    "%%bigquery whsia_ffh_cust_df\n",
    "\n",
    "-- GET WHSIA Customers who have FFH BAN and see if they have a mobility account\n",
    "WITH FFH_CUST AS (\n",
    "SELECT \n",
    "  prod_instnc_ts, \n",
    "  bus_prod_instnc_id, \n",
    "  pi_prod_instnc_resrc_str,\n",
    "  bus_prod_instnc_src_id, \n",
    "  BACCT_BUS_BACCT_NUM AS FFH_BAN,  \n",
    "  pp_bus_pp_catlg_itm_cd , \n",
    "  pp_catlg_itm_nm\n",
    "FROM `cio-datahub-enterprise-pr-183a.ent_cust_cust.bq_prod_instnc_snpsht` \n",
    "WHERE \n",
    "  prod_instnc_ts = (SELECT MAX(prod_instnc_ts) FROM `cio-datahub-enterprise-pr-183a.ent_cust_cust.bq_prod_instnc_snpsht` ) AND -- Get most recent date in snapshot table\n",
    "  pp_bus_pp_catlg_itm_cd IN (SELECT whsia_soc FROM `cto-wln-sa-data-pr-bb5283.ref_table.bq_whsia_soc_codes`) AND --Get WHSIA SOC Codes\n",
    "  bus_prod_instnc_src_id=1001 -- GET FFH BAN\n",
    "\n",
    "\n",
    ")\n",
    "\n",
    "SELECT\n",
    "  A.*,\n",
    "  B.MOB_BAN,\n",
    "  CASE WHEN B.MOB_BAN IS NULL THEN 'N' ELSE 'Y' END AS HAS_MOB_BAN --By doing a left join with mnh_ban_mapping, if MOB_BAN is NULL, then FFH Cust doesn't have MOB BAN, if it contains a MOB_BAN, then that is their MOB_BAN \n",
    "FROM FFH_CUST A \n",
    "LEFT JOIN  `cto-wln-sa-data-pr-bb5283.ref_table.bq_hpbi_mnh_ban_mapping` B\n",
    "ON A.FFH_BAN = B.FFH_BAN \n",
    "ORDER BY HAS_MOB_BAN "
   ]
  },
  {
   "cell_type": "markdown",
   "id": "7e400277-6589-426f-b856-ea13ec8c7c2a",
   "metadata": {},
   "source": [
    "### Merging Data"
   ]
  },
  {
   "cell_type": "code",
   "execution_count": null,
   "id": "26e94811-ca55-448c-a539-2d947d45006e",
   "metadata": {},
   "outputs": [],
   "source": [
    "df.rename(columns={'avg_monthly_dl_mb' : 'streaming_avg_monthly_dl_mb' , 'avg_monthly_ul_mb' : 'streaming__avg_monthly_ul_mb'})"
   ]
  },
  {
   "cell_type": "code",
   "execution_count": null,
   "id": "95338f7d-8e3c-4044-b8c0-9285413424f4",
   "metadata": {},
   "outputs": [],
   "source": [
    "whsia_total_usage_df.rename(columns={'avg_monthly_dl_mb' : 'total_avg_monthly_dl_mb' , 'avg_monthly_ul_mb' : 'total_avg_monthly_ul_mb'})"
   ]
  },
  {
   "cell_type": "code",
   "execution_count": null,
   "id": "37519287-c362-48c3-89e3-c2a86689dae8",
   "metadata": {},
   "outputs": [],
   "source": [
    "df_merged = pd.merge(df.rename(columns={'avg_monthly_dl_mb' : 'streaming_avg_monthly_dl_mb' , 'avg_monthly_ul_mb' : 'streaming__avg_monthly_ul_mb'}),\n",
    "                     whsia_total_usage_df.rename(columns={'avg_monthly_dl_mb' : 'total_avg_monthly_dl_mb' , 'avg_monthly_ul_mb' : 'total_avg_monthly_ul_mb'}),\n",
    "                     how='outer',\n",
    "                     on='imsi_num')"
   ]
  },
  {
   "cell_type": "code",
   "execution_count": null,
   "id": "1ae7063e-34c1-451b-a094-ed3e43fb11db",
   "metadata": {},
   "outputs": [],
   "source": [
    "df_merged['%_dl_streaming']=df_merged.streaming_avg_monthly_dl_mb/df_merged.total_avg_monthly_dl_mb\n",
    "df_merged=df_merged.fillna(0)"
   ]
  },
  {
   "cell_type": "code",
   "execution_count": null,
   "id": "0f20a32b-e229-4939-8340-01c0be291735",
   "metadata": {},
   "outputs": [],
   "source": [
    "df_merged"
   ]
  },
  {
   "cell_type": "code",
   "execution_count": null,
   "id": "7359cc07-e8a2-4289-9f81-cf964dc88842",
   "metadata": {},
   "outputs": [],
   "source": [
    "df_merged2 = pd.merge(df_merged, whsia_cust_df[['BILLING_ACCOUNT_NUMBER','MSISDN', 'IMSI']].drop_duplicates(['IMSI', 'MSISDN', 'BILLING_ACCOUNT_NUMBER'])\n",
    "                      , how='left', left_on='imsi_num', right_on='IMSI')"
   ]
  },
  {
   "cell_type": "code",
   "execution_count": null,
   "id": "de8b380c-c9dc-4907-a9a4-0408769054a5",
   "metadata": {},
   "outputs": [],
   "source": [
    "df_merged2 = pd.merge(df_merged2, whsia_ban_with_cell_plan, how='left', on='BILLING_ACCOUNT_NUMBER')"
   ]
  },
  {
   "cell_type": "code",
   "execution_count": null,
   "id": "fcee59b3-2672-420f-8f97-75a630c7be50",
   "metadata": {},
   "outputs": [],
   "source": [
    "df_merged2=df_merged2.fillna(0)"
   ]
  },
  {
   "cell_type": "code",
   "execution_count": null,
   "id": "0e064293-ff72-44c5-8f29-0bec2d548dae",
   "metadata": {},
   "outputs": [],
   "source": [
    "df_merged2.to_csv('whsia_streaming_data_summary.csv', index=False)"
   ]
  },
  {
   "cell_type": "code",
   "execution_count": null,
   "id": "8498f473-e9d5-48d4-aa91-b443474ca224",
   "metadata": {},
   "outputs": [],
   "source": [
    "df_merged2= pd.read_csv('whsia_streaming_data_summary.csv')"
   ]
  },
  {
   "cell_type": "code",
   "execution_count": null,
   "id": "72fd34a1-fb6d-476e-a1fd-bb472e014300",
   "metadata": {},
   "outputs": [],
   "source": [
    "df_merged2.head()"
   ]
  },
  {
   "cell_type": "code",
   "execution_count": null,
   "id": "67af89dd-d73c-463c-bee8-d8a063a9e897",
   "metadata": {},
   "outputs": [],
   "source": [
    "df_merged2.shape"
   ]
  },
  {
   "cell_type": "code",
   "execution_count": null,
   "id": "b0167527-5d1d-4716-8834-ba9fe2a27908",
   "metadata": {},
   "outputs": [],
   "source": [
    "df_merged2['use_streaming']=0\n",
    "df_merged2['high_streaming']=0"
   ]
  },
  {
   "cell_type": "code",
   "execution_count": null,
   "id": "364a61d1-438c-4e17-9fed-36e603e946e7",
   "metadata": {},
   "outputs": [],
   "source": [
    "#Number of customers who use streaming services\n",
    "df_merged2.loc[df_merged2.streaming_avg_monthly_dl_mb > 0, 'use_streaming'] = int(1)\n",
    "df_merged2.loc[df_merged2.streaming_avg_monthly_dl_mb > 0].shape"
   ]
  },
  {
   "cell_type": "code",
   "execution_count": null,
   "id": "3b4aad55-72bd-4447-9dd7-5ee0e51348b9",
   "metadata": {},
   "outputs": [],
   "source": [
    "df_merged2.loc[df_merged2.streaming_avg_monthly_dl_mb > 0].streaming_avg_monthly_dl_mb.mean()"
   ]
  },
  {
   "cell_type": "code",
   "execution_count": null,
   "id": "2f9fbea3-dc25-46af-b12e-410cc7f8bb03",
   "metadata": {},
   "outputs": [],
   "source": [
    "df_merged2.loc[df_merged2.streaming_avg_monthly_dl_mb > 0].has_telus_cell_phone_plan.sum()"
   ]
  },
  {
   "cell_type": "markdown",
   "id": "0628a9c2-81e3-4350-bb18-ec1f96dbf5f8",
   "metadata": {},
   "source": [
    "Number of customers who use 30% of data on streaming"
   ]
  },
  {
   "cell_type": "code",
   "execution_count": null,
   "id": "b4014178-5d8b-43db-959a-cecb95777a2f",
   "metadata": {},
   "outputs": [],
   "source": [
    "df_merged2.loc[df_merged2['%_dl_streaming'] >= 0.3, 'high_streaming']=int(1)"
   ]
  },
  {
   "cell_type": "code",
   "execution_count": null,
   "id": "8c53a342-89ad-4264-b1d8-c2a37ff67cef",
   "metadata": {},
   "outputs": [],
   "source": [
    "df_merged2.loc[df_merged2['%_dl_streaming'] >= 0.3].shape"
   ]
  },
  {
   "cell_type": "code",
   "execution_count": null,
   "id": "ed8b763d-1fe0-46c5-9666-8e075a9ab74c",
   "metadata": {},
   "outputs": [],
   "source": [
    "df_merged2.loc[df_merged2['%_dl_streaming'] >= 0.3].has_telus_cell_phone_plan.sum()"
   ]
  },
  {
   "cell_type": "code",
   "execution_count": null,
   "id": "58dde43e-4db9-44a9-95e1-a440a10dfc6d",
   "metadata": {},
   "outputs": [],
   "source": [
    "df_merged2.has_telus_cell_phone_plan = df_merged2.has_telus_cell_phone_plan.astype(int)"
   ]
  },
  {
   "cell_type": "code",
   "execution_count": null,
   "id": "230914b5-d2aa-4f4d-b22c-1ce55b648835",
   "metadata": {},
   "outputs": [],
   "source": [
    "df_merged2[['MSISDN', 'has_telus_cell_phone_plan', 'use_streaming', 'high_streaming']]"
   ]
  },
  {
   "cell_type": "code",
   "execution_count": null,
   "id": "6d2373e7-7888-46cc-97de-0aeeacc9814e",
   "metadata": {},
   "outputs": [],
   "source": [
    "df_merged2[['MSISDN', 'has_telus_cell_phone_plan', 'use_streaming', 'high_streaming']].to_csv('whsia_msisdn_usage_summary.csv', index=False)"
   ]
  },
  {
   "cell_type": "code",
   "execution_count": null,
   "id": "c856ff08-25cc-49e1-bde7-c0701a5c04d9",
   "metadata": {},
   "outputs": [],
   "source": [
    "df_merged2.loc[df_merged2.high_streaming==1].has_telus_cell_phone_plan.sum()"
   ]
  },
  {
   "cell_type": "code",
   "execution_count": null,
   "id": "724d91e0-7563-40bc-92a2-98baede77f7f",
   "metadata": {},
   "outputs": [],
   "source": [
    "df_merged2.loc[df_merged2.use_streaming==1].has_telus_cell_phone_plan.sum()"
   ]
  },
  {
   "cell_type": "markdown",
   "id": "551193e3-a1f2-4301-bc42-da68e3c4e4f5",
   "metadata": {
    "tags": []
   },
   "source": [
    "### Scrap"
   ]
  },
  {
   "cell_type": "code",
   "execution_count": null,
   "id": "78a92472-7152-4e8f-b917-db9e13d88862",
   "metadata": {},
   "outputs": [],
   "source": [
    "df"
   ]
  },
  {
   "cell_type": "code",
   "execution_count": null,
   "id": "73465796-83a3-424e-8b78-9e3a2658845a",
   "metadata": {},
   "outputs": [],
   "source": [
    "df.loc[(df.imsi_num=='302220320348350') & (df.MONTH==4)].dl_mb.sum()"
   ]
  },
  {
   "cell_type": "code",
   "execution_count": null,
   "id": "fff4536e-93b5-45d1-a316-10e0651774ed",
   "metadata": {},
   "outputs": [],
   "source": [
    "df.loc[(df.imsi_num=='302220320348350') & (df.MONTH==3)].dl_mb.sum()"
   ]
  },
  {
   "cell_type": "code",
   "execution_count": null,
   "id": "bf9e3510-1b4f-43e1-b158-82ef2f5b59c7",
   "metadata": {},
   "outputs": [],
   "source": [
    "df.loc[(df.imsi_num=='302220545119884') & (df.MONTH==3)].dl_mb.sum()"
   ]
  },
  {
   "cell_type": "markdown",
   "id": "a93cad71-912d-45fa-920e-5ebb997a36d0",
   "metadata": {},
   "source": [
    "Sum usage in month"
   ]
  },
  {
   "cell_type": "code",
   "execution_count": null,
   "id": "8509295c-483a-439b-b800-aeb6866004f7",
   "metadata": {},
   "outputs": [],
   "source": [
    "df.groupby(['imsi_num', 'YEAR', 'MONTH']).sum().reset_index()[['imsi_num' , 'MONTH', 'YEAR', 'dl_mb','ul_mb']]"
   ]
  },
  {
   "cell_type": "markdown",
   "id": "239dee8a-f7d6-4cb0-9c98-c65029617231",
   "metadata": {},
   "source": [
    "Avg monthly usage Since Mar 2022"
   ]
  },
  {
   "cell_type": "code",
   "execution_count": null,
   "id": "5d4bd63f-a175-4119-b345-0504ef1cc62f",
   "metadata": {},
   "outputs": [],
   "source": [
    "df.groupby(['imsi_num', 'YEAR', 'MONTH']).sum().reset_index().groupby('imsi_num').mean().reset_index()[['imsi_num' ,  'dl_mb','ul_mb']]"
   ]
  },
  {
   "cell_type": "markdown",
   "id": "0b7207e7-bb6c-42ad-b4d7-bc4626037146",
   "metadata": {},
   "source": [
    "### Number of Netflix, Apple TV, Discovery Users for WHSIA"
   ]
  },
  {
   "cell_type": "code",
   "execution_count": null,
   "id": "a471eba3-f4d3-4607-9369-427e6b06be76",
   "metadata": {},
   "outputs": [],
   "source": [
    "%%bigquery  whsia_imsi_df\n",
    "\n",
    "SELECT CAST(PROD_INSTNC_ALIAS_STR as STRING) as IMSI \n",
    "FROM `cto-wln-sa-data-pr-bb5283.ref_table.bq_hpbi_product_instance_profl` \n",
    "WHERE PRIM_PRICE_PLAN_CD IN (SELECT whsia_soc FROM `cto-wln-sa-data-pr-bb5283.ref_table.bq_whsia_soc_codes`)"
   ]
  },
  {
   "cell_type": "markdown",
   "id": "806ebea9-81b7-4f36-8f87-a724f0f83672",
   "metadata": {},
   "source": [
    "### App Usage"
   ]
  },
  {
   "cell_type": "code",
   "execution_count": null,
   "id": "110e6e13-bec6-4127-a0ff-9fe526b24394",
   "metadata": {},
   "outputs": [],
   "source": [
    "%%bigquery apple_tv_df\n",
    "\n",
    "DECLARE v_app_proj_name STRING DEFAULT 'cio-datahub-enterprise-pr-183a';\n",
    "DECLARE v_app_dataset_name STRING DEFAULT 'ent_usage_unrated_ott';\n",
    "DECLARE v_app_table_name STRING DEFAULT 'bq_ott_app_event';\n",
    "DECLARE v_app_column_name STRING DEFAULT 'app_nm';\n",
    "DECLARE v_dl_vol_column_name STRING DEFAULT 'dl_volume_qty';\n",
    "DECLARE v_ul_vol_column_name STRING DEFAULT 'ul_volume_qty';\n",
    "DECLARE v_date_column_name STRING DEFAULT 'event_dt';\n",
    "DECLARE v_id_app_column_name STRING DEFAULT 'imsi_num';\n",
    "DECLARE v_cust_dataset_name STRING DEFAULT 'temp_workspace';\n",
    "DECLARE v_cust_table_name STRING DEFAULT 'check_cust_mapping';\n",
    "DECLARE v_id_column_name STRING DEFAULT 'IMSI';\n",
    "DECLARE v_app_mapping_dataset STRING DEFAULT 'app_cat_map';\n",
    "DECLARE v_app_mapping_table STRING DEFAULT 'bq_app_cat_mapping_latest_view';\n",
    "DECLARE v_app_tier1_column_name STRING DEFAULT 'tier_1';\n",
    "DECLARE v_app_tier2_column_name STRING DEFAULT 'tier_2';\n",
    "DECLARE v_application_filter_type STRING DEFAULT 'by_app_name';\n",
    "DECLARE v_application_wishlist ARRAY<STRING> DEFAULT ['apple adaptive http video'];\n",
    "DECLARE v_application_blacklist ARRAY<STRING> DEFAULT [];\n",
    "DECLARE v_app_cat_tier1 ARRAY<STRING> DEFAULT [];\n",
    "DECLARE v_app_cat_tier2 ARRAY<STRING> DEFAULT [];\n",
    "DECLARE v_date_filter_type STRING DEFAULT 'window';\n",
    "DECLARE v_today_date DATE DEFAULT current_date();\n",
    "DECLARE v_date_len INT64 DEFAULT 3;\n",
    "DECLARE v_date_step STRING DEFAULT 'MONTH'; -- Define duration \n",
    "DECLARE v_start_date DATE DEFAULT NULL;\n",
    "DECLARE v_end_date DATE DEFAULT NULL;\n",
    "DECLARE v_segment_name STRING DEFAULT 'appletv';\n",
    "DECLARE v_output_dataset_name STRING DEFAULT 'temp_workspace';\n",
    "DECLARE v_output_table_name STRING DEFAULT 'appletv_usage_per_imsi';\n",
    "\n",
    "\n",
    "CALL `cto-wln-sa-data-pr-bb5283.customer_personas_features.app_usage_without_cust_mapping`(v_app_proj_name, v_app_dataset_name, v_app_table_name, v_app_column_name, v_dl_vol_column_name, v_ul_vol_column_name, v_date_column_name, v_id_app_column_name, v_cust_dataset_name, v_cust_table_name, v_id_column_name, v_app_mapping_dataset, v_app_mapping_table, v_app_tier1_column_name, v_app_tier2_column_name, v_application_filter_type, v_application_wishlist, v_application_blacklist, v_app_cat_tier1, v_app_cat_tier2, v_date_filter_type, v_today_date, v_date_len, v_date_step, v_start_date, v_end_date, v_segment_name, v_output_dataset_name, v_output_table_name);\n"
   ]
  },
  {
   "cell_type": "code",
   "execution_count": null,
   "id": "6e867e17-4426-4239-862d-9386e7ba0019",
   "metadata": {},
   "outputs": [],
   "source": [
    "%%bigquery discovery_df\n",
    "\n",
    "DECLARE v_app_proj_name STRING DEFAULT 'cio-datahub-enterprise-pr-183a';\n",
    "DECLARE v_app_dataset_name STRING DEFAULT 'ent_usage_unrated_ott';\n",
    "DECLARE v_app_table_name STRING DEFAULT 'bq_ott_app_event';\n",
    "DECLARE v_app_column_name STRING DEFAULT 'app_nm';\n",
    "DECLARE v_dl_vol_column_name STRING DEFAULT 'dl_volume_qty';\n",
    "DECLARE v_ul_vol_column_name STRING DEFAULT 'ul_volume_qty';\n",
    "DECLARE v_date_column_name STRING DEFAULT 'event_dt';\n",
    "DECLARE v_id_app_column_name STRING DEFAULT 'imsi_num';\n",
    "DECLARE v_cust_dataset_name STRING DEFAULT 'temp_workspace';\n",
    "DECLARE v_cust_table_name STRING DEFAULT 'check_cust_mapping';\n",
    "DECLARE v_id_column_name STRING DEFAULT 'IMSI';\n",
    "DECLARE v_app_mapping_dataset STRING DEFAULT 'app_cat_map';\n",
    "DECLARE v_app_mapping_table STRING DEFAULT 'bq_app_cat_mapping_latest_view';\n",
    "DECLARE v_app_tier1_column_name STRING DEFAULT 'tier_1';\n",
    "DECLARE v_app_tier2_column_name STRING DEFAULT 'tier_2';\n",
    "DECLARE v_application_filter_type STRING DEFAULT 'by_app_name';\n",
    "DECLARE v_application_wishlist ARRAY<STRING> DEFAULT ['discovery'];\n",
    "DECLARE v_application_blacklist ARRAY<STRING> DEFAULT [];\n",
    "DECLARE v_app_cat_tier1 ARRAY<STRING> DEFAULT [];\n",
    "DECLARE v_app_cat_tier2 ARRAY<STRING> DEFAULT [];\n",
    "DECLARE v_date_filter_type STRING DEFAULT 'window';\n",
    "DECLARE v_today_date DATE DEFAULT current_date();\n",
    "DECLARE v_date_len INT64 DEFAULT 3;\n",
    "DECLARE v_date_step STRING DEFAULT 'MONTH'; -- Define duration \n",
    "DECLARE v_start_date DATE DEFAULT NULL;\n",
    "DECLARE v_end_date DATE DEFAULT NULL;\n",
    "DECLARE v_segment_name STRING DEFAULT 'discovery';\n",
    "DECLARE v_output_dataset_name STRING DEFAULT 'temp_workspace';\n",
    "DECLARE v_output_table_name STRING DEFAULT 'discovery_usage_per_imsi';\n",
    "\n",
    "\n",
    "CALL `cto-wln-sa-data-pr-bb5283.customer_personas_features.app_usage_without_cust_mapping`(v_app_proj_name, v_app_dataset_name, v_app_table_name, v_app_column_name, v_dl_vol_column_name, v_ul_vol_column_name, v_date_column_name, v_id_app_column_name, v_cust_dataset_name, v_cust_table_name, v_id_column_name, v_app_mapping_dataset, v_app_mapping_table, v_app_tier1_column_name, v_app_tier2_column_name, v_application_filter_type, v_application_wishlist, v_application_blacklist, v_app_cat_tier1, v_app_cat_tier2, v_date_filter_type, v_today_date, v_date_len, v_date_step, v_start_date, v_end_date, v_segment_name, v_output_dataset_name, v_output_table_name);\n"
   ]
  },
  {
   "cell_type": "code",
   "execution_count": null,
   "id": "892d4fd0-dc38-4af6-9a94-b8bb7dc47e4c",
   "metadata": {},
   "outputs": [],
   "source": [
    "%%bigquery netflix_df\n",
    "\n",
    "DECLARE v_app_proj_name STRING DEFAULT 'cio-datahub-enterprise-pr-183a';\n",
    "DECLARE v_app_dataset_name STRING DEFAULT 'ent_usage_unrated_ott';\n",
    "DECLARE v_app_table_name STRING DEFAULT 'bq_ott_app_event';\n",
    "DECLARE v_app_column_name STRING DEFAULT 'app_nm';\n",
    "DECLARE v_dl_vol_column_name STRING DEFAULT 'dl_volume_qty';\n",
    "DECLARE v_ul_vol_column_name STRING DEFAULT 'ul_volume_qty';\n",
    "DECLARE v_date_column_name STRING DEFAULT 'event_dt';\n",
    "DECLARE v_id_app_column_name STRING DEFAULT 'imsi_num';\n",
    "DECLARE v_cust_dataset_name STRING DEFAULT 'temp_workspace';\n",
    "DECLARE v_cust_table_name STRING DEFAULT 'check_cust_mapping';\n",
    "DECLARE v_id_column_name STRING DEFAULT 'IMSI';\n",
    "DECLARE v_app_mapping_dataset STRING DEFAULT 'app_cat_map';\n",
    "DECLARE v_app_mapping_table STRING DEFAULT 'bq_app_cat_mapping_latest_view';\n",
    "DECLARE v_app_tier1_column_name STRING DEFAULT 'tier_1';\n",
    "DECLARE v_app_tier2_column_name STRING DEFAULT 'tier_2';\n",
    "DECLARE v_application_filter_type STRING DEFAULT 'by_app_name';\n",
    "DECLARE v_application_wishlist ARRAY<STRING> DEFAULT ['netflix video'];\n",
    "DECLARE v_application_blacklist ARRAY<STRING> DEFAULT [];\n",
    "DECLARE v_app_cat_tier1 ARRAY<STRING> DEFAULT [];\n",
    "DECLARE v_app_cat_tier2 ARRAY<STRING> DEFAULT [];\n",
    "DECLARE v_date_filter_type STRING DEFAULT 'window';\n",
    "DECLARE v_today_date DATE DEFAULT current_date();\n",
    "DECLARE v_date_len INT64 DEFAULT 3;\n",
    "DECLARE v_date_step STRING DEFAULT 'MONTH'; -- Define duration \n",
    "DECLARE v_start_date DATE DEFAULT NULL;\n",
    "DECLARE v_end_date DATE DEFAULT NULL;\n",
    "DECLARE v_segment_name STRING DEFAULT 'netflix';\n",
    "DECLARE v_output_dataset_name STRING DEFAULT 'temp_workspace';\n",
    "DECLARE v_output_table_name STRING DEFAULT 'netflix_usage_per_imsi';\n",
    "\n",
    "\n",
    "CALL `cto-wln-sa-data-pr-bb5283.customer_personas_features.app_usage_without_cust_mapping`(v_app_proj_name, v_app_dataset_name, v_app_table_name, v_app_column_name, v_dl_vol_column_name, v_ul_vol_column_name, v_date_column_name, v_id_app_column_name, v_cust_dataset_name, v_cust_table_name, v_id_column_name, v_app_mapping_dataset, v_app_mapping_table, v_app_tier1_column_name, v_app_tier2_column_name, v_application_filter_type, v_application_wishlist, v_application_blacklist, v_app_cat_tier1, v_app_cat_tier2, v_date_filter_type, v_today_date, v_date_len, v_date_step, v_start_date, v_end_date, v_segment_name, v_output_dataset_name, v_output_table_name);\n"
   ]
  },
  {
   "cell_type": "code",
   "execution_count": null,
   "id": "6e143a7d-8395-4bd0-8591-8e0ba29e0582",
   "metadata": {},
   "outputs": [],
   "source": [
    "%%bigquery competitor_streaming_df\n",
    "\n",
    "DECLARE v_app_proj_name STRING DEFAULT 'cio-datahub-enterprise-pr-183a';\n",
    "DECLARE v_app_dataset_name STRING DEFAULT 'ent_usage_unrated_ott';\n",
    "DECLARE v_app_table_name STRING DEFAULT 'bq_ott_app_event';\n",
    "DECLARE v_app_column_name STRING DEFAULT 'app_nm';\n",
    "DECLARE v_dl_vol_column_name STRING DEFAULT 'dl_volume_qty';\n",
    "DECLARE v_ul_vol_column_name STRING DEFAULT 'ul_volume_qty';\n",
    "DECLARE v_date_column_name STRING DEFAULT 'event_dt';\n",
    "DECLARE v_id_app_column_name STRING DEFAULT 'imsi_num';\n",
    "DECLARE v_cust_dataset_name STRING DEFAULT 'temp_workspace';\n",
    "DECLARE v_cust_table_name STRING DEFAULT 'check_cust_mapping';\n",
    "DECLARE v_id_column_name STRING DEFAULT 'IMSI';\n",
    "DECLARE v_app_mapping_dataset STRING DEFAULT 'app_cat_map';\n",
    "DECLARE v_app_mapping_table STRING DEFAULT 'bq_app_cat_mapping_latest_view';\n",
    "DECLARE v_app_tier1_column_name STRING DEFAULT 'tier_1';\n",
    "DECLARE v_app_tier2_column_name STRING DEFAULT 'tier_2';\n",
    "DECLARE v_application_filter_type STRING DEFAULT 'by_app_name';\n",
    "DECLARE v_application_wishlist ARRAY<STRING> DEFAULT ['amazon video', 'disney plus', 'crave' ,'paramount' ];\n",
    "DECLARE v_application_blacklist ARRAY<STRING> DEFAULT [];\n",
    "DECLARE v_app_cat_tier1 ARRAY<STRING> DEFAULT [];\n",
    "DECLARE v_app_cat_tier2 ARRAY<STRING> DEFAULT [];\n",
    "DECLARE v_date_filter_type STRING DEFAULT 'window';\n",
    "DECLARE v_today_date DATE DEFAULT current_date();\n",
    "DECLARE v_date_len INT64 DEFAULT 3;\n",
    "DECLARE v_date_step STRING DEFAULT 'MONTH'; -- Define duration \n",
    "DECLARE v_start_date DATE DEFAULT NULL;\n",
    "DECLARE v_end_date DATE DEFAULT NULL;\n",
    "DECLARE v_segment_name STRING DEFAULT 'competitor_streaming';\n",
    "DECLARE v_output_dataset_name STRING DEFAULT 'temp_workspace';\n",
    "DECLARE v_output_table_name STRING DEFAULT 'competitor_streaming_usage_per_imsi';\n",
    "\n",
    "\n",
    "CALL `cto-wln-sa-data-pr-bb5283.customer_personas_features.app_usage_without_cust_mapping`(v_app_proj_name, v_app_dataset_name, v_app_table_name, v_app_column_name, v_dl_vol_column_name, v_ul_vol_column_name, v_date_column_name, v_id_app_column_name, v_cust_dataset_name, v_cust_table_name, v_id_column_name, v_app_mapping_dataset, v_app_mapping_table, v_app_tier1_column_name, v_app_tier2_column_name, v_application_filter_type, v_application_wishlist, v_application_blacklist, v_app_cat_tier1, v_app_cat_tier2, v_date_filter_type, v_today_date, v_date_len, v_date_step, v_start_date, v_end_date, v_segment_name, v_output_dataset_name, v_output_table_name);\n"
   ]
  },
  {
   "cell_type": "code",
   "execution_count": null,
   "id": "1100cbc6-4764-403a-9ebc-c282554a3186",
   "metadata": {},
   "outputs": [],
   "source": [
    "import pandas as pd\n",
    "import numpy as np"
   ]
  },
  {
   "cell_type": "code",
   "execution_count": null,
   "id": "408becab-1979-4f3c-928f-db01c601a48e",
   "metadata": {},
   "outputs": [],
   "source": [
    "df = pd.merge(apple_tv_df, netflix_df, how='outer', on='IMSI')\n",
    "df = pd.merge(df, discovery_df, how='outer', on='IMSI')\n",
    "df = pd.merge(df, competitor_streaming_df, how='outer', on='IMSI')\n",
    "# df = pd.merge(df, general_streaming_df, how='outer', on='IMSI')\n",
    "df = df.fillna(0)"
   ]
  },
  {
   "cell_type": "code",
   "execution_count": null,
   "id": "b3397284-fe56-4a20-a192-a9c1f3429bf1",
   "metadata": {},
   "outputs": [],
   "source": [
    "processed_df = df.loc[df.IMSI.isin(whsia_imsi_df.IMSI)].reset_index(drop=True) #whsia"
   ]
  },
  {
   "cell_type": "code",
   "execution_count": null,
   "id": "a697cafd-6808-4d3f-a32b-f8ab6785ff71",
   "metadata": {},
   "outputs": [],
   "source": [
    "app_usage_summary_df2=processed_df[['IMSI']]\n",
    "app_usage_summary_df2['use_appletv']=np.where((processed_df['appletv_days_frequency'] >= 1) & (processed_df['netflix_days_frequency'] == 0) & (processed_df['discovery_days_frequency'] == 0) , 1, 0)\n",
    "app_usage_summary_df2['use_netflix']=np.where((processed_df['appletv_days_frequency'] == 0) & (processed_df['netflix_days_frequency'] >= 1) & (processed_df['discovery_days_frequency'] == 0) , 1, 0)\n",
    "app_usage_summary_df2['use_discovery']=np.where((processed_df['appletv_days_frequency'] == 0) & (processed_df['netflix_days_frequency'] == 0) & (processed_df['discovery_days_frequency'] >= 1) , 1, 0)\n",
    "\n",
    "app_usage_summary_df2['appletv_netflix'] =  np.where((processed_df['appletv_days_frequency'] >= 1) & (processed_df['netflix_days_frequency'] >= 1) & (processed_df['discovery_days_frequency'] == 0) , 1, 0)\n",
    "app_usage_summary_df2['appletv_discovery'] =  np.where((processed_df['appletv_days_frequency'] >= 1) & (processed_df['netflix_days_frequency'] == 0) & (processed_df['discovery_days_frequency'] >= 1) , 1, 0)\n",
    "app_usage_summary_df2['discovery_netflix'] =  np.where((processed_df['appletv_days_frequency'] == 0) & (processed_df['netflix_days_frequency'] >= 1) & (processed_df['discovery_days_frequency'] >= 1) , 1, 0)\n",
    "\n",
    "app_usage_summary_df2['use_any_2_services']  = app_usage_summary_df2['appletv_netflix'] | app_usage_summary_df2['appletv_discovery'] | app_usage_summary_df2['discovery_netflix']\n",
    "app_usage_summary_df2['use_all_3_services'] = np.where((processed_df['appletv_days_frequency'] >= 1) & (processed_df['netflix_days_frequency'] >= 1) & (processed_df['discovery_days_frequency'] >= 1) , 1, 0)\n",
    "\n",
    "app_usage_summary_df2['use_competitor_streaming']=np.where((processed_df['competitor_streaming_days_frequency'] >= 1) & (processed_df['appletv_days_frequency'] == 0) & (processed_df['netflix_days_frequency'] == 0) & (processed_df['discovery_days_frequency'] == 0), 1, 0)\n",
    "app_usage_summary_df2['competitor_firefly']=np.where((processed_df['competitor_streaming_days_frequency'] >= 1) & \n",
    "                                                     ((app_usage_summary_df2['use_appletv']) | app_usage_summary_df2['use_netflix'] | app_usage_summary_df2['use_discovery'] |\n",
    "                                                     app_usage_summary_df2['use_any_2_services'] | app_usage_summary_df2['use_all_3_services']) , 1, 0)\n",
    "\n",
    "#app_usage_summary_df2['new_apple_device'] = processed_df['new_apple_device']"
   ]
  },
  {
   "cell_type": "code",
   "execution_count": null,
   "id": "72de9d76-cc59-48fa-b7b2-8fb64c05bf22",
   "metadata": {},
   "outputs": [],
   "source": [
    "app_usage_summary_df2['index']='num_customers'\n",
    "app_usage_summary_df2.groupby('index').sum()"
   ]
  },
  {
   "cell_type": "code",
   "execution_count": null,
   "id": "4c79d532-bc08-454d-8e6e-801840aee3ee",
   "metadata": {},
   "outputs": [],
   "source": []
  }
 ],
 "metadata": {
  "kernelspec": {
   "display_name": "Python 3 (ipykernel)",
   "language": "python",
   "name": "python3"
  },
  "language_info": {
   "codemirror_mode": {
    "name": "ipython",
    "version": 3
   },
   "file_extension": ".py",
   "mimetype": "text/x-python",
   "name": "python",
   "nbconvert_exporter": "python",
   "pygments_lexer": "ipython3",
   "version": "3.7.12"
  }
 },
 "nbformat": 4,
 "nbformat_minor": 5
}
