{
 "cells": [
  {
   "cell_type": "code",
   "execution_count": null,
   "id": "c955ccba",
   "metadata": {},
   "outputs": [],
   "source": [
    "import pandas as pd \n",
    "import numpy as np\n",
    "pd.set_option(\"display.max_columns\", None)\n",
    "from IPython.display import display, Markdown, HTML"
   ]
  },
  {
   "cell_type": "code",
   "execution_count": null,
   "id": "a7776a4f",
   "metadata": {},
   "outputs": [],
   "source": [
    "\n",
    "#Function to print dataframe side by side in jupyter\n",
    "#https://stackoverflow.com/questions/38783027/jupyter-notebook-display-two-pandas-tables-side-by-side\n",
    "def display_side_by_side(dfs:list, captions:list, tablespacing=5):\n",
    "    \"\"\"Display tables side by side to save vertical space\n",
    "    Input:\n",
    "        dfs: list of pandas.DataFrame\n",
    "        captions: list of table captions\n",
    "    \"\"\"\n",
    "    output = \"\"\n",
    "    for (caption, df) in zip(captions, dfs):\n",
    "        output += df.style.set_table_attributes(\"style='display:inline'\").set_caption(caption)._repr_html_()\n",
    "        output += tablespacing * \"\\xa0\"\n",
    "    display(HTML(output))"
   ]
  },
  {
   "cell_type": "code",
   "execution_count": null,
   "id": "b715c671",
   "metadata": {},
   "outputs": [],
   "source": [
    "#Function to return description of each cluster\n",
    "#df: dataframe with cluster labels as a column\n",
    "#drop_cols: list of columns to drop (Ie. ID, BAN, IMSI, etc.) If there are none, leave it blank\n",
    "#cluster_label_string: Name of the column with the cluster labels\n",
    "#print_by_column: True - will print the cluster description by column. False -will print the cluster description by cluster\n",
    "\n",
    "def cluster_description(df, drop_cols=[] , cluster_label_string='', print_by_column=True):\n",
    "    temp_df = df.drop(columns=drop_cols)\n",
    "    clusters =np.sort(temp_df[cluster_label_string].unique())\n",
    "    \n",
    "    if print_by_column==True: #print description by column\n",
    "        for col in list(set(temp_df.columns) - set([cluster_label_string])):\n",
    "            print (f\"------------------------- Column: {col} ------------------------- \\n\")\n",
    "\n",
    "            if (temp_df.dtypes[col] == 'O'): #column is a string\n",
    "                temp_df_list = []\n",
    "                for cluster in clusters:\n",
    "                    cluster_df = pd.DataFrame(temp_df.loc[temp_df[cluster_label_string]==cluster][col].value_counts(normalize=True).sort_index())\n",
    "                    cluster_df = cluster_df.rename(columns = {col : 'Cluster: ' + str(cluster)})\n",
    "                    temp_df_list.append(cluster_df)\n",
    "                display(pd.concat(temp_df_list, axis=1))\n",
    "\n",
    "            else: #column is numeric\n",
    "                temp_df_list = []\n",
    "                for cluster in clusters:\n",
    "                    cluster_df = pd.DataFrame(temp_df.loc[temp_df[cluster_label_string]==cluster][col].describe())\n",
    "                    cluster_df = cluster_df.rename(columns = {col : 'Cluster: ' + str(cluster)})\n",
    "                    temp_df_list.append(cluster_df)\n",
    "                display(pd.concat(temp_df_list, axis=1).rename_axis(index=None))\n",
    "\n",
    "            print(\"\\n\")\n",
    "\n",
    "    else: #print description by cluster\n",
    "        for cluster in clusters:\n",
    "            cluster_df = temp_df.loc[temp_df[cluster_label_string]==cluster]\n",
    "            print (f\"------------------------- Cluster: {cluster} ------------------------- \\n\")\n",
    "\n",
    "            #Numeric columns:\n",
    "\n",
    "            numeric_cols = list(cluster_df.dtypes[cluster_df.dtypes!='O'].index)\n",
    "            display(cluster_df[numeric_cols].describe())\n",
    "\n",
    "            print(\"\\n\")\n",
    "            #Text Columns:\n",
    "\n",
    "            string_cols = list(cluster_df.dtypes[cluster_df.dtypes=='O'].index)\n",
    "            string_df_list = []\n",
    "            string_col_title=[]\n",
    "            for col in string_cols:\n",
    "                string_df_list.append(pd.DataFrame(cluster_df[col].value_counts(normalize=True).sort_index()))\n",
    "                string_col_title.append(col + '_value_counts')\n",
    "            display_side_by_side(string_df_list, string_col_title)\n",
    "    \n",
    "            \n",
    "    "
   ]
  },
  {
   "cell_type": "code",
   "execution_count": null,
   "id": "8b229ad7",
   "metadata": {},
   "outputs": [],
   "source": []
  }
 ],
 "metadata": {
  "kernelspec": {
   "display_name": "Python 3 (ipykernel)",
   "language": "python",
   "name": "python3"
  },
  "language_info": {
   "codemirror_mode": {
    "name": "ipython",
    "version": 3
   },
   "file_extension": ".py",
   "mimetype": "text/x-python",
   "name": "python",
   "nbconvert_exporter": "python",
   "pygments_lexer": "ipython3",
   "version": "3.7.12"
  }
 },
 "nbformat": 4,
 "nbformat_minor": 5
}
