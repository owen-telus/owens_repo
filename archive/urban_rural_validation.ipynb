{
 "cells": [
  {
   "cell_type": "code",
   "execution_count": null,
   "id": "1a05f1f6",
   "metadata": {},
   "outputs": [],
   "source": [
    "import pandas as pd \n"
   ]
  },
  {
   "cell_type": "code",
   "execution_count": null,
   "id": "61b13f08",
   "metadata": {},
   "outputs": [],
   "source": [
    "%%bigquery df\n",
    "\n",
    "SELECT * \n",
    "FROM `cto-wln-sa-data-pr-bb5283.customer_personas_features.fsa_population_density_per_ban`"
   ]
  },
  {
   "cell_type": "code",
   "execution_count": null,
   "id": "73baf11f",
   "metadata": {},
   "outputs": [],
   "source": [
    "df"
   ]
  },
  {
   "cell_type": "code",
   "execution_count": null,
   "id": "8665e9f6",
   "metadata": {},
   "outputs": [],
   "source": [
    "df.sort_values(by='population_density', ascending=False)"
   ]
  },
  {
   "cell_type": "code",
   "execution_count": null,
   "id": "ded89924",
   "metadata": {},
   "outputs": [],
   "source": [
    "df['FSA_CODE'].nunique()"
   ]
  },
  {
   "cell_type": "code",
   "execution_count": null,
   "id": "434425d6",
   "metadata": {},
   "outputs": [],
   "source": [
    "df.loc[df.FSA_CODE=='4W2']"
   ]
  },
  {
   "cell_type": "code",
   "execution_count": null,
   "id": "c7601e38",
   "metadata": {
    "jupyter": {
     "outputs_hidden": true
    }
   },
   "outputs": [],
   "source": [
    "list(df['FSA_CODE'].unique())"
   ]
  },
  {
   "cell_type": "code",
   "execution_count": null,
   "id": "7c9d5cd5",
   "metadata": {},
   "outputs": [],
   "source": [
    "df.groupby('FSA_CODE').count()"
   ]
  },
  {
   "cell_type": "code",
   "execution_count": null,
   "id": "721c5f94",
   "metadata": {},
   "outputs": [],
   "source": [
    "%%bigquery df2\n",
    "\n",
    "SELECT DISTINCT PROV, fsa, Population__2016,  population_density \n",
    "FROM `cto-wln-sa-data-pr-bb5283.ref_table.bq_exttable_fsa_population_density` "
   ]
  },
  {
   "cell_type": "code",
   "execution_count": null,
   "id": "1780c44d",
   "metadata": {},
   "outputs": [],
   "source": [
    "df2"
   ]
  },
  {
   "cell_type": "code",
   "execution_count": null,
   "id": "dde6568e",
   "metadata": {},
   "outputs": [],
   "source": [
    "%%bigquery df3\n",
    "\n",
    "SELECT PROV, fsa, Population__2016,  population_density, area_by_postal_code_km2\n",
    "FROM `cto-wln-sa-data-pr-bb5283.ref_table.bq_exttable_fsa_population_density` "
   ]
  },
  {
   "cell_type": "code",
   "execution_count": null,
   "id": "de8fa39f",
   "metadata": {},
   "outputs": [],
   "source": [
    "df3.loc[df3.fsa=='A0A'].area_by_postal_code_km2.sum()"
   ]
  },
  {
   "cell_type": "code",
   "execution_count": null,
   "id": "b4f7d42c",
   "metadata": {},
   "outputs": [],
   "source": [
    "df4=df3.groupby('fsa').agg(\n",
    "                    population=('Population__2016', 'mean'),\n",
    "                    population_density=('population_density', 'mean'),\n",
    "                    area = ('area_by_postal_code_km2', 'sum')).reset_index()"
   ]
  },
  {
   "cell_type": "code",
   "execution_count": null,
   "id": "d9cbc419",
   "metadata": {},
   "outputs": [],
   "source": [
    "df4.sort_values(by='population_density', ascending=True).iloc[:20, :]"
   ]
  },
  {
   "cell_type": "code",
   "execution_count": null,
   "id": "c0ee3671",
   "metadata": {},
   "outputs": [],
   "source": [
    "df2[df2.fsa.duplicated()]"
   ]
  },
  {
   "cell_type": "code",
   "execution_count": null,
   "id": "b759a90a",
   "metadata": {},
   "outputs": [],
   "source": [
    "df2.loc[df2.fsa=='X0B']"
   ]
  },
  {
   "cell_type": "code",
   "execution_count": null,
   "id": "2b853b7f",
   "metadata": {},
   "outputs": [],
   "source": [
    "df2.loc[df2.fsa=='R0B']"
   ]
  },
  {
   "cell_type": "code",
   "execution_count": null,
   "id": "8b56fd89",
   "metadata": {},
   "outputs": [],
   "source": [
    "%%bigquery df5\n",
    "SELECT \n",
    "    fsa, \n",
    "    AVG(Population__2016) AS population, \n",
    "    AVG(population_density) AS population_density, \n",
    "    SUM(area_by_postal_code_km2) AS fsa_area_km_squared\n",
    "FROM `cto-wln-sa-data-pr-bb5283.ref_table.bq_exttable_fsa_population_density` \n",
    "GROUP BY fsa "
   ]
  },
  {
   "cell_type": "code",
   "execution_count": null,
   "id": "b46a730b",
   "metadata": {},
   "outputs": [],
   "source": [
    "df4.sort_values(by='fsa')"
   ]
  },
  {
   "cell_type": "code",
   "execution_count": null,
   "id": "ac78adf3",
   "metadata": {},
   "outputs": [],
   "source": [
    "df5.sort_values(by='fsa')"
   ]
  },
  {
   "cell_type": "code",
   "execution_count": null,
   "id": "02731d8c",
   "metadata": {},
   "outputs": [],
   "source": []
  }
 ],
 "metadata": {
  "kernelspec": {
   "display_name": "Python 3 (ipykernel)",
   "language": "python",
   "name": "python3"
  },
  "language_info": {
   "codemirror_mode": {
    "name": "ipython",
    "version": 3
   },
   "file_extension": ".py",
   "mimetype": "text/x-python",
   "name": "python",
   "nbconvert_exporter": "python",
   "pygments_lexer": "ipython3",
   "version": "3.7.12"
  }
 },
 "nbformat": 4,
 "nbformat_minor": 5
}
