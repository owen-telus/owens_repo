{
 "cells": [
  {
   "cell_type": "code",
   "execution_count": null,
   "id": "614c95f7-4b20-4175-bd4d-7fbaf5c518d6",
   "metadata": {},
   "outputs": [],
   "source": [
    "import pandas as pd\n",
    "import numpy as np"
   ]
  },
  {
   "cell_type": "markdown",
   "id": "416e0d09-d139-49f3-b152-90b02747d02c",
   "metadata": {},
   "source": [
    "Merge data with customers who roamed with CCAI Dataset"
   ]
  },
  {
   "cell_type": "code",
   "execution_count": null,
   "id": "d6918ba6-c4e0-477e-9443-3574c21708d9",
   "metadata": {},
   "outputs": [],
   "source": [
    "%%bigquery num_usa_roamers_df\n",
    "\n",
    "SELECT\n",
    "    COUNT(DISTINCT imsi_num) as num_usa_romers\n",
    "FROM\n",
    "    `cio-datahub-enterprise-pr-183a.ent_usage_unrated_ott.bq_ott_app_event`\n",
    "WHERE \n",
    "    event_dt between \"2022-03-01\" AND \"2022-04-20\" \n",
    "    AND imsi_num like '302220%'\n",
    "    AND (mcc_id = '311' OR mcc_id = '310') -- get customers who roamed in the US\n",
    "\n",
    "\n"
   ]
  },
  {
   "cell_type": "code",
   "execution_count": null,
   "id": "bb4b1cbb-a6b9-4acb-96a8-afaaafc5cf04",
   "metadata": {},
   "outputs": [],
   "source": [
    "num_usa_roamers_df"
   ]
  },
  {
   "cell_type": "code",
   "execution_count": null,
   "id": "24112cfe-0327-43aa-90ac-f681af9ddaba",
   "metadata": {},
   "outputs": [],
   "source": [
    "%%bigquery df\n",
    "\n",
    "WITH USA_roamer_usage_data AS (\n",
    "\n",
    "  SELECT \n",
    "    # MIN(event_dt) as first_date,\n",
    "    # MAX(event_dt) as most_recent_date,\n",
    "    imsi_num,     \n",
    "    event_dt,\n",
    "    --app_category_nm,\n",
    "    SUM(dl_volume_qty/1000000.0) as dl_usage_mb --Get total usage by each imsi\n",
    "  FROM\n",
    "    `cio-datahub-enterprise-pr-183a.ent_usage_unrated_ott.bq_ott_app_event`\n",
    "  WHERE \n",
    "    event_dt between \"2022-03-01\" AND \"2022-04-20\" \n",
    "    AND imsi_num like '302220%'\n",
    "    AND (mcc_id = '311' OR mcc_id = '310') -- get customers who roamed in the US\n",
    "\n",
    "  GROUP BY imsi_num, event_dt -- , app_category_nm\n",
    "),\n",
    "\n",
    "sentiment_score AS (\n",
    "  SELECT\n",
    "    call_convrstn_id,\n",
    "    converstn.entity_sntmnt_scor_qty as sentiment_score\n",
    "  FROM \n",
    "    `roaming-pr-66a1b0.ent_cust_intractn_ccai.bq_voice_call_insights`,  UNNEST(convrstn_entity) as converstn\n",
    ")\n",
    "\n",
    "SELECT \n",
    "  A.*,\n",
    "  B.MSISDN,\n",
    "  B.MOB_BAN AS BAN,\n",
    "  C.call_convrstn_id,\n",
    "  C.call_convrstn_dt,\n",
    "  C.tot_durtn_min_qty, \n",
    "  C.convrstn_transcript_txt,\n",
    "  C.SPEECH_TOPIC,\n",
    "  C.convrstn_entity,\n",
    "  D.sentiment_score,\n",
    "  C.BUSINESS_DOMAIN\n",
    "FROM USA_roamer_usage_data A  \n",
    "LEFT JOIN `cto-wln-sa-data-pr-bb5283.customer_personas_features.cust_wls_mnh_mapping_TB` B  \n",
    "ON A.imsi_num = B.IMSI\n",
    "INNER JOIN `roaming-pr-66a1b0.ent_cust_intractn_ccai.bq_voice_call_insights` C -- Data from Mar 1 to April 20\n",
    "ON B.MSISDN = C.usr_tel_num AND C.call_convrstn_dt BETWEEN A.event_dt AND DATE_ADD(A.event_dt, INTERVAL 5 DAY)\n",
    "LEFT JOIN sentiment_score D\n",
    "ON C.call_convrstn_id = D.call_convrstn_id\n",
    "WHERE C.call_convrstn_id IS NOT NULL\n"
   ]
  },
  {
   "cell_type": "code",
   "execution_count": null,
   "id": "619744e1-7c38-4728-bc9f-f1f8dd52c64f",
   "metadata": {},
   "outputs": [],
   "source": [
    "df.sort_values(by=['imsi_num', 'event_dt', 'call_convrstn_dt'])\n",
    "    "
   ]
  },
  {
   "cell_type": "code",
   "execution_count": null,
   "id": "939993d7-911a-4091-ba5e-5f2b62b47dd3",
   "metadata": {},
   "outputs": [],
   "source": [
    "df_2 = df.drop_duplicates('call_convrstn_id').reset_index(drop=True)"
   ]
  },
  {
   "cell_type": "code",
   "execution_count": null,
   "id": "93c98687-32fd-4871-b063-ae540cc14f35",
   "metadata": {},
   "outputs": [],
   "source": [
    "df_2"
   ]
  },
  {
   "cell_type": "code",
   "execution_count": null,
   "id": "27ab9aa1-ac5f-4f7b-bc13-65686bb9e401",
   "metadata": {},
   "outputs": [],
   "source": [
    "df_2['call_subject']='NON-TECHNICAL'\n",
    "df_2.loc[(df_2.BUSINESS_DOMAIN.isin(['wireless', 'WIRELESS'])) & ((df_2.SPEECH_TOPIC.str.contains('TECH|REPAIR', regex=True)) | (df_2.convrstn_transcript_txt.str.contains('SLOW|DATA|ISSUES|NETWORK|DROPPING|DROPPED|DROP|CALLS|NO SERVICE|RESTART|NO CALLS', regex=True,case=False))), 'call_subject'] = 'TECHNICAL'\n",
    "\n",
    "stats_df = df_2.groupby('call_subject').agg({'imsi_num' : 'count', 'tot_durtn_min_qty' : 'mean', 'sentiment_score' : 'mean', 'dl_usage_mb' : 'mean'}).sort_values(by='imsi_num',ascending=False).nlargest(10, 'imsi_num').reset_index()\n",
    "#stats_df.imsi_num =stats_df.imsi_num / df.groupby('SPEECH_TOPIC')['imsi_num'].count().sum()\n",
    "stats_df.rename(columns={'imsi_num' : 'number of calls', 'tot_durtn_min_qty' : 'avg_call_duration' , 'sentiment_score' : 'avg_sentiment_score', 'dl_usage_mb' : 'avg_dl_usage_mb'})"
   ]
  },
  {
   "cell_type": "code",
   "execution_count": null,
   "id": "eed87f68-8d61-425f-b588-0d8bb6d8d148",
   "metadata": {},
   "outputs": [],
   "source": [
    "pd.set_option('display.max_colwidth', 10)"
   ]
  },
  {
   "cell_type": "code",
   "execution_count": null,
   "id": "05e1a36e-f02f-4e26-b729-bd7e18cf2e0c",
   "metadata": {},
   "outputs": [],
   "source": [
    "df_2.loc[(df_2.BUSINESS_DOMAIN.isin(['wireless', 'WIRELESS'])) & (df_2.SPEECH_TOPIC.str.contains('TECH|REPAIR', regex=True)) & (df_2.convrstn_transcript_txt.str.contains('SLOW|DATA|ISSUES|NETWORK|DROPPING|DROPPED|DROP|CALLS|NO SERVICE|RESTART|NO CALLS', regex=True,case=False))]"
   ]
  },
  {
   "cell_type": "code",
   "execution_count": null,
   "id": "0e10c26e-dfb0-4eb9-a45f-bd328034f94b",
   "metadata": {},
   "outputs": [],
   "source": [
    "df.to_pickle('usa_roaming_data.pkl')"
   ]
  },
  {
   "cell_type": "code",
   "execution_count": null,
   "id": "c841f095-ee3d-44e5-811f-ad90f1a3b85f",
   "metadata": {},
   "outputs": [],
   "source": [
    "df = pd.read_pickle('usa_roaming_data.pkl')"
   ]
  },
  {
   "cell_type": "markdown",
   "id": "68914a82-23f2-42b9-be82-769ce5c95744",
   "metadata": {},
   "source": [
    "Total number of calls between Mar 1 and April 20 with a speech topic"
   ]
  },
  {
   "cell_type": "code",
   "execution_count": null,
   "id": "8161fa57-653f-4874-8ad7-1c261647901d",
   "metadata": {},
   "outputs": [],
   "source": [
    "len(df)"
   ]
  },
  {
   "cell_type": "code",
   "execution_count": null,
   "id": "d1e61c0f-5131-481e-a82b-896605aada8e",
   "metadata": {},
   "outputs": [],
   "source": [
    "df.groupby('SPEECH_TOPIC')['imsi_num'].count().sum()"
   ]
  },
  {
   "cell_type": "code",
   "execution_count": null,
   "id": "fbc9d5c3-2329-41a7-aeee-fa208318c27f",
   "metadata": {},
   "outputs": [],
   "source": [
    "df.loc[(df.BUSINESS_DOMAIN.isin(['wireless', 'WIRELESS'])) & ((df.SPEECH_TOPIC.str.contains('TECH|REPAIR', regex=True)))].SPEECH_TOPIC.unique()"
   ]
  },
  {
   "cell_type": "code",
   "execution_count": null,
   "id": "ebe0780c-3316-4bee-921a-e372a7e68310",
   "metadata": {},
   "outputs": [],
   "source": [
    "df['call_subject']='NON-TECHNICAL'\n",
    "df.loc[(df.BUSINESS_DOMAIN.isin(['wireless', 'WIRELESS'])) & (df.SPEECH_TOPIC.str.contains('TECH|REPAIR', regex=True)), 'call_subject'] = 'TECHNICAL'"
   ]
  },
  {
   "cell_type": "code",
   "execution_count": null,
   "id": "37d4c30c-e662-4caf-9227-b36c79212c25",
   "metadata": {},
   "outputs": [],
   "source": [
    "num_usa_roamers_df.values[0][0]"
   ]
  },
  {
   "cell_type": "code",
   "execution_count": null,
   "id": "b88df493-b51a-43e6-9586-6cf26bd9444c",
   "metadata": {
    "tags": []
   },
   "outputs": [],
   "source": [
    "stats_df = df.groupby('call_subject').agg({'imsi_num' : 'count', 'tot_durtn_min_qty' : 'mean', 'sentiment_score' : 'mean', 'dl_usage_mb' : 'mean'}).sort_values(by='imsi_num',ascending=False).nlargest(10, 'imsi_num').reset_index()\n",
    "#stats_df.imsi_num =stats_df.imsi_num / df.groupby('SPEECH_TOPIC')['imsi_num'].count().sum()\n",
    "stats_df.rename(columns={'imsi_num' : 'number of calls', 'tot_durtn_min_qty' : 'avg_call_duration' , 'sentiment_score' : 'avg_sentiment_score', 'dl_usage_mb' : 'avg_dl_usage_mb'})"
   ]
  },
  {
   "cell_type": "code",
   "execution_count": null,
   "id": "d6bb2e5e-334d-4ab6-8e6e-73622326d114",
   "metadata": {},
   "outputs": [],
   "source": [
    "print('number of USA roamers: '+ str(num_usa_roamers_df.values[0][0]))\n",
    "print('number of calls to client agents: ' + str(len(df)))\n",
    "\n",
    "display(stats_df)"
   ]
  },
  {
   "cell_type": "code",
   "execution_count": null,
   "id": "6ffe5262-2665-45f6-9870-7d979870f2a0",
   "metadata": {},
   "outputs": [],
   "source": [
    "stats_df = df.groupby('SPEECH_TOPIC').agg({'imsi_num' : 'count', 'tot_durtn_min_qty' : 'mean', 'sentiment_score' : 'mean', 'dl_usage_mb' : 'mean'}).sort_values(by='imsi_num',ascending=False).nlargest(10, 'imsi_num').reset_index()\n",
    "#stats_df.imsi_num =stats_df.imsi_num / df.groupby('SPEECH_TOPIC')['imsi_num'].count().sum()\n",
    "stats_df.rename(columns={'imsi_num' : 'number of calls', 'tot_durtn_min_qty' : 'avg_call_duration' , 'sentiment_score' : 'avg_sentiment_score', 'dl_usage_mb' : 'avg_dl_usage_mb'})"
   ]
  },
  {
   "cell_type": "code",
   "execution_count": null,
   "id": "9260fc24-f6c1-42cf-a34a-541d0f51ca52",
   "metadata": {},
   "outputs": [],
   "source": [
    "stats_df"
   ]
  },
  {
   "cell_type": "code",
   "execution_count": null,
   "id": "5d1b0238-6a7f-4571-8e4c-f65c8870cb12",
   "metadata": {},
   "outputs": [],
   "source": [
    "df.BUSINESS_DOMAIN.unique()"
   ]
  },
  {
   "cell_type": "code",
   "execution_count": null,
   "id": "ece89bf2-279a-48fe-a5d8-8f6aa9f4e3ca",
   "metadata": {},
   "outputs": [],
   "source": [
    "for col in df.loc[df.BUSINESS_DOMAIN.isin(['wireless', 'WIRELESS'])].SPEECH_TOPIC.unique().astype(str):\n",
    "    if ('TECH' in col) |  ('REPAIR' in col):\n",
    "        print(col)"
   ]
  },
  {
   "cell_type": "code",
   "execution_count": null,
   "id": "f8791f3b-c645-4ab2-818c-704b3c0d3363",
   "metadata": {},
   "outputs": [],
   "source": [
    "df.loc[df.SPEECH_TOPIC=='REQUEST_TECH_SUPPORT'].convrstn_transcript_txt"
   ]
  },
  {
   "cell_type": "code",
   "execution_count": null,
   "id": "1a132121-8215-49d7-9f69-953a70de0a71",
   "metadata": {},
   "outputs": [],
   "source": []
  }
 ],
 "metadata": {
  "kernelspec": {
   "display_name": "Python 3 (ipykernel)",
   "language": "python",
   "name": "python3"
  },
  "language_info": {
   "codemirror_mode": {
    "name": "ipython",
    "version": 3
   },
   "file_extension": ".py",
   "mimetype": "text/x-python",
   "name": "python",
   "nbconvert_exporter": "python",
   "pygments_lexer": "ipython3",
   "version": "3.7.12"
  }
 },
 "nbformat": 4,
 "nbformat_minor": 5
}
