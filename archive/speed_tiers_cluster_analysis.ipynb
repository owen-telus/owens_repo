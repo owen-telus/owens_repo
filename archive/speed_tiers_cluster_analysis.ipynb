{
 "cells": [
  {
   "cell_type": "code",
   "execution_count": null,
   "id": "953a8cc7",
   "metadata": {},
   "outputs": [],
   "source": [
    "import numpy as np\n",
    "import pandas as pd"
   ]
  },
  {
   "cell_type": "code",
   "execution_count": null,
   "id": "5cdf1af9",
   "metadata": {},
   "outputs": [],
   "source": [
    "%%bigquery cust_5g_imsi_df\n",
    "\n",
    "SELECT *\n",
    "FROM \n",
    "`cto-wln-sa-data-pr-bb5283.customer_personas_features.cust_plan_5g`"
   ]
  },
  {
   "cell_type": "code",
   "execution_count": null,
   "id": "8a7b8166",
   "metadata": {},
   "outputs": [],
   "source": [
    "%%bigquery speed_tiers_df\n",
    "\n",
    "SELECT *\n",
    "FROM \n",
    "`cto-wln-sa-data-pr-bb5283.customer_personas_reports.5g_speed_tiers_feature_set`"
   ]
  },
  {
   "cell_type": "code",
   "execution_count": null,
   "id": "0e98b01d",
   "metadata": {},
   "outputs": [],
   "source": [
    "%%bigquery cust_mapping_df\n",
    "\n",
    "SELECT *\n",
    "FROM \n",
    "`cto-wln-sa-data-pr-bb5283.customer_personas_features.cust_mapping`"
   ]
  },
  {
   "cell_type": "code",
   "execution_count": null,
   "id": "098347e4",
   "metadata": {},
   "outputs": [],
   "source": []
  },
  {
   "cell_type": "code",
   "execution_count": null,
   "id": "7b6be773",
   "metadata": {},
   "outputs": [],
   "source": [
    "cust_mapping_df.whsia_flag.unique()"
   ]
  },
  {
   "cell_type": "code",
   "execution_count": null,
   "id": "70316cb4",
   "metadata": {},
   "outputs": [],
   "source": [
    "speed_tiers_df"
   ]
  },
  {
   "cell_type": "markdown",
   "id": "2373f5df",
   "metadata": {},
   "source": [
    "### Drop Columns"
   ]
  },
  {
   "cell_type": "code",
   "execution_count": null,
   "id": "95a3e1cb",
   "metadata": {},
   "outputs": [],
   "source": [
    "speed_tiers_df.brand.unique()"
   ]
  },
  {
   "cell_type": "code",
   "execution_count": null,
   "id": "2d257700",
   "metadata": {},
   "outputs": [],
   "source": [
    "speed_tiers_df=speed_tiers_df.loc[speed_tiers_df.brand=='TELUS'].reset_index(drop=True)"
   ]
  },
  {
   "cell_type": "code",
   "execution_count": null,
   "id": "50f56574",
   "metadata": {},
   "outputs": [],
   "source": [
    "columns_to_drop = ['MSISDN', 'BAN', 'IMSI', 'customer_type','whsia_flag', 'account_ype' , 'brand']"
   ]
  },
  {
   "cell_type": "code",
   "execution_count": null,
   "id": "9bfa54bb",
   "metadata": {},
   "outputs": [],
   "source": [
    "dropped_df = speed_tiers_df.drop(columns=columns_to_drop)"
   ]
  },
  {
   "cell_type": "code",
   "execution_count": null,
   "id": "e42d1a78",
   "metadata": {},
   "outputs": [],
   "source": [
    "dropped_df.info()"
   ]
  },
  {
   "cell_type": "code",
   "execution_count": null,
   "id": "514ed275",
   "metadata": {},
   "outputs": [],
   "source": [
    "dropped_df"
   ]
  },
  {
   "cell_type": "markdown",
   "id": "d0b9b615",
   "metadata": {},
   "source": [
    "### Data Pre-Processing"
   ]
  },
  {
   "cell_type": "code",
   "execution_count": null,
   "id": "5b8837d1",
   "metadata": {},
   "outputs": [],
   "source": [
    "import scipy.cluster\n",
    "from sklearn import datasets, cluster\n",
    "\n",
    "from sklearn.cluster import AgglomerativeClustering\n",
    "from sklearn.metrics import silhouette_score, silhouette_samples\n",
    "from sklearn.metrics import calinski_harabasz_score\n",
    "from sklearn.cluster import FeatureAgglomeration\n",
    "from sklearn.preprocessing import StandardScaler, MinMaxScaler\n",
    "from sklearn.decomposition import PCA \n",
    "import matplotlib.pyplot as plt"
   ]
  },
  {
   "cell_type": "code",
   "execution_count": null,
   "id": "e8d3ea00",
   "metadata": {},
   "outputs": [],
   "source": [
    "dropped_df.is_5g_capable.unique()"
   ]
  },
  {
   "cell_type": "code",
   "execution_count": null,
   "id": "8063427c",
   "metadata": {},
   "outputs": [],
   "source": [
    "categorical_columns = ['province', 'is_5g_capable', 'FibreCopper']"
   ]
  },
  {
   "cell_type": "code",
   "execution_count": null,
   "id": "9a4cc25e",
   "metadata": {},
   "outputs": [],
   "source": [
    "categorical_df = pd.get_dummies(dropped_df[categorical_columns])"
   ]
  },
  {
   "cell_type": "code",
   "execution_count": null,
   "id": "f10a7f0f",
   "metadata": {},
   "outputs": [],
   "source": [
    "categorical_df"
   ]
  },
  {
   "cell_type": "code",
   "execution_count": null,
   "id": "a4076693",
   "metadata": {},
   "outputs": [],
   "source": [
    "scaler = StandardScaler()\n",
    "df_scaled = scaler.fit_transform(dropped_df.drop(columns=categorical_columns).fillna(0)) #scale features that aren't categorical\n"
   ]
  },
  {
   "cell_type": "code",
   "execution_count": null,
   "id": "c1b1710c",
   "metadata": {},
   "outputs": [],
   "source": [
    "df_processed = pd.concat([pd.DataFrame(df_scaled, columns=df_dropped.drop(columns=cat_cols).columns), categorical_df], axis=1)"
   ]
  },
  {
   "cell_type": "code",
   "execution_count": null,
   "id": "7c9dba8a",
   "metadata": {},
   "outputs": [],
   "source": [
    "df_processed.describe()"
   ]
  }
 ],
 "metadata": {
  "kernelspec": {
   "display_name": "Python 3 (ipykernel)",
   "language": "python",
   "name": "python3"
  },
  "language_info": {
   "codemirror_mode": {
    "name": "ipython",
    "version": 3
   },
   "file_extension": ".py",
   "mimetype": "text/x-python",
   "name": "python",
   "nbconvert_exporter": "python",
   "pygments_lexer": "ipython3",
   "version": "3.7.12"
  }
 },
 "nbformat": 4,
 "nbformat_minor": 5
}
