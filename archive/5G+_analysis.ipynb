{
 "cells": [
  {
   "cell_type": "code",
   "execution_count": null,
   "id": "8c8c7366",
   "metadata": {},
   "outputs": [],
   "source": [
    "import numpy as np\n",
    "import pandas as pd"
   ]
  },
  {
   "cell_type": "code",
   "execution_count": null,
   "id": "5719f34b",
   "metadata": {},
   "outputs": [],
   "source": [
    "%%bigquery df\n",
    "\n",
    "SELECT\n",
    "#-- select/deselect features that are not required for this use-case.\n",
    "\n",
    "cust.*,\n",
    "#-- wls_b.* EXCEPT(billg_acct_num),\n",
    "fc.* EXCEPT(MOB_BAN),\n",
    "tac.* EXCEPT(BAN, MSISDN),\n",
    "usg.* EXCEPT(imsi_num) \n",
    "FROM `cto-wln-sa-data-pr-bb5283.customer_personas_features.cust_mapping` as cust\n",
    "#-- LEFT JOIN `cto-wln-sa-data-pr-bb5283.customer_personas_features.gcp_wls_avg_bill_per_ban` as wls_b on c.BAN = wls_b.billg_acct_num\n",
    "INNER JOIN `cto-wln-sa-data-pr-bb5283.5G_speed_tiers.usage_per_imsi_5g_plus` as usg on cust.IMSI = usg.imsi_num\n",
    "LEFT JOIN `cto-wln-sa-data-pr-bb5283.customer_personas_features.gcp_tacs_per_ban_msisdn` as tac on cust.MSISDN = tac.MSISDN and cust.BAN = tac.BAN\n",
    "LEFT JOIN `cto-wln-sa-data-pr-bb5283.customer_personas_features.gcp_fibre_copper_per_ban_custid` as fc on cust.BAN = fc.MOB_BAN\n",
    "\n",
    "#-- add filters according to business logic\n",
    "#WHERE\n",
    "#cust.CustomerType = 'Consumer'"
   ]
  },
  {
   "cell_type": "code",
   "execution_count": null,
   "id": "47fa6489",
   "metadata": {},
   "outputs": [],
   "source": [
    "df.columns"
   ]
  },
  {
   "cell_type": "markdown",
   "id": "79731b1e",
   "metadata": {},
   "source": [
    "## Data Pre-processing"
   ]
  },
  {
   "cell_type": "code",
   "execution_count": null,
   "id": "aa50b1d2",
   "metadata": {},
   "outputs": [],
   "source": [
    "features_to_drop = ['MSISDN', 'BAN', 'IMSI', 'CustomerType', 'Brand', 'AccountType', 'CUST_ID', 'Province', 'CUST_TYPE_TXT', 'PRIM_PRICE_PLAN_TXT', 'province', 'account_ype', 'brand' , 'whsia_flag', 'customer_type' ]\n",
    "features = list(set(df.columns) - set(features_to_drop))\n",
    "cat_cols = ['FibreCopper']"
   ]
  },
  {
   "cell_type": "code",
   "execution_count": null,
   "id": "dc63d98d",
   "metadata": {},
   "outputs": [],
   "source": [
    "df_dropped = df[features]"
   ]
  },
  {
   "cell_type": "code",
   "execution_count": null,
   "id": "272a1eb3",
   "metadata": {},
   "outputs": [],
   "source": [
    "df_dropped.info()"
   ]
  },
  {
   "cell_type": "code",
   "execution_count": null,
   "id": "a38d2278",
   "metadata": {},
   "outputs": [],
   "source": [
    "df_dropped['FibreCopper'].unique()"
   ]
  },
  {
   "cell_type": "code",
   "execution_count": null,
   "id": "d2436e1e",
   "metadata": {},
   "outputs": [],
   "source": [
    "df_cat = pd.get_dummies(df_dropped[cat_cols])"
   ]
  },
  {
   "cell_type": "code",
   "execution_count": null,
   "id": "ef87b4d8",
   "metadata": {},
   "outputs": [],
   "source": [
    "df_cat"
   ]
  },
  {
   "cell_type": "code",
   "execution_count": null,
   "id": "1d39cd0e",
   "metadata": {},
   "outputs": [],
   "source": [
    "import scipy.cluster\n",
    "from sklearn import datasets, cluster\n",
    "\n",
    "from sklearn.cluster import AgglomerativeClustering\n",
    "from sklearn.metrics import silhouette_score, silhouette_samples\n",
    "from sklearn.metrics import calinski_harabasz_score\n",
    "from sklearn.cluster import FeatureAgglomeration\n",
    "from sklearn.preprocessing import StandardScaler, MinMaxScaler\n",
    "\n",
    "import matplotlib.pyplot as plt"
   ]
  },
  {
   "cell_type": "code",
   "execution_count": null,
   "id": "dae5588e",
   "metadata": {},
   "outputs": [],
   "source": [
    "from sklearn.decomposition import PCA "
   ]
  },
  {
   "cell_type": "code",
   "execution_count": null,
   "id": "18f79a36",
   "metadata": {},
   "outputs": [],
   "source": [
    "df_dropped"
   ]
  },
  {
   "cell_type": "code",
   "execution_count": null,
   "id": "572f192f",
   "metadata": {},
   "outputs": [],
   "source": [
    "scaler = StandardScaler()\n",
    "df_scaled = scaler.fit_transform(df_dropped.drop(columns=cat_cols).fillna(0))"
   ]
  },
  {
   "cell_type": "code",
   "execution_count": null,
   "id": "e0bc28dd",
   "metadata": {},
   "outputs": [],
   "source": [
    "df_processed = pd.concat([pd.DataFrame(df_scaled, columns=df_dropped.drop(columns=cat_cols).columns), df_cat], axis=1)"
   ]
  },
  {
   "cell_type": "code",
   "execution_count": null,
   "id": "e7837251",
   "metadata": {},
   "outputs": [],
   "source": [
    "df_processed.describe()"
   ]
  },
  {
   "cell_type": "markdown",
   "id": "42060ad9",
   "metadata": {},
   "source": [
    "### Feature Agglomeration"
   ]
  },
  {
   "cell_type": "code",
   "execution_count": null,
   "id": "af13a16c",
   "metadata": {},
   "outputs": [],
   "source": [
    "len(df_processed.columns)"
   ]
  },
  {
   "cell_type": "code",
   "execution_count": null,
   "id": "bd51446e",
   "metadata": {},
   "outputs": [],
   "source": [
    "n=12\n",
    "agglo = FeatureAgglomeration(n_clusters=n)\n",
    "agglo.fit(df_processed)\n",
    "df_processed_reduced = agglo.transform(df_processed)"
   ]
  },
  {
   "cell_type": "code",
   "execution_count": null,
   "id": "924266fb",
   "metadata": {},
   "outputs": [],
   "source": [
    "print(df_processed_reduced.shape, df_processed.shape)"
   ]
  },
  {
   "cell_type": "markdown",
   "id": "f38983f1",
   "metadata": {},
   "source": [
    "## Clustering"
   ]
  },
  {
   "cell_type": "code",
   "execution_count": null,
   "id": "ca364eae",
   "metadata": {},
   "outputs": [],
   "source": [
    "def do_AgglomerativeClustering(X, k):\n",
    "    agg = AgglomerativeClustering(n_clusters=k, affinity='euclidean', linkage='ward')\n",
    "    agg.fit(X)\n",
    "    c_h = calinski_harabasz_score(X, agg.labels_)\n",
    "    sil = silhouette_score(X, agg.labels_)\n",
    "    meas = [k,c_h,sil]\n",
    "    #print(\"K={}, CH={:.2f}, Sil={:.2f}\".format(k, c_h, sil))\n",
    "    return meas"
   ]
  },
  {
   "cell_type": "code",
   "execution_count": null,
   "id": "c2bb4679",
   "metadata": {},
   "outputs": [],
   "source": [
    "def my_elbow_plot(score_df):\n",
    "    K=np.array(score_df[['K']])\n",
    "    C_H=np.array(score_df[['C_H']])\n",
    "    Sil=np.array(score_df[['Sil']])\n",
    "\n",
    "    fig, ax1 = plt.subplots()\n",
    "\n",
    "    color = 'tab:red'\n",
    "    ax1.set_xlabel('K : # Clusters')\n",
    "    ax1.set_ylabel('Sil', color=color)\n",
    "    ax1.plot(K, Sil, color=color)\n",
    "    ax1.grid(axis='x')\n",
    "    ax1.tick_params(axis='y', labelcolor=color)\n",
    "    ax2 = ax1.twinx()  # instantiate a second axes that shares the same x-axis\n",
    "    color = 'tab:blue'\n",
    "    ax2.set_ylabel('C_H', color=color)  # we already handled the x-label with ax1\n",
    "    ax2.plot(K, C_H, color=color)\n",
    "    ax2.tick_params(axis='y', labelcolor=color)\n",
    "    fig.tight_layout()  # otherwise the right y-label is slightly clipped\n",
    "    plt.show()\n"
   ]
  },
  {
   "cell_type": "code",
   "execution_count": null,
   "id": "36c075e7",
   "metadata": {},
   "outputs": [],
   "source": [
    "agg = scipy.cluster.hierarchy.linkage(df_processed_reduced, method='ward', metric='euclidean')"
   ]
  },
  {
   "cell_type": "code",
   "execution_count": null,
   "id": "b3a4a96b",
   "metadata": {},
   "outputs": [],
   "source": [
    "#Evaluation\n",
    "score_df_aggl=pd.DataFrame()\n",
    "for k in range(2, 10):\n",
    "    meas = pd.Series(do_AgglomerativeClustering(agg, k))\n",
    "    score_df_aggl=score_df_aggl.append(meas,ignore_index=True)\n",
    "score_df_aggl.columns=['K','C_H','Sil']\n",
    "\n",
    "my_elbow_plot(score_df_aggl)"
   ]
  },
  {
   "cell_type": "code",
   "execution_count": null,
   "id": "7ff87c3c",
   "metadata": {},
   "outputs": [],
   "source": [
    "# Plot the dendrogram for not reduced data\n",
    "# plt.figure(figsize=(16, 8));\n",
    "# plt.grid(False)\n",
    "# plt.title(\"Dendrogram for Entire Data\");  \n",
    "# dend = scipy.cluster.hierarchy.dendrogram(agg); \n"
   ]
  },
  {
   "cell_type": "code",
   "execution_count": null,
   "id": "de0f1144",
   "metadata": {},
   "outputs": [],
   "source": [
    "K = 6\n",
    "cluster = AgglomerativeClustering(n_clusters=K, affinity='euclidean', linkage='ward')  \n",
    "cluster.fit_predict(df_processed)"
   ]
  },
  {
   "cell_type": "markdown",
   "id": "a65cc1c9",
   "metadata": {},
   "source": [
    "## Results"
   ]
  },
  {
   "cell_type": "code",
   "execution_count": null,
   "id": "72aee218",
   "metadata": {},
   "outputs": [],
   "source": [
    "pca = PCA(2)\n",
    "pca_data = pd.DataFrame(pca.fit_transform(df_processed_reduced), columns=['PC1', 'PC2'])"
   ]
  },
  {
   "cell_type": "code",
   "execution_count": null,
   "id": "a214bbc6",
   "metadata": {},
   "outputs": [],
   "source": [
    "plt.figure(figsize=(10, 7))  \n",
    "plt.scatter(pca_data['PC1'], pca_data['PC2'], c=cluster.labels_)"
   ]
  },
  {
   "cell_type": "code",
   "execution_count": null,
   "id": "b010b420",
   "metadata": {},
   "outputs": [],
   "source": [
    "df_processed"
   ]
  },
  {
   "cell_type": "code",
   "execution_count": null,
   "id": "54c2fae9",
   "metadata": {},
   "outputs": [],
   "source": [
    "df_orig_cat = pd.DataFrame(df_dropped.fillna(0), columns=df_dropped.columns)"
   ]
  },
  {
   "cell_type": "code",
   "execution_count": null,
   "id": "abc80f40",
   "metadata": {},
   "outputs": [],
   "source": [
    "df_orig_cat['labels']=cluster.labels_"
   ]
  },
  {
   "cell_type": "code",
   "execution_count": null,
   "id": "e34c226c",
   "metadata": {},
   "outputs": [],
   "source": [
    "df_orig_cat.labels.value_counts()"
   ]
  },
  {
   "cell_type": "code",
   "execution_count": null,
   "id": "518d3cdc",
   "metadata": {},
   "outputs": [],
   "source": [
    "avg_weekday_cols = [ x for x in df_orig_cat.columns if \"weekday\" in x and \"avg\" in x] + ['labels']\n",
    "avg_weekend_cols = [ x for x in df_orig_cat.columns if \"weekend\" in x and \"avg\" in x and \"num\" not in x] + ['labels']\n",
    "\n",
    "tot_weekday_cols = [ x for x in df_orig_cat.columns if \"weekday\" in x and \"total\" in x] + ['labels']\n",
    "tot_weekend_cols = [ x for x in df_orig_cat.columns if \"weekend\" in x and \"total\" in x and \"num\" not in x] + ['labels']"
   ]
  },
  {
   "cell_type": "code",
   "execution_count": null,
   "id": "b4b257a0",
   "metadata": {},
   "outputs": [],
   "source": [
    "cols_list = [avg_weekday_cols, tot_weekday_cols, avg_weekend_cols, tot_weekend_cols ]"
   ]
  },
  {
   "cell_type": "markdown",
   "id": "53e13a09",
   "metadata": {},
   "source": [
    "Clustering results aren't good because Cluster 0 and 4 have so many customers hence why the average is minimal\n"
   ]
  },
  {
   "cell_type": "code",
   "execution_count": null,
   "id": "b7fac81e",
   "metadata": {},
   "outputs": [],
   "source": [
    "np.arange(0, K)"
   ]
  },
  {
   "cell_type": "code",
   "execution_count": null,
   "id": "975a6707",
   "metadata": {},
   "outputs": [],
   "source": [
    "\n",
    "fig,axes=plt.subplots(nrows=4, ncols=3, figsize=(16, 16))\n",
    "i = 0\n",
    "for col in cols_list:\n",
    "    df_orig_cat[sorted(col)].groupby('labels').min().plot.bar(ax=axes[i,0],  legend=False)\n",
    "    df_orig_cat[sorted(col)].groupby('labels').max().plot.bar(ax=axes[i,1],  legend=False)\n",
    "    df_orig_cat[sorted(col)].groupby('labels').mean().plot.bar(ax=axes[i,2] )\n",
    "    \n",
    "    axes[i,0].set_xticklabels(axes[i,0].get_xticks(), rotation=0)\n",
    "    axes[i,1].set_xticklabels(axes[i,0].get_xticks(), rotation=0)\n",
    "    axes[i,2].set_xticklabels(axes[i,0].get_xticks(), rotation=0)\n",
    "    \n",
    "    axes[i,0].set(xlabel=None)\n",
    "    axes[i,1].set(xlabel=None)\n",
    "    axes[i,2].set(xlabel=None)\n",
    "    \n",
    "    axes[i, 2].legend(bbox_to_anchor=(2, 1))\n",
    "    i+=1\n",
    "    \n",
    "axes[0,0].set_title('MIN', fontsize=14)\n",
    "axes[0,1].set_title('MAX', fontsize=14)\n",
    "axes[0,2].set_title('MEAN', fontsize=14)\n",
    "\n",
    "axes[0,0].set_ylabel('AVG WEEKDAY', fontsize=14)\n",
    "axes[1,0].set_ylabel('TOTAL WEEKDAY', fontsize=14)\n",
    "axes[2,0].set_ylabel('AVG WEEKEND', fontsize=14)\n",
    "axes[3,0].set_ylabel('TOTAL WEEKEND', fontsize=14)\n",
    "\n",
    "axes[3,0].set_xlabel('Cluster #', fontsize=14)\n",
    "axes[3,1].set_xlabel('Cluster #', fontsize=14)\n",
    "axes[3,2].set_xlabel('Cluster #', fontsize=14)"
   ]
  },
  {
   "cell_type": "code",
   "execution_count": null,
   "id": "49e5373f",
   "metadata": {},
   "outputs": [],
   "source": [
    "df['labels']=cluster.labels_"
   ]
  },
  {
   "cell_type": "code",
   "execution_count": null,
   "id": "1a435ea6",
   "metadata": {},
   "outputs": [],
   "source": [
    "df.loc[df.labels==2].describe()"
   ]
  },
  {
   "cell_type": "code",
   "execution_count": null,
   "id": "df66cec3",
   "metadata": {},
   "outputs": [],
   "source": [
    "df_orig_cat.loc[df_orig_cat.labels==4].describe()"
   ]
  },
  {
   "cell_type": "code",
   "execution_count": null,
   "id": "5422d810",
   "metadata": {},
   "outputs": [],
   "source": [
    "df_orig_cat[sorted(tot_weekend_cols)].groupby('labels').mean()"
   ]
  },
  {
   "cell_type": "code",
   "execution_count": null,
   "id": "7032c523",
   "metadata": {},
   "outputs": [],
   "source": []
  }
 ],
 "metadata": {
  "kernelspec": {
   "display_name": "Python 3 (ipykernel)",
   "language": "python",
   "name": "python3"
  },
  "language_info": {
   "codemirror_mode": {
    "name": "ipython",
    "version": 3
   },
   "file_extension": ".py",
   "mimetype": "text/x-python",
   "name": "python",
   "nbconvert_exporter": "python",
   "pygments_lexer": "ipython3",
   "version": "3.7.12"
  }
 },
 "nbformat": 4,
 "nbformat_minor": 5
}
