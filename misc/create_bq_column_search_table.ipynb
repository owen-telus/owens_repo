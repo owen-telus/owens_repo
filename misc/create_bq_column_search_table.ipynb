{
 "cells": [
  {
   "cell_type": "code",
   "execution_count": 1,
   "id": "6c29b463-d0b0-4c47-90e8-91b432a086fd",
   "metadata": {
    "tags": []
   },
   "outputs": [],
   "source": [
    "import pandas as pd\n",
    "import numpy as np\n",
    "from datetime import datetime\n",
    "pd.options.display.max_columns = 100\n",
    "from google.cloud import bigquery\n",
    "from datetime import datetime\n",
    "from datetime import date, timedelta\n",
    "\n",
    "import sys\n",
    "sys.path.append('/home/jupyter/aaaie-customer-personas/src')\n",
    "\n",
    "from customer_personas.bq_utils import export_dataframe_to_bq, upload_data_to_gcs"
   ]
  },
  {
   "cell_type": "code",
   "execution_count": 2,
   "id": "2231bb8e-c15c-4c80-85d1-d8534f3edb0e",
   "metadata": {},
   "outputs": [],
   "source": [
    "client = bigquery.Client(location=\"northamerica-northeast1\")"
   ]
  },
  {
   "cell_type": "markdown",
   "id": "6ed26471-a7a7-4e78-86df-2e3505e2df14",
   "metadata": {
    "jp-MarkdownHeadingCollapsed": true,
    "tags": []
   },
   "source": [
    "## cto-wln-sa-data-pr-bb5283"
   ]
  },
  {
   "cell_type": "code",
   "execution_count": 3,
   "id": "094b46df-b68f-4ae9-b519-3ec40bf4c3f3",
   "metadata": {},
   "outputs": [],
   "source": [
    "query = \\\n",
    "'''\n",
    "SELECT *\n",
    "FROM `cto-wln-sa-data-pr-bb5283`.INFORMATION_SCHEMA.SCHEMATA\n",
    "'''"
   ]
  },
  {
   "cell_type": "code",
   "execution_count": 4,
   "id": "741a1ca1-25bf-40a6-8622-b3f02a10d202",
   "metadata": {},
   "outputs": [],
   "source": [
    "table_df = client.query(query).to_dataframe()"
   ]
  },
  {
   "cell_type": "code",
   "execution_count": 5,
   "id": "cccc51ad-f423-4719-842f-993d35d9abac",
   "metadata": {},
   "outputs": [
    {
     "data": {
      "text/plain": [
       "array(['ukraine_calls', 'hs_churn', 'customer_personas_temp',\n",
       "       'mobility_prospecting', 'ext_table', 'measurements_data',\n",
       "       '5G_speed_tiers', 'demostats_2021', 'crime_stat_model',\n",
       "       'vertex_ai_pipelines', 'ccai_insights_for_churn',\n",
       "       'wln_churn_hsia_model', 'featurehub_postal_demogr', 'app_cat_map',\n",
       "       'campaigns_emails', 'proactive_assurance', 'solution_sell',\n",
       "       'int_res_cust_cust',\n",
       "       'export_evaluated_data_items_untitled_1662742715070_2022_09_09T10_02_48_809Z',\n",
       "       'wln_churn_account', 'wifi_plus', 'eval_prospecting',\n",
       "       'ffh_multicultural', 'ffh_multicultural_pipeline',\n",
       "       '4th_carrier_analysis', 'internet_upsell', 'featurehub_ban_demogr',\n",
       "       'wln_churn_account_analysis', 'feature_store_ban_clickstream',\n",
       "       'customer_personas_reports', 'roaming_pre_trip_data',\n",
       "       'copper_fiber_migration', 'tmp', 'log_table',\n",
       "       'nearmap_ai_insights', 'crime_stats_bi_weekly_campaigns',\n",
       "       'stage_age_model', 'devops', 'tos', 'content_creation_pik_tv',\n",
       "       'feature_store_ban_product', 'ban_id_chandan', 'stored_procedure',\n",
       "       'tv_solution_sell', 'wln_add_mob_naked', 'temp_workspace',\n",
       "       'model_deployment_monitoring_9104765518543323136',\n",
       "       'accidental_roaming', 'wln_churn_pipeline_validation',\n",
       "       'competitor_app_soft_shoppers',\n",
       "       'model_deployment_monitoring_2896553432213094400',\n",
       "       'copper_fiber_analysis',\n",
       "       'model_deployment_monitoring_8895348135870595072',\n",
       "       'outage_impacted_customers_r', 'hspa_migration_3g_shutdown',\n",
       "       'poi_dataset', 'cust_bill',\n",
       "       'model_deployment_monitoring_1396854756298719232',\n",
       "       'cto_wln_sa_data_pr_dataset',\n",
       "       'customer_personas_multicultural_model', 'template',\n",
       "       'wln_cross_sell', 'butterfly_dataset', 'ramys_mess',\n",
       "       'whsia_5g_upsell', 'hackbytes_churn_prediction',\n",
       "       'D2C_knock_partner', 'ttv_churn', 'wln_churn_pipeline',\n",
       "       'model_deployment_monitoring_5393799425590034432',\n",
       "       'model_deployment_monitoring_3141999611904786432',\n",
       "       'customer_personas_features', 'netscout_staging', 'STV_waves',\n",
       "       'ott_sample', 'model_deployment_monitoring_7440685456229924864',\n",
       "       'test_addr_cleanse', 'template_stored_procedure',\n",
       "       'customer_personas_pipelines', 'validate_unverified_mob',\n",
       "       'ref_table', 'smarthub_ced', 'content_recco'], dtype=object)"
      ]
     },
     "execution_count": 5,
     "metadata": {},
     "output_type": "execute_result"
    }
   ],
   "source": [
    "table_df.schema_name.unique()"
   ]
  },
  {
   "cell_type": "code",
   "execution_count": null,
   "id": "24a93202-f40a-4094-8976-f764543e580d",
   "metadata": {},
   "outputs": [],
   "source": [
    "table_column_query = \\\n",
    "'''\n",
    "SELECT\n",
    "  *\n",
    "FROM\n",
    "  `{project_id}.{dataset_name}`.INFORMATION_SCHEMA.COLUMN_FIELD_PATHS\n",
    "'''"
   ]
  },
  {
   "cell_type": "code",
   "execution_count": null,
   "id": "3918fd5b-d511-4cbf-a9b5-db73849df43c",
   "metadata": {},
   "outputs": [],
   "source": [
    "project_column_info_df = pd.DataFrame()\n",
    "for index, row in table_df.iterrows():\n",
    "    query_ = table_column_query.format(project_id = row['catalog_name'],\n",
    "                                       dataset_name = row['schema_name'])\n",
    "    df = client.query(query_).to_dataframe()\n",
    "    project_column_info_df = project_column_info_df.append(df)"
   ]
  },
  {
   "cell_type": "code",
   "execution_count": null,
   "id": "f332bc7c-4641-451d-ab4c-ed7dd4b3b245",
   "metadata": {},
   "outputs": [],
   "source": [
    "project_column_info_df.reset_index(drop=True)"
   ]
  },
  {
   "cell_type": "markdown",
   "id": "52a00abd-0c0b-4442-8ad2-5386f583c09c",
   "metadata": {},
   "source": [
    "## Datahub Tables"
   ]
  },
  {
   "cell_type": "code",
   "execution_count": 6,
   "id": "9979ade1-4906-4743-8719-2d92e4236166",
   "metadata": {},
   "outputs": [],
   "source": [
    "datahub_dataset_names = pd.read_csv('datahub_table_names.csv')"
   ]
  },
  {
   "cell_type": "code",
   "execution_count": 7,
   "id": "923bc264-57b6-4308-8519-b7d0cb5e1733",
   "metadata": {},
   "outputs": [
    {
     "data": {
      "text/html": [
       "<div>\n",
       "<style scoped>\n",
       "    .dataframe tbody tr th:only-of-type {\n",
       "        vertical-align: middle;\n",
       "    }\n",
       "\n",
       "    .dataframe tbody tr th {\n",
       "        vertical-align: top;\n",
       "    }\n",
       "\n",
       "    .dataframe thead th {\n",
       "        text-align: right;\n",
       "    }\n",
       "</style>\n",
       "<table border=\"1\" class=\"dataframe\">\n",
       "  <thead>\n",
       "    <tr style=\"text-align: right;\">\n",
       "      <th></th>\n",
       "      <th>datahub_table_names</th>\n",
       "    </tr>\n",
       "  </thead>\n",
       "  <tbody>\n",
       "    <tr>\n",
       "      <th>0</th>\n",
       "      <td>ent_chat</td>\n",
       "    </tr>\n",
       "    <tr>\n",
       "      <th>1</th>\n",
       "      <td>ent_cntct_evnt</td>\n",
       "    </tr>\n",
       "  </tbody>\n",
       "</table>\n",
       "</div>"
      ],
      "text/plain": [
       "  datahub_table_names\n",
       "0            ent_chat\n",
       "1      ent_cntct_evnt"
      ]
     },
     "execution_count": 7,
     "metadata": {},
     "output_type": "execute_result"
    }
   ],
   "source": [
    "datahub_dataset_names.head(2)"
   ]
  },
  {
   "cell_type": "code",
   "execution_count": 8,
   "id": "6d739e93-b291-4a71-8c2c-b47cf49deb8a",
   "metadata": {},
   "outputs": [],
   "source": [
    "datahub_column_query = \\\n",
    "'''\n",
    "SELECT\n",
    "  *\n",
    "FROM\n",
    "  `cio-datahub-enterprise-pr-183a.{dataset_name}`.INFORMATION_SCHEMA.COLUMN_FIELD_PATHS\n",
    "'''"
   ]
  },
  {
   "cell_type": "code",
   "execution_count": 9,
   "id": "3857408b-056f-4c1c-8060-179828a1bcef",
   "metadata": {},
   "outputs": [],
   "source": [
    "datahub_column_info_df = pd.DataFrame()\n",
    "for index, row in datahub_dataset_names.iterrows():\n",
    "    query_ = datahub_column_query.format(dataset_name = row['datahub_table_names'])\n",
    "    try:\n",
    "        df = client.query(query_).to_dataframe()\n",
    "        datahub_column_info_df = datahub_column_info_df.append(df)\n",
    "    except: \n",
    "        continue"
   ]
  },
  {
   "cell_type": "code",
   "execution_count": 10,
   "id": "57ebb6eb-d74d-4c86-80a8-1d1872f7fe51",
   "metadata": {},
   "outputs": [
    {
     "data": {
      "text/html": [
       "<div>\n",
       "<style scoped>\n",
       "    .dataframe tbody tr th:only-of-type {\n",
       "        vertical-align: middle;\n",
       "    }\n",
       "\n",
       "    .dataframe tbody tr th {\n",
       "        vertical-align: top;\n",
       "    }\n",
       "\n",
       "    .dataframe thead th {\n",
       "        text-align: right;\n",
       "    }\n",
       "</style>\n",
       "<table border=\"1\" class=\"dataframe\">\n",
       "  <thead>\n",
       "    <tr style=\"text-align: right;\">\n",
       "      <th></th>\n",
       "      <th>table_catalog</th>\n",
       "      <th>table_schema</th>\n",
       "      <th>table_name</th>\n",
       "      <th>column_name</th>\n",
       "      <th>field_path</th>\n",
       "      <th>data_type</th>\n",
       "      <th>description</th>\n",
       "      <th>collation_name</th>\n",
       "      <th>rounding_mode</th>\n",
       "    </tr>\n",
       "  </thead>\n",
       "  <tbody>\n",
       "    <tr>\n",
       "      <th>0</th>\n",
       "      <td>cio-datahub-enterprise-pr-183a</td>\n",
       "      <td>ent_chat</td>\n",
       "      <td>bq_agent_chat_intractn</td>\n",
       "      <td>agnt_chat_intractn_id</td>\n",
       "      <td>agnt_chat_intractn_id</td>\n",
       "      <td>STRING</td>\n",
       "      <td>Unique interaction id assigned for chat intera...</td>\n",
       "      <td>NULL</td>\n",
       "      <td>None</td>\n",
       "    </tr>\n",
       "    <tr>\n",
       "      <th>1</th>\n",
       "      <td>cio-datahub-enterprise-pr-183a</td>\n",
       "      <td>ent_chat</td>\n",
       "      <td>bq_agent_chat_intractn</td>\n",
       "      <td>agnt_chat_intractn_start_ts</td>\n",
       "      <td>agnt_chat_intractn_start_ts</td>\n",
       "      <td>DATETIME</td>\n",
       "      <td>Start time of the chat interaction</td>\n",
       "      <td>NULL</td>\n",
       "      <td>None</td>\n",
       "    </tr>\n",
       "    <tr>\n",
       "      <th>2</th>\n",
       "      <td>cio-datahub-enterprise-pr-183a</td>\n",
       "      <td>ent_chat</td>\n",
       "      <td>bq_agent_chat_intractn</td>\n",
       "      <td>agnt_chat_intractn_mod_ts</td>\n",
       "      <td>agnt_chat_intractn_mod_ts</td>\n",
       "      <td>DATETIME</td>\n",
       "      <td>Time when the chat interaction was modified</td>\n",
       "      <td>NULL</td>\n",
       "      <td>None</td>\n",
       "    </tr>\n",
       "    <tr>\n",
       "      <th>3</th>\n",
       "      <td>cio-datahub-enterprise-pr-183a</td>\n",
       "      <td>ent_chat</td>\n",
       "      <td>bq_agent_chat_intractn</td>\n",
       "      <td>agnt_chat_intractn_end_ts</td>\n",
       "      <td>agnt_chat_intractn_end_ts</td>\n",
       "      <td>DATETIME</td>\n",
       "      <td>End time of the chat interaction</td>\n",
       "      <td>NULL</td>\n",
       "      <td>None</td>\n",
       "    </tr>\n",
       "    <tr>\n",
       "      <th>4</th>\n",
       "      <td>cio-datahub-enterprise-pr-183a</td>\n",
       "      <td>ent_chat</td>\n",
       "      <td>bq_agent_chat_intractn</td>\n",
       "      <td>agnt_chat_intractn_stat</td>\n",
       "      <td>agnt_chat_intractn_stat</td>\n",
       "      <td>INT64</td>\n",
       "      <td>Status assigned to the chat interaction</td>\n",
       "      <td>NULL</td>\n",
       "      <td>None</td>\n",
       "    </tr>\n",
       "    <tr>\n",
       "      <th>...</th>\n",
       "      <td>...</td>\n",
       "      <td>...</td>\n",
       "      <td>...</td>\n",
       "      <td>...</td>\n",
       "      <td>...</td>\n",
       "      <td>...</td>\n",
       "      <td>...</td>\n",
       "      <td>...</td>\n",
       "      <td>...</td>\n",
       "    </tr>\n",
       "    <tr>\n",
       "      <th>81226</th>\n",
       "      <td>cio-datahub-enterprise-pr-183a</td>\n",
       "      <td>src_tmods</td>\n",
       "      <td>bq_position_extract</td>\n",
       "      <td>personnel_sub_area_id</td>\n",
       "      <td>personnel_sub_area_id</td>\n",
       "      <td>NUMERIC</td>\n",
       "      <td>None</td>\n",
       "      <td>NULL</td>\n",
       "      <td>None</td>\n",
       "    </tr>\n",
       "    <tr>\n",
       "      <th>81227</th>\n",
       "      <td>cio-datahub-enterprise-pr-183a</td>\n",
       "      <td>src_tmods</td>\n",
       "      <td>bq_position_extract</td>\n",
       "      <td>personnel_sub_area_cd</td>\n",
       "      <td>personnel_sub_area_cd</td>\n",
       "      <td>STRING</td>\n",
       "      <td>None</td>\n",
       "      <td>NULL</td>\n",
       "      <td>None</td>\n",
       "    </tr>\n",
       "    <tr>\n",
       "      <th>81228</th>\n",
       "      <td>cio-datahub-enterprise-pr-183a</td>\n",
       "      <td>src_tmods</td>\n",
       "      <td>bq_position_extract</td>\n",
       "      <td>personnel_sub_area_txt</td>\n",
       "      <td>personnel_sub_area_txt</td>\n",
       "      <td>STRING</td>\n",
       "      <td>None</td>\n",
       "      <td>NULL</td>\n",
       "      <td>None</td>\n",
       "    </tr>\n",
       "    <tr>\n",
       "      <th>81229</th>\n",
       "      <td>cio-datahub-enterprise-pr-183a</td>\n",
       "      <td>src_tmods</td>\n",
       "      <td>bq_position_extract</td>\n",
       "      <td>location_cd</td>\n",
       "      <td>location_cd</td>\n",
       "      <td>STRING</td>\n",
       "      <td>None</td>\n",
       "      <td>NULL</td>\n",
       "      <td>None</td>\n",
       "    </tr>\n",
       "    <tr>\n",
       "      <th>81230</th>\n",
       "      <td>cio-datahub-enterprise-pr-183a</td>\n",
       "      <td>src_tmods</td>\n",
       "      <td>bq_position_extract</td>\n",
       "      <td>snapshot_load_ts</td>\n",
       "      <td>snapshot_load_ts</td>\n",
       "      <td>TIMESTAMP</td>\n",
       "      <td>None</td>\n",
       "      <td>NULL</td>\n",
       "      <td>None</td>\n",
       "    </tr>\n",
       "  </tbody>\n",
       "</table>\n",
       "<p>81231 rows × 9 columns</p>\n",
       "</div>"
      ],
      "text/plain": [
       "                        table_catalog table_schema              table_name  \\\n",
       "0      cio-datahub-enterprise-pr-183a     ent_chat  bq_agent_chat_intractn   \n",
       "1      cio-datahub-enterprise-pr-183a     ent_chat  bq_agent_chat_intractn   \n",
       "2      cio-datahub-enterprise-pr-183a     ent_chat  bq_agent_chat_intractn   \n",
       "3      cio-datahub-enterprise-pr-183a     ent_chat  bq_agent_chat_intractn   \n",
       "4      cio-datahub-enterprise-pr-183a     ent_chat  bq_agent_chat_intractn   \n",
       "...                               ...          ...                     ...   \n",
       "81226  cio-datahub-enterprise-pr-183a    src_tmods     bq_position_extract   \n",
       "81227  cio-datahub-enterprise-pr-183a    src_tmods     bq_position_extract   \n",
       "81228  cio-datahub-enterprise-pr-183a    src_tmods     bq_position_extract   \n",
       "81229  cio-datahub-enterprise-pr-183a    src_tmods     bq_position_extract   \n",
       "81230  cio-datahub-enterprise-pr-183a    src_tmods     bq_position_extract   \n",
       "\n",
       "                       column_name                   field_path  data_type  \\\n",
       "0            agnt_chat_intractn_id        agnt_chat_intractn_id     STRING   \n",
       "1      agnt_chat_intractn_start_ts  agnt_chat_intractn_start_ts   DATETIME   \n",
       "2        agnt_chat_intractn_mod_ts    agnt_chat_intractn_mod_ts   DATETIME   \n",
       "3        agnt_chat_intractn_end_ts    agnt_chat_intractn_end_ts   DATETIME   \n",
       "4          agnt_chat_intractn_stat      agnt_chat_intractn_stat      INT64   \n",
       "...                            ...                          ...        ...   \n",
       "81226        personnel_sub_area_id        personnel_sub_area_id    NUMERIC   \n",
       "81227        personnel_sub_area_cd        personnel_sub_area_cd     STRING   \n",
       "81228       personnel_sub_area_txt       personnel_sub_area_txt     STRING   \n",
       "81229                  location_cd                  location_cd     STRING   \n",
       "81230             snapshot_load_ts             snapshot_load_ts  TIMESTAMP   \n",
       "\n",
       "                                             description collation_name  \\\n",
       "0      Unique interaction id assigned for chat intera...           NULL   \n",
       "1                     Start time of the chat interaction           NULL   \n",
       "2            Time when the chat interaction was modified           NULL   \n",
       "3                       End time of the chat interaction           NULL   \n",
       "4               Status assigned to the chat interaction            NULL   \n",
       "...                                                  ...            ...   \n",
       "81226                                               None           NULL   \n",
       "81227                                               None           NULL   \n",
       "81228                                               None           NULL   \n",
       "81229                                               None           NULL   \n",
       "81230                                               None           NULL   \n",
       "\n",
       "      rounding_mode  \n",
       "0              None  \n",
       "1              None  \n",
       "2              None  \n",
       "3              None  \n",
       "4              None  \n",
       "...             ...  \n",
       "81226          None  \n",
       "81227          None  \n",
       "81228          None  \n",
       "81229          None  \n",
       "81230          None  \n",
       "\n",
       "[81231 rows x 9 columns]"
      ]
     },
     "execution_count": 10,
     "metadata": {},
     "output_type": "execute_result"
    }
   ],
   "source": [
    "datahub_column_info_df.reset_index(drop=True)"
   ]
  },
  {
   "cell_type": "code",
   "execution_count": 13,
   "id": "68d70293-54bf-464d-ad31-7954ec59b57c",
   "metadata": {},
   "outputs": [
    {
     "name": "stdout",
     "output_type": "stream",
     "text": [
      "[SchemaField('table_catalog', 'STRING', 'NULLABLE', None, (), None), SchemaField('table_schema', 'STRING', 'NULLABLE', None, (), None), SchemaField('table_name', 'STRING', 'NULLABLE', None, (), None), SchemaField('column_name', 'STRING', 'NULLABLE', None, (), None), SchemaField('field_path', 'STRING', 'NULLABLE', None, (), None), SchemaField('data_type', 'STRING', 'NULLABLE', None, (), None), SchemaField('description', 'STRING', 'NULLABLE', None, (), None), SchemaField('collation_name', 'STRING', 'NULLABLE', None, (), None), SchemaField('rounding_mode', 'STRING', 'NULLABLE', None, (), None)]\n",
      "Loaded 81231 rows and 9 columns to cto-wln-sa-data-pr-bb5283.ref_table.datahub_schema_info\n"
     ]
    }
   ],
   "source": [
    "BQ_TABLE_ID= 'cto-wln-sa-data-pr-bb5283.ref_table.datahub_schema_info'\n",
    "export_dataframe_to_bq(datahub_column_info_df.reset_index(drop=True),\n",
    "                       table_id=BQ_TABLE_ID,\n",
    "                       schema_list=[],\n",
    "                       generate_schema=True)"
   ]
  },
  {
   "cell_type": "code",
   "execution_count": null,
   "id": "6577d35d-b3b9-43a5-b706-a39bcdd4bd51",
   "metadata": {},
   "outputs": [],
   "source": []
  }
 ],
 "metadata": {
  "kernelspec": {
   "display_name": "Python 3 (ipykernel)",
   "language": "python",
   "name": "python3"
  },
  "language_info": {
   "codemirror_mode": {
    "name": "ipython",
    "version": 3
   },
   "file_extension": ".py",
   "mimetype": "text/x-python",
   "name": "python",
   "nbconvert_exporter": "python",
   "pygments_lexer": "ipython3",
   "version": "3.7.12"
  }
 },
 "nbformat": 4,
 "nbformat_minor": 5
}
