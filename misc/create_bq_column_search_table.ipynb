{
 "cells": [
  {
   "cell_type": "code",
   "execution_count": null,
   "id": "6c29b463-d0b0-4c47-90e8-91b432a086fd",
   "metadata": {
    "tags": []
   },
   "outputs": [],
   "source": [
    "import pandas as pd\n",
    "import numpy as np\n",
    "from datetime import datetime\n",
    "pd.options.display.max_columns = 100\n",
    "from google.cloud import bigquery\n",
    "from datetime import datetime\n",
    "from datetime import date, timedelta\n",
    "\n",
    "import sys\n",
    "sys.path.append('/home/jupyter/aaaie-customer-personas/src')\n",
    "\n",
    "from customer_personas.bq_utils import export_dataframe_to_bq, upload_data_to_gcs"
   ]
  },
  {
   "cell_type": "code",
   "execution_count": null,
   "id": "2231bb8e-c15c-4c80-85d1-d8534f3edb0e",
   "metadata": {},
   "outputs": [],
   "source": [
    "client = bigquery.Client(location=\"northamerica-northeast1\")"
   ]
  },
  {
   "cell_type": "markdown",
   "id": "6ed26471-a7a7-4e78-86df-2e3505e2df14",
   "metadata": {},
   "source": [
    "## cto-wln-sa-data-pr-bb5283"
   ]
  },
  {
   "cell_type": "code",
   "execution_count": null,
   "id": "094b46df-b68f-4ae9-b519-3ec40bf4c3f3",
   "metadata": {},
   "outputs": [],
   "source": [
    "query = \\\n",
    "'''\n",
    "SELECT *\n",
    "FROM `cto-wln-sa-data-pr-bb5283`.INFORMATION_SCHEMA.SCHEMATA\n",
    "'''"
   ]
  },
  {
   "cell_type": "code",
   "execution_count": null,
   "id": "741a1ca1-25bf-40a6-8622-b3f02a10d202",
   "metadata": {},
   "outputs": [],
   "source": [
    "table_df = client.query(query).to_dataframe()"
   ]
  },
  {
   "cell_type": "code",
   "execution_count": null,
   "id": "cccc51ad-f423-4719-842f-993d35d9abac",
   "metadata": {},
   "outputs": [],
   "source": [
    "table_df.schema_name.unique()"
   ]
  },
  {
   "cell_type": "code",
   "execution_count": null,
   "id": "24a93202-f40a-4094-8976-f764543e580d",
   "metadata": {},
   "outputs": [],
   "source": [
    "table_column_query = \\\n",
    "'''\n",
    "SELECT\n",
    "  *\n",
    "FROM\n",
    "  `{project_id}.{dataset_name}`.INFORMATION_SCHEMA.COLUMN_FIELD_PATHS\n",
    "'''"
   ]
  },
  {
   "cell_type": "code",
   "execution_count": null,
   "id": "3918fd5b-d511-4cbf-a9b5-db73849df43c",
   "metadata": {},
   "outputs": [],
   "source": [
    "project_column_info_df = pd.DataFrame()\n",
    "for index, row in table_df.iterrows():\n",
    "    query_ = table_column_query.format(project_id = row['catalog_name'],\n",
    "                                       dataset_name = row['schema_name'])\n",
    "    df = client.query(query_).to_dataframe()\n",
    "    project_column_info_df = project_column_info_df.append(df)"
   ]
  },
  {
   "cell_type": "code",
   "execution_count": null,
   "id": "f332bc7c-4641-451d-ab4c-ed7dd4b3b245",
   "metadata": {},
   "outputs": [],
   "source": [
    "project_column_info_df.reset_index(drop=True)"
   ]
  },
  {
   "cell_type": "markdown",
   "id": "52a00abd-0c0b-4442-8ad2-5386f583c09c",
   "metadata": {},
   "source": [
    "## Datahub Tables"
   ]
  },
  {
   "cell_type": "code",
   "execution_count": null,
   "id": "9979ade1-4906-4743-8719-2d92e4236166",
   "metadata": {},
   "outputs": [],
   "source": [
    "datahub_dataset_names = pd.read_csv('datahub_table_names.csv')"
   ]
  },
  {
   "cell_type": "code",
   "execution_count": null,
   "id": "923bc264-57b6-4308-8519-b7d0cb5e1733",
   "metadata": {},
   "outputs": [],
   "source": [
    "datahub_dataset_names.head(2)"
   ]
  },
  {
   "cell_type": "code",
   "execution_count": null,
   "id": "6d739e93-b291-4a71-8c2c-b47cf49deb8a",
   "metadata": {},
   "outputs": [],
   "source": [
    "datahub_column_query = \\\n",
    "'''\n",
    "SELECT\n",
    "  *\n",
    "FROM\n",
    "  `cio-datahub-enterprise-pr-183a.{dataset_name}`.INFORMATION_SCHEMA.COLUMN_FIELD_PATHS\n",
    "'''"
   ]
  },
  {
   "cell_type": "code",
   "execution_count": null,
   "id": "3857408b-056f-4c1c-8060-179828a1bcef",
   "metadata": {},
   "outputs": [],
   "source": [
    "datahub_column_info_df = pd.DataFrame()\n",
    "for index, row in datahub_dataset_names.iterrows():\n",
    "    query_ = datahub_column_query.format(dataset_name = row['datahub_table_names'])\n",
    "    try:\n",
    "        df = client.query(query_).to_dataframe()\n",
    "        datahub_column_info_df = datahub_column_info_df.append(df)\n",
    "    except: \n",
    "        continue"
   ]
  },
  {
   "cell_type": "code",
   "execution_count": null,
   "id": "57ebb6eb-d74d-4c86-80a8-1d1872f7fe51",
   "metadata": {},
   "outputs": [],
   "source": [
    "datahub_column_info_df.reset_index(drop=True)"
   ]
  },
  {
   "cell_type": "code",
   "execution_count": null,
   "id": "68d70293-54bf-464d-ad31-7954ec59b57c",
   "metadata": {},
   "outputs": [],
   "source": [
    "BQ_TABLE_ID= 'cto-wln-sa-data-pr-bb5283.ref_table.datahub_schema_info'\n",
    "export_dataframe_to_bq(datahub_column_info_df.reset_index(drop=True),\n",
    "                       table_id=BQ_TABLE_ID,\n",
    "                       schema_list=[],\n",
    "                       generate_schema=True)"
   ]
  },
  {
   "cell_type": "code",
   "execution_count": null,
   "id": "6577d35d-b3b9-43a5-b706-a39bcdd4bd51",
   "metadata": {},
   "outputs": [],
   "source": []
  }
 ],
 "metadata": {
  "kernelspec": {
   "display_name": "Python 3 (ipykernel)",
   "language": "python",
   "name": "python3"
  },
  "language_info": {
   "codemirror_mode": {
    "name": "ipython",
    "version": 3
   },
   "file_extension": ".py",
   "mimetype": "text/x-python",
   "name": "python",
   "nbconvert_exporter": "python",
   "pygments_lexer": "ipython3",
   "version": "3.7.12"
  }
 },
 "nbformat": 4,
 "nbformat_minor": 5
}
