{
 "cells": [
  {
   "cell_type": "code",
   "execution_count": null,
   "id": "844b25b3-d69f-4197-8518-76fc7cf965db",
   "metadata": {},
   "outputs": [],
   "source": [
    "import pandas as pd\n",
    "import numpy as np\n",
    "import seaborn as sns\n",
    "pd.set_option(\"display.max_columns\", None)\n",
    "pd.set_option(\"display.max_rows\", 100)\n",
    "import matplotlib.pyplot as plt\n",
    "from google.cloud import bigquery\n"
   ]
  },
  {
   "cell_type": "code",
   "execution_count": null,
   "id": "7933abbd-9e68-4ecd-80e5-5483b94f21a7",
   "metadata": {},
   "outputs": [],
   "source": [
    "%%bigquery mob_base\n",
    "\n",
    "SELECT \n",
    "    BACCT_BUS_BACCT_NUM AS BAN,\n",
    "    pi_prod_instnc_resrc_str AS MSISDN,\n",
    "    pp_bus_pp_catlg_itm_cd AS PRICE_PLAN_CD,\n",
    "    pp_catlg_itm_nm AS PRICE_PLAN_TXT,\n",
    "    pp_recur_chrg_amt,\n",
    "    pp_avail_for_sale_ind AS PLAN_AVAIL_FOR_SALE,\n",
    "    pp_sls_start_ts AS PRICE_PLAN_START_DATE,\n",
    "    pp_sls_end_ts AS PRICE_PLAN_END_DATE,\n",
    "    pp_cust_facing_ind AS PLAN_CAN_BE_SOLD_TO_CUSTOMERS\n",
    "FROM `cio-datahub-enterprise-pr-183a.ent_cust_cust.bq_prod_instnc_snpsht` \n",
    "WHERE \n",
    "    prod_instnc_ts = (SELECT MAX(prod_instnc_ts) FROM `cio-datahub-enterprise-pr-183a.ent_cust_cust.bq_prod_instnc_snpsht` )  -- Get most recent date in snapshot table\n",
    "    AND bacct_brand_id=1 -- 1 For Telus\n",
    "    AND pi_prod_instnc_typ_cd = 'C'-- Celluluar products \n",
    "    AND bacct_bacct_typ_cd = 'I' -- Consumer\n",
    "    AND bacct_bacct_subtyp_cd = 'R' -- Account Sub type\n",
    "    AND bacct_bacct_stat_cd = 'O' -- Billing account open  \n",
    "    AND pi_prod_instnc_stat_cd = 'A' -- Status of product instance\n",
    "    AND bacct_billg_mthd_cd ='POST' -- Post Pay customers only\n",
    "    --AND (UPPER(pp_catlg_itm_nm) NOT LIKE '%TABLET%' OR UPPER(pp_catlg_itm_nm) NOT LIKE '%WATCH%')\n",
    "    AND pp_bus_pp_catlg_itm_cd NOT IN (SELECT whsia_soc FROM `cto-wln-sa-data-pr-bb5283.ref_table.bq_whsia_soc_codes`)"
   ]
  },
  {
   "cell_type": "code",
   "execution_count": null,
   "id": "87d38dd2-1f21-44b5-a48b-355f9ccef74d",
   "metadata": {},
   "outputs": [],
   "source": [
    "mob_base.shape"
   ]
  },
  {
   "cell_type": "code",
   "execution_count": null,
   "id": "c45ac3cf-a162-463e-b2f5-e540b8c11c0f",
   "metadata": {},
   "outputs": [],
   "source": [
    "soc_cd_df = pd.read_csv('soc_codes.csv')"
   ]
  },
  {
   "cell_type": "code",
   "execution_count": null,
   "id": "08d4857d-a365-4d94-ad65-a03dc983aef3",
   "metadata": {},
   "outputs": [],
   "source": [
    "headers=soc_cd_df.iloc[0,:-5]\n",
    "print(headers)\n",
    "clean_soc_cd_df = soc_cd_df.iloc[2:,:-5]\n",
    "clean_soc_cd_df.rename(columns=dict(headers),inplace=True)"
   ]
  },
  {
   "cell_type": "code",
   "execution_count": null,
   "id": "557415c5-1390-417d-9756-6cdf75c5c6fd",
   "metadata": {},
   "outputs": [],
   "source": [
    "clean_soc_cd_df"
   ]
  },
  {
   "cell_type": "code",
   "execution_count": null,
   "id": "f7969212-5bdd-4809-91e4-a7d00b64e3bf",
   "metadata": {},
   "outputs": [],
   "source": [
    "%%bigquery data_allowance_df \n",
    "SELECT * \n",
    "FROM `cto-wln-sa-data-pr-bb5283.customer_personas_features.price_plan_cd_to_data_allowance`"
   ]
  },
  {
   "cell_type": "code",
   "execution_count": null,
   "id": "f787f5c6-fd3f-4dc1-8ac8-415889d5edf3",
   "metadata": {},
   "outputs": [],
   "source": [
    "data_allowance_df.head(1)"
   ]
  },
  {
   "cell_type": "markdown",
   "id": "851cd7f1-d672-49df-9f45-f0f19c7e7141",
   "metadata": {},
   "source": [
    "## Check codes in one column do not exist in other columns"
   ]
  },
  {
   "cell_type": "code",
   "execution_count": null,
   "id": "14ec35ec-1feb-411e-88e3-f82b1db930a4",
   "metadata": {},
   "outputs": [],
   "source": [
    "for i in range(clean_soc_cd_df.shape[1]):\n",
    "    print(clean_soc_cd_df.columns[i])\n",
    "    for j in range(clean_soc_cd_df.shape[1]):\n",
    "        \n",
    "        if clean_soc_cd_df.columns[i] != clean_soc_cd_df.columns[j]:\n",
    "            #print(clean_soc_cd_df.columns[j])\n",
    "            num_na = clean_soc_cd_df[clean_soc_cd_df.columns[i]].isna().sum()\n",
    "            if (clean_soc_cd_df[clean_soc_cd_df.columns[i]].isin(clean_soc_cd_df[clean_soc_cd_df.columns[j]]).sum() != num_na and clean_soc_cd_df[clean_soc_cd_df.columns[i]].isin(clean_soc_cd_df[clean_soc_cd_df.columns[j]]).shape[0]!=0):\n",
    "                print('Codes in ' + clean_soc_cd_df.columns[i] + ' are in ' + clean_soc_cd_df.columns[j])\n",
    "                \n",
    "        "
   ]
  },
  {
   "cell_type": "code",
   "execution_count": null,
   "id": "93301766-2050-4ee1-98c2-53252b1fa170",
   "metadata": {},
   "outputs": [],
   "source": [
    "clean_soc_cd_df[clean_soc_cd_df.columns[i]].isin(clean_soc_cd_df[clean_soc_cd_df.columns[j]]).sum()"
   ]
  },
  {
   "cell_type": "code",
   "execution_count": null,
   "id": "8fbd2e82-eba6-4a22-9c6f-18ac88d131c2",
   "metadata": {},
   "outputs": [],
   "source": [
    "clean_soc_cd_df['Plan_5G'].isna().sum()"
   ]
  },
  {
   "cell_type": "code",
   "execution_count": null,
   "id": "5ce1a258-6f37-428a-a757-c844bf99b049",
   "metadata": {},
   "outputs": [],
   "source": [
    "mob_base['price_plan_type']='other'"
   ]
  },
  {
   "cell_type": "code",
   "execution_count": null,
   "id": "9a49c88a-5bac-42b4-af46-517a251fe2e8",
   "metadata": {},
   "outputs": [],
   "source": [
    "mob_base = pd.merge(mob_base, data_allowance_df, how='left', left_on='PRICE_PLAN_CD', right_on = 'pp_bus_pp_catlg_itm_cd')                "
   ]
  },
  {
   "cell_type": "code",
   "execution_count": null,
   "id": "bccfc897-f799-411f-84b1-bcdc8ebe50de",
   "metadata": {},
   "outputs": [],
   "source": [
    "for col in clean_soc_cd_df.columns:\n",
    "    mob_base.loc[mob_base.PRICE_PLAN_CD.isin(clean_soc_cd_df[col]), 'price_plan_type' ] = col"
   ]
  },
  {
   "cell_type": "code",
   "execution_count": null,
   "id": "9af241ad-15b9-47e5-bc09-7cd69a850e28",
   "metadata": {},
   "outputs": [],
   "source": [
    "mob_base.head()"
   ]
  },
  {
   "cell_type": "code",
   "execution_count": null,
   "id": "6e17f3ea-b469-424b-b482-4d2e77af0190",
   "metadata": {},
   "outputs": [],
   "source": [
    "mob_base.groupby('price_plan_type').agg(num_customers = pd.NamedAgg(column='MSISDN', aggfunc='count'),\n",
    "                                        avg_price = pd.NamedAgg(column='pp_recur_chrg_amt', aggfunc=np.mean),\n",
    "                                        min_price = pd.NamedAgg(column='pp_recur_chrg_amt', aggfunc='min'),\n",
    "                                        max_price = pd.NamedAgg(column='pp_recur_chrg_amt', aggfunc='max'),\n",
    "                                        avg_gb_data = pd.NamedAgg(column='data_allowance_gb', aggfunc=np.mean),\n",
    "                                        min_gb_data = pd.NamedAgg(column='data_allowance_gb', aggfunc='min'),\n",
    "                                        max_gb_data = pd.NamedAgg(column='data_allowance_gb', aggfunc='max'))"
   ]
  },
  {
   "cell_type": "code",
   "execution_count": null,
   "id": "42b7a2e3-57c1-4af4-bf0f-e519196e5adb",
   "metadata": {},
   "outputs": [],
   "source": [
    "price_plan_cd_df = pd.concat([clean_soc_cd_df, pd.DataFrame(mob_base.loc[mob_base.price_plan_type=='other'].PRICE_PLAN_CD.unique(), columns=['other_plans'])], axis=1)"
   ]
  },
  {
   "cell_type": "markdown",
   "id": "b6735fa5-d212-4e7c-84a9-0587133547cc",
   "metadata": {},
   "source": [
    "# Plot SOC Code changes over time"
   ]
  },
  {
   "cell_type": "code",
   "execution_count": null,
   "id": "39bc20d8-8ab9-4d41-96b6-1620871e8164",
   "metadata": {},
   "outputs": [],
   "source": [
    "client=bigquery.Client()"
   ]
  },
  {
   "cell_type": "code",
   "execution_count": null,
   "id": "60d5b140-8f37-4e94-b193-04b876b775ba",
   "metadata": {},
   "outputs": [],
   "source": [
    "query = \\\n",
    "'''\n",
    "SELECT \n",
    "  prod_instnc_ts,\n",
    "  COUNT(*) as num_customers\n",
    "FROM `cio-datahub-enterprise-pr-183a.ent_cust_cust.bq_prod_instnc_snpsht` \n",
    "WHERE \n",
    "  prod_instnc_ts > '2022-01-01'\n",
    "  AND pp_bus_pp_catlg_itm_cd IN ({price_plan_cd_str})\n",
    "  AND bacct_brand_id=1 -- 1 For Telus\n",
    "  AND pi_prod_instnc_typ_cd = 'C'-- Celluluar products \n",
    "  AND bacct_bacct_typ_cd = 'I' -- Consumer\n",
    "  AND bacct_bacct_subtyp_cd = 'R' -- Account Sub type\n",
    "  AND bacct_bacct_stat_cd = 'O' -- Billing account open  \n",
    "  AND pi_prod_instnc_stat_cd = 'A' -- Status of product instance\n",
    "  AND bacct_billg_mthd_cd ='POST' -- Post Pay customers only\n",
    "GROUP BY prod_instnc_ts\n",
    "ORDER BY prod_instnc_ts\n",
    "\n",
    "'''"
   ]
  },
  {
   "cell_type": "code",
   "execution_count": null,
   "id": "e6b1d1e7-5f14-4a5a-a42f-38b2540a2255",
   "metadata": {},
   "outputs": [],
   "source": [
    "def remove_sudden_spikes(df, col_name, threshold = 1.15):\n",
    "    for index, row in df.iterrows():\n",
    "        if index != 0:\n",
    "            if (row[col_name] > df.iloc[index - 1, 1] * threshold):\n",
    "                df.iloc[index, 1] = df.iloc[index - 1, 1]\n",
    "                print(row[col_name])\n",
    "    return df"
   ]
  },
  {
   "cell_type": "code",
   "execution_count": null,
   "id": "031cb0fc-150d-4d2c-9073-d8de5cc63259",
   "metadata": {},
   "outputs": [],
   "source": [
    "df_combined=pd.DataFrame()\n",
    "for col in price_plan_cd_df.columns:\n",
    "    price_plan_cd_string = \"'\" + '\\', \\''.join(price_plan_cd_df.loc[~price_plan_cd_df[col].isna()][col]) + \"'\" \n",
    "    query_cd = query.format(price_plan_cd_str=price_plan_cd_string)\n",
    "    df =client.query(query_cd).to_dataframe()\n",
    "    df['price_plan_type'] = col\n",
    "    df = remove_sudden_spikes(df, col_name='num_customers', threshold=1.2)\n",
    "    df_combined = df_combined.append(df)"
   ]
  },
  {
   "cell_type": "code",
   "execution_count": null,
   "id": "1a2abbab-99f8-4c7e-9238-d202f841cb28",
   "metadata": {},
   "outputs": [],
   "source": [
    "plt.figure(figsize=(10,10))\n",
    "for i in df_combined.price_plan_type.unique():\n",
    "    plt.plot(df_combined.loc[df_combined.price_plan_type==i]['prod_instnc_ts'], df_combined.loc[df_combined.price_plan_type==i]['num_customers'], label=i)\n",
    "plt.legend()\n",
    "plt.show()"
   ]
  },
  {
   "cell_type": "code",
   "execution_count": null,
   "id": "50fd13c0-7761-4352-9c98-25d942b5559d",
   "metadata": {},
   "outputs": [],
   "source": [
    "plt.figure(figsize=(8,8))\n",
    "plt.plot(df_5g_plus['prod_instnc_ts'], num_5g_plus_df['num_5g_plus_users'])\n",
    "plt.title('5G+ Adoption over time')\n",
    "plt.ylabel('num customers')"
   ]
  },
  {
   "cell_type": "code",
   "execution_count": null,
   "id": "460e6825-2521-4520-8e3b-c2ce73aca7be",
   "metadata": {},
   "outputs": [],
   "source": [
    "plt.figure(figsize=(8,8))\n",
    "plt.plot(df_5g['prod_instnc_ts'], df_5g['num_5g_users'])\n",
    "plt.title('5G+ Adoption over time')\n",
    "plt.ylabel('num customers')"
   ]
  },
  {
   "cell_type": "markdown",
   "id": "9330ad96-4280-43e1-9c54-7604be043d47",
   "metadata": {},
   "source": [
    "## Explore 'Other' Plans"
   ]
  },
  {
   "cell_type": "code",
   "execution_count": null,
   "id": "29e3b2cd-40d4-4d6c-921f-2375e7dc9bcd",
   "metadata": {},
   "outputs": [],
   "source": [
    "mob_base.loc[mob_base.PRICE_PLAN_TXT.str.upper().str.contains('WATCH'), 'price_plan_type']='WATCH'\n",
    "mob_base.loc[mob_base.PRICE_PLAN_TXT.str.upper().str.contains('TABLET'), 'price_plan_type']='TABLET'\n",
    "mob_base.loc[mob_base.PRICE_PLAN_TXT.str.upper().str.contains('MOBILITY FOR GOOD'), 'price_plan_type'] = 'MOBILITY FOR GOOD'"
   ]
  },
  {
   "cell_type": "code",
   "execution_count": null,
   "id": "569964af-2593-47ad-9309-b767e3d3f1e3",
   "metadata": {},
   "outputs": [],
   "source": [
    "mob_base.PLAN_AVAIL_FOR_SALE.unique()"
   ]
  },
  {
   "cell_type": "code",
   "execution_count": null,
   "id": "4fd07a8c-dad8-4aeb-bf3e-21e2703abd43",
   "metadata": {},
   "outputs": [],
   "source": [
    "mob_base.loc[mob_base.PRICE_PLAN_TXT=='Voice 30-Unlimited Nationwide']"
   ]
  },
  {
   "cell_type": "code",
   "execution_count": null,
   "id": "e628c62e-c34c-46f7-9e03-025cc898eee9",
   "metadata": {},
   "outputs": [],
   "source": [
    "mob_base.loc[(mob_base.price_plan_type=='other') & (mob_base.PLAN_AVAIL_FOR_SALE=='N')].groupby('PRICE_PLAN_TXT').count().reset_index()[['PRICE_PLAN_TXT', 'BAN']].sort_values(by='BAN', ascending=False).head(100)"
   ]
  },
  {
   "cell_type": "code",
   "execution_count": null,
   "id": "f17c0ff9-8902-45d4-a232-df085fd8335c",
   "metadata": {},
   "outputs": [],
   "source": [
    "mob_base[mob_base.PRICE_PLAN_TXT.str.upper().str.contains('VOICE')].shape"
   ]
  },
  {
   "cell_type": "code",
   "execution_count": null,
   "id": "9475d12e-ef88-4596-bdc1-d5e32867c55c",
   "metadata": {},
   "outputs": [],
   "source": [
    "mob_base[mob_base.PRICE_PLAN_TXT.str.upper().str.contains('WATCH')].shape"
   ]
  },
  {
   "cell_type": "code",
   "execution_count": null,
   "id": "32b7963e-de24-41d4-92be-cacb8209549c",
   "metadata": {},
   "outputs": [],
   "source": [
    "mob_base[mob_base.PRICE_PLAN_TXT.str.upper().str.contains('TABLET')].PRICE_PLAN_TXT.unique()"
   ]
  },
  {
   "cell_type": "code",
   "execution_count": null,
   "id": "be7bec3b-d9cb-46dc-ba4d-78ec01ba18c3",
   "metadata": {},
   "outputs": [],
   "source": [
    "mob_base[mob_base.PRICE_PLAN_TXT.str.upper().str.contains('SENIOR')]"
   ]
  },
  {
   "cell_type": "code",
   "execution_count": null,
   "id": "5ba5a2ee-6928-4a11-8fae-f3013b5a1467",
   "metadata": {},
   "outputs": [],
   "source": []
  }
 ],
 "metadata": {
  "kernelspec": {
   "display_name": "Python 3 (ipykernel)",
   "language": "python",
   "name": "python3"
  },
  "language_info": {
   "codemirror_mode": {
    "name": "ipython",
    "version": 3
   },
   "file_extension": ".py",
   "mimetype": "text/x-python",
   "name": "python",
   "nbconvert_exporter": "python",
   "pygments_lexer": "ipython3",
   "version": "3.7.12"
  }
 },
 "nbformat": 4,
 "nbformat_minor": 5
}
