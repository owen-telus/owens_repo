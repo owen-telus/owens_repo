{
 "cells": [
  {
   "cell_type": "code",
   "execution_count": null,
   "id": "1932ca2f-c362-4aa2-9b76-ee927fb482a8",
   "metadata": {},
   "outputs": [],
   "source": [
    "import pandas as pd\n",
    "import numpy as np\n",
    "\n",
    "from google.cloud import storage\n",
    "from google.cloud import bigquery\n",
    "\n",
    "pd.set_option(\"display.max_columns\", None)"
   ]
  },
  {
   "cell_type": "code",
   "execution_count": null,
   "id": "8eb10d63-e01c-49b2-98db-7909ea6a6322",
   "metadata": {},
   "outputs": [],
   "source": [
    "%%bigquery df\n",
    "\n",
    "SELECT * \n",
    "FROM `cio-datahub-enterprise-pr-183a.ent_cust_cust_actvy.bq_dly_prod_instnc_actvy`\n",
    "WHERE billg_acct_num=604169589"
   ]
  },
  {
   "cell_type": "code",
   "execution_count": null,
   "id": "a89c4806-4143-40b9-bf76-b5ee0b482ee4",
   "metadata": {},
   "outputs": [],
   "source": [
    "df.sort_values(by='dly_prod_instnc_actvy_ts', ascending=False)"
   ]
  },
  {
   "cell_type": "code",
   "execution_count": null,
   "id": "8e5e9f91-fe3b-4645-8d13-d8935946d0ca",
   "metadata": {},
   "outputs": [],
   "source": [
    "df.mstr_src_id.unique()"
   ]
  },
  {
   "cell_type": "code",
   "execution_count": null,
   "id": "b5c4d89d-ffa2-45ce-81d2-d6aea5b7fded",
   "metadata": {},
   "outputs": [],
   "source": [
    "%%bigquery df2\n",
    "\n",
    "SELECT * \n",
    "FROM `cio-datahub-enterprise-pr-183a.ent_cust_cust_actvy.bq_dly_prod_instnc_actvy`\n",
    "WHERE billg_acct_num=36716759"
   ]
  },
  {
   "cell_type": "code",
   "execution_count": null,
   "id": "b6dbdb2e-8b75-4ee1-9987-50b3eed58211",
   "metadata": {},
   "outputs": [],
   "source": [
    "df2.sort_values(by='dly_prod_instnc_actvy_ts', ascending=False)"
   ]
  },
  {
   "cell_type": "code",
   "execution_count": null,
   "id": "7d93f381-9206-40b6-8e78-632b07a2331d",
   "metadata": {},
   "outputs": [],
   "source": []
  }
 ],
 "metadata": {
  "kernelspec": {
   "display_name": "Python 3 (ipykernel)",
   "language": "python",
   "name": "python3"
  },
  "language_info": {
   "codemirror_mode": {
    "name": "ipython",
    "version": 3
   },
   "file_extension": ".py",
   "mimetype": "text/x-python",
   "name": "python",
   "nbconvert_exporter": "python",
   "pygments_lexer": "ipython3",
   "version": "3.7.12"
  }
 },
 "nbformat": 4,
 "nbformat_minor": 5
}
