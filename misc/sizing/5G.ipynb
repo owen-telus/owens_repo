{
 "cells": [
  {
   "cell_type": "markdown",
   "id": "a8c52cc0-3bb8-4ba0-81e1-c362b5ebdfd8",
   "metadata": {},
   "source": [
    "## Get Sizing for 5G Speed Tiers Propensity for various segments"
   ]
  },
  {
   "cell_type": "code",
   "execution_count": null,
   "id": "9f19793e-8ef1-4047-ac1d-30e712f625e4",
   "metadata": {},
   "outputs": [],
   "source": [
    "import pandas as pd\n",
    "import numpy as np"
   ]
  },
  {
   "cell_type": "markdown",
   "id": "c44b92e9-717d-4880-a669-0148e95fda22",
   "metadata": {},
   "source": [
    "### Ask from Chris -> 5G Dwell "
   ]
  },
  {
   "cell_type": "code",
   "execution_count": null,
   "id": "105cf1f6-f25d-42a8-a0fa-fc8af39af5fd",
   "metadata": {},
   "outputs": [],
   "source": [
    "%%bigquery df\n",
    "\n",
    "SELECT \n",
    "    A.*\n",
    "FROM `roaming-pr-66a1b0.5g_upsell.bq_5g_3500_zone_subs` A\n",
    "\n"
   ]
  },
  {
   "cell_type": "code",
   "execution_count": null,
   "id": "c4ee199f-4524-4885-917a-c856b6ff74f0",
   "metadata": {},
   "outputs": [],
   "source": [
    "df"
   ]
  },
  {
   "cell_type": "code",
   "execution_count": null,
   "id": "79645aa0-791c-47e7-b343-e1870381c6d3",
   "metadata": {},
   "outputs": [],
   "source": [
    "%%bigquery prop_5g_df \n",
    "SELECT * FROM `cto-wln-sa-data-pr-bb5283.customer_personas_reports.speed_tiers_campaign_output_5G` B  "
   ]
  },
  {
   "cell_type": "code",
   "execution_count": null,
   "id": "553febcc-5b93-49e5-b8d2-16600415255e",
   "metadata": {},
   "outputs": [],
   "source": [
    "prop_5g_df"
   ]
  },
  {
   "cell_type": "code",
   "execution_count": null,
   "id": "55242726-4f63-428e-8d62-96bd0085e74e",
   "metadata": {},
   "outputs": [],
   "source": [
    "merged_df = pd.merge(df, prop_5g_df[['MSISDN', 'propensity_score']], how='inner', left_on='msisdn_num', right_on = 'MSISDN')"
   ]
  },
  {
   "cell_type": "code",
   "execution_count": null,
   "id": "af2e2d29-58eb-403f-bdd2-5535ebe99d99",
   "metadata": {},
   "outputs": [],
   "source": [
    "merged_df"
   ]
  },
  {
   "cell_type": "code",
   "execution_count": null,
   "id": "f7dbe1cc-5433-42f5-be1f-55418afe7005",
   "metadata": {},
   "outputs": [],
   "source": [
    "%%bigquery plan_5g_df \n",
    "\n",
    "SELECT \n",
    "    pi_prod_instnc_resrc_str AS MSISDN,\n",
    "    pp_recur_chrg_amt,\n",
    "    pi_prim_pp_sls_start_ts,\n",
    "    pp_catlg_itm_nm, \n",
    "    CASE \n",
    "        WHEN pp_catlg_itm_nm LIKE '%5G+%' THEN 'Yes'\n",
    "        WHEN pp_catlg_itm_nm LIKE '%5G %' THEN 'Yes'\n",
    "        ELSE 'No'\n",
    "    END AS plan_5G_5G_plus\n",
    "\n",
    "FROM `cio-datahub-enterprise-pr-183a.ent_cust_cust.bq_prod_instnc_snpsht` \n",
    "WHERE \n",
    "  prod_instnc_ts = (SELECT MAX(prod_instnc_ts) FROM `cio-datahub-enterprise-pr-183a.ent_cust_cust.bq_prod_instnc_snpsht` )  -- Get most recent date in snapshot table"
   ]
  },
  {
   "cell_type": "markdown",
   "id": "176073ae-e44b-4079-b160-c4a05f62dfe8",
   "metadata": {},
   "source": [
    "Exclude customers with 5G Plan"
   ]
  },
  {
   "cell_type": "code",
   "execution_count": null,
   "id": "ed4b4abc-3651-49bd-a8d3-fb1815d9bb2f",
   "metadata": {},
   "outputs": [],
   "source": [
    "plan_5g_df.loc[plan_5g_df.plan_5G_5G_plus=='No'].reset_index(drop=True).head()"
   ]
  },
  {
   "cell_type": "code",
   "execution_count": null,
   "id": "d1e57672-f714-440d-bb11-a9d939e62536",
   "metadata": {},
   "outputs": [],
   "source": [
    "merged_df_2 = merged_df.loc[merged_df.msisdn_num.isin(plan_5g_df.loc[plan_5g_df.plan_5G_5G_plus=='No'].reset_index(drop=True)['MSISDN'])]"
   ]
  },
  {
   "cell_type": "markdown",
   "id": "0b65ee83-9eaa-4263-9c95-df13fdbea34c",
   "metadata": {},
   "source": [
    "531k customers identified, split between 5G capable = True and False -> Figure out how many are high and how many are low propensity"
   ]
  },
  {
   "cell_type": "code",
   "execution_count": null,
   "id": "3ef05d88-7bb1-40ec-be84-cea25691c38c",
   "metadata": {},
   "outputs": [],
   "source": [
    "merged_df_2"
   ]
  },
  {
   "cell_type": "code",
   "execution_count": null,
   "id": "0ff963eb-dc12-4350-9f0a-86dfa57bd965",
   "metadata": {},
   "outputs": [],
   "source": [
    "merged_df_2.groupby(['is_5g_capable'])[['propensity_score']].describe()"
   ]
  },
  {
   "cell_type": "markdown",
   "id": "16da024c-b76a-423b-a0bf-e70bf9de1e47",
   "metadata": {},
   "source": [
    "5G Customers in 3.5GHz area not on 5G Plan"
   ]
  },
  {
   "cell_type": "code",
   "execution_count": null,
   "id": "f599567d-66fa-4435-b039-fd80f853b580",
   "metadata": {},
   "outputs": [],
   "source": [
    "merged_df_2.loc[(merged_df_2.is_5g_capable ==True) & (merged_df_2.propensity_score >= merged_df_2.propensity_score.quantile(0.5))].shape"
   ]
  },
  {
   "cell_type": "markdown",
   "id": "cb4292d2-663e-4c1d-97f9-03c21c975ea3",
   "metadata": {},
   "source": [
    "4G Customers in 3.5GHz area not on 5G Plan"
   ]
  },
  {
   "cell_type": "code",
   "execution_count": null,
   "id": "e254197e-f907-4dd5-b76a-4c4f67af9240",
   "metadata": {},
   "outputs": [],
   "source": [
    "merged_df_2.loc[(merged_df_2.is_5g_capable ==False) & (merged_df_2.propensity_score >= merged_df_2.propensity_score.quantile(0.5))].shape"
   ]
  },
  {
   "cell_type": "markdown",
   "id": "597a40ed-e850-429e-9b70-a9fbf1a8173a",
   "metadata": {},
   "source": [
    "## Bell Zones"
   ]
  },
  {
   "cell_type": "code",
   "execution_count": null,
   "id": "52fc7396-9d70-4c78-a74b-78819e8c9535",
   "metadata": {},
   "outputs": [],
   "source": [
    "%%bigquery bell_df\n",
    "\n",
    "SELECT * FROM `roaming-pr-66a1b0.5g_upsell.bq_5g_3500_bell_zone_subs`"
   ]
  },
  {
   "cell_type": "code",
   "execution_count": null,
   "id": "6490e36e-0062-4568-9456-c8d5fc270fdd",
   "metadata": {},
   "outputs": [],
   "source": [
    "bell_df"
   ]
  },
  {
   "cell_type": "code",
   "execution_count": null,
   "id": "cb5fa27f-3571-43d6-8414-fd6a9ee79447",
   "metadata": {},
   "outputs": [],
   "source": [
    "bell_df.groupby(['billg_addr_city_nm'])[['msisdn_num']].count().reset_index().sort_values(by='msisdn_num', ascending=False)"
   ]
  },
  {
   "cell_type": "code",
   "execution_count": null,
   "id": "1445e62f-058b-445e-9d3a-91fb91f6fcd8",
   "metadata": {},
   "outputs": [],
   "source": [
    "merged_bell_df = pd.merge(bell_df, prop_5g_df[['MSISDN', 'propensity_score']], how='inner', left_on='msisdn_num', right_on = 'MSISDN')"
   ]
  },
  {
   "cell_type": "code",
   "execution_count": null,
   "id": "4ea5b7bc-1ce7-42ee-a86c-35a54b0fa182",
   "metadata": {},
   "outputs": [],
   "source": [
    "merged_bell_df.groupby(['billg_addr_city_nm'])[['MSISDN']].count().reset_index().sort_values(by='MSISDN', ascending=False)"
   ]
  },
  {
   "cell_type": "code",
   "execution_count": null,
   "id": "b6fd22e6-edbb-4b04-866c-faf3af0528cd",
   "metadata": {},
   "outputs": [],
   "source": [
    "merged_bell_df"
   ]
  },
  {
   "cell_type": "markdown",
   "id": "60db228a-a06b-4a3b-9dda-351c27c42356",
   "metadata": {},
   "source": [
    "Exclude customers on 5G Plan"
   ]
  },
  {
   "cell_type": "code",
   "execution_count": null,
   "id": "b6dd84eb-0df3-453c-95a1-bce9f4aee5ff",
   "metadata": {},
   "outputs": [],
   "source": [
    "\n",
    "merged_bell_df_2 = merged_bell_df.loc[merged_bell_df.msisdn_num.isin(plan_5g_df.loc[plan_5g_df.plan_5G_5G_plus=='No'].reset_index(drop=True)['MSISDN'])]"
   ]
  },
  {
   "cell_type": "code",
   "execution_count": null,
   "id": "b339992b-8db1-4a40-8872-cba0a7b19c74",
   "metadata": {},
   "outputs": [],
   "source": [
    "merged_bell_df_2"
   ]
  },
  {
   "cell_type": "code",
   "execution_count": null,
   "id": "eb879557-d115-4908-9e26-79b0e42731b0",
   "metadata": {},
   "outputs": [],
   "source": [
    "merged_bell_df_2.loc[(merged_bell_df_2.is_5g_capable ==True) & (merged_bell_df_2.propensity_score >= merged_bell_df_2.propensity_score.quantile(0.5))].shape"
   ]
  },
  {
   "cell_type": "code",
   "execution_count": null,
   "id": "626ca63c-434b-40a6-833d-1b36aa3a6928",
   "metadata": {},
   "outputs": [],
   "source": [
    "merged_bell_df_2.loc[(merged_bell_df_2.is_5g_capable ==False) & (merged_bell_df_2.propensity_score >= merged_bell_df_2.propensity_score.quantile(0.5))].shape"
   ]
  },
  {
   "cell_type": "code",
   "execution_count": null,
   "id": "5a961363-6600-499b-bdad-6535d9829ea2",
   "metadata": {},
   "outputs": [],
   "source": []
  }
 ],
 "metadata": {
  "kernelspec": {
   "display_name": "Python 3 (ipykernel)",
   "language": "python",
   "name": "python3"
  },
  "language_info": {
   "codemirror_mode": {
    "name": "ipython",
    "version": 3
   },
   "file_extension": ".py",
   "mimetype": "text/x-python",
   "name": "python",
   "nbconvert_exporter": "python",
   "pygments_lexer": "ipython3",
   "version": "3.7.12"
  }
 },
 "nbformat": 4,
 "nbformat_minor": 5
}
