{
 "cells": [
  {
   "cell_type": "markdown",
   "id": "a8c52cc0-3bb8-4ba0-81e1-c362b5ebdfd8",
   "metadata": {},
   "source": [
    "## Get Sizing for 5G Speed Tiers Propensity for various segments"
   ]
  },
  {
   "cell_type": "code",
   "execution_count": null,
   "id": "9f19793e-8ef1-4047-ac1d-30e712f625e4",
   "metadata": {},
   "outputs": [],
   "source": [
    "import pandas as pd\n",
    "import numpy as np"
   ]
  },
  {
   "cell_type": "code",
   "execution_count": null,
   "id": "105cf1f6-f25d-42a8-a0fa-fc8af39af5fd",
   "metadata": {},
   "outputs": [],
   "source": [
    "%%bigquery df_5g_score\n",
    "\n",
    "SELECT * FROM "
   ]
  }
 ],
 "metadata": {
  "kernelspec": {
   "display_name": "Python 3 (ipykernel)",
   "language": "python",
   "name": "python3"
  },
  "language_info": {
   "codemirror_mode": {
    "name": "ipython",
    "version": 3
   },
   "file_extension": ".py",
   "mimetype": "text/x-python",
   "name": "python",
   "nbconvert_exporter": "python",
   "pygments_lexer": "ipython3",
   "version": "3.7.12"
  }
 },
 "nbformat": 4,
 "nbformat_minor": 5
}
