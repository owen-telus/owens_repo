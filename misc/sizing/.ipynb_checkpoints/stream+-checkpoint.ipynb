{
 "cells": [
  {
   "cell_type": "markdown",
   "id": "59a50419-9301-44c3-b09a-fb2239cbca26",
   "metadata": {},
   "source": [
    "## Get sizing for Stream+ Adoption Propensity for various segments"
   ]
  },
  {
   "cell_type": "code",
   "execution_count": null,
   "id": "0bb0dc8d-28f0-40bc-aaa3-5578ac93985b",
   "metadata": {},
   "outputs": [],
   "source": [
    "import pandas as pd\n",
    "import numpy as np"
   ]
  },
  {
   "cell_type": "code",
   "execution_count": null,
   "id": "6a3af637-8cd5-42e2-a42d-6cfae3c4baf0",
   "metadata": {},
   "outputs": [],
   "source": [
    "%%bigquery stream_plus_df\n",
    "\n",
    "SELECT * FROM `cto-wln-sa-data-pr-bb5283.customer_personas_reports.TELUS_firefly_campaign_output`"
   ]
  },
  {
   "cell_type": "markdown",
   "id": "6d750db1-37c6-4e10-8a2b-a0e189a4f7b8",
   "metadata": {},
   "source": [
    "## Cross Border"
   ]
  },
  {
   "cell_type": "code",
   "execution_count": null,
   "id": "498821f9-7dd1-453f-bf7c-97e795ad5113",
   "metadata": {},
   "outputs": [],
   "source": [
    "%%bigquery cross_border_df\n",
    "\n",
    "Select\n",
    " Distinct\n",
    " A.* ,\n",
    " If(B.imsi_num is not null, 'Cross-Border' , 'Other') as Traveler_Type\n",
    "\n",
    "From \n",
    "    (SELECT\n",
    "     Distinct\n",
    "      bap_bus_bacct_num,\n",
    "      subscriber_num,\n",
    "      bap_billg_addr_province_cd,\n",
    "      imsi_id,\n",
    "     bacct_brand_id,\n",
    "     bacct_bacct_typ_cd,\n",
    "     If(ARRAY_LENGTH(can_us_soc)>0, 'CAN-US Plan' , 'Other') as Plan_type\n",
    "     \n",
    "    FROM\n",
    "      `roaming-pr-66a1b0.prod_prop_scores.roaming_subs_base`\n",
    "    WHERE\n",
    "      prod_instnc_snapshot_dt = current_date()-2\n",
    "    and bacct_brand_id = 1 and bacct_bacct_typ_cd = 'I') A\n",
    "left join \n",
    "    \n",
    "    `roaming-pr-66a1b0.prod_prop_scores.cross_border_VA_trips_summary` B\n",
    "on \n",
    "    A.imsi_id = B.imsi_num"
   ]
  },
  {
   "cell_type": "code",
   "execution_count": null,
   "id": "36663551-1903-4b90-937c-9bf585b4fe44",
   "metadata": {},
   "outputs": [],
   "source": [
    "cross_border_df.Traveler_Type.unique()"
   ]
  },
  {
   "cell_type": "code",
   "execution_count": null,
   "id": "2409f829-42d5-4a2b-861c-31fbad57352a",
   "metadata": {},
   "outputs": [],
   "source": [
    "cross_border_df.loc[cross_border_df.Traveler_Type=='Cross-Border']"
   ]
  },
  {
   "cell_type": "code",
   "execution_count": null,
   "id": "d9e4bbca-0a36-40fe-9902-5c60edc2a697",
   "metadata": {},
   "outputs": [],
   "source": [
    "cross_border_stream_prop_df = pd.merge(cross_border_df.loc[cross_border_df.Traveler_Type=='Cross-Border'].reset_index(drop=True),\n",
    "                                       stream_plus_df,\n",
    "                                       how='left',\n",
    "                                       left_on=['bap_bus_bacct_num', 'subscriber_num', 'imsi_id'],\n",
    "                                       right_on = ['BAN', 'MSISDN', 'IMSI']\n",
    "                                      )"
   ]
  },
  {
   "cell_type": "code",
   "execution_count": null,
   "id": "fefbc811-aa1e-4f9c-80dd-51dd4e9788ab",
   "metadata": {},
   "outputs": [],
   "source": [
    "cross_border_stream_prop_df.propensity_score.fillna(0,inplace=True)"
   ]
  },
  {
   "cell_type": "code",
   "execution_count": null,
   "id": "9e35eb46-a67f-4d2d-928d-d1aaa77c0a5b",
   "metadata": {},
   "outputs": [],
   "source": [
    "cross_border_stream_prop_df.propensity_score.describe()"
   ]
  },
  {
   "cell_type": "code",
   "execution_count": null,
   "id": "bfa554c7-964d-4b8b-8afe-6275216e5756",
   "metadata": {},
   "outputs": [],
   "source": [
    "cross_border_stream_prop_df.loc[cross_border_stream_prop_df.propensity_score == 0].shape"
   ]
  },
  {
   "cell_type": "code",
   "execution_count": null,
   "id": "3ca4787a-8b8f-4a66-a00d-de72f2b0ce5b",
   "metadata": {},
   "outputs": [],
   "source": [
    "cross_border_stream_prop_df.loc[cross_border_stream_prop_df.propensity_score > 1.447].shape"
   ]
  },
  {
   "cell_type": "markdown",
   "id": "57650cc8-d4c5-4363-8ec0-2d6c7e1b1a44",
   "metadata": {
    "tags": []
   },
   "source": [
    "## Snowbirds"
   ]
  },
  {
   "cell_type": "code",
   "execution_count": null,
   "id": "f7e30d3c-8295-4d18-a4fe-3ff6914d22f9",
   "metadata": {},
   "outputs": [],
   "source": [
    "%%bigquery snowbirds_df\n",
    "\n",
    "Select\n",
    " Distinct\n",
    " A.* ,\n",
    " If(B.subscr_num is not null, 'SnowBirds' , 'Other') as Traveler_Type\n",
    " \n",
    "From \n",
    "    (SELECT\n",
    "     Distinct\n",
    "      bap_bus_bacct_num,\n",
    "      subscriber_num,\n",
    "      bap_billg_addr_province_cd,\n",
    "      imsi_id,\n",
    "     bacct_brand_id,\n",
    "     bacct_bacct_typ_cd,\n",
    "     If(ARRAY_LENGTH(can_us_soc)>0, 'CAN-US Plan' , 'Other') as Plan_type\n",
    "    FROM\n",
    "      `roaming-pr-66a1b0.prod_prop_scores.roaming_subs_base`\n",
    "    WHERE\n",
    "      prod_instnc_snapshot_dt = current_date()-2\n",
    "    and bacct_brand_id = 1 and bacct_bacct_typ_cd = 'I') A\n",
    "left join \n",
    "    \n",
    "    (SELECT\n",
    "  ban,\n",
    "  subscr_num,\n",
    "  roamer_type,\n",
    "  pp_recur_chrg_amt,\n",
    "  data_usage_gb_qty,\n",
    "  pi_cntrct_start_ts,\n",
    "  pi_cntrct_end_ts,\n",
    "  CASE\n",
    "    WHEN data_usage_gb_qty < 1 THEN '00-01GB'\n",
    "    WHEN data_usage_gb_qty >= 1\n",
    "  AND data_usage_gb_qty < 3 THEN '01-03GB'\n",
    "    WHEN data_usage_gb_qty >= 3 AND data_usage_gb_qty < 10 THEN '03-10GB'\n",
    "    WHEN data_usage_gb_qty >= 10\n",
    "  AND data_usage_gb_qty < 20 THEN '10-20GB'\n",
    "  ELSE\n",
    "  '20GB & Over'\n",
    "END\n",
    "  AS data_usg_bkt,\n",
    "IF\n",
    "  (bacct_brand_id=1,'TELUS','Koodo') AS bacct_brand_name,\n",
    "  CASE\n",
    "    WHEN pi_cntrct_start_ts IS NULL THEN 'No Commitment'\n",
    "    WHEN pi_cntrct_end_ts < CURRENT_DATE() THEN 'Month to Month'\n",
    "    WHEN pi_cntrct_end_ts BETWEEN CURRENT_DATE() AND DATE_ADD(CURRENT_DATE(),INTERVAL 3 MONTH) THEN 'Contract ends in 3 months or less'\n",
    "  ELSE\n",
    "  'Contract ends in 4 months or more'\n",
    "\n",
    "END\n",
    "  AS contract_lifecycle_stage,\n",
    "--cp_cust_birth_dt,\n",
    "IF(DATE_DIFF(CURRENT_DATE(),DATE(cp_cust_birth_dt),YEAR)>=55,TRUE,FALSE) AS  age_55_plus,\n",
    "IF(cp_cust_birth_dt IS NULL,'Missing Age Info',IF(DATE_DIFF(CURRENT_DATE(),DATE(cp_cust_birth_dt),YEAR)>=55,'>=55','<55')) AS  age_group\n",
    "FROM\n",
    "  `roaming-pr-66a1b0.snowbirds.snowbirds_profile`\n",
    "WHERE\n",
    "  bacct_bacct_typ_cd ='I'\n",
    "  AND pp_recur_chrg_amt>0) B\n",
    "on \n",
    "    A.subscriber_num = B.subscr_num"
   ]
  },
  {
   "cell_type": "code",
   "execution_count": null,
   "id": "36b22ae1-115d-4d19-bbb5-bee74d1c33f2",
   "metadata": {},
   "outputs": [],
   "source": [
    "snowbirds_df.shape"
   ]
  },
  {
   "cell_type": "code",
   "execution_count": null,
   "id": "debf590a-38b6-4750-abe3-b49226ebc996",
   "metadata": {},
   "outputs": [],
   "source": [
    "snowbirds_df.Traveler_Type.unique()"
   ]
  },
  {
   "cell_type": "code",
   "execution_count": null,
   "id": "d406e3b7-ad9d-4059-abd3-f18a9f2326cd",
   "metadata": {},
   "outputs": [],
   "source": [
    "snowbirds_stream_prop_df = pd.merge(snowbirds_df.loc[snowbirds_df.Traveler_Type=='SnowBirds'].reset_index(drop=True),\n",
    "                                       stream_plus_df,\n",
    "                                       how='left',\n",
    "                                       left_on=['bap_bus_bacct_num', 'subscriber_num', 'imsi_id'],\n",
    "                                       right_on = ['BAN', 'MSISDN', 'IMSI']\n",
    "                                      )"
   ]
  },
  {
   "cell_type": "code",
   "execution_count": null,
   "id": "c2c9aeb8-86ef-4eb9-9891-db03eb1a76d2",
   "metadata": {},
   "outputs": [],
   "source": [
    "snowbirds_stream_prop_df.propensity_score.fillna(0,inplace=True)"
   ]
  },
  {
   "cell_type": "code",
   "execution_count": null,
   "id": "6848fb9b-c6d7-45a9-acf0-02b69ca01ad2",
   "metadata": {},
   "outputs": [],
   "source": [
    "snowbirds_stream_prop_df.propensity_score.describe()"
   ]
  },
  {
   "cell_type": "code",
   "execution_count": null,
   "id": "57a1dc66-3306-4100-9568-b64748a8ae7d",
   "metadata": {},
   "outputs": [],
   "source": [
    "snowbirds_stream_prop_df.loc[snowbirds_stream_prop_df.propensity_score == 0].shape"
   ]
  },
  {
   "cell_type": "code",
   "execution_count": null,
   "id": "b260d393-912f-40c8-a485-ff9b57d55c43",
   "metadata": {},
   "outputs": [],
   "source": [
    "snowbirds_stream_prop_df.loc[snowbirds_stream_prop_df.propensity_score > 1.447 ].shape"
   ]
  },
  {
   "cell_type": "code",
   "execution_count": null,
   "id": "d8eed0e7-5b05-4e9f-9c10-c655affe25cc",
   "metadata": {},
   "outputs": [],
   "source": []
  }
 ],
 "metadata": {
  "kernelspec": {
   "display_name": "Python 3 (ipykernel)",
   "language": "python",
   "name": "python3"
  },
  "language_info": {
   "codemirror_mode": {
    "name": "ipython",
    "version": 3
   },
   "file_extension": ".py",
   "mimetype": "text/x-python",
   "name": "python",
   "nbconvert_exporter": "python",
   "pygments_lexer": "ipython3",
   "version": "3.7.12"
  }
 },
 "nbformat": 4,
 "nbformat_minor": 5
}
