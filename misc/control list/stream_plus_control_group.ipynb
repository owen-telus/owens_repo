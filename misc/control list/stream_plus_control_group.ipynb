{
 "cells": [
  {
   "cell_type": "markdown",
   "id": "8690fcb1-184e-4494-b597-9744717d5d42",
   "metadata": {},
   "source": [
    "# Stream+ Control Group Analysis - June 30, 2022 Campaign"
   ]
  },
  {
   "cell_type": "code",
   "execution_count": null,
   "id": "8e20bc03-365d-4d38-8fa4-1f759cf0260b",
   "metadata": {},
   "outputs": [],
   "source": [
    "import pandas as pd\n",
    "import numpy as np\n",
    "pd.set_option('display.max_columns', None)"
   ]
  },
  {
   "cell_type": "code",
   "execution_count": null,
   "id": "1752ed03-57c9-40fa-a36d-b36dfa7a3fb9",
   "metadata": {},
   "outputs": [],
   "source": [
    "scrubbed_df = pd.read_csv('DB30184396_DSE_Check_20220630.csv')"
   ]
  },
  {
   "cell_type": "code",
   "execution_count": null,
   "id": "387e44c6-1452-4d42-9aae-e0c2a0945936",
   "metadata": {},
   "outputs": [],
   "source": [
    "%%bigquery stream_plus_df\n",
    "\n",
    "SELECT * FROM `cto-wln-sa-data-pr-bb5283.customer_personas_reports.TELUS_firefly_campaign_output`"
   ]
  },
  {
   "cell_type": "code",
   "execution_count": null,
   "id": "35dc889a-c283-49bc-9b0b-54b4516ee0b2",
   "metadata": {},
   "outputs": [],
   "source": [
    "scrubbed_df.groupby(['TARGET_DESC', 'CONTROL_GROUP'])[['BAN']].count().reset_index()"
   ]
  },
  {
   "cell_type": "code",
   "execution_count": null,
   "id": "ea019165-31e9-4719-8585-7166bc167760",
   "metadata": {},
   "outputs": [],
   "source": [
    "scrubbed_df.head()"
   ]
  },
  {
   "cell_type": "code",
   "execution_count": null,
   "id": "f753b308-a33e-486b-8ffa-69a37ac96951",
   "metadata": {},
   "outputs": [],
   "source": [
    "scrubbed_df.groupby(['TARGET_DESC', 'CONTROL_GROUP'])[['PROPENSITY_SCORE']].describe()"
   ]
  },
  {
   "cell_type": "code",
   "execution_count": null,
   "id": "20f42532-a9e1-423d-83cb-9d7f1b11eb5c",
   "metadata": {},
   "outputs": [],
   "source": [
    "measurements_df = pd.read_csv('Steam+_Takers_Detail_Full_Data_june30.csv')"
   ]
  },
  {
   "cell_type": "code",
   "execution_count": null,
   "id": "152383c6-8b8e-495d-844b-ce52f068c551",
   "metadata": {},
   "outputs": [],
   "source": [
    "measurements_df.columns"
   ]
  },
  {
   "cell_type": "code",
   "execution_count": null,
   "id": "a66024e3-c083-4722-8f16-b820a373af93",
   "metadata": {},
   "outputs": [],
   "source": [
    "measurements_df.head()"
   ]
  },
  {
   "cell_type": "code",
   "execution_count": null,
   "id": "d5aca6cd-1cd5-4eab-a2d1-4f19851be1d9",
   "metadata": {},
   "outputs": [],
   "source": [
    "measurements_df['Campaign Description'].unique()"
   ]
  },
  {
   "cell_type": "code",
   "execution_count": null,
   "id": "00906177-b02e-4c81-97ae-55ff76b18bc0",
   "metadata": {},
   "outputs": [],
   "source": [
    "scrubbed_df.groupby(['TARGET_DESC', 'CONTROL_GROUP'])[['BAN']].count().reset_index().pivot(index='TARGET_DESC', columns='CONTROL_GROUP', values='BAN').reset_index()"
   ]
  },
  {
   "cell_type": "code",
   "execution_count": null,
   "id": "db399f37-d0ae-4c84-82b6-d9868da70b1d",
   "metadata": {},
   "outputs": [],
   "source": [
    "sales_sum_df = measurements_df.groupby(['Stream+ Sales?', 'Target Desc', 'Test Group' ])['Subscriber'].count().reset_index()"
   ]
  },
  {
   "cell_type": "code",
   "execution_count": null,
   "id": "9e352ad2-0113-495a-b684-fcfc526cb356",
   "metadata": {},
   "outputs": [],
   "source": [
    "sales_sum_pivot_df = sales_sum_df.pivot(index='Target Desc', columns='Test Group', values='Subscriber').reset_index()"
   ]
  },
  {
   "cell_type": "code",
   "execution_count": null,
   "id": "2791ce79-ba06-4490-b16f-fcab548eb62c",
   "metadata": {},
   "outputs": [],
   "source": [
    "sales_sum_pivot_merge_df = pd.merge(sales_sum_pivot_df, \n",
    "                                    scrubbed_df.groupby(['TARGET_DESC', 'CONTROL_GROUP'])[['BAN']].count().reset_index().pivot(index='TARGET_DESC', columns='CONTROL_GROUP', values='BAN').reset_index(),\n",
    "                                    how='inner',\n",
    "                                    left_on='Target Desc',\n",
    "                                    right_on = 'TARGET_DESC'\n",
    "                                   )"
   ]
  },
  {
   "cell_type": "code",
   "execution_count": null,
   "id": "b16a993a-885b-48bc-b311-d5481e84952b",
   "metadata": {},
   "outputs": [],
   "source": [
    "sales_sum_pivot_merge_df"
   ]
  },
  {
   "cell_type": "code",
   "execution_count": null,
   "id": "78d40bd2-7ade-4a24-bd43-16589ae221c1",
   "metadata": {},
   "outputs": [],
   "source": [
    "sales_sum_pivot_merge_df['Control Group Sales Rate'] = sales_sum_pivot_merge_df['Control Group']/sales_sum_pivot_merge_df['Y']\n",
    "sales_sum_pivot_merge_df['Target Group Sales Rate'] = sales_sum_pivot_merge_df['Target Group']/sales_sum_pivot_merge_df['N']"
   ]
  },
  {
   "cell_type": "code",
   "execution_count": null,
   "id": "02042fdc-abcf-44f0-93e8-8949a76754dd",
   "metadata": {},
   "outputs": [],
   "source": [
    "sales_sum_pivot_merge_df"
   ]
  },
  {
   "cell_type": "code",
   "execution_count": null,
   "id": "be52ac75-018d-4408-bdfb-ae06f7e6cab7",
   "metadata": {},
   "outputs": [],
   "source": [
    "sales_sum_pivot_merge_df['lift'] = (sales_sum_pivot_merge_df['Target Group Sales Rate'] - sales_sum_pivot_merge_df['Control Group Sales Rate'])/sales_sum_pivot_merge_df['Control Group Sales Rate'] * 100"
   ]
  },
  {
   "cell_type": "code",
   "execution_count": null,
   "id": "219bf057-c9aa-49bf-adcb-9dff29b5f097",
   "metadata": {},
   "outputs": [],
   "source": [
    "sales_sum_pivot_merge_df['msg_type'] = 'commuter'\n",
    "sales_sum_pivot_merge_df['msg_type'] = sales_sum_pivot_merge_df['Target Desc'].apply(lambda x: 'streaming' if 'streaming' in x else 'commuter' )"
   ]
  },
  {
   "cell_type": "code",
   "execution_count": null,
   "id": "5e9a9849-90d0-467c-a3f8-fa5ee6dc9c0f",
   "metadata": {},
   "outputs": [],
   "source": [
    "sales_sum_pivot_merge_df"
   ]
  },
  {
   "cell_type": "code",
   "execution_count": null,
   "id": "eebc2d7f-8725-45b2-9a31-7bb56e6e87d0",
   "metadata": {},
   "outputs": [],
   "source": [
    "sales_sum_pivot_merge_2_df = sales_sum_pivot_merge_df.groupby('msg_type').sum().reset_index()"
   ]
  },
  {
   "cell_type": "code",
   "execution_count": null,
   "id": "7aac659a-320b-4733-8ff1-c5bf5f3f6497",
   "metadata": {},
   "outputs": [],
   "source": [
    "sales_sum_pivot_merge_2_df"
   ]
  },
  {
   "cell_type": "code",
   "execution_count": null,
   "id": "9572771e-8d76-4900-a635-0491a4de3ded",
   "metadata": {},
   "outputs": [],
   "source": [
    "sales_sum_pivot_merge_2_df['Control Group Sales Rate'] = sales_sum_pivot_merge_2_df['Control Group']/sales_sum_pivot_merge_2_df['Y']\n",
    "sales_sum_pivot_merge_2_df['Target Group Sales Rate'] = sales_sum_pivot_merge_2_df['Target Group']/sales_sum_pivot_merge_2_df['N']\n",
    "sales_sum_pivot_merge_2_df['lift'] = (sales_sum_pivot_merge_2_df['Target Group Sales Rate'] - sales_sum_pivot_merge_2_df['Control Group Sales Rate'])/sales_sum_pivot_merge_2_df['Control Group Sales Rate'] * 100"
   ]
  },
  {
   "cell_type": "code",
   "execution_count": null,
   "id": "f1c00816-a656-4b96-a34b-ade40e6e6333",
   "metadata": {},
   "outputs": [],
   "source": [
    ".00399 - .00306"
   ]
  },
  {
   "cell_type": "code",
   "execution_count": null,
   "id": "d6f15727-67b1-45cd-888d-58e706b50a84",
   "metadata": {},
   "outputs": [],
   "source": [
    "sales_sum_pivot_merge_2_df.to_csv('stream_plus_june30_summary.csv', index=False)"
   ]
  },
  {
   "cell_type": "code",
   "execution_count": null,
   "id": "5b471701-3eb5-45eb-bcb3-9267c44abe83",
   "metadata": {},
   "outputs": [],
   "source": [
    "measurements_df.groupby('Control Group')['Subscriber'].count()"
   ]
  },
  {
   "cell_type": "code",
   "execution_count": null,
   "id": "0b8d677c-c292-4338-b69b-0ece0ca1620c",
   "metadata": {},
   "outputs": [],
   "source": [
    "scrubbed_df['adopted_stream_plus']=0\n",
    "scrubbed_df.loc[scrubbed_df.SUBSCRIBER_NO.isin(measurements_df.Subscriber), 'adopted_stream_plus']=1"
   ]
  },
  {
   "cell_type": "code",
   "execution_count": null,
   "id": "934de93d-a2e7-4441-a969-fae2af95abc9",
   "metadata": {},
   "outputs": [],
   "source": [
    "scrubbed_df.groupby('CONTROL_GROUP')['adopted_stream_plus'].sum()"
   ]
  },
  {
   "cell_type": "markdown",
   "id": "146f70c7-c3a2-43bf-aa2c-96840d43a586",
   "metadata": {},
   "source": [
    "## Most recent firefly output"
   ]
  },
  {
   "cell_type": "code",
   "execution_count": null,
   "id": "b93fbc89-b096-4fc8-adf2-e8bfaccf2206",
   "metadata": {},
   "outputs": [],
   "source": [
    "stream_plus_df[['propensity_score']].describe()"
   ]
  },
  {
   "cell_type": "code",
   "execution_count": null,
   "id": "b9bd3a92-870b-4d78-b7fb-801e4eb80cd9",
   "metadata": {},
   "outputs": [],
   "source": [
    "stream_plus_df.loc[stream_plus_df.propensity_score <= stream_plus_df.propensity_score.quantile(0.5)].shape"
   ]
  },
  {
   "cell_type": "code",
   "execution_count": null,
   "id": "728b6105-fab3-4f59-b18a-c852255ec754",
   "metadata": {},
   "outputs": [],
   "source": [
    "stream_plus_df.loc[stream_plus_df.propensity_score >= stream_plus_df.propensity_score.quantile(0.75)].shape"
   ]
  },
  {
   "cell_type": "code",
   "execution_count": null,
   "id": "d9fac2f2-5a35-4d85-a4ef-4bbbce1314ca",
   "metadata": {},
   "outputs": [],
   "source": [
    "scrubbed_df[['PROPENSITY_SCORE']].describe()"
   ]
  },
  {
   "cell_type": "code",
   "execution_count": null,
   "id": "60a06604-93a6-4838-a724-797c234efe0d",
   "metadata": {},
   "outputs": [],
   "source": [
    "scrubbed_df.groupby(['TARGET_DESC', 'CONTROL_GROUP', 'adopted_stream_plus'])[['PROPENSITY_SCORE']].describe().reset_index().to_csv('stream_plus_june30_propensity_stats.csv',index=False)"
   ]
  },
  {
   "cell_type": "code",
   "execution_count": null,
   "id": "2e4eef9b-a515-4151-961b-77356445541f",
   "metadata": {},
   "outputs": [],
   "source": [
    "scrubbed_df['new_control_group'] = 'N'"
   ]
  },
  {
   "cell_type": "code",
   "execution_count": null,
   "id": "f4250e4f-1df9-406f-bdb8-4b9e2e5089a2",
   "metadata": {},
   "outputs": [],
   "source": [
    "scrubbed_df.loc[scrubbed_df.SUBSCRIBER_NO.isin(scrubbed_df.loc[(scrubbed_df.PROPENSITY_SCORE < scrubbed_df.PROPENSITY_SCORE.quantile(q=0.6))].sample(n=22224).SUBSCRIBER_NO), 'new_control_group'] = 'Y'\n"
   ]
  },
  {
   "cell_type": "code",
   "execution_count": null,
   "id": "8b54cc60-3040-4959-9173-2a18171b821c",
   "metadata": {},
   "outputs": [],
   "source": [
    "scrubbed_df.loc[(scrubbed_df.adopted_stream_plus==1) & (scrubbed_df.new_control_group=='Y')].PROPENSITY_SCORE.describe()"
   ]
  },
  {
   "cell_type": "code",
   "execution_count": null,
   "id": "3be91429-9b9a-4fdd-9f34-6d173938ee7a",
   "metadata": {},
   "outputs": [],
   "source": [
    "scrubbed_df.groupby(['new_control_group', 'adopted_stream_plus'])['SUBSCRIBER_NO'].count()"
   ]
  },
  {
   "cell_type": "code",
   "execution_count": null,
   "id": "467a7402-ba10-4e0d-a769-2de0f9004b56",
   "metadata": {},
   "outputs": [],
   "source": [
    "scrubbed_df.new_control_group.value_counts()"
   ]
  },
  {
   "cell_type": "code",
   "execution_count": null,
   "id": "59bd1875-2368-4bb8-9215-a9f09a2dc4ff",
   "metadata": {},
   "outputs": [],
   "source": [
    "scrubbed_df.PROPENSITY_SCORE.quantile(q=0.5)"
   ]
  },
  {
   "cell_type": "code",
   "execution_count": null,
   "id": "307c532f-78d2-4163-990c-58403b2988b6",
   "metadata": {},
   "outputs": [],
   "source": [
    "scrubbed_df.loc[(scrubbed_df.adopted_stream_plus==1) & (scrubbed_df.CONTROL_GROUP=='Y')].PROPENSITY_SCORE.describe()"
   ]
  },
  {
   "cell_type": "code",
   "execution_count": null,
   "id": "768546b5-3e1b-4f36-a2e9-ae2603a0c337",
   "metadata": {},
   "outputs": [],
   "source": [
    "scrubbed_df.loc[(scrubbed_df.adopted_stream_plus==1) & (scrubbed_df.CONTROL_GROUP=='Y') & (scrubbed_df.PROPENSITY_SCORE<1.69)].shape"
   ]
  },
  {
   "cell_type": "code",
   "execution_count": null,
   "id": "662a5d72-4450-4ec9-b0a1-4001ab913c7e",
   "metadata": {},
   "outputs": [],
   "source": [
    "scrubbed_df.loc[(scrubbed_df.adopted_stream_plus==1) & (scrubbed_df.CONTROL_GROUP=='N')].PROPENSITY_SCORE.describe()"
   ]
  },
  {
   "cell_type": "code",
   "execution_count": null,
   "id": "d147bf23-e980-4a0e-abe8-931a350f1c48",
   "metadata": {},
   "outputs": [],
   "source": []
  }
 ],
 "metadata": {
  "kernelspec": {
   "display_name": "Python 3 (ipykernel)",
   "language": "python",
   "name": "python3"
  },
  "language_info": {
   "codemirror_mode": {
    "name": "ipython",
    "version": 3
   },
   "file_extension": ".py",
   "mimetype": "text/x-python",
   "name": "python",
   "nbconvert_exporter": "python",
   "pygments_lexer": "ipython3",
   "version": "3.7.12"
  }
 },
 "nbformat": 4,
 "nbformat_minor": 5
}
