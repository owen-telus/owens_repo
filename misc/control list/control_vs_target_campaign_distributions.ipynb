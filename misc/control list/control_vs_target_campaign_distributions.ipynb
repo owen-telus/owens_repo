{
 "cells": [
  {
   "cell_type": "code",
   "execution_count": null,
   "id": "8d1b26b1-3943-4713-9bb2-90c79f992fbd",
   "metadata": {},
   "outputs": [],
   "source": [
    "import pandas as pd \n",
    "import numpy as np\n",
    "import sys\n",
    "sys.path.append('/home/jupyter/aaaie-customer-personas/src')\n",
    "\n",
    "from customer_personas.bq_utils import export_dataframe_to_bq, upload_data_to_gcs, download_data_from_gcs\n",
    "from customer_personas.plotters import plot_model_coefficients, plot_distributions\n",
    "from customer_personas.bq_utils import download_data, upload_data\n",
    "\n",
    "from customer_personas.propensity import return_propensity_score_gowers_distance\n",
    "from customer_personas.bq_utils import export_dataframe_to_bq, upload_data_to_gcs\n"
   ]
  },
  {
   "cell_type": "code",
   "execution_count": null,
   "id": "66b80b93-8cca-40be-a417-21c4a2ac5005",
   "metadata": {},
   "outputs": [],
   "source": [
    "df1 = pd.read_csv('DB30184847_DSE_Check_20220812.csv')"
   ]
  },
  {
   "cell_type": "code",
   "execution_count": null,
   "id": "3b6a6429-87d0-4d96-8898-1c3500639e3c",
   "metadata": {},
   "outputs": [],
   "source": [
    "df1"
   ]
  },
  {
   "cell_type": "code",
   "execution_count": null,
   "id": "4465373c-331c-4455-bb01-13adaf16e587",
   "metadata": {},
   "outputs": [],
   "source": [
    "df2 = pd.read_csv('DB30184846_DSE_Check_20220715.csv')"
   ]
  },
  {
   "cell_type": "code",
   "execution_count": null,
   "id": "5b0c00c7-3045-454f-831e-0b703c17968d",
   "metadata": {},
   "outputs": [],
   "source": [
    "df2"
   ]
  },
  {
   "cell_type": "code",
   "execution_count": null,
   "id": "fd64db7e-9c40-414d-baf9-519560348ee3",
   "metadata": {},
   "outputs": [],
   "source": [
    "df3 = pd.read_csv('DB30184396_DSE_Check_20220630.csv')"
   ]
  },
  {
   "cell_type": "code",
   "execution_count": null,
   "id": "0f986397-242d-417d-a532-07c948688c10",
   "metadata": {},
   "outputs": [],
   "source": [
    "df3"
   ]
  },
  {
   "cell_type": "code",
   "execution_count": null,
   "id": "2d5b46a5-976f-4629-bd83-b4243c6985a3",
   "metadata": {},
   "outputs": [],
   "source": [
    "df3.loc[df3.CONTROL_GROUP=='Y'].PROPENSITY_SCORE.describe()"
   ]
  },
  {
   "cell_type": "code",
   "execution_count": null,
   "id": "ef05b5ab-77fb-402f-a05f-c66f7790cea2",
   "metadata": {},
   "outputs": [],
   "source": [
    "df3.loc[df3.CONTROL_GROUP=='N'].PROPENSITY_SCORE.describe()"
   ]
  },
  {
   "cell_type": "code",
   "execution_count": null,
   "id": "604ed1dc-9fbf-49a3-b459-3be084fe75fb",
   "metadata": {},
   "outputs": [],
   "source": [
    "df3 = pd.read_csv('5g_final_list_selected_20220512.csv')"
   ]
  },
  {
   "cell_type": "code",
   "execution_count": null,
   "id": "c95168fb-2ac0-41fd-863c-9b3e6960a09a",
   "metadata": {},
   "outputs": [],
   "source": [
    "df3.loc[df3.CONTROL_GROUP=='N'].PROPENSITY_SCORE.describe()"
   ]
  },
  {
   "cell_type": "code",
   "execution_count": null,
   "id": "ffd49504-3fa7-48d9-be96-0e0e6339be27",
   "metadata": {},
   "outputs": [],
   "source": [
    "df3.loc[df3.CONTROL_GROUP=='Y'].PROPENSITY_SCORE.describe()"
   ]
  },
  {
   "cell_type": "code",
   "execution_count": null,
   "id": "770db0e9-830f-4971-b59a-06d45b537fad",
   "metadata": {},
   "outputs": [],
   "source": [
    "df4 = pd.read_csv('TMOB_AAL_Facebook_Back_to_School_1.csv')"
   ]
  },
  {
   "cell_type": "code",
   "execution_count": null,
   "id": "41b62ad2-9394-443b-a028-db15ab3fe41a",
   "metadata": {},
   "outputs": [],
   "source": [
    "df4"
   ]
  },
  {
   "cell_type": "code",
   "execution_count": null,
   "id": "c8209fde-721a-462b-903e-145fd3b5b2b0",
   "metadata": {},
   "outputs": [],
   "source": [
    "df4.MODEL_SCORE.describe()"
   ]
  },
  {
   "cell_type": "code",
   "execution_count": null,
   "id": "f76e97a3-ba32-4a41-8b7e-d550ea8a4cbd",
   "metadata": {},
   "outputs": [],
   "source": [
    "download_data_from_gcs(project_id='bi-srv-aaaie-pr-c0c268',\n",
    "                       bucket_name='bi-srv-aaaie-pr-c0c268_bkt_social_media_messaging',\n",
    "                       gcs_path='telus_social_media_messaging_cust_list.csv',\n",
    "                       local_path='telus_social_media_messaging_cust_list.csv')"
   ]
  },
  {
   "cell_type": "code",
   "execution_count": null,
   "id": "bd7c7510-32a1-40a5-a581-90a54a91f543",
   "metadata": {},
   "outputs": [],
   "source": [
    "df5 = pd.read_csv('telus_social_media_messaging_cust_list.csv')"
   ]
  },
  {
   "cell_type": "code",
   "execution_count": null,
   "id": "5da053a7-9219-4bde-ac3a-696f1fb15998",
   "metadata": {},
   "outputs": [],
   "source": [
    "df5.head()"
   ]
  },
  {
   "cell_type": "code",
   "execution_count": null,
   "id": "a781da1e-01fa-4a11-9803-d0380e0d81d1",
   "metadata": {},
   "outputs": [],
   "source": [
    "df6 = pd.merge(df4, df5, how='left', left_on=['BAN', 'SUBSCRIBER_NO'], right_on=['BAN', 'MSISDN'])"
   ]
  },
  {
   "cell_type": "code",
   "execution_count": null,
   "id": "b260b2e8-c99e-42b1-bfab-a19b38add9aa",
   "metadata": {},
   "outputs": [],
   "source": [
    "df6.loc[df6.CONTROL_GROUP=='N'].social_media_aal_propensity.describe()"
   ]
  },
  {
   "cell_type": "code",
   "execution_count": null,
   "id": "52120511-db65-4c4c-b063-703488fec0ac",
   "metadata": {},
   "outputs": [],
   "source": [
    "df6.loc[df6.CONTROL_GROUP=='Y'].social_media_aal_propensity.describe()"
   ]
  },
  {
   "cell_type": "code",
   "execution_count": null,
   "id": "f569e802-0c69-4864-9577-a8f725735336",
   "metadata": {},
   "outputs": [],
   "source": [
    "df6.loc[df6.social_media_aal_propensity==0].shape"
   ]
  },
  {
   "cell_type": "code",
   "execution_count": null,
   "id": "68a8e72e-1a12-4247-88f3-c30d39ff3b27",
   "metadata": {},
   "outputs": [],
   "source": [
    "df5.sample(frac=0.1).social_media_aal_propensity.describe()"
   ]
  },
  {
   "cell_type": "code",
   "execution_count": null,
   "id": "81c6e72b-b454-4894-a3e6-242d0fd8197b",
   "metadata": {},
   "outputs": [],
   "source": [
    "df5.social_media_aal_propensity.describe()"
   ]
  },
  {
   "cell_type": "code",
   "execution_count": null,
   "id": "93cce379-ab34-41e1-8d3f-92a4f8a163a0",
   "metadata": {},
   "outputs": [],
   "source": []
  }
 ],
 "metadata": {
  "kernelspec": {
   "display_name": "Python 3 (ipykernel)",
   "language": "python",
   "name": "python3"
  },
  "language_info": {
   "codemirror_mode": {
    "name": "ipython",
    "version": 3
   },
   "file_extension": ".py",
   "mimetype": "text/x-python",
   "name": "python",
   "nbconvert_exporter": "python",
   "pygments_lexer": "ipython3",
   "version": "3.7.12"
  }
 },
 "nbformat": 4,
 "nbformat_minor": 5
}
