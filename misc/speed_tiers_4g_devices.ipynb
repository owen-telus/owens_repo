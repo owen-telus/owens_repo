{
 "cells": [
  {
   "cell_type": "code",
   "execution_count": null,
   "id": "2ded1736-c808-4364-9fd4-e8685d78be28",
   "metadata": {},
   "outputs": [],
   "source": [
    "import numpy as np\n",
    "import pandas as pd"
   ]
  },
  {
   "cell_type": "code",
   "execution_count": null,
   "id": "1a26982c-2dfa-48aa-be09-8ea25fba4075",
   "metadata": {},
   "outputs": [],
   "source": [
    "%%bigquery df\n",
    "\n",
    "SELECT * \n",
    "FROM `cto-wln-sa-data-pr-bb5283.customer_personas_pipelines.5g_speed_tiers_campaign_output_5G_plus`"
   ]
  },
  {
   "cell_type": "code",
   "execution_count": null,
   "id": "c3cf0a10-5fe4-4a90-82c0-93338d61f645",
   "metadata": {},
   "outputs": [],
   "source": [
    "df"
   ]
  },
  {
   "cell_type": "markdown",
   "id": "d28b84ef-7dd6-43eb-a5ee-45f6c101bf10",
   "metadata": {},
   "source": [
    "# Number of Customers with 4G Capable devices but unknown or no 5G Capability is ~ 1.78M customers"
   ]
  },
  {
   "cell_type": "code",
   "execution_count": null,
   "id": "47146c4d-03df-4c47-a0e1-80787bf22090",
   "metadata": {},
   "outputs": [],
   "source": [
    "filtered_df = df.loc[(df.is_4g_capable=='Yes') & ((df.is_5g_capable=='No') | (df.is_5g_capable=='Unknown'))].reset_index(drop=True)"
   ]
  },
  {
   "cell_type": "code",
   "execution_count": null,
   "id": "f2e1da80-996d-4af3-8439-1a3739f2e648",
   "metadata": {},
   "outputs": [],
   "source": [
    "filtered_df.propensity.describe()"
   ]
  },
  {
   "cell_type": "code",
   "execution_count": null,
   "id": "b015292e-1ad8-4ab9-8d0e-0a8eca494029",
   "metadata": {},
   "outputs": [],
   "source": [
    "# Low propensity\n",
    "\n",
    "filtered_df.loc[filtered_df.propensity <= 0.25].shape"
   ]
  },
  {
   "cell_type": "code",
   "execution_count": null,
   "id": "ee4d9ca8-b9a3-4acc-8e43-4835d2e18d02",
   "metadata": {},
   "outputs": [],
   "source": [
    "# High propensity\n",
    "\n",
    "filtered_df.loc[filtered_df.propensity >= 0.5].shape"
   ]
  },
  {
   "cell_type": "code",
   "execution_count": null,
   "id": "904324f8-902d-4073-88e8-30ada279d4c2",
   "metadata": {},
   "outputs": [],
   "source": []
  }
 ],
 "metadata": {
  "kernelspec": {
   "display_name": "Python 3 (ipykernel)",
   "language": "python",
   "name": "python3"
  },
  "language_info": {
   "codemirror_mode": {
    "name": "ipython",
    "version": 3
   },
   "file_extension": ".py",
   "mimetype": "text/x-python",
   "name": "python",
   "nbconvert_exporter": "python",
   "pygments_lexer": "ipython3",
   "version": "3.7.12"
  }
 },
 "nbformat": 4,
 "nbformat_minor": 5
}
