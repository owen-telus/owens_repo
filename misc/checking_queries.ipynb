{
 "cells": [
  {
   "cell_type": "code",
   "execution_count": null,
   "id": "b043187c-f2e8-41ff-b676-b45cc73fe731",
   "metadata": {},
   "outputs": [],
   "source": [
    "import pandas as pd, numpy as np\n",
    "np.random.seed(0)\n",
    "from google.cloud import bigquery\n",
    "import math\n",
    "from sklearn import preprocessing\n",
    "import pickle\n",
    "import sys"
   ]
  },
  {
   "cell_type": "code",
   "execution_count": null,
   "id": "82458e5f-968a-485b-826c-7e16183f1b77",
   "metadata": {},
   "outputs": [],
   "source": [
    "%%bigquery koodo_1\n",
    "\n",
    "SELECT \n",
    "MOB_BAN AS BAN,\n",
    "MSISDN,\n",
    "IMSI\n",
    "FROM `cto-wln-sa-data-pr-bb5283.customer_personas_features.cust_wls_mnh_mapping_TB`\n",
    "WHERE WHSIA_FLAG=false AND MOB_OR_FFH='Naked Wireless' AND BRAND='Koodo Mobile'"
   ]
  },
  {
   "cell_type": "code",
   "execution_count": null,
   "id": "43ec1a08-e459-4680-9c40-8119998ebd2a",
   "metadata": {},
   "outputs": [],
   "source": [
    "%%bigquery koodo_2\n",
    "\n",
    "SELECT \n",
    "BACCT_BUS_BACCT_NUM,\n",
    "pi_prod_instnc_resrc_str AS MSISDN\n",
    "FROM `cio-datahub-enterprise-pr-183a.ent_cust_cust.bq_prod_instnc_snpsht`\n",
    "WHERE \n",
    "prod_instnc_ts = (SELECT MAX(prod_instnc_ts) FROM `cio-datahub-enterprise-pr-183a.ent_cust_cust.bq_prod_instnc_snpsht`)\n",
    "\n",
    "AND pp_bus_pp_catlg_itm_cd NOT IN (SELECT whsia_soc FROM `cto-wln-sa-data-pr-bb5283.ref_table.bq_whsia_soc_codes`)\n",
    "AND bacct_billg_mthd_cd='POST'\n",
    "AND pi_prod_instnc_typ_cd = 'C'-- Celluluar products \n",
    "--AND bacct_bacct_typ_cd = 'I' -- Consumer\n",
    "AND bacct_bacct_subtyp_cd = 'R' -- Account Sub type\n",
    "AND bacct_bacct_stat_cd = 'O' -- Billing account open  \n",
    "AND pi_prod_instnc_stat_cd = 'A' -- Status of product instance\n",
    "AND bacct_brand_nm = 'Koodo' \n",
    "AND bacct_bacct_typ_txt = 'Consumer'"
   ]
  },
  {
   "cell_type": "code",
   "execution_count": null,
   "id": "f5ee35d3-07b2-47d4-9dd0-7f650634e072",
   "metadata": {},
   "outputs": [],
   "source": [
    "print(koodo_1.shape, koodo_2.shape)"
   ]
  },
  {
   "cell_type": "code",
   "execution_count": null,
   "id": "6de747d6-1a23-48cb-b28b-e6025cceb20b",
   "metadata": {},
   "outputs": [],
   "source": [
    "koodo_1.head()"
   ]
  },
  {
   "cell_type": "code",
   "execution_count": null,
   "id": "3d6cca9a-b92f-4cf2-a6e8-3529c5dbf69c",
   "metadata": {},
   "outputs": [],
   "source": [
    "koodo_2.loc[~koodo_2.MSISDN.isin(koodo_1.MSISDN)].shape"
   ]
  },
  {
   "cell_type": "code",
   "execution_count": null,
   "id": "8a3faa1d-7e29-41b0-b3ac-be84c05b529f",
   "metadata": {},
   "outputs": [],
   "source": [
    "koodo_1.loc[~koodo_1.MSISDN.isin(koodo_2.MSISDN)].shape"
   ]
  },
  {
   "cell_type": "code",
   "execution_count": null,
   "id": "57d9949c-06fc-471f-a45c-2f0df6638923",
   "metadata": {},
   "outputs": [],
   "source": [
    "koodo_2.shape[0] - koodo_1.shape[0]"
   ]
  },
  {
   "cell_type": "code",
   "execution_count": null,
   "id": "5769e5b7-4163-4736-934a-2c1119c577f2",
   "metadata": {},
   "outputs": [],
   "source": [
    "koodo_2.loc[~koodo_2.MSISDN.isin(koodo_1.MSISDN)].shape[0] - koodo_1.loc[~koodo_1.MSISDN.isin(koodo_2.MSISDN)].shape[0]"
   ]
  },
  {
   "cell_type": "code",
   "execution_count": null,
   "id": "ade80fe0-2e76-4603-9cc3-a6c90a30f184",
   "metadata": {},
   "outputs": [],
   "source": []
  }
 ],
 "metadata": {
  "kernelspec": {
   "display_name": "Python 3 (ipykernel)",
   "language": "python",
   "name": "python3"
  },
  "language_info": {
   "codemirror_mode": {
    "name": "ipython",
    "version": 3
   },
   "file_extension": ".py",
   "mimetype": "text/x-python",
   "name": "python",
   "nbconvert_exporter": "python",
   "pygments_lexer": "ipython3",
   "version": "3.7.12"
  }
 },
 "nbformat": 4,
 "nbformat_minor": 5
}
