{
 "cells": [
  {
   "cell_type": "code",
   "execution_count": null,
   "id": "a732d597-08a9-468f-a0c9-b6f7c739db05",
   "metadata": {},
   "outputs": [],
   "source": [
    "import pandas as pd \n",
    "import numpy as np\n",
    "import matplotlib.pyplot as plt\n",
    "import seaborn as sns"
   ]
  },
  {
   "cell_type": "code",
   "execution_count": null,
   "id": "be7dea91-1a45-4fb4-8981-40982ff8968b",
   "metadata": {},
   "outputs": [],
   "source": [
    "%%bigquery avg_usage_df\n",
    "\n",
    "SELECT  \n",
    "  ts_index,\n",
    "  start_dt,\n",
    "  AVG(usage_volume_MB_travel) AS avg_usage_volume_MB_travel,\n",
    "  AVG(usage_volume_MB_gaming) AS avg_usage_volume_MB_gaming,\n",
    "  AVG(usage_volume_MB_shopping) AS avg_usage_volume_MB_shopping,\n",
    "  AVG(usage_volume_MB_lifestyle) AS avg_usage_volume_MB_lifestyle,\n",
    "  AVG(usage_volume_MB_telecom) AS avg_usage_volume_MB_telecom,\n",
    "  AVG(usage_volume_MB_productivity) AS avg_usage_volume_MB_productivity,\n",
    "  AVG(usage_volume_MB_news) AS avg_usage_volume_MB_news,\n",
    "  AVG(usage_volume_MB_os) AS avg_usage_volume_MB_os,\n",
    "  AVG(usage_volume_MB_agriculture) AS avg_usage_volume_MB_agriculture,\n",
    "  AVG(usage_volume_MB_finance) AS avg_usage_volume_MB_finance,\n",
    "  AVG(usage_volume_MB_communication) AS avg_usage_volume_MB_communication,\n",
    "  AVG(usage_volume_MB_network) AS avg_usage_volume_MB_network,\n",
    "  AVG(usage_volume_MB_entertainment) AS avg_usage_volume_MB_entertainment,\n",
    "  AVG(usage_volume_MB_utility) AS avg_usage_volume_MB_utility,\n",
    "  AVG(usage_volume_MB_pets) AS avg_usage_volume_MB_pets,\n",
    "  AVG(usage_volume_MB_realestate) AS avg_usage_volume_MB_realestate,\n",
    "  AVG(usage_volume_MB_smarthome) AS avg_usage_volume_MB_smarthome\n",
    "\n",
    "FROM `cto-wln-sa-data-pr-bb5283.customer_personas_features.imsi_app_usage_trends_weekly_ts` \n",
    "GROUP BY ts_index,start_dt\n",
    "ORDER BY ts_index"
   ]
  },
  {
   "cell_type": "code",
   "execution_count": null,
   "id": "a96d2f84-8357-4adf-b3ae-45b8b88a013f",
   "metadata": {},
   "outputs": [],
   "source": [
    "avg_usage_df"
   ]
  },
  {
   "cell_type": "code",
   "execution_count": null,
   "id": "42b5d249-eb34-4ccf-a84b-90acfe5fe922",
   "metadata": {},
   "outputs": [],
   "source": [
    "%%bigquery sum_usage_df\n",
    "\n",
    "SELECT  \n",
    "  ts_index,\n",
    "  start_dt,\n",
    "  SUM(usage_volume_MB_travel) AS sum_usage_volume_MB_travel,\n",
    "  SUM(usage_volume_MB_gaming) AS sum_usage_volume_MB_gaming,\n",
    "  SUM(usage_volume_MB_shopping) AS sum_usage_volume_MB_shopping,\n",
    "  SUM(usage_volume_MB_lifestyle) AS sum_usage_volume_MB_lifestyle,\n",
    "  SUM(usage_volume_MB_telecom) AS sum_usage_volume_MB_telecom,\n",
    "  SUM(usage_volume_MB_productivity) AS sum_usage_volume_MB_productivity,\n",
    "  SUM(usage_volume_MB_news) AS sum_usage_volume_MB_news,\n",
    "  SUM(usage_volume_MB_os) AS sum_usage_volume_MB_os,\n",
    "  SUM(usage_volume_MB_agriculture) AS sum_usage_volume_MB_agriculture,\n",
    "  SUM(usage_volume_MB_finance) AS sum_usage_volume_MB_finance,\n",
    "  SUM(usage_volume_MB_communication) AS sum_usage_volume_MB_communication,\n",
    "  SUM(usage_volume_MB_network) AS sum_usage_volume_MB_network,\n",
    "  SUM(usage_volume_MB_entertainment) AS sum_usage_volume_MB_entertainment,\n",
    "  SUM(usage_volume_MB_utility) AS sum_usage_volume_MB_utility,\n",
    "  SUM(usage_volume_MB_pets) AS sum_usage_volume_MB_pets,\n",
    "  SUM(usage_volume_MB_realestate) AS sum_usage_volume_MB_realestate,\n",
    "  SUM(usage_volume_MB_smarthome) AS sum_usage_volume_MB_smarthome\n",
    "\n",
    "FROM `cto-wln-sa-data-pr-bb5283.customer_personas_features.imsi_app_usage_trends_weekly_ts` \n",
    "GROUP BY ts_index,start_dt\n",
    "ORDER BY ts_index"
   ]
  },
  {
   "cell_type": "code",
   "execution_count": null,
   "id": "6b100213-75c1-4d29-a63e-a88ca200e510",
   "metadata": {},
   "outputs": [],
   "source": [
    "sum_usage_df"
   ]
  },
  {
   "cell_type": "code",
   "execution_count": null,
   "id": "989f1302-4201-4286-9ef7-825c2a1f8dec",
   "metadata": {},
   "outputs": [],
   "source": [
    "avg_usage_cols = [col for col in avg_usage_df.columns if \"usage\" in col]\n",
    "sum_usage_cols = [col for col in sum_usage_df.columns if \"usage\" in col]"
   ]
  },
  {
   "cell_type": "code",
   "execution_count": null,
   "id": "f5657246-0724-4114-852f-2ab770e01fef",
   "metadata": {},
   "outputs": [],
   "source": [
    "for col in avg_usage_cols:\n",
    "    plt.figure(figsize=(8,4))\n",
    "    sns.lineplot(data=avg_usage_df.loc[avg_usage_df.ts_index!=avg_usage_df.ts_index.max()], x=\"start_dt\", y=col)"
   ]
  },
  {
   "cell_type": "code",
   "execution_count": null,
   "id": "bd52c6c9-6361-47b7-ae19-caa4639f5c5a",
   "metadata": {},
   "outputs": [],
   "source": [
    "for col in sum_usage_cols:\n",
    "    plt.figure(figsize=(8,4))\n",
    "    sns.lineplot(data=sum_usage_df.loc[sum_usage_df.ts_index!=sum_usage_df.ts_index.max()], x=\"start_dt\", y=col)"
   ]
  },
  {
   "cell_type": "code",
   "execution_count": null,
   "id": "f890b9ce-ff84-4181-97a5-b9147c0b259f",
   "metadata": {},
   "outputs": [],
   "source": []
  }
 ],
 "metadata": {
  "kernelspec": {
   "display_name": "Python 3 (ipykernel)",
   "language": "python",
   "name": "python3"
  },
  "language_info": {
   "codemirror_mode": {
    "name": "ipython",
    "version": 3
   },
   "file_extension": ".py",
   "mimetype": "text/x-python",
   "name": "python",
   "nbconvert_exporter": "python",
   "pygments_lexer": "ipython3",
   "version": "3.7.12"
  }
 },
 "nbformat": 4,
 "nbformat_minor": 5
}
