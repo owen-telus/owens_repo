{
 "cells": [
  {
   "cell_type": "code",
   "execution_count": null,
   "id": "6c29b463-d0b0-4c47-90e8-91b432a086fd",
   "metadata": {},
   "outputs": [],
   "source": [
    "import pandas as pd\n",
    "import numpy as np\n",
    "from datetime import datetime\n",
    "pd.options.display.max_columns = 100\n",
    "from google.cloud import bigquery\n",
    "from datetime import datetime\n",
    "from datetime import date, timedelta"
   ]
  },
  {
   "cell_type": "code",
   "execution_count": null,
   "id": "2231bb8e-c15c-4c80-85d1-d8534f3edb0e",
   "metadata": {},
   "outputs": [],
   "source": [
    "client = bigquery.Client(location=\"northamerica-northeast1\")"
   ]
  },
  {
   "cell_type": "code",
   "execution_count": null,
   "id": "094b46df-b68f-4ae9-b519-3ec40bf4c3f3",
   "metadata": {},
   "outputs": [],
   "source": [
    "query = \\\n",
    "'''\n",
    "SELECT *\n",
    "FROM `cto-wln-sa-data-pr-bb5283`.INFORMATION_SCHEMA.SCHEMATA\n",
    "'''"
   ]
  },
  {
   "cell_type": "code",
   "execution_count": null,
   "id": "741a1ca1-25bf-40a6-8622-b3f02a10d202",
   "metadata": {},
   "outputs": [],
   "source": [
    "table_df = client.query(query).to_dataframe()"
   ]
  },
  {
   "cell_type": "code",
   "execution_count": null,
   "id": "cccc51ad-f423-4719-842f-993d35d9abac",
   "metadata": {},
   "outputs": [],
   "source": [
    "table_df.head(2)"
   ]
  },
  {
   "cell_type": "code",
   "execution_count": null,
   "id": "24a93202-f40a-4094-8976-f764543e580d",
   "metadata": {},
   "outputs": [],
   "source": [
    "table_column_query = \\\n",
    "'''\n",
    "SELECT\n",
    "  *\n",
    "FROM\n",
    "  `{project_id}.{dataset_name}`.INFORMATION_SCHEMA.COLUMN_FIELD_PATHS\n",
    "'''"
   ]
  },
  {
   "cell_type": "code",
   "execution_count": null,
   "id": "3918fd5b-d511-4cbf-a9b5-db73849df43c",
   "metadata": {},
   "outputs": [],
   "source": [
    "project_column_info_df = pd.DataFrame()\n",
    "for index, row in table_df.iterrows():\n",
    "    query_ = table_column_query.format(project_id = row['catalog_name'],\n",
    "                                       dataset_name = row['schema_name'])\n",
    "    df = client.query(query_).to_dataframe()\n",
    "    project_column_info_df = project_column_info_df.append(df)"
   ]
  },
  {
   "cell_type": "code",
   "execution_count": null,
   "id": "f332bc7c-4641-451d-ab4c-ed7dd4b3b245",
   "metadata": {},
   "outputs": [],
   "source": [
    "project_column_info_df"
   ]
  },
  {
   "cell_type": "code",
   "execution_count": null,
   "id": "c5dc5459-b60f-401a-854c-26fafbfa2416",
   "metadata": {},
   "outputs": [],
   "source": []
  }
 ],
 "metadata": {
  "kernelspec": {
   "display_name": "Python 3 (ipykernel)",
   "language": "python",
   "name": "python3"
  },
  "language_info": {
   "codemirror_mode": {
    "name": "ipython",
    "version": 3
   },
   "file_extension": ".py",
   "mimetype": "text/x-python",
   "name": "python",
   "nbconvert_exporter": "python",
   "pygments_lexer": "ipython3",
   "version": "3.7.12"
  }
 },
 "nbformat": 4,
 "nbformat_minor": 5
}
