{
 "cells": [
  {
   "cell_type": "code",
   "execution_count": null,
   "id": "5bbb5187-3291-4aee-b14e-c095f07cb3b7",
   "metadata": {},
   "outputs": [],
   "source": [
    "from datetime import datetime\n",
    "from datetime import date\n",
    "\n",
    "hpbi_data_ref = 'cto-wln-sa-data-pr-bb5283.ref_table.bq_hpbi_product_instance_profl' # hpbi prod instance table name\n",
    "lookup_data_ref = 'cto-wln-sa-data-pr-bb5283.customer_personas_multicultural_model.Multicultural Lookup Tables' # lookup table name\n",
    "app_usage_data_ref = 'cio-datahub-enterprise-pr-183a.ent_usage_unrated_ott.bq_ott_app_event' # App usage data table name\n",
    "last_date = date.today().strftime('%Y%m%d') # The last date of data collected; currently today's date but for a custom date, format it as YYYYMMDD\n",
    "app_usage_date_window = 15 # Days of app usage data to be queried\n",
    "\n",
    "content = \\\n",
    "        '''WITH hpbi_prod_instnc AS (\n",
    "            SELECT PROD_INSTNC_RESRC_STR as MSISDN,\n",
    "            PROD_INSTNC_ALIAS_STR as IMSI,\n",
    "            CUST_FIRST_NM,\n",
    "            CUST_LAST_NM\n",
    "            FROM\n",
    "                `{hpbi_data_ref}`\n",
    "            WHERE\n",
    "                PROD_INSTNC_ALIAS_STR is not null\n",
    "                and PROD_INSTNC_MASTER_SRC_ID = 130\n",
    "                AND deactivation_dt is null\n",
    "                AND BRAND_TXT = 'Telus regular brand'\n",
    "                AND CUST_TYPE_CD = 'R'\n",
    "        ),\n",
    "        lookup_tbl AS (\n",
    "            SELECT\n",
    "                string_field_0 as Last_nm,\n",
    "                string_field_1 as Segment\n",
    "            FROM\n",
    "            `{lookup_data_ref}`\n",
    "        ),\n",
    "        app_usage AS (\n",
    "            SELECT \n",
    "                imsi_num,\n",
    "                app_group_nm, \n",
    "                (ul_volume_qty + dl_volume_qty) as total_usage,\n",
    "                event_dt,\n",
    "                'true' as app_flag\n",
    "            FROM\n",
    "            `{app_usage_data_ref}`\n",
    "            WHERE \n",
    "                DATE(event_dt) >= DATE_SUB(PARSE_DATE('%Y%m%d',  \"{last_date}\"), INTERVAL {app_usage_date_window} DAY)\n",
    "        )\n",
    "        SELECT\n",
    "            *\n",
    "        FROM hpbi_prod_instnc \n",
    "        LEFT JOIN lookup_tbl ON hpbi_prod_instnc.CUST_LAST_NM = lookup_tbl.Last_nm\n",
    "        LEFT JOIN app_usage ON CAST(app_usage.imsi_num as string) = CAST(hpbi_prod_instnc.IMSI as string)\n",
    "        AND app_usage.event_dt BETWEEN DATE_SUB(PARSE_DATE('%Y%m%d',  \"{last_date}\"), INTERVAL {app_usage_date_window} DAY)\n",
    "        AND PARSE_DATE('%Y%m%d',  \"{last_date}\")'''\n",
    "\n",
    "    # content = str(content, 'utf-8')\n",
    "create_base_feature_set_query = content.format(hpbi_data_ref = hpbi_data_ref,\n",
    "                                               lookup_data_ref = lookup_data_ref, \n",
    "                                               app_usage_data_ref = app_usage_data_ref, \n",
    "                                               last_date = last_date, \n",
    "                                               app_usage_date_window = app_usage_date_window)"
   ]
  },
  {
   "cell_type": "code",
   "execution_count": null,
   "id": "23515311-1ac2-4c81-8d33-65e605d73618",
   "metadata": {},
   "outputs": [],
   "source": [
    "print(create_base_feature_set_query)"
   ]
  }
 ],
 "metadata": {
  "kernelspec": {
   "display_name": "Python 3 (ipykernel)",
   "language": "python",
   "name": "python3"
  },
  "language_info": {
   "codemirror_mode": {
    "name": "ipython",
    "version": 3
   },
   "file_extension": ".py",
   "mimetype": "text/x-python",
   "name": "python",
   "nbconvert_exporter": "python",
   "pygments_lexer": "ipython3",
   "version": "3.7.12"
  }
 },
 "nbformat": 4,
 "nbformat_minor": 5
}
