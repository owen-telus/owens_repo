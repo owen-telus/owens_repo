{
 "cells": [
  {
   "cell_type": "code",
   "execution_count": null,
   "id": "844b25b3-d69f-4197-8518-76fc7cf965db",
   "metadata": {},
   "outputs": [],
   "source": [
    "import pandas as pd\n",
    "import numpy as np"
   ]
  },
  {
   "cell_type": "code",
   "execution_count": null,
   "id": "7933abbd-9e68-4ecd-80e5-5483b94f21a7",
   "metadata": {},
   "outputs": [],
   "source": [
    "%%bigquery mob_base\n",
    "\n",
    "SELECT \n",
    "    BACCT_BUS_BACCT_NUM AS BAN,\n",
    "    pi_prod_instnc_resrc_str AS MSISDN,\n",
    "    pp_bus_pp_catlg_itm_cd AS PRICE_PLAN_CD,\n",
    "    pp_catlg_itm_nm AS PRICE_PLAN_TXT\n",
    "    \n",
    "FROM `cio-datahub-enterprise-pr-183a.ent_cust_cust.bq_prod_instnc_snpsht` \n",
    "WHERE \n",
    "    prod_instnc_ts = (SELECT MAX(prod_instnc_ts) FROM `cio-datahub-enterprise-pr-183a.ent_cust_cust.bq_prod_instnc_snpsht` )  -- Get most recent date in snapshot table\n",
    "    AND bacct_brand_id=1 -- 1 For Telus\n",
    "    AND pi_prod_instnc_typ_cd = 'C'-- Celluluar products \n",
    "    AND bacct_bacct_typ_cd = 'I' -- Consumer\n",
    "    AND bacct_bacct_subtyp_cd = 'R' -- Account Sub type\n",
    "    AND bacct_bacct_stat_cd = 'O' -- Billing account open  \n",
    "    AND pi_prod_instnc_stat_cd = 'A' -- Status of product instance\n",
    "    AND bacct_billg_mthd_cd ='POST' -- Post Pay customers only\n",
    "    AND (UPPER(pp_catlg_itm_nm) NOT LIKE '%TABLET%' OR UPPER(pp_catlg_itm_nm) NOT LIKE '%WATCH%')\n",
    "    AND pp_bus_pp_catlg_itm_cd NOT IN (SELECT whsia_soc FROM `cto-wln-sa-data-pr-bb5283.ref_table.bq_whsia_soc_codes`)"
   ]
  },
  {
   "cell_type": "code",
   "execution_count": null,
   "id": "c45ac3cf-a162-463e-b2f5-e540b8c11c0f",
   "metadata": {},
   "outputs": [],
   "source": [
    "soc_cd_df = pd.read_csv('soc_codes.csv')"
   ]
  },
  {
   "cell_type": "code",
   "execution_count": null,
   "id": "08d4857d-a365-4d94-ad65-a03dc983aef3",
   "metadata": {},
   "outputs": [],
   "source": [
    "headers=soc_cd_df.iloc[0,:-5]\n",
    "print(headers)\n",
    "clean_soc_cd_df = soc_cd_df.iloc[2:,:-5]\n",
    "clean_soc_cd_df.rename(columns=dict(headers),inplace=True)"
   ]
  },
  {
   "cell_type": "code",
   "execution_count": null,
   "id": "557415c5-1390-417d-9756-6cdf75c5c6fd",
   "metadata": {},
   "outputs": [],
   "source": [
    "clean_soc_cd_df"
   ]
  },
  {
   "cell_type": "code",
   "execution_count": null,
   "id": "5ce1a258-6f37-428a-a757-c844bf99b049",
   "metadata": {},
   "outputs": [],
   "source": []
  }
 ],
 "metadata": {
  "kernelspec": {
   "display_name": "Python 3 (ipykernel)",
   "language": "python",
   "name": "python3"
  },
  "language_info": {
   "codemirror_mode": {
    "name": "ipython",
    "version": 3
   },
   "file_extension": ".py",
   "mimetype": "text/x-python",
   "name": "python",
   "nbconvert_exporter": "python",
   "pygments_lexer": "ipython3",
   "version": "3.7.12"
  }
 },
 "nbformat": 4,
 "nbformat_minor": 5
}
