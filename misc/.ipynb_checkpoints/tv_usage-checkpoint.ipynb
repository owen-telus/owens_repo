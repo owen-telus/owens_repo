{
 "cells": [
  {
   "cell_type": "code",
   "execution_count": null,
   "id": "9fcd1319-d7ff-4021-8e7e-cae9ad545d3b",
   "metadata": {},
   "outputs": [],
   "source": [
    "import datatable\n",
    "\n",
    "import pandas as pd\n",
    "import numpy as np\n",
    "from datetime import datetime\n",
    "pd.options.display.max_columns = 100\n",
    "from google.cloud import bigquery\n",
    "from datetime import datetime\n",
    "from datetime import date, timedelta\n",
    "import sys\n",
    "sys.path.append('/home/jupyter/aaaie-customer-personas/src')\n",
    "\n",
    "from customer_personas.bq_utils import export_dataframe_to_bq, upload_data_to_gcs\n",
    "from customer_personas.plotters import plot_model_coefficients, plot_distributions\n",
    "from customer_personas.bq_utils import download_data, upload_data\n",
    "\n",
    "from customer_personas.propensity import return_propensity_score_gowers_distance\n",
    "from customer_personas.bq_utils import export_dataframe_to_bq, upload_data_to_gcs\n",
    "from sklearn import preprocessing\n",
    "\n",
    "from customer_personas.bq_utils import download_data, upload_data\n",
    "\n",
    "import joblib\n",
    "\n",
    "import matplotlib.pyplot as plt\n",
    "import seaborn as sns\n",
    "\n",
    "from pycaret.classification import * \n",
    "import math"
   ]
  },
  {
   "cell_type": "markdown",
   "id": "f5cfd3a7-2a23-492f-aba1-1009bf074f0e",
   "metadata": {},
   "source": [
    "# Movie Stats by Quarter - Number of views, average watch %, median watch % where customers watched 50% or more of the movie"
   ]
  },
  {
   "cell_type": "code",
   "execution_count": null,
   "id": "7ac5bdf8-8b22-4e1e-afa7-aadaeaf11c6f",
   "metadata": {},
   "outputs": [],
   "source": [
    "movie_stats_sql = \\\n",
    "'''\n",
    "-- Query to get the number of views, average watch percentage, median watch percentage for Movies by Quarter \n",
    "\n",
    "DECLARE time_period_pivot_str STRING;\n",
    "\n",
    "EXECUTE IMMEDIATE \"\"\"\n",
    "  CREATE TEMP TABLE MOVIE_STATS AS \n",
    "\n",
    "    WITH MOVIE_TABLE AS (\n",
    "      SELECT\n",
    "        tv_pgm_nm,\n",
    "        tv_watch_max_pct,\n",
    "        CONCAT(EXTRACT(YEAR FROM tv_pgm_watch_dly_sum_dt), '_Q', EXTRACT(QUARTER FROM tv_pgm_watch_dly_sum_dt)) AS time_period        \n",
    "      FROM `cio-datahub-enterprise-pr-183a.ent_usage_rated_tv.bq_tv_program_watch_dly_sum` \n",
    "      WHERE \n",
    "        tv_pgm_watch_dly_sum_dt <> CURRENT_DATE() -- Need to have a date filter otherwise query wont run\n",
    "        AND tv_media_catgy_txt='Movies'\n",
    "        AND tv_media_subcatgy_txt <> 'Adults Only' -- No Adult Content\n",
    "        AND tv_watch_max_pct > 50 -- Watched greater than 50% of the movie\n",
    "        AND tv_pgm_lang_cd='en' -- ENGLISH Movies Only\n",
    "    )\n",
    "\n",
    "    SELECT \n",
    "      tv_pgm_nm,\n",
    "      time_period,\n",
    "      COUNT(*) as num_views,\n",
    "      ROUND(MAX(median_watch_pct), 2) AS median_watch_pct,\n",
    "      ROUND(AVG(tv_watch_max_pct), 2) AS average_watch_pct\n",
    "      \n",
    "    FROM (\n",
    "      -- This sub query calculates the median using PERCENTILE_DISC() Function and cannot be GROUP BY in the same subquery\n",
    "      SELECT\n",
    "        *,\n",
    "        PERCENTILE_DISC(tv_watch_max_pct, 0.5) OVER (PARTITION BY tv_pgm_nm, time_period) AS median_watch_pct\n",
    "      FROM MOVIE_TABLE\n",
    "\n",
    "    )\n",
    "    GROUP BY tv_pgm_nm, time_period\n",
    "    ORDER BY time_period ASC, COUNT(*) DESC\n",
    "  \"\"\";\n",
    "\n",
    "  SET time_period_pivot_str = (SELECT CONCAT('(\"', STRING_AGG(DISTINCT time_period, '\", \"'), '\")') FROM MOVIE_STATS);\n",
    "\n",
    "  EXECUTE IMMEDIATE format(\"\"\"\n",
    "  \n",
    "    SELECT \n",
    "      *\n",
    "    FROM MOVIE_STATS\n",
    "    PIVOT(\n",
    "        MAX(num_views) AS num_views,\n",
    "        MAX(average_watch_pct) AS average_watch_pct,\n",
    "        MAX(median_watch_pct) AS median_watch_pct\n",
    "        FOR time_period in %s\n",
    "    )\n",
    "    \"\"\", time_period_pivot_str\n",
    "  );\n",
    "\n",
    "'''"
   ]
  },
  {
   "cell_type": "code",
   "execution_count": null,
   "id": "eb8ad214-d268-421c-a27c-c428b90dd67c",
   "metadata": {},
   "outputs": [],
   "source": [
    "client=bigquery.Client()"
   ]
  },
  {
   "cell_type": "code",
   "execution_count": null,
   "id": "88fc4be6-13e8-423a-8406-84f5e01f819a",
   "metadata": {},
   "outputs": [],
   "source": [
    "movie_stats = client.query(movie_stats_sql).to_dataframe()"
   ]
  },
  {
   "cell_type": "code",
   "execution_count": null,
   "id": "53a6c1ad-2a82-4f31-b8cb-05fa8a29afc0",
   "metadata": {},
   "outputs": [],
   "source": [
    "movie_stats.head()"
   ]
  },
  {
   "cell_type": "markdown",
   "id": "bf528781-3b47-416c-81de-c1d3ca9c26b5",
   "metadata": {},
   "source": [
    "## Queries to get most watched movies by movie - Self Join"
   ]
  },
  {
   "cell_type": "code",
   "execution_count": null,
   "id": "1acf1abe-ee56-421f-8595-cdf42f531c38",
   "metadata": {},
   "outputs": [],
   "source": [
    "movies_test_sql = \\\n",
    "'''\n",
    "SELECT\n",
    "    tv_pgm_nm,\n",
    "    tv_acct_extrnl_id\n",
    "    --CONCAT(EXTRACT(YEAR FROM tv_pgm_watch_dly_sum_dt), '_Q', EXTRACT(QUARTER FROM tv_pgm_watch_dly_sum_dt)) AS time_period        \n",
    "FROM `cio-datahub-enterprise-pr-183a.ent_usage_rated_tv.bq_tv_program_watch_dly_sum` \n",
    "WHERE \n",
    "    tv_pgm_watch_dly_sum_dt = '2022-08-01' -- Need to have a date filter otherwise query wont run\n",
    "    AND tv_media_catgy_txt='Movies'\n",
    "    AND tv_media_subcatgy_txt <> 'Adults Only' -- No Adult Content\n",
    "    AND tv_watch_max_pct > 50 -- Watched greater than 50% of the movie\n",
    "    AND tv_pgm_lang_cd='en' -- ENGLISH Movies Only\n",
    "ORDER BY tv_acct_extrnl_id\n",
    "'''"
   ]
  },
  {
   "cell_type": "code",
   "execution_count": null,
   "id": "e42f4f21-6c3a-4225-a28f-fd831408f4ae",
   "metadata": {},
   "outputs": [],
   "source": [
    "movies_df=client.query(movies_test_sql).to_dataframe()"
   ]
  },
  {
   "cell_type": "code",
   "execution_count": null,
   "id": "18b0c477-7b11-4620-96f8-e675c5030651",
   "metadata": {},
   "outputs": [],
   "source": [
    "movies_df.loc[movies_df.tv_acct_extrnl_id=='100000414259']"
   ]
  },
  {
   "cell_type": "code",
   "execution_count": null,
   "id": "5808e2f7-4535-4e6a-9405-74df7540c85d",
   "metadata": {},
   "outputs": [],
   "source": [
    "%%bigquery movies_most_watched_df\n",
    "WITH MOVIE_WATCH_STAGE AS (\n",
    "    SELECT\n",
    "        A.tv_pgm_nm AS MOVIE,\n",
    "        B.tv_pgm_nm AS MOST_WATCHED,\n",
    "        A.tv_acct_extrnl_id AS ID\n",
    "                \n",
    "    FROM `cio-datahub-enterprise-pr-183a.ent_usage_rated_tv.bq_tv_program_watch_dly_sum` A\n",
    "    INNER JOIN `cio-datahub-enterprise-pr-183a.ent_usage_rated_tv.bq_tv_program_watch_dly_sum` B\n",
    "    ON A.tv_acct_extrnl_id = B.tv_acct_extrnl_id AND A.tv_pgm_nm <> B.tv_pgm_nm\n",
    "    WHERE \n",
    "        A.tv_pgm_watch_dly_sum_dt > '2022-01-01' -- Need to have a date filter otherwise query wont run\n",
    "        AND A.tv_media_catgy_txt='Movies'\n",
    "        AND A.tv_media_subcatgy_txt <> 'Adults Only' -- No Adult Content\n",
    "        AND A.tv_watch_max_pct > 50 -- Watched greater than 50% of the movie\n",
    "        AND A.tv_pgm_lang_cd='en' -- ENGLISH Movies Only\n",
    "\n",
    "        AND B.tv_pgm_watch_dly_sum_dt > '2022-01-01' -- Need to have a date filter otherwise query wont run\n",
    "        AND B.tv_media_catgy_txt='Movies'\n",
    "        AND B.tv_media_subcatgy_txt <> 'Adults Only' -- No Adult Content\n",
    "        AND B.tv_watch_max_pct > 50 -- Watched greater than 50% of the movie\n",
    "        AND B.tv_pgm_lang_cd='en' -- ENGLISH Movies Only\n",
    "\n",
    "),\n",
    "\n",
    "MOVIE_WATCH AS (\n",
    "    SELECT \n",
    "        MOVIE,\n",
    "        MOST_WATCHED,\n",
    "        COUNT(DISTINCT ID) AS num_views,\n",
    "        DENSE_RANK() OVER (PARTITION BY MOVIE ORDER BY COUNT(DISTINCT ID) DESC) AS rank\n",
    "    FROM MOVIE_WATCH_STAGE\n",
    "    GROUP BY MOVIE, MOST_WATCHED\n",
    ")\n",
    "\n",
    "SELECT *\n",
    "FROM MOVIE_WATCH\n",
    "WHERE rank <= 5\n",
    "ORDER BY MOVIE, rank"
   ]
  },
  {
   "cell_type": "code",
   "execution_count": null,
   "id": "b863aa6b-9eff-487a-ab50-3dad03de83b0",
   "metadata": {},
   "outputs": [],
   "source": [
    "movies_most_watched_df"
   ]
  },
  {
   "cell_type": "markdown",
   "id": "71e22565-8b9b-4fd0-a3a4-95d5de28feda",
   "metadata": {},
   "source": [
    "ID's that watched Red Dawn, see number of these people who also watched S.W.A.T"
   ]
  },
  {
   "cell_type": "code",
   "execution_count": null,
   "id": "fc91d9d0-abb5-4894-86a6-e79f30e3a687",
   "metadata": {},
   "outputs": [],
   "source": [
    "movies_df.loc[movies_df.tv_pgm_nm=='Red Dawn'].tv_acct_extrnl_id"
   ]
  },
  {
   "cell_type": "markdown",
   "id": "82fab3be-13a6-4238-83c7-0c24913f52c2",
   "metadata": {},
   "source": [
    "Matches Query from BQ"
   ]
  },
  {
   "cell_type": "code",
   "execution_count": null,
   "id": "ce46ac9b-91a2-4335-bb81-1c34847afc5a",
   "metadata": {},
   "outputs": [],
   "source": [
    "movies_df.loc[(movies_df.tv_pgm_nm=='S.W.A.T.') & \n",
    "              (movies_df.tv_acct_extrnl_id.isin(movies_df.loc[movies_df.tv_pgm_nm=='Red Dawn'].tv_acct_extrnl_id.unique()))].tv_acct_extrnl_id.nunique()"
   ]
  },
  {
   "cell_type": "code",
   "execution_count": null,
   "id": "b1d49297-5de4-4a79-95de-935c719b9f7f",
   "metadata": {},
   "outputs": [],
   "source": []
  }
 ],
 "metadata": {
  "kernelspec": {
   "display_name": "Python 3 (ipykernel)",
   "language": "python",
   "name": "python3"
  },
  "language_info": {
   "codemirror_mode": {
    "name": "ipython",
    "version": 3
   },
   "file_extension": ".py",
   "mimetype": "text/x-python",
   "name": "python",
   "nbconvert_exporter": "python",
   "pygments_lexer": "ipython3",
   "version": "3.7.12"
  }
 },
 "nbformat": 4,
 "nbformat_minor": 5
}
