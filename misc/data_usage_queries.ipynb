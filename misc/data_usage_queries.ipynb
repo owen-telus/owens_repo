{
 "cells": [
  {
   "cell_type": "code",
   "execution_count": null,
   "id": "75d17832-affe-4130-80d7-faa89fe900a6",
   "metadata": {},
   "outputs": [],
   "source": [
    "import pandas as pd\n",
    "pd.options.display.max_columns = 100\n",
    "import numpy as np\n",
    "\n",
    "import sys\n",
    "sys.path.append('/home/jupyter/aaaie-customer-personas/src')\n",
    "\n",
    "from customer_personas.bq_utils import export_dataframe_to_bq"
   ]
  },
  {
   "cell_type": "code",
   "execution_count": null,
   "id": "a985edd3-8e98-4c55-85c8-e844aba1c727",
   "metadata": {},
   "outputs": [],
   "source": [
    "%%bigquery mob_cust_base_df\n",
    "\n",
    "SELECT \n",
    "    BACCT_BUS_BACCT_NUM AS BAN,\n",
    "    pi_prod_instnc_resrc_str AS MSISDN,\n",
    "    pp_bus_pp_catlg_itm_cd,\n",
    "    pp_catlg_itm_nm,\n",
    "    pi_prod_instnc_resrc_str,\n",
    "    bacct_brand_id,\n",
    "    pi_prod_instnc_typ_cd,\n",
    "    bacct_bacct_subtyp_cd,\n",
    "    bacct_bacct_stat_cd,\n",
    "    pp_recur_chrg_amt,\n",
    "    pp_avail_for_sale_ind AS PLAN_AVAIL_FOR_SALE,\n",
    "    pp_sls_start_ts AS PRICE_PLAN_START_DATE,\n",
    "    pp_sls_end_ts AS PRICE_PLAN_END_DATE,\n",
    "    pp_cust_facing_ind AS PLAN_CAN_BE_SOLD_TO_CUSTOMERS,\n",
    "    pp_catlg_itm_id, \n",
    "    pp_catlg_itm_src_id,\n",
    "    pp_tm_prd_set_cd,\n",
    "    pp_soc_stat_cd,\n",
    "    pp_typ_cd,\n",
    "    pp_lvl_cd, \n",
    "    pp_bus_pp_catlg_itm_src_id\n",
    "FROM `cio-datahub-enterprise-pr-183a.ent_cust_cust.bq_prod_instnc_snpsht` \n",
    "WHERE \n",
    "    prod_instnc_ts = (SELECT MAX(prod_instnc_ts) FROM `cio-datahub-enterprise-pr-183a.ent_cust_cust.bq_prod_instnc_snpsht` )  -- Get most recent date in snapshot table\n",
    "    # AND bacct_brand_id=1 -- 1 For Telus\n",
    "    AND pi_prod_instnc_typ_cd = 'C'-- Celluluar products \n",
    "    AND bus_prod_instnc_src_id = 130 \n",
    "    # AND bacct_bacct_typ_cd = 'I' -- Consumer\n",
    "    # AND bacct_bacct_subtyp_cd = 'R' -- Account Sub type\n",
    "    # AND bacct_bacct_stat_cd = 'O' -- Billing account open  \n",
    "    # AND pi_prod_instnc_stat_cd = 'A' -- Status of product instance\n",
    "    # AND bacct_billg_mthd_cd ='POST' -- Post Pay customers only"
   ]
  },
  {
   "cell_type": "code",
   "execution_count": null,
   "id": "e3ad30d5-984b-4178-997b-cff7af666f50",
   "metadata": {},
   "outputs": [],
   "source": [
    "mob_cust_base_df.shape"
   ]
  },
  {
   "cell_type": "markdown",
   "id": "b1ceb991-60b8-43be-be52-bb864e251146",
   "metadata": {},
   "source": [
    "## Explore PRICE_PLAN_CD in ent_cust_cust Product Instance Snapshot Table for Wireless Cellular Products"
   ]
  },
  {
   "cell_type": "code",
   "execution_count": null,
   "id": "cb1d1711-8c09-4084-971e-a995c4ef39dc",
   "metadata": {},
   "outputs": [],
   "source": [
    "mob_cust_base_df.pp_catlg_itm_nm.nunique()"
   ]
  },
  {
   "cell_type": "code",
   "execution_count": null,
   "id": "243f9f20-8450-4547-b7c0-7f33a7d944d7",
   "metadata": {},
   "outputs": [],
   "source": [
    "mob_cust_base_df.pp_bus_pp_catlg_itm_cd.nunique()"
   ]
  },
  {
   "cell_type": "markdown",
   "id": "a87e37eb-e9c2-4693-9a0c-d13e2b2e6d0f",
   "metadata": {},
   "source": [
    "### Current Market Plans"
   ]
  },
  {
   "cell_type": "code",
   "execution_count": null,
   "id": "6818f023-5576-4048-8946-75f0fdaf9194",
   "metadata": {},
   "outputs": [],
   "source": [
    "current_plans = mob_cust_base_df.groupby('pp_bus_pp_catlg_itm_cd')['PLAN_AVAIL_FOR_SALE'].agg(['unique']).reset_index()\n",
    "current_plans['num_unique'] = current_plans['unique'].apply(lambda x: len(x))"
   ]
  },
  {
   "cell_type": "code",
   "execution_count": null,
   "id": "3a99fd5e-b821-4894-b709-33ff7c368276",
   "metadata": {},
   "outputs": [],
   "source": [
    "current_plans.loc[current_plans.num_unique>1]"
   ]
  },
  {
   "cell_type": "markdown",
   "id": "ef1394c5-d8ff-444e-b43a-0eb923a4de8d",
   "metadata": {},
   "source": [
    "## Check Prices for each PRICE_PLAN_CD"
   ]
  },
  {
   "cell_type": "code",
   "execution_count": null,
   "id": "a448eb64-99b6-4424-9687-912905f6bed3",
   "metadata": {},
   "outputs": [],
   "source": [
    "price_plan_charge = mob_cust_base_df.groupby('pp_bus_pp_catlg_itm_cd')['pp_recur_chrg_amt'].agg(['min', 'max', 'count', 'nunique']).reset_index()"
   ]
  },
  {
   "cell_type": "code",
   "execution_count": null,
   "id": "73fae410-15e2-40e4-81dd-47dbf55b7235",
   "metadata": {},
   "outputs": [],
   "source": [
    "price_plan_charge.head()"
   ]
  },
  {
   "cell_type": "markdown",
   "id": "424c9a60-c5a2-4cd6-a1ff-a62fcadd1d69",
   "metadata": {},
   "source": [
    "Price Plan CD have maximum of 2 different values for the price plans"
   ]
  },
  {
   "cell_type": "markdown",
   "id": "bef59c2e-6684-418e-9a67-1d366ad6ff4e",
   "metadata": {
    "tags": []
   },
   "source": [
    "### Since for the min value column, the max value is 0, we can conclude that there is a unique Charge Per Price Plan Code!!\n",
    "\n",
    "So for the PRICE_PLAN_CD with 2 values, we can just take the higher value for the Price, as it doesnt make sense for a PRICE PLAN CD to be $0"
   ]
  },
  {
   "cell_type": "code",
   "execution_count": null,
   "id": "17a7c4b9-4796-45d6-9cad-d7a011d436fc",
   "metadata": {},
   "outputs": [],
   "source": [
    "price_plan_charge.loc[price_plan_charge['nunique'] > 1].describe()"
   ]
  },
  {
   "cell_type": "markdown",
   "id": "dac3747f-edd0-4906-bf51-f5e7b5a227af",
   "metadata": {},
   "source": [
    "## Data Allowance Table in QA. This table has data allowance but at a Serivce Order CD Level -> Different than PRICE_PLAN_CD"
   ]
  },
  {
   "cell_type": "code",
   "execution_count": null,
   "id": "316b582c-8985-4cb8-b718-92524e0fd13d",
   "metadata": {},
   "outputs": [],
   "source": [
    "%%bigquery data_allowance_df \n",
    "\n",
    "SELECT\n",
    "    * \n",
    "FROM `cio-datahub-enterprise-qa-ecf3.ent_cust_cust.bq_subscriber_wls_data_allowance` "
   ]
  },
  {
   "cell_type": "code",
   "execution_count": null,
   "id": "65ea9f91-bcb6-421c-84dc-fb8abbfdefff",
   "metadata": {},
   "outputs": [],
   "source": [
    "data_allowance_df.LAST_UPDT_TS.nunique()"
   ]
  },
  {
   "cell_type": "code",
   "execution_count": null,
   "id": "eff6325a-fad3-4fee-9bf1-b2c3a7ccf6e7",
   "metadata": {},
   "outputs": [],
   "source": [
    "data_allowance_df.head()"
   ]
  },
  {
   "cell_type": "markdown",
   "id": "be0d2fa0-7560-44cc-b712-ff5535f7b62e",
   "metadata": {},
   "source": [
    "Number of unique SOC's. Only 2381, a lot less than the 10k PRICE_PLAN_CD in product instance table -> PRICE_PLAN_CD is at finer granularity than SOC"
   ]
  },
  {
   "cell_type": "code",
   "execution_count": null,
   "id": "6a34ba97-6430-4a9d-81fe-e817cdbcc688",
   "metadata": {},
   "outputs": [],
   "source": [
    "data_allowance_df.SERVICE_ORDER_CD.nunique()"
   ]
  },
  {
   "cell_type": "code",
   "execution_count": null,
   "id": "97f69a07-4bf7-4c28-8e0d-02ef55887314",
   "metadata": {},
   "outputs": [],
   "source": [
    "data_allowance_df.OFFER_NM.nunique()"
   ]
  },
  {
   "cell_type": "code",
   "execution_count": null,
   "id": "6fb7f1d6-b9ea-4167-bddf-a961be301a66",
   "metadata": {},
   "outputs": [],
   "source": [
    "data_allowance_df.shape"
   ]
  },
  {
   "cell_type": "code",
   "execution_count": null,
   "id": "7becbf62-9045-4ec7-b132-ba8cae7e7e5c",
   "metadata": {},
   "outputs": [],
   "source": [
    "data_allowance_df.SOC_LEVEL_CD.unique()"
   ]
  },
  {
   "cell_type": "code",
   "execution_count": null,
   "id": "12252c82-b2b8-41ba-8cfa-8ed0fff0ca1d",
   "metadata": {},
   "outputs": [],
   "source": [
    "data_allowance_df.PRODUCT_TYPE_CD.unique()"
   ]
  },
  {
   "cell_type": "markdown",
   "id": "d31f2d4a-a0bc-4fca-81dd-eb6087bf8dce",
   "metadata": {},
   "source": [
    "## Explore data allowance table\n",
    "\n",
    "Check number of different values for data allowance when group by SOC"
   ]
  },
  {
   "cell_type": "code",
   "execution_count": null,
   "id": "8f6ffe55-d9b7-4c38-a610-c9e87b70cb92",
   "metadata": {},
   "outputs": [],
   "source": [
    "soc_unique_allowance = data_allowance_df.groupby('SERVICE_ORDER_CD')['ALLOWANCE_QTY'].agg(['min', 'max', 'count', 'nunique']).reset_index()"
   ]
  },
  {
   "cell_type": "code",
   "execution_count": null,
   "id": "769b6ab3-9fd7-40b5-8d59-aa355882d8ec",
   "metadata": {},
   "outputs": [],
   "source": [
    "soc_unique_allowance.loc[soc_unique_allowance['nunique'] > 1].shape"
   ]
  },
  {
   "cell_type": "markdown",
   "id": "a3ead3db-ee8c-45d4-b040-d2832f9174c7",
   "metadata": {},
   "source": [
    "## only about 30 SOC's have multiple values for Data Allowance"
   ]
  },
  {
   "cell_type": "code",
   "execution_count": null,
   "id": "54fce7ed-1e1b-48d8-9055-d2f87637f781",
   "metadata": {},
   "outputs": [],
   "source": [
    "soc_unique_allowance.loc[soc_unique_allowance['nunique'] > 1]"
   ]
  },
  {
   "cell_type": "markdown",
   "id": "b691badc-9f40-46ca-831d-b9e0de9768d0",
   "metadata": {},
   "source": [
    "# Create Mapping Table\n",
    "\n",
    "Join Data Allowance Table on BAN, MSISDN to get PRICE_PLAN_CD from Product Instance Table and ALLOWANCE_QTY from bq_subscriber_wls_data_allowance <br>\n",
    "Assumption: bq_subscriber_wls_data_allowance has an accurate reflection of a customer's current product plan, since there is no mapping between SOC and PRICE_PLAN_CD\n"
   ]
  },
  {
   "cell_type": "markdown",
   "id": "f470593c-4e8e-42fa-b56a-e37fc04fdb36",
   "metadata": {},
   "source": [
    "## Strip Spaces for price plan cd"
   ]
  },
  {
   "cell_type": "code",
   "execution_count": null,
   "id": "c14e618f-9033-4012-9473-60e9ab4c4253",
   "metadata": {},
   "outputs": [],
   "source": [
    "mob_cust_base_df.pp_bus_pp_catlg_itm_cd=mob_cust_base_df.pp_bus_pp_catlg_itm_cd.str.strip()"
   ]
  },
  {
   "cell_type": "markdown",
   "id": "3a108c7c-7129-4e7a-8ae6-0589e16ab5e1",
   "metadata": {},
   "source": [
    "Sometimes data allowance is under PRICE_TYPE_CD = 'ALLOWANCE' and not PRICE_TYPE_CD = 'CONTRIBUTION'"
   ]
  },
  {
   "cell_type": "code",
   "execution_count": null,
   "id": "85e19608-a6f3-4c56-8347-a7d6d577a0da",
   "metadata": {},
   "outputs": [],
   "source": [
    "data_allowance_df.groupby('PRICE_TYPE_CD').count()[['SUBSCRIBER_NUM']]"
   ]
  },
  {
   "cell_type": "markdown",
   "id": "3b6a7151-84aa-407d-800b-ae0ea00ec389",
   "metadata": {},
   "source": [
    "## Create Mapping Table with data allowance + product instance table \n",
    "\n",
    "PRICE PLAN CODE -> Data Allowance GB"
   ]
  },
  {
   "cell_type": "code",
   "execution_count": null,
   "id": "f84bb737-4c7d-4e4d-9bbb-ff794910a494",
   "metadata": {},
   "outputs": [],
   "source": [
    "mapping_table_df = pd.merge(mob_cust_base_df[['BAN', 'MSISDN', 'pp_bus_pp_catlg_itm_cd', 'pp_catlg_itm_nm']],\n",
    "                            data_allowance_df[['BILLING_ACCOUNT_NUM', 'SUBSCRIBER_NUM', 'ALLOWANCE_QTY', 'UNIT_OF_MEASURE_CD']], how='inner', \n",
    "                            left_on = ['BAN', 'MSISDN'], right_on = ['BILLING_ACCOUNT_NUM', 'SUBSCRIBER_NUM'])"
   ]
  },
  {
   "cell_type": "code",
   "execution_count": null,
   "id": "19c69eaa-3633-4873-8a7f-25471ab9422e",
   "metadata": {},
   "outputs": [],
   "source": [
    "mob_cust_base_df.shape"
   ]
  },
  {
   "cell_type": "code",
   "execution_count": null,
   "id": "ec122bc4-f0be-4d17-968f-9614c4329eef",
   "metadata": {},
   "outputs": [],
   "source": [
    "mapping_table_df.shape"
   ]
  },
  {
   "cell_type": "code",
   "execution_count": null,
   "id": "bf5f8af8-8ffd-4d7d-85e2-55c0a1996fdf",
   "metadata": {},
   "outputs": [],
   "source": [
    "mob_cust_base_df.loc[mob_cust_base_df.MSISDN=='2262037699']"
   ]
  },
  {
   "cell_type": "code",
   "execution_count": null,
   "id": "469bccde-0c5b-4524-be8e-66a3b8b43ebf",
   "metadata": {},
   "outputs": [],
   "source": [
    "mob_cust_base_df.shape"
   ]
  },
  {
   "cell_type": "code",
   "execution_count": null,
   "id": "3e97a4fa-c862-414a-8442-ac7e383aa599",
   "metadata": {},
   "outputs": [],
   "source": [
    "mob_cust_base_df.MSISDN.nunique()"
   ]
  },
  {
   "cell_type": "code",
   "execution_count": null,
   "id": "92e0320b-dd62-46bd-80e9-d55b5754a31d",
   "metadata": {},
   "outputs": [],
   "source": [
    "data_allowance_df.SUBSCRIBER_NUM.nunique()"
   ]
  },
  {
   "cell_type": "code",
   "execution_count": null,
   "id": "16036bf4-d94e-4dc8-bfde-cdb0cfd50f9a",
   "metadata": {},
   "outputs": [],
   "source": [
    "data_allowance_df.UNIT_OF_MEASURE_CD.unique()"
   ]
  },
  {
   "cell_type": "code",
   "execution_count": null,
   "id": "b1ac1116-3f24-4212-aedf-3f66c8c6706d",
   "metadata": {},
   "outputs": [],
   "source": [
    "data_allowance_df.loc[data_allowance_df.UNIT_OF_MEASURE_CD=='UNIT'].OFFER_NM.unique()"
   ]
  },
  {
   "cell_type": "code",
   "execution_count": null,
   "id": "33783673-da09-4d45-8c3b-0eb49a60c332",
   "metadata": {},
   "outputs": [],
   "source": [
    "data_allowance_df.loc[(data_allowance_df.SUBSCRIBER_NUM=='2262037699') & (data_allowance_df.BILLING_ACCOUNT_NUM==22987550.000000000)]"
   ]
  },
  {
   "cell_type": "code",
   "execution_count": null,
   "id": "9b9831f3-4885-4dbf-8fbc-525183d655de",
   "metadata": {},
   "outputs": [],
   "source": [
    "data_allowance_df.loc[data_allowance_df.SUBSCRIBER_NUM.isin(mob_cust_base_df.loc[mob_cust_base_df.pp_bus_pp_catlg_itm_cd=='3P10GBYOD'].MSISDN)].sort_values(by='SUBSCRIBER_NUM')"
   ]
  },
  {
   "cell_type": "code",
   "execution_count": null,
   "id": "9e58d806-428f-472f-a893-ce0eb045107f",
   "metadata": {},
   "outputs": [],
   "source": [
    "mob_cust_base_df.loc[mob_cust_base_df.pp_bus_pp_catlg_itm_cd=='3P10GBYOD'].shape"
   ]
  },
  {
   "cell_type": "code",
   "execution_count": null,
   "id": "631190e8-5c8e-41a1-800b-adc5a228ea5c",
   "metadata": {},
   "outputs": [],
   "source": [
    "mapping_table_stats = mapping_table_df.groupby('pp_bus_pp_catlg_itm_cd')[['pp_catlg_itm_nm', 'ALLOWANCE_QTY', 'UNIT_OF_MEASURE_CD']].agg(['min', 'max', 'count', 'nunique']).reset_index()"
   ]
  },
  {
   "cell_type": "code",
   "execution_count": null,
   "id": "4cfcbd49-0f1a-4c04-9a86-9f21ce0ad544",
   "metadata": {},
   "outputs": [],
   "source": [
    "mapping_table_stats.sort_values(by='pp_bus_pp_catlg_itm_cd').head(40)"
   ]
  },
  {
   "cell_type": "markdown",
   "id": "00f0f6d9-8289-4fdf-b6cf-699589cebe84",
   "metadata": {},
   "source": [
    "Out of the 8867 PRICE_PLAN_CD's, there are 6670 codes that have more than 1 uniqe value for data allowance -> Mapping on BAN + MSISDN is not a good idea. Try to find a SOC -> PRICE_PLAN_CD Mapping on Tuesday. Ask Arjun Panwar"
   ]
  },
  {
   "cell_type": "code",
   "execution_count": null,
   "id": "06c69d4e-04da-4a5a-8e7e-a630af5aa526",
   "metadata": {},
   "outputs": [],
   "source": [
    "mapping_table_stats.loc[(mapping_table_stats['ALLOWANCE_QTY']['nunique'] > 1) \n",
    "                       & (mapping_table_stats['ALLOWANCE_QTY']['count'] > 10000)]"
   ]
  },
  {
   "cell_type": "code",
   "execution_count": null,
   "id": "79ba5a7f-37e6-4e9c-b5d4-0347abdc7ab7",
   "metadata": {},
   "outputs": [],
   "source": [
    "mob_cust_base_df.loc[mob_cust_base_df.pp_bus_pp_catlg_itm_cd=='XVAD30'].head(2)"
   ]
  },
  {
   "cell_type": "code",
   "execution_count": null,
   "id": "993ad2c0-e0b0-4c86-84bd-fc4cdd8de0bd",
   "metadata": {},
   "outputs": [],
   "source": [
    "data_allowance_df.loc[data_allowance_df.SUBSCRIBER_NUM=='4165402566']"
   ]
  },
  {
   "cell_type": "code",
   "execution_count": null,
   "id": "16bc2416-05f7-43f1-80ff-bbd2db3a2765",
   "metadata": {},
   "outputs": [],
   "source": [
    "mapping_table_df_2 = mapping_table_df.groupby('pp_bus_pp_catlg_itm_cd')[['pp_catlg_itm_nm', 'ALLOWANCE_QTY', 'UNIT_OF_MEASURE_CD']].agg(pd.Series.mode).reset_index()\n"
   ]
  },
  {
   "cell_type": "code",
   "execution_count": null,
   "id": "c1575151-90c5-4a15-8701-99de51200a63",
   "metadata": {},
   "outputs": [],
   "source": [
    "mapping_table_df_2_explode1 = mapping_table_df_2.explode('ALLOWANCE_QTY')"
   ]
  },
  {
   "cell_type": "code",
   "execution_count": null,
   "id": "c0a03f69-78a5-408e-a056-9ab04e306b9f",
   "metadata": {},
   "outputs": [],
   "source": [
    "mapping_table_df_2_explode2 = mapping_table_df_2_explode1.explode('UNIT_OF_MEASURE_CD')"
   ]
  },
  {
   "cell_type": "code",
   "execution_count": null,
   "id": "c5545b8c-f9da-4c41-bede-29a9cb2ec0e3",
   "metadata": {},
   "outputs": [],
   "source": [
    "mapping_table_df_2_explode2 = mapping_table_df_2_explode2.explode('pp_catlg_itm_nm')"
   ]
  },
  {
   "cell_type": "markdown",
   "id": "860d6e74-49e0-4454-960a-e6c7558ae69f",
   "metadata": {},
   "source": [
    "If there are duplicated price_plan_cd, then it means that the mode returned two results -> same number of rows, same idea with unit of measure -> price GB"
   ]
  },
  {
   "cell_type": "code",
   "execution_count": null,
   "id": "439f377b-aa32-4e38-a988-d247fde82e43",
   "metadata": {},
   "outputs": [],
   "source": [
    "mapping_table_df_2_explode2.sort_values(by=['pp_bus_pp_catlg_itm_cd', 'ALLOWANCE_QTY' , 'UNIT_OF_MEASURE_CD'], ascending=True, inplace=True)"
   ]
  },
  {
   "cell_type": "code",
   "execution_count": null,
   "id": "1604befb-d2c6-417b-bf62-ef1d2139df7f",
   "metadata": {},
   "outputs": [],
   "source": [
    "mapping_table_complete = mapping_table_df_2_explode2.drop_duplicates(subset='pp_bus_pp_catlg_itm_cd', keep='first')"
   ]
  },
  {
   "cell_type": "markdown",
   "id": "60d64e55-3add-4d03-9449-efaae2280f25",
   "metadata": {},
   "source": [
    "## Mapping table -> Price Plan Code -> Data Allowance"
   ]
  },
  {
   "cell_type": "code",
   "execution_count": null,
   "id": "702cfbf7-27db-4f02-b821-a6e604868b56",
   "metadata": {},
   "outputs": [],
   "source": [
    "mapping_table_complete['data_allowance_gb']=mapping_table_complete['ALLOWANCE_QTY']\n"
   ]
  },
  {
   "cell_type": "code",
   "execution_count": null,
   "id": "715d64ef-65ff-490a-9103-9dfe5148e343",
   "metadata": {},
   "outputs": [],
   "source": [
    "mapping_table_complete.UNIT_OF_MEASURE_CD.unique()"
   ]
  },
  {
   "cell_type": "code",
   "execution_count": null,
   "id": "d78e7807-142e-408d-abb0-9f6fab8c823d",
   "metadata": {},
   "outputs": [],
   "source": [
    "mapping_table_complete.loc[mapping_table_complete.UNIT_OF_MEASURE_CD=='UNIT'].shape"
   ]
  },
  {
   "cell_type": "code",
   "execution_count": null,
   "id": "b66d0360-3eb8-4c88-b0fa-92456891c4f4",
   "metadata": {},
   "outputs": [],
   "source": [
    "mapping_table_complete.shape\n",
    "                    "
   ]
  },
  {
   "cell_type": "code",
   "execution_count": null,
   "id": "c472fb1d-71e5-4315-8fdc-bc774fb4b42a",
   "metadata": {},
   "outputs": [],
   "source": [
    "mob_cust_base_df.loc[mob_cust_base_df.pp_bus_pp_catlg_itm_cd.isin(mapping_table_complete.loc[mapping_table_complete.UNIT_OF_MEASURE_CD=='UNIT'].pp_bus_pp_catlg_itm_cd.unique())]"
   ]
  },
  {
   "cell_type": "code",
   "execution_count": null,
   "id": "0745e24d-0df2-4eba-9df7-76aca294751e",
   "metadata": {},
   "outputs": [],
   "source": [
    "mapping_table_complete.loc[mapping_table_complete.UNIT_OF_MEASURE_CD=='UNIT'].pp_bus_pp_catlg_itm_cd.unique()"
   ]
  },
  {
   "cell_type": "code",
   "execution_count": null,
   "id": "28f781fa-3dbc-48cf-b9c0-45e6c112daa1",
   "metadata": {},
   "outputs": [],
   "source": [
    "mapping_table_complete.loc[mapping_table_complete.UNIT_OF_MEASURE_CD=='KB', 'data_allowance_gb'] /= 1000000\n",
    "mapping_table_complete.loc[mapping_table_complete.UNIT_OF_MEASURE_CD=='MB', 'data_allowance_gb'] /= 1000\n",
    "mapping_table_complete.loc[mapping_table_complete.UNIT_OF_MEASURE_CD=='UNIT', 'data_allowance_gb'] = 0"
   ]
  },
  {
   "cell_type": "code",
   "execution_count": null,
   "id": "fff331c2-53b8-4f04-8499-22e6a58d2e0e",
   "metadata": {},
   "outputs": [],
   "source": [
    "mapping_table_complete_dropped = mapping_table_complete.drop(columns = ['ALLOWANCE_QTY', 'UNIT_OF_MEASURE_CD'])"
   ]
  },
  {
   "cell_type": "code",
   "execution_count": null,
   "id": "dcda34a8-71cb-4468-974b-23677af929a0",
   "metadata": {},
   "outputs": [],
   "source": [
    "mapping_table_complete_dropped.data_allowance_gb=mapping_table_complete_dropped.data_allowance_gb.astype(float)"
   ]
  },
  {
   "cell_type": "code",
   "execution_count": null,
   "id": "a38dbb1e-01b9-4ba3-8256-da09866f818f",
   "metadata": {},
   "outputs": [],
   "source": [
    "mapping_table_complete_dropped.dtypes"
   ]
  },
  {
   "cell_type": "code",
   "execution_count": null,
   "id": "116e274c-ac1e-4f1a-9251-340b14ab5adc",
   "metadata": {},
   "outputs": [],
   "source": [
    "mapping_table_complete_dropped.loc[mapping_table_complete_dropped.data_allowance_gb==0].shape"
   ]
  },
  {
   "cell_type": "code",
   "execution_count": null,
   "id": "cde09213-9c0f-40f5-8cc5-cdce9387099c",
   "metadata": {},
   "outputs": [],
   "source": [
    "mapping_table_complete_dropped.loc[mapping_table_complete_dropped.data_allowance_gb > 30]"
   ]
  },
  {
   "cell_type": "markdown",
   "id": "8bd6e3a4-aa59-445f-bd5a-c44fe0f8bb0d",
   "metadata": {},
   "source": [
    "## Save to BQ Table"
   ]
  },
  {
   "cell_type": "code",
   "execution_count": null,
   "id": "cc2f57a2-ef1f-41ca-9c15-4ad1a6d514e7",
   "metadata": {},
   "outputs": [],
   "source": [
    "#export_dataframe_to_bq(mapping_table_complete_dropped, table_id='customer_personas_features.price_plan_cd_to_data_allowance', schema_list=[], generate_schema=True, write='overwrite')"
   ]
  },
  {
   "cell_type": "markdown",
   "id": "4a780057-95bf-448c-83bc-2c8252f48937",
   "metadata": {},
   "source": [
    "## Compare new mapping with current mapping using mobility post paid base"
   ]
  },
  {
   "cell_type": "code",
   "execution_count": null,
   "id": "6ec70070-b6f5-4c93-b542-f59d9184cf29",
   "metadata": {},
   "outputs": [],
   "source": [
    "%%bigquery mob_cust_base_filtered_df\n",
    "\n",
    "SELECT \n",
    "    BACCT_BUS_BACCT_NUM AS BAN,\n",
    "    pi_prod_instnc_resrc_str AS MSISDN,\n",
    "    pp_bus_pp_catlg_itm_cd,\n",
    "    pp_catlg_itm_nm,\n",
    "FROM `cio-datahub-enterprise-pr-183a.ent_cust_cust.bq_prod_instnc_snpsht` \n",
    "WHERE \n",
    "    prod_instnc_ts = (SELECT MAX(prod_instnc_ts) FROM `cio-datahub-enterprise-pr-183a.ent_cust_cust.bq_prod_instnc_snpsht` )  -- Get most recent date in snapshot table\n",
    "    # AND bacct_brand_id=1 -- 1 For Telus\n",
    "    AND pi_prod_instnc_typ_cd = 'C'-- Celluluar products \n",
    "    AND bacct_bacct_typ_cd = 'I' -- Consumer\n",
    "    AND bacct_bacct_subtyp_cd = 'R' -- Account Sub type\n",
    "    AND bacct_bacct_stat_cd = 'O' -- Billing account open  \n",
    "    AND pi_prod_instnc_stat_cd = 'A' -- Status of product instance\n",
    "    AND bacct_billg_mthd_cd ='POST' -- Post Pay customers only"
   ]
  },
  {
   "cell_type": "code",
   "execution_count": null,
   "id": "4fc11ec7-1f45-4a15-aa59-04889b353a95",
   "metadata": {},
   "outputs": [],
   "source": [
    "mob_cust_base_filtered_df.shape"
   ]
  },
  {
   "cell_type": "code",
   "execution_count": null,
   "id": "4b1e226b-85b1-4860-b516-1ebc8335c0d8",
   "metadata": {},
   "outputs": [],
   "source": [
    "%%bigquery cust_data_df_1\n",
    "-- Query to determine a customer's data usage based on the current cycle.\n",
    "-- Data allowance table: bq_subscriber_wls_data_allowance may be incomplete as it is currently in qa\n",
    "-- Data usage is aggregated on a daily level from bq_wls_data_usg_dly_sum. This table may also contain some errors, incorrect values for cycle_end_date\n",
    "\n",
    "WITH data_allowance_table AS (\n",
    "  SELECT \n",
    "    BILLING_ACCOUNT_NUM AS BAN,\n",
    "    SUBSCRIBER_NUM AS MSISDN,\n",
    "    -- Change allowance to gigabyte\n",
    "    CASE \n",
    "      WHEN UNIT_OF_MEASURE_CD='GB' THEN ALLOWANCE_QTY\n",
    "      WHEN UNIT_OF_MEASURE_CD='MB' THEN ALLOWANCE_QTY / 1000.0\n",
    "      WHEN UNIT_OF_MEASURE_CD='KB' THEN ALLOWANCE_QTY / 1000000.0\n",
    "      ELSE 0\n",
    "    END AS data_allowance_gb,\n",
    "    UNIT_OF_MEASURE_CD\n",
    "     \n",
    "  FROM `cio-datahub-enterprise-qa-ecf3.ent_cust_cust.bq_subscriber_wls_data_allowance` \n",
    "  WHERE \n",
    "    PRICE_TYPE_CD='CONTRIBUTION'\n",
    "    AND RECURRING_TYPE_CD = 'MONTHLY'\n",
    "\n",
    "),\n",
    "\n",
    "cust_base AS (\n",
    "    SELECT \n",
    "    BACCT_BUS_BACCT_NUM AS BAN,\n",
    "    pi_prod_instnc_resrc_str AS MSISDN,\n",
    "    pp_bus_pp_catlg_itm_cd,\n",
    "    pp_catlg_itm_nm,\n",
    "FROM `cio-datahub-enterprise-pr-183a.ent_cust_cust.bq_prod_instnc_snpsht` \n",
    "WHERE \n",
    "    prod_instnc_ts = (SELECT MAX(prod_instnc_ts) FROM `cio-datahub-enterprise-pr-183a.ent_cust_cust.bq_prod_instnc_snpsht` )  -- Get most recent date in snapshot table\n",
    "    # AND bacct_brand_id=1 -- 1 For Telus\n",
    "    AND pi_prod_instnc_typ_cd = 'C'-- Celluluar products \n",
    "    AND bacct_bacct_typ_cd = 'I' -- Consumer\n",
    "    AND bacct_bacct_subtyp_cd = 'R' -- Account Sub type\n",
    "    AND bacct_bacct_stat_cd = 'O' -- Billing account open  \n",
    "    AND pi_prod_instnc_stat_cd = 'A' -- Status of product instance\n",
    "    AND bacct_billg_mthd_cd ='POST' -- Post Pay customers only\n",
    "),\n",
    "current_cycle_data_used_stage AS (\n",
    "\n",
    "  SELECT\n",
    "    ban AS BAN,\n",
    "    subscr_ph_num as MSISDN,\n",
    "    bill_cycle_clos_dt,\n",
    "    wisp_actl_kb_qty,\n",
    "    throttle_ind,\n",
    "    DENSE_RANK() OVER(PARTITION BY ban, subscr_ph_num ORDER BY billg_cycl_yr_num DESC, billg_cycl_mth_num DESC) as row_num -- 1 will be most recent cycle\n",
    "    \n",
    "  FROM `cio-datahub-enterprise-pr-183a.ent_usage_rated.bq_wls_data_usg_dly_sum` \n",
    "\n",
    "),\n",
    "\n",
    "current_cycle_data_used AS (\n",
    "  SELECT\n",
    "    BAN,\n",
    "    MSISDN,\n",
    "    MAX(bill_cycle_clos_dt) AS cycle_end_date,\n",
    "    SUM(wisp_actl_kb_qty /1000000.0) AS data_used_gb,\n",
    "    MAX(throttle_ind) AS throttle_ind \n",
    "\n",
    "  FROM current_cycle_data_used_stage\n",
    "  WHERE\n",
    "    row_num = 1\n",
    "  GROUP BY BAN, MSISDN, row_num\n",
    ")\n",
    "\n",
    "SELECT\n",
    "  A.BAN,\n",
    "  A.MSISDN,\n",
    "  A.cycle_end_date,\n",
    "  DATE_DIFF(DATE(A.cycle_end_date) , CURRENT_DATE() , DAY) AS days_until_cycle_end,\n",
    "  ROUND(A.data_used_gb, 2) AS data_used_gb,\n",
    "  CASE \n",
    "    WHEN B.data_allowance_gb > 0 THEN ROUND(A.data_used_gb / B.data_allowance_gb*100, 2) \n",
    "    ELSE NULL\n",
    "  END AS percent_data_used,\n",
    "  B.data_allowance_gb,\n",
    "  throttle_ind\n",
    "FROM current_cycle_data_used A\n",
    "LEFT JOIN data_allowance_table B -- data allowance table may be incomplete\n",
    "ON A.BAN = B.BAN AND A.MSISDN = B.MSISDN\n",
    "RIGHT JOIN cust_base C \n",
    "ON A.BAN = C.BAN AND A.MSISDN = C.MSISDN\n",
    "ORDER BY percent_data_used DESC"
   ]
  },
  {
   "cell_type": "code",
   "execution_count": null,
   "id": "e17ae4c8-3f35-46eb-ac67-b7bf4945b0f0",
   "metadata": {},
   "outputs": [],
   "source": [
    "%%bigquery cust_data_df_2\n",
    "-- Query to determine a customer's data usage based on the current cycle.\n",
    "-- Data allowance table: bq_subscriber_wls_data_allowance may be incomplete as it is currently in qa\n",
    "-- Data usage is aggregated on a daily level from bq_wls_data_usg_dly_sum. This table may also contain some errors, incorrect values for cycle_end_date\n",
    "\n",
    "WITH cust_base AS (\n",
    "    SELECT \n",
    "    BACCT_BUS_BACCT_NUM AS BAN,\n",
    "    pi_prod_instnc_resrc_str AS MSISDN,\n",
    "    pp_bus_pp_catlg_itm_cd,\n",
    "    pp_catlg_itm_nm,\n",
    "FROM `cio-datahub-enterprise-pr-183a.ent_cust_cust.bq_prod_instnc_snpsht` \n",
    "WHERE \n",
    "    prod_instnc_ts = (SELECT MAX(prod_instnc_ts) FROM `cio-datahub-enterprise-pr-183a.ent_cust_cust.bq_prod_instnc_snpsht` )  -- Get most recent date in snapshot table\n",
    "    # AND bacct_brand_id=1 -- 1 For Telus\n",
    "    AND pi_prod_instnc_typ_cd = 'C'-- Celluluar products \n",
    "    AND bacct_bacct_typ_cd = 'I' -- Consumer\n",
    "    AND bacct_bacct_subtyp_cd = 'R' -- Account Sub type\n",
    "    AND bacct_bacct_stat_cd = 'O' -- Billing account open  \n",
    "    AND pi_prod_instnc_stat_cd = 'A' -- Status of product instance\n",
    "    AND bacct_billg_mthd_cd ='POST' -- Post Pay customers only\n",
    "),\n",
    "current_cycle_data_used_stage AS (\n",
    "\n",
    "  SELECT\n",
    "    ban AS BAN,\n",
    "    subscr_ph_num as MSISDN,\n",
    "    bill_cycle_clos_dt,\n",
    "    wisp_actl_kb_qty,\n",
    "    throttle_ind,\n",
    "    DENSE_RANK() OVER(PARTITION BY ban, subscr_ph_num ORDER BY billg_cycl_yr_num DESC, billg_cycl_mth_num DESC) as row_num -- 1 will be most recent cycle\n",
    "    \n",
    "  FROM `cio-datahub-enterprise-pr-183a.ent_usage_rated.bq_wls_data_usg_dly_sum` \n",
    "\n",
    "),\n",
    "\n",
    "current_cycle_data_used AS (\n",
    "  SELECT\n",
    "    BAN,\n",
    "    MSISDN,\n",
    "    MAX(bill_cycle_clos_dt) AS cycle_end_date,\n",
    "    SUM(wisp_actl_kb_qty /1000000.0) AS data_used_gb,\n",
    "    MAX(throttle_ind) AS throttle_ind \n",
    "\n",
    "  FROM current_cycle_data_used_stage\n",
    "  WHERE\n",
    "    row_num = 1\n",
    "  GROUP BY BAN, MSISDN, row_num\n",
    ")\n",
    "\n",
    "SELECT\n",
    "  A.BAN,\n",
    "  A.MSISDN,\n",
    "  A.cycle_end_date,\n",
    "  DATE_DIFF(DATE(A.cycle_end_date) , CURRENT_DATE() , DAY) AS days_until_cycle_end,\n",
    "  ROUND(A.data_used_gb, 2) AS data_used_gb,\n",
    "  throttle_ind,\n",
    "  C.pp_bus_pp_catlg_itm_cd\n",
    "FROM current_cycle_data_used A\n",
    "RIGHT JOIN cust_base C \n",
    "ON A.BAN = C.BAN AND A.MSISDN = C.MSISDN\n"
   ]
  },
  {
   "cell_type": "markdown",
   "id": "c60f1f35-93fa-404d-b45c-9a687728d0aa",
   "metadata": {},
   "source": [
    "## Original Query"
   ]
  },
  {
   "cell_type": "code",
   "execution_count": null,
   "id": "6bd3dd48-93f5-437d-8fa8-5eca76387768",
   "metadata": {},
   "outputs": [],
   "source": [
    "print(cust_data_df_1.shape, cust_data_df_2.shape)"
   ]
  },
  {
   "cell_type": "code",
   "execution_count": null,
   "id": "d2cf79c1-c6c4-43d7-b35a-0b0b4f35450c",
   "metadata": {},
   "outputs": [],
   "source": [
    "cust_data_df_1.head()"
   ]
  },
  {
   "cell_type": "code",
   "execution_count": null,
   "id": "2919ec6e-5920-47a7-909e-99d61c9d59c4",
   "metadata": {},
   "outputs": [],
   "source": [
    "cust_data_df_2.head()"
   ]
  },
  {
   "cell_type": "code",
   "execution_count": null,
   "id": "59304e24-f6cc-4d05-b9ec-4c9b006dfe92",
   "metadata": {},
   "outputs": [],
   "source": [
    "cust_data_df_2.pp_bus_pp_catlg_itm_cd=cust_data_df_2.pp_bus_pp_catlg_itm_cd.str.strip()"
   ]
  },
  {
   "cell_type": "code",
   "execution_count": null,
   "id": "7bf040ea-0955-44cd-aee4-164214f88056",
   "metadata": {},
   "outputs": [],
   "source": [
    "#cust_data_df_2_merged = pd.merge(cust_data_df_2,mapping_table_complete, how='left', on='pp_bus_pp_catlg_itm_cd')\n",
    "\n",
    "cust_data_df_2_merged = pd.merge(cust_data_df_2,mapping_table_complete_dropped, how='left', on='pp_bus_pp_catlg_itm_cd')\n"
   ]
  },
  {
   "cell_type": "code",
   "execution_count": null,
   "id": "042199f3-6213-4c9e-8510-9ff721478a05",
   "metadata": {},
   "outputs": [],
   "source": [
    "cust_data_df_2_merged"
   ]
  },
  {
   "cell_type": "code",
   "execution_count": null,
   "id": "3b320723-9c76-46ec-ac88-2755124117f8",
   "metadata": {},
   "outputs": [],
   "source": [
    "cust_data_df_2_merged.data_allowance_gb=cust_data_df_2_merged.data_allowance_gb.astype(float)\n",
    "cust_data_df_2_merged.data_used_gb=cust_data_df_2_merged.data_used_gb.astype(float)"
   ]
  },
  {
   "cell_type": "code",
   "execution_count": null,
   "id": "c0c2238c-f185-49c7-b51c-704e2128ee75",
   "metadata": {},
   "outputs": [],
   "source": [
    "cust_data_df_2_merged['percent_data_used']=cust_data_df_2_merged['data_used_gb'].divide(cust_data_df_2_merged['data_allowance_gb']).replace(np.inf, 0)"
   ]
  },
  {
   "cell_type": "code",
   "execution_count": null,
   "id": "f1b2e875-2a44-454c-acc3-7fad2e2f30c2",
   "metadata": {},
   "outputs": [],
   "source": [
    "cust_data_df_2_merged.loc[cust_data_df_2_merged.percent_data_used > 100].shape"
   ]
  },
  {
   "cell_type": "markdown",
   "id": "0587ae8e-b9e3-4904-befb-24bf178ec886",
   "metadata": {},
   "source": [
    "## Overall less customers with data usage exceeding 100% but max value is larger than original"
   ]
  },
  {
   "cell_type": "code",
   "execution_count": null,
   "id": "f85eba01-ed94-425e-bb64-938f38bfd2d7",
   "metadata": {},
   "outputs": [],
   "source": [
    "cust_data_df_2_merged.loc[cust_data_df_2_merged.percent_data_used > 100].describe()"
   ]
  },
  {
   "cell_type": "code",
   "execution_count": null,
   "id": "2d87454b-ab89-4988-b49c-128191a99eb4",
   "metadata": {},
   "outputs": [],
   "source": [
    "cust_data_df_1.percent_data_used=cust_data_df_1.percent_data_used.astype(float)"
   ]
  },
  {
   "cell_type": "code",
   "execution_count": null,
   "id": "6267f4b8-6053-4e9f-867a-58afefb6a4bd",
   "metadata": {},
   "outputs": [],
   "source": [
    "\n",
    "cust_data_df_1.loc[cust_data_df_1.percent_data_used > 100].describe()"
   ]
  },
  {
   "cell_type": "markdown",
   "id": "35614f80-d8f2-49e6-9f77-75cb6684397d",
   "metadata": {},
   "source": [
    "## Check NULLs"
   ]
  },
  {
   "cell_type": "code",
   "execution_count": null,
   "id": "afec5a04-0562-43f9-8216-0511473141f7",
   "metadata": {},
   "outputs": [],
   "source": [
    "cust_data_df_2_merged[cust_data_df_2_merged.percent_data_used.isna()]"
   ]
  },
  {
   "cell_type": "code",
   "execution_count": null,
   "id": "9b412d63-2de9-43f5-8758-9579f04d1abd",
   "metadata": {},
   "outputs": [],
   "source": [
    "cust_data_df_2_merged[cust_data_df_2_merged.data_allowance_gb.isna()]"
   ]
  },
  {
   "cell_type": "code",
   "execution_count": null,
   "id": "f9dfbcee-85fd-468e-b38e-0a27e9b38594",
   "metadata": {},
   "outputs": [],
   "source": [
    "\n",
    "cust_data_df_1[cust_data_df_1.data_allowance_gb.isna()]"
   ]
  },
  {
   "cell_type": "code",
   "execution_count": null,
   "id": "393a78cd-7978-484d-8e1f-f7e9d3dd24c5",
   "metadata": {},
   "outputs": [],
   "source": [
    "\n",
    "cust_data_df_1[cust_data_df_1.percent_data_used.isna()]"
   ]
  },
  {
   "cell_type": "markdown",
   "id": "e10cf5f3-8e8f-4f58-919f-26b8b8f71223",
   "metadata": {},
   "source": [
    "## Method 3 - Just use existing bq_subscriber_wls_data_allowance table and sum up all the rows by BAN, MSISDN to get data allowance"
   ]
  },
  {
   "cell_type": "code",
   "execution_count": null,
   "id": "f0d1bcc2-8cfa-46b0-a375-900c1c28d75b",
   "metadata": {},
   "outputs": [],
   "source": [
    "%%bigquery cust_data_df_3\n",
    "\n",
    "-- Query to determine a customer's data usage based on the current cycle.\n",
    "-- Data allowance table: bq_subscriber_wls_data_allowance may be incomplete as it is currently in qa\n",
    "-- Data usage is aggregated on a daily level from bq_wls_data_usg_dly_sum. This table may also contain some errors, incorrect values for cycle_end_date\n",
    "\n",
    "WITH data_allowance_table AS (\n",
    "    SELECT\n",
    "      BAN,\n",
    "      MSISDN,\n",
    "      SUM(data_allowance_gb) AS data_allowance_gb\n",
    "    FROM (\n",
    "          SELECT\n",
    "            BILLING_ACCOUNT_NUM AS BAN,\n",
    "            SUBSCRIBER_NUM AS MSISDN,\n",
    "            CASE\n",
    "                WHEN UNIT_OF_MEASURE_CD='GB' THEN ALLOWANCE_QTY\n",
    "                WHEN UNIT_OF_MEASURE_CD='MB' THEN ALLOWANCE_QTY / 1000.0\n",
    "                WHEN UNIT_OF_MEASURE_CD='KB' THEN ALLOWANCE_QTY / 1000000.0\n",
    "                ELSE 0 -- Assume UNIT is not data allowance\n",
    "            END AS data_allowance_gb,\n",
    "          FROM `cio-datahub-enterprise-qa-ecf3.ent_cust_cust.bq_subscriber_wls_data_allowance`\n",
    "    )\n",
    "    GROUP BY BAN, MSISDN \n",
    "\n",
    "),\n",
    "\n",
    "cust_base AS (\n",
    "    SELECT \n",
    "    BACCT_BUS_BACCT_NUM AS BAN,\n",
    "    pi_prod_instnc_resrc_str AS MSISDN,\n",
    "    pp_bus_pp_catlg_itm_cd,\n",
    "    pp_catlg_itm_nm,\n",
    "FROM `cio-datahub-enterprise-pr-183a.ent_cust_cust.bq_prod_instnc_snpsht` \n",
    "WHERE \n",
    "    prod_instnc_ts = (SELECT MAX(prod_instnc_ts) FROM `cio-datahub-enterprise-pr-183a.ent_cust_cust.bq_prod_instnc_snpsht` )  -- Get most recent date in snapshot table\n",
    "    # AND bacct_brand_id=1 -- 1 For Telus\n",
    "    AND pi_prod_instnc_typ_cd = 'C'-- Celluluar products \n",
    "    AND bacct_bacct_typ_cd = 'I' -- Consumer\n",
    "    AND bacct_bacct_subtyp_cd = 'R' -- Account Sub type\n",
    "    AND bacct_bacct_stat_cd = 'O' -- Billing account open  \n",
    "    AND pi_prod_instnc_stat_cd = 'A' -- Status of product instance\n",
    "    AND bacct_billg_mthd_cd ='POST' -- Post Pay customers only\n",
    "),\n",
    "current_cycle_data_used_stage AS (\n",
    "\n",
    "  SELECT\n",
    "    ban AS BAN,\n",
    "    subscr_ph_num as MSISDN,\n",
    "    bill_cycle_clos_dt,\n",
    "    wisp_actl_kb_qty,\n",
    "    throttle_ind,\n",
    "    DENSE_RANK() OVER(PARTITION BY ban, subscr_ph_num ORDER BY billg_cycl_yr_num DESC, billg_cycl_mth_num DESC) as row_num -- 1 will be most recent cycle\n",
    "    \n",
    "  FROM `cio-datahub-enterprise-pr-183a.ent_usage_rated.bq_wls_data_usg_dly_sum` \n",
    "\n",
    "),\n",
    "\n",
    "current_cycle_data_used AS (\n",
    "  SELECT\n",
    "    BAN,\n",
    "    MSISDN,\n",
    "    MAX(bill_cycle_clos_dt) AS cycle_end_date,\n",
    "    SUM(wisp_actl_kb_qty /1000000.0) AS data_used_gb,\n",
    "    MAX(throttle_ind) AS throttle_ind \n",
    "\n",
    "  FROM current_cycle_data_used_stage\n",
    "  WHERE\n",
    "    row_num = 1\n",
    "  GROUP BY BAN, MSISDN, row_num\n",
    ")\n",
    "\n",
    "SELECT\n",
    "  A.BAN,\n",
    "  A.MSISDN,\n",
    "  A.cycle_end_date,\n",
    "  DATE_DIFF(DATE(A.cycle_end_date) , CURRENT_DATE() , DAY) AS days_until_cycle_end,\n",
    "  ROUND(A.data_used_gb, 2) AS data_used_gb,\n",
    "  CASE \n",
    "    WHEN B.data_allowance_gb > 0 THEN ROUND(A.data_used_gb / B.data_allowance_gb*100, 2) \n",
    "    ELSE NULL\n",
    "  END AS percent_data_used,\n",
    "  B.data_allowance_gb,\n",
    "  throttle_ind\n",
    "FROM current_cycle_data_used A\n",
    "LEFT JOIN data_allowance_table B -- data allowance table may be incomplete\n",
    "ON A.BAN = B.BAN AND A.MSISDN = B.MSISDN\n",
    "RIGHT JOIN cust_base C \n",
    "ON A.BAN = C.BAN AND A.MSISDN = C.MSISDN\n",
    "ORDER BY percent_data_used DESC"
   ]
  },
  {
   "cell_type": "code",
   "execution_count": null,
   "id": "45a27163-8df7-41cc-842c-86bb0fb32fb8",
   "metadata": {},
   "outputs": [],
   "source": [
    "cust_data_df_3.loc[cust_data_df_3.data_allowance_gb.isna()].shape"
   ]
  },
  {
   "cell_type": "code",
   "execution_count": null,
   "id": "d61b75c6-14df-4fd5-9429-45ee8d9a0fa0",
   "metadata": {},
   "outputs": [],
   "source": [
    "cust_data_df_3.loc[cust_data_df_3.percent_data_used > 100].describe()"
   ]
  },
  {
   "cell_type": "markdown",
   "id": "0a2d3af2-7c61-4481-9a4f-16d86483367f",
   "metadata": {},
   "source": [
    "## Explore bq_allowance_pricing_ref and bq_wls_soc_allowance"
   ]
  },
  {
   "cell_type": "code",
   "execution_count": null,
   "id": "da3a1b60-f3ef-4fab-8bc5-9a0804f2c362",
   "metadata": {},
   "outputs": [],
   "source": [
    "%%bigquery bq_wls_soc_allowance_df\n",
    "\n",
    "SELECT * FROM `cio-datahub-enterprise-qa-ecf3.ent_cust_cust.bq_wls_soc_allowance` "
   ]
  },
  {
   "cell_type": "code",
   "execution_count": null,
   "id": "3a1e5c55-20df-41f7-9a71-7137ff6d2c11",
   "metadata": {},
   "outputs": [],
   "source": [
    "%%bigquery bq_allowance_pricing_ref_df\n",
    "\n",
    "SELECT * FROM `cio-datahub-enterprise-dv-e8ff.ent_usage_rated.bq_allowance_pricing_ref`"
   ]
  },
  {
   "cell_type": "code",
   "execution_count": null,
   "id": "176815c1-1b6c-4cab-894e-6c5fc99f4ae9",
   "metadata": {},
   "outputs": [],
   "source": [
    "bq_wls_soc_allowance_df.head(1)"
   ]
  },
  {
   "cell_type": "code",
   "execution_count": null,
   "id": "a30e5aab-5c59-47fe-94d9-8fb3a13ee135",
   "metadata": {},
   "outputs": [],
   "source": [
    "bq_wls_soc_allowance_df.shape"
   ]
  },
  {
   "cell_type": "code",
   "execution_count": null,
   "id": "3270bcdd-2ad1-45a3-8b57-28e38ef9babd",
   "metadata": {},
   "outputs": [],
   "source": [
    "bq_wls_soc_allowance_df.PRICE_ID.nunique()"
   ]
  },
  {
   "cell_type": "code",
   "execution_count": null,
   "id": "c81a618c-a7eb-4bb7-9c20-9af99dd0ad2a",
   "metadata": {},
   "outputs": [],
   "source": [
    "bq_wls_soc_allowance_df.SOC_CD.nunique()"
   ]
  },
  {
   "cell_type": "code",
   "execution_count": null,
   "id": "8b71025b-11e1-4b83-b6a4-f79b4725962e",
   "metadata": {},
   "outputs": [],
   "source": [
    "data_allowance_df.SERVICE_ORDER_CD.nunique()"
   ]
  },
  {
   "cell_type": "code",
   "execution_count": null,
   "id": "07da1714-62ad-4b86-9ff6-68452dd71445",
   "metadata": {},
   "outputs": [],
   "source": [
    "bq_allowance_pricing_ref_df.head(1)"
   ]
  },
  {
   "cell_type": "code",
   "execution_count": null,
   "id": "c43a1ccd-b3f3-44d0-ba3a-a28e03e683e4",
   "metadata": {},
   "outputs": [],
   "source": [
    "bq_allowance_pricing_ref_df.prc_id.nunique()"
   ]
  },
  {
   "cell_type": "code",
   "execution_count": null,
   "id": "0ee92cd4-7be6-4d7e-aed0-27411561d44d",
   "metadata": {},
   "outputs": [],
   "source": [
    "bq_allowance_pricing_ref_df.shape"
   ]
  },
  {
   "cell_type": "code",
   "execution_count": null,
   "id": "308532bb-d69c-44f9-9dc7-6fd1ac9fb05f",
   "metadata": {},
   "outputs": [],
   "source": [
    "soc_price_plan_cd_merge = pd.merge(mob_cust_base_df[['MSISDN','pp_bus_pp_catlg_itm_cd', 'pp_catlg_itm_nm']], bq_wls_soc_allowance_df[['SOC_CD', 'ALLOWANCE_QTY', 'OFFER_NM']], how='inner',\n",
    "                                   left_on='pp_bus_pp_catlg_itm_cd', right_on='SOC_CD')"
   ]
  },
  {
   "cell_type": "code",
   "execution_count": null,
   "id": "c8412dc0-c5b1-4d02-8502-9f01fc9694ef",
   "metadata": {},
   "outputs": [],
   "source": [
    "soc_price_plan_cd_merge"
   ]
  },
  {
   "cell_type": "code",
   "execution_count": null,
   "id": "69656db0-ec4d-4bbd-a871-f8a065395d6f",
   "metadata": {},
   "outputs": [],
   "source": [
    "soc_price_plan_cd_merge.SOC_CD.nunique()"
   ]
  },
  {
   "cell_type": "code",
   "execution_count": null,
   "id": "12711408-eca1-43a0-a071-aebad4c1db1c",
   "metadata": {},
   "outputs": [],
   "source": []
  }
 ],
 "metadata": {
  "kernelspec": {
   "display_name": "Python 3 (ipykernel)",
   "language": "python",
   "name": "python3"
  },
  "language_info": {
   "codemirror_mode": {
    "name": "ipython",
    "version": 3
   },
   "file_extension": ".py",
   "mimetype": "text/x-python",
   "name": "python",
   "nbconvert_exporter": "python",
   "pygments_lexer": "ipython3",
   "version": "3.7.12"
  }
 },
 "nbformat": 4,
 "nbformat_minor": 5
}
